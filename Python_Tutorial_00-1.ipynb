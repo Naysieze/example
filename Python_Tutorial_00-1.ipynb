{
  "nbformat": 4,
  "nbformat_minor": 0,
  "metadata": {
    "colab": {
      "name": "Python_Tutorial_00.ipynb",
      "version": "0.3.2",
      "provenance": [],
      "collapsed_sections": [],
      "include_colab_link": true
    },
    "kernelspec": {
      "name": "python3",
      "display_name": "Python 3"
    }
  },
  "cells": [
    {
      "cell_type": "markdown",
      "metadata": {
        "id": "view-in-github",
        "colab_type": "text"
      },
      "source": [
        "[View in Colaboratory](https://colab.research.google.com/github/Naysieze/example/blob/master/Python_Tutorial_00-1.ipynb)"
      ]
    },
    {
      "metadata": {
        "id": "XP21j7VPC2LE",
        "colab_type": "text"
      },
      "cell_type": "markdown",
      "source": [
        "# Python Tutorial 00\n",
        "\n",
        "작성자 : 이희성 <br>\n",
        "작성일 :\n",
        "\n",
        "이 연습 파일은 [점프 투 파이썬](https://wikidocs.net/)을 공부하며 작성하였습니다.\n"
      ]
    },
    {
      "metadata": {
        "id": "Hw-3qoJlHI4V",
        "colab_type": "text"
      },
      "cell_type": "markdown",
      "source": [
        "## 02 -1 숫자형"
      ]
    },
    {
      "metadata": {
        "id": "EQ-HjiKTd1J7",
        "colab_type": "text"
      },
      "cell_type": "markdown",
      "source": [
        "###실수형"
      ]
    },
    {
      "metadata": {
        "id": "BZcP30OgHh4h",
        "colab_type": "code",
        "colab": {
          "base_uri": "https://localhost:8080/",
          "height": 53
        },
        "outputId": "9940f4c4-4248-4540-d8c5-59fab93a7450"
      },
      "cell_type": "code",
      "source": [
        "# 실수형 예제\n",
        "\n",
        "a = 4.24E10\n",
        "print(a)\n",
        "\n",
        "b = 4.24e-10\n",
        "print(b)"
      ],
      "execution_count": 0,
      "outputs": [
        {
          "output_type": "stream",
          "text": [
            "42400000000.0\n",
            "4.24e-10\n"
          ],
          "name": "stdout"
        }
      ]
    },
    {
      "metadata": {
        "id": "RHxcD-MqO5VR",
        "colab_type": "text"
      },
      "cell_type": "markdown",
      "source": [
        "####의문\n",
        "b의 결과값이 수식 그대로 나옴"
      ]
    },
    {
      "metadata": {
        "id": "Js4nt1kTXbTS",
        "colab_type": "code",
        "colab": {
          "base_uri": "https://localhost:8080/",
          "height": 53
        },
        "outputId": "5bb5f434-7307-47fe-fb84-a12df3125009"
      },
      "cell_type": "code",
      "source": [
        "# 1.대소문자 차이 확인\n",
        "\n",
        "a = 4.24E-10\n",
        "print(a)\n",
        "\n",
        "b = 4.24e-10\n",
        "print(b)"
      ],
      "execution_count": 0,
      "outputs": [
        {
          "output_type": "stream",
          "text": [
            "4.24e-10\n",
            "4.24e-10\n"
          ],
          "name": "stdout"
        }
      ]
    },
    {
      "metadata": {
        "id": "5-zpstuGXsbc",
        "colab_type": "code",
        "colab": {
          "base_uri": "https://localhost:8080/",
          "height": 125
        },
        "outputId": "747eb051-c4ec-46b8-8eab-b721bc556fb1"
      },
      "cell_type": "code",
      "source": [
        "# 차이가 없음을 확인\n",
        "\n",
        "# 2.수식내의 수치 변경\n",
        "\n",
        "a = 2e-2\n",
        "print(a)\n",
        "\n",
        "b = 3.4e-5\n",
        "print(b)\n",
        "\n",
        "c = 3e-2\n",
        "print(c)\n",
        "\n",
        "d = 2.5e-5\n",
        "print(d)\n",
        "\n",
        "e = 2e-5\n",
        "print(e)\n",
        "\n",
        "f = 4.6e-2\n",
        "print(f)"
      ],
      "execution_count": 0,
      "outputs": [
        {
          "output_type": "stream",
          "text": [
            "0.02\n",
            "3.4e-05\n",
            "0.03\n",
            "2.5e-05\n",
            "2e-05\n",
            "0.046\n"
          ],
          "name": "stdout"
        }
      ]
    },
    {
      "metadata": {
        "id": "qx9piLX5X4g7",
        "colab_type": "code",
        "colab": {
          "base_uri": "https://localhost:8080/",
          "height": 377
        },
        "outputId": "cf684d1b-1f28-47c8-f1e6-894011c4e9df"
      },
      "cell_type": "code",
      "source": [
        "# 뒤에 들어가는 숫자중 2가 들어가는 경우만 정상작동 5는 수식 그대로 출력\n",
        "\n",
        "# 3.뒷에 들어가는 숫자중 작동 되는 숫자 확인\n",
        "\n",
        "a = 2.5e-1\n",
        "print(a)\n",
        "\n",
        "b = 2.5e-2\n",
        "print(b)\n",
        "\n",
        "c = 2.5e-3\n",
        "print(c)\n",
        "\n",
        "d = 2.5e-4\n",
        "print(d)\n",
        "\n",
        "e = 2.5e-5\n",
        "print(e)\n",
        "\n",
        "f = 2.5e-6\n",
        "print(f)\n",
        "\n",
        "g = 2.5e-7\n",
        "print(g)\n",
        "\n",
        "h = 2.5e-8\n",
        "print(h)\n",
        "\n",
        "i = 2.5e-9\n",
        "print(i)\n",
        "\n",
        "j = 2.5e-10\n",
        "print(j)\n",
        "\n",
        "k = 2.5e-11\n",
        "print(k)\n",
        "\n",
        "l = 2.5e-12\n",
        "print(l)\n",
        "\n",
        "m = 2.5e-13\n",
        "print(m)\n",
        "\n",
        "n = 2.5e-14\n",
        "print(n)\n",
        "\n",
        "o = 2.5e-15\n",
        "print(o)\n",
        "\n",
        "p = 2.5e-16\n",
        "print(p)\n",
        "\n",
        "q = 2.5e-17\n",
        "print(q)\n",
        "\n",
        "r = 2.5e-18\n",
        "print(r)\n",
        "\n",
        "s = 2.5e-19\n",
        "print(s)\n",
        "\n",
        "t = 2.5e-20\n",
        "print(t)"
      ],
      "execution_count": 0,
      "outputs": [
        {
          "output_type": "stream",
          "text": [
            "0.25\n",
            "0.025\n",
            "0.0025\n",
            "0.00025\n",
            "2.5e-05\n",
            "2.5e-06\n",
            "2.5e-07\n",
            "2.5e-08\n",
            "2.5e-09\n",
            "2.5e-10\n",
            "2.5e-11\n",
            "2.5e-12\n",
            "2.5e-13\n",
            "2.5e-14\n",
            "2.5e-15\n",
            "2.5e-16\n",
            "2.5e-17\n",
            "2.5e-18\n",
            "2.5e-19\n",
            "2.5e-20\n"
          ],
          "name": "stdout"
        }
      ]
    },
    {
      "metadata": {
        "id": "_GKhscLvbV1t",
        "colab_type": "code",
        "colab": {
          "base_uri": "https://localhost:8080/",
          "height": 377
        },
        "outputId": "77fa5379-8545-42ed-e94a-141fb182216d"
      },
      "cell_type": "code",
      "source": [
        "# -5 이하의 값은 계산되지 않음\n",
        "\n",
        "# 4.양수도 마찬가지인지 확인\n",
        "\n",
        "a = 2.5e1\n",
        "print(a)\n",
        "\n",
        "b = 2.5e2\n",
        "print(b)\n",
        "\n",
        "c = 2.5e3\n",
        "print(c)\n",
        "\n",
        "d = 2.5e4\n",
        "print(d)\n",
        "\n",
        "e = 2.5e5\n",
        "print(e)\n",
        "\n",
        "f = 2.5e6\n",
        "print(f)\n",
        "\n",
        "g = 2.5e7\n",
        "print(g)\n",
        "\n",
        "h = 2.5e8\n",
        "print(h)\n",
        "\n",
        "i = 2.5e9\n",
        "print(i)\n",
        "\n",
        "j = 2.5e10\n",
        "print(j)\n",
        "\n",
        "k = 2.5e11\n",
        "print(k)\n",
        "\n",
        "l = 2.5e12\n",
        "print(l)\n",
        "\n",
        "m = 2.5e13\n",
        "print(m)\n",
        "\n",
        "n = 2.5e14\n",
        "print(n)\n",
        "\n",
        "o = 2.5e15\n",
        "print(o)\n",
        "\n",
        "p = 2.5e16\n",
        "print(p)\n",
        "\n",
        "q = 2.5e17\n",
        "print(q)\n",
        "\n",
        "r = 2.5e18\n",
        "print(r)\n",
        "\n",
        "s = 2.5e19\n",
        "print(s)\n",
        "\n",
        "t = 2.5e20\n",
        "print(t)"
      ],
      "execution_count": 0,
      "outputs": [
        {
          "output_type": "stream",
          "text": [
            "25.0\n",
            "250.0\n",
            "2500.0\n",
            "25000.0\n",
            "250000.0\n",
            "2500000.0\n",
            "25000000.0\n",
            "250000000.0\n",
            "2500000000.0\n",
            "25000000000.0\n",
            "250000000000.0\n",
            "2500000000000.0\n",
            "25000000000000.0\n",
            "250000000000000.0\n",
            "2500000000000000.0\n",
            "2.5e+16\n",
            "2.5e+17\n",
            "2.5e+18\n",
            "2.5e+19\n",
            "2.5e+20\n"
          ],
          "name": "stdout"
        }
      ]
    },
    {
      "metadata": {
        "id": "7gsOiQpNbzWF",
        "colab_type": "code",
        "colab": {}
      },
      "cell_type": "code",
      "source": [
        "# 양수를 넣으면 16이상은 계산결과 값이 수치로 나오지 않음"
      ],
      "execution_count": 0,
      "outputs": []
    },
    {
      "metadata": {
        "id": "unKbABGec2-4",
        "colab_type": "text"
      },
      "cell_type": "markdown",
      "source": [
        "#####결론\n",
        "*실수형은 10의 배수를 제곱하는 것\n",
        "\n",
        "*양수를 제곱할시 10까지만 출력가능 16이상은 수식으로 출력\n",
        "\n",
        "*음수를 제곱할시 -4까지만 출력가능  -5 이하는 수식으로 출력"
      ]
    },
    {
      "metadata": {
        "id": "Xcb02rB0doo-",
        "colab_type": "text"
      },
      "cell_type": "markdown",
      "source": [
        "###8진수와 16진수"
      ]
    },
    {
      "metadata": {
        "id": "PvnfNPWaeZMv",
        "colab_type": "code",
        "colab": {
          "base_uri": "https://localhost:8080/",
          "height": 71
        },
        "outputId": "3f3309ea-245b-4d04-8444-1d22f0e0bdaa"
      },
      "cell_type": "code",
      "source": [
        "# 8진수와 16진수 예제\n",
        "\n",
        "# # 8진수 예제\n",
        "\n",
        "a = 0o177\n",
        "print(a)\n",
        "\n",
        "# # 16진수 예제\n",
        "\n",
        "b = 0x8ff\n",
        "print(b)\n",
        "\n",
        "c = 0xABC\n",
        "print(c)"
      ],
      "execution_count": 0,
      "outputs": [
        {
          "output_type": "stream",
          "text": [
            "127\n",
            "2303\n",
            "2748\n"
          ],
          "name": "stdout"
        }
      ]
    },
    {
      "metadata": {
        "id": "VfwjBLTLfTGb",
        "colab_type": "text"
      },
      "cell_type": "markdown",
      "source": [
        "#### 8진수와 16진수에 대한 정보 부족\n",
        "다양한 시도 불가"
      ]
    },
    {
      "metadata": {
        "id": "_YhprxIdfyLy",
        "colab_type": "text"
      },
      "cell_type": "markdown",
      "source": [
        "###사칙연산"
      ]
    },
    {
      "metadata": {
        "id": "9iTPOSscgEKW",
        "colab_type": "code",
        "colab": {
          "base_uri": "https://localhost:8080/",
          "height": 197
        },
        "outputId": "a3c3bffa-d3f8-49d8-adf7-c8850fa7aaee"
      },
      "cell_type": "code",
      "source": [
        "# 사칙연산 예제\n",
        "\n",
        "a = 3\n",
        "b = 4\n",
        "\n",
        "c = a + b\n",
        "print(c)\n",
        "# 결과값 7\n",
        "\n",
        "d = a * b\n",
        "print(d)\n",
        "# 결과값 12\n",
        "\n",
        "e = a / b\n",
        "print(e)\n",
        "# 결과값 0.75 '책의 설명에는 정수로 나눌시 소수점은 버림'\n",
        "\n",
        "f = a / (b*1.0)\n",
        "print(f)\n",
        "# 결과값 0.75의 결과값을 그대로 출력할시 강제로 한가지 수를 소수점화 시키면된다\n",
        "\n",
        "g = a ** b\n",
        "print(g)\n",
        "# 결과값 81\n",
        "\n",
        "h = 7 % 3\n",
        "print(h)\n",
        "\n",
        "i = 3 % 7\n",
        "print(i)\n",
        "# 결과값 h = 1, i = 3 '나눗셈을 하고 나눠지지 않은 나머지값을 남긴다'\n",
        "\n",
        "j = 7 / (4*1.0)\n",
        "print(j)\n",
        "\n",
        "k = 7 // 4\n",
        "print(k)\n",
        "\n",
        "l = -7 // 4\n",
        "print(l)\n",
        "# 결과값 j = 1.75, k = 1, l = -2 'k에 쓰인 // 명령어는 나눈값의 소수점 아래값을 반환'\n",
        "# //의 결과 값이 음수인경우는 더욱 낮은 수로 출력이 된다"
      ],
      "execution_count": 0,
      "outputs": [
        {
          "output_type": "stream",
          "text": [
            "7\n",
            "12\n",
            "0.75\n",
            "0.75\n",
            "81\n",
            "1\n",
            "3\n",
            "1.75\n",
            "1\n",
            "-2\n"
          ],
          "name": "stdout"
        }
      ]
    },
    {
      "metadata": {
        "id": "7ZcwB6wsg6zz",
        "colab_type": "text"
      },
      "cell_type": "markdown",
      "source": [
        "####의문\n",
        "1. e의 결과값에 책의 설명이 맞는가\n",
        "\n",
        "2. l의 실제 값이 -2에 근사값이여서 -2가 출력이 되는가 -1에 가까우면 -1이 출력이 되는가"
      ]
    },
    {
      "metadata": {
        "id": "DuHMYK8_hgkq",
        "colab_type": "code",
        "colab": {
          "base_uri": "https://localhost:8080/",
          "height": 89
        },
        "outputId": "e20fdf02-424f-437b-9dcc-8d58f872e65b"
      },
      "cell_type": "code",
      "source": [
        "# 나눗셈 정수 계산 테스트\n",
        "\n",
        "a = 1\n",
        "b = 2\n",
        "c = 3\n",
        "d = 4\n",
        "e = 5\n",
        "\n",
        "f = e / a\n",
        "print(f)\n",
        "\n",
        "g = e / b\n",
        "print(g)\n",
        "\n",
        "h = e / c\n",
        "print(h)\n",
        "\n",
        "i = e / d\n",
        "print(i)"
      ],
      "execution_count": 0,
      "outputs": [
        {
          "output_type": "stream",
          "text": [
            "5.0\n",
            "2.5\n",
            "1.6666666666666667\n",
            "1.25\n"
          ],
          "name": "stdout"
        }
      ]
    },
    {
      "metadata": {
        "id": "-rh2xpLHjkNp",
        "colab_type": "code",
        "colab": {
          "base_uri": "https://localhost:8080/",
          "height": 71
        },
        "outputId": "06d1458f-02e4-4660-d8b8-f15122318418"
      },
      "cell_type": "code",
      "source": [
        "# 소수점 이하는 자동생성(2.7버전만 소수점 이하 버려짐)\n",
        "\n",
        "# 소수점 나누기 테스트\n",
        "\n",
        "a = 1.1 / 2.3\n",
        "print(a)\n",
        "\n",
        "b = 3 / 4.2\n",
        "print(b)\n",
        "\n",
        "c = 6.1 / 3\n",
        "print(c)"
      ],
      "execution_count": 0,
      "outputs": [
        {
          "output_type": "stream",
          "text": [
            "0.47826086956521746\n",
            "0.7142857142857143\n",
            "2.033333333333333\n"
          ],
          "name": "stdout"
        }
      ]
    },
    {
      "metadata": {
        "id": "ueTL6QoanKne",
        "colab_type": "code",
        "colab": {
          "base_uri": "https://localhost:8080/",
          "height": 71
        },
        "outputId": "3140e71c-7b89-4bb5-eab6-7d4c51a2453c"
      },
      "cell_type": "code",
      "source": [
        "# 정수와 정수를 나눌때 나오는 값에 버려지는 소수점들은 정말 버려지는가\n",
        "\n",
        "# 정수와 정수를 소수점이 나오게 나눈값을 다른 수들과 다른계산을 하여 테스트\n",
        "\n",
        "a = 5 / 3\n",
        "\n",
        "b = a + 1.5\n",
        "print(b)\n",
        "\n",
        "c = a * 3\n",
        "print(c)\n",
        "\n",
        "e = a / 2\n",
        "print(e)"
      ],
      "execution_count": 0,
      "outputs": [
        {
          "output_type": "stream",
          "text": [
            "3.166666666666667\n",
            "5.0\n",
            "0.8333333333333334\n"
          ],
          "name": "stdout"
        }
      ]
    },
    {
      "metadata": {
        "id": "a1eepTaA2dSK",
        "colab_type": "code",
        "colab": {
          "base_uri": "https://localhost:8080/",
          "height": 125
        },
        "outputId": "f76688ff-f353-4430-a058-6c376de6fca7"
      },
      "cell_type": "code",
      "source": [
        "# // 연산의 소수점에 따른 수치변화 확인\n",
        "\n",
        "a = 7 // 4\n",
        "print(a)\n",
        "# 원래값 1.75\n",
        "\n",
        "b = 5 // 4\n",
        "print(b)\n",
        "# 원래값 1.25\n",
        "\n",
        "c = 3 // 2\n",
        "print(c)\n",
        "# 원래값 1.5\n",
        "\n",
        "d = -7 // 4\n",
        "print(d)\n",
        "# 원래값 -1.75\n",
        "\n",
        "e = -5 // 4\n",
        "print(e)\n",
        "# 원래값 -1.25\n",
        "\n",
        "f = -3 // 2\n",
        "print(f)\n",
        "# 원래값 -1.5"
      ],
      "execution_count": 0,
      "outputs": [
        {
          "output_type": "stream",
          "text": [
            "1\n",
            "1\n",
            "1\n",
            "-2\n",
            "-2\n",
            "-2\n"
          ],
          "name": "stdout"
        }
      ]
    },
    {
      "metadata": {
        "id": "w8j4bMK8lKnD",
        "colab_type": "text"
      },
      "cell_type": "markdown",
      "source": [
        "####결론\n",
        "의문 1 : 정수와 정수로 나눌때 소수점이 완전히 버려짐<br><br>\n",
        "    *소수점 결과가 필요한경우엔 필수적으로 하나의 정수라도 강제로 소수점 수로 변환 필요<br><br>\n",
        "의문 2 : 소수점의 수는 모두 올림하여 적용이 됨\n"
      ]
    },
    {
      "metadata": {
        "id": "FU__tvPolxQZ",
        "colab_type": "text"
      },
      "cell_type": "markdown",
      "source": [
        "##02-2 문자열"
      ]
    },
    {
      "metadata": {
        "id": "k7gr-JRvofRG",
        "colab_type": "code",
        "colab": {
          "base_uri": "https://localhost:8080/",
          "height": 161
        },
        "outputId": "d7a38998-10ce-4190-994d-3a60ab19d6e5"
      },
      "cell_type": "code",
      "source": [
        "# 문자열을 만들때 사용하는 '',  \"\",  '''''', \"\"\"\"\"\"의 차이를 알아보자\n",
        "\n",
        "print('ㅇ아른ㄷㅇ')\n",
        "print(\"ㅇㄹㄴㄷ\")\n",
        "print('''ㄴㄷㄺㅎ''')\n",
        "print(\"\"\"ㄴㄹㄷㄴ\"\"\")\n",
        "\n",
        "hi = 'sefds'\n",
        "print(hi)\n",
        "si = '''sefd'''\n",
        "print(si)\n",
        "ei = \"rgfd\"\n",
        "print(ei)\n",
        "io = \"\"\"ftfd\"\"\"\n",
        "print(io)\n",
        "# 책에선 분명 ''로 변수 선언 작업하면 에러 뜬다며"
      ],
      "execution_count": 0,
      "outputs": [
        {
          "output_type": "stream",
          "text": [
            "ㅇ아른ㄷㅇ\n",
            "ㅇㄹㄴㄷ\n",
            "ㄴㄷㄺㅎ\n",
            "ㄴㄹㄷㄴ\n",
            "sefds\n",
            "sefd\n",
            "rgfd\n",
            "ftfd\n"
          ],
          "name": "stdout"
        }
      ]
    },
    {
      "metadata": {
        "id": "0fyF9p5CiZu_",
        "colab_type": "text"
      },
      "cell_type": "markdown",
      "source": [
        "```\n",
        "a1 = 'What a beautiful world'\n",
        "a2 = 'what a 'beautiful world'\n",
        "a3 = 'what a \\'beautiful world'\n",
        "\n",
        "a4 = 'she said \"What does fox say\"'\n",
        "a5 = 'she said 'what does fox say''\n",
        "a6 = 'she said \\'what does fox say\\''\n",
        "```\n",
        "\n",
        "하나 하나 다 프린트 해볼 것"
      ]
    },
    {
      "metadata": {
        "id": "krzfMJXwjB2f",
        "colab_type": "code",
        "colab": {
          "base_uri": "https://localhost:8080/",
          "height": 35
        },
        "outputId": "bf75f5bf-d21e-4ec6-fa9f-231474428b1f"
      },
      "cell_type": "code",
      "source": [
        "a1 = 'What a beautiful world'\n",
        "a1"
      ],
      "execution_count": 47,
      "outputs": [
        {
          "output_type": "execute_result",
          "data": {
            "text/plain": [
              "'What a beautiful world'"
            ]
          },
          "metadata": {
            "tags": []
          },
          "execution_count": 47
        }
      ]
    },
    {
      "metadata": {
        "id": "yq30spEgjZ_X",
        "colab_type": "code",
        "colab": {
          "base_uri": "https://localhost:8080/",
          "height": 136
        },
        "outputId": "bbc67f78-4d71-4e9d-bfd6-f9c8387dd0b7"
      },
      "cell_type": "code",
      "source": [
        "a2 = 'what a 'beauriful world'\n",
        "a2"
      ],
      "execution_count": 53,
      "outputs": [
        {
          "output_type": "error",
          "ename": "SyntaxError",
          "evalue": "ignored",
          "traceback": [
            "\u001b[0;36m  File \u001b[0;32m\"<ipython-input-53-38112b9dcaea>\"\u001b[0;36m, line \u001b[0;32m1\u001b[0m\n\u001b[0;31m    a2 = 'what a 'beauriful world'\u001b[0m\n\u001b[0m                          ^\u001b[0m\n\u001b[0;31mSyntaxError\u001b[0m\u001b[0;31m:\u001b[0m invalid syntax\n"
          ]
        }
      ]
    },
    {
      "metadata": {
        "id": "VABPEpfMjgzi",
        "colab_type": "code",
        "colab": {
          "base_uri": "https://localhost:8080/",
          "height": 35
        },
        "outputId": "6d89237c-c95a-4c46-d421-1d5625972b3b"
      },
      "cell_type": "code",
      "source": [
        "a3 = 'what a \\'beautiful world'\n",
        "a3"
      ],
      "execution_count": 54,
      "outputs": [
        {
          "output_type": "execute_result",
          "data": {
            "text/plain": [
              "\"what a 'beautiful world\""
            ]
          },
          "metadata": {
            "tags": []
          },
          "execution_count": 54
        }
      ]
    },
    {
      "metadata": {
        "id": "vNaVp-yojxPR",
        "colab_type": "code",
        "colab": {
          "base_uri": "https://localhost:8080/",
          "height": 35
        },
        "outputId": "e462c711-4109-4477-e5d5-04d672633fd7"
      },
      "cell_type": "code",
      "source": [
        "a31 = 'what a ''beautiful world'\n",
        "a31"
      ],
      "execution_count": 56,
      "outputs": [
        {
          "output_type": "execute_result",
          "data": {
            "text/plain": [
              "'what a beautiful world'"
            ]
          },
          "metadata": {
            "tags": []
          },
          "execution_count": 56
        }
      ]
    },
    {
      "metadata": {
        "id": "lm3oH4gmkPdK",
        "colab_type": "code",
        "colab": {
          "base_uri": "https://localhost:8080/",
          "height": 53
        },
        "outputId": "5b87b928-526c-47a0-ead7-dd4dab3fa678"
      },
      "cell_type": "code",
      "source": [
        "a32 = 'what a \\beauriful world'\n",
        "print(a32)\n",
        "\n",
        "a33 = 'what a \\ beauriful world'\n",
        "print(a33)"
      ],
      "execution_count": 63,
      "outputs": [
        {
          "output_type": "stream",
          "text": [
            "what a \beauriful world\n",
            "what a \\ beauriful world\n"
          ],
          "name": "stdout"
        }
      ]
    },
    {
      "metadata": {
        "id": "8y6OjJ8skEvb",
        "colab_type": "code",
        "colab": {
          "base_uri": "https://localhost:8080/",
          "height": 35
        },
        "outputId": "45c68ed2-d621-4848-904b-667e1a1cf5dc"
      },
      "cell_type": "code",
      "source": [
        "a4 = 'she said \"What does fox say\"'\n",
        "a4"
      ],
      "execution_count": 57,
      "outputs": [
        {
          "output_type": "execute_result",
          "data": {
            "text/plain": [
              "'she said \"What does fox say\"'"
            ]
          },
          "metadata": {
            "tags": []
          },
          "execution_count": 57
        }
      ]
    },
    {
      "metadata": {
        "id": "UuFGwY1FkKXz",
        "colab_type": "code",
        "colab": {
          "base_uri": "https://localhost:8080/",
          "height": 136
        },
        "outputId": "c711f869-a53c-481d-b5d4-8ad183bfcc1b"
      },
      "cell_type": "code",
      "source": [
        "a5 = 'she said 'what does fox say''\n",
        "a5"
      ],
      "execution_count": 58,
      "outputs": [
        {
          "output_type": "error",
          "ename": "SyntaxError",
          "evalue": "ignored",
          "traceback": [
            "\u001b[0;36m  File \u001b[0;32m\"<ipython-input-58-895f87ec5c86>\"\u001b[0;36m, line \u001b[0;32m1\u001b[0m\n\u001b[0;31m    a5 = 'she said 'what does fox say''\u001b[0m\n\u001b[0m                       ^\u001b[0m\n\u001b[0;31mSyntaxError\u001b[0m\u001b[0;31m:\u001b[0m invalid syntax\n"
          ]
        }
      ]
    },
    {
      "metadata": {
        "id": "dbAVdH9EkrBk",
        "colab_type": "code",
        "colab": {
          "base_uri": "https://localhost:8080/",
          "height": 35
        },
        "outputId": "e910ceda-3002-41ce-c404-9c46ab0166c1"
      },
      "cell_type": "code",
      "source": [
        "a6 = 'she said \\'what does fox say\\''\n",
        "a6"
      ],
      "execution_count": 64,
      "outputs": [
        {
          "output_type": "execute_result",
          "data": {
            "text/plain": [
              "\"she said 'what does fox say'\""
            ]
          },
          "metadata": {
            "tags": []
          },
          "execution_count": 64
        }
      ]
    },
    {
      "metadata": {
        "id": "4epW3OmOUGne",
        "colab_type": "code",
        "colab": {
          "base_uri": "https://localhost:8080/",
          "height": 269
        },
        "outputId": "6f7fbd19-89ad-43a6-bd0d-527fdb3f0efb"
      },
      "cell_type": "code",
      "source": [
        "li = '파이썬 2에선 안되고\\'파이썬 3에서 됨'\n",
        "print(li)\n",
        "\n",
        "lo = '파이썬 3에선 되고 파이썬 2에선 안됨'\n",
        "print(lo)\n",
        "\n",
        "kl = \"\\\"파이썬 3는 가능\\\"파이썬 2는 불가능\"\n",
        "print(kl)\n",
        "\n",
        "ku = \"파이썬 2는 불가능 파이썬 3은 가능\"\n",
        "print(ku)\n",
        "# 파이썬 2버전에선 'lo'와 'ku'안됨\n",
        "\n",
        "mul = '''\n",
        "  efdse\n",
        "  sefds\n",
        "  efdsty\n",
        "  '''\n",
        "print(mul)\n",
        "\n",
        "dul = \"\"\"\n",
        "  grdfg\n",
        "  yjugfr\n",
        "  xfbre\n",
        "  \"\"\"\n",
        "print(dul)\n",
        "\n",
        "# er = '\n",
        "#   대체\n",
        "#   왜\n",
        "#   이런것을\n",
        "#   '\n",
        "# print(er)\n",
        "# 위 명령어로 실행시 에러발생\n",
        "\n",
        "# ''는 문자열 출력\n",
        "# \"\"는 변수선언(a = \"\")\n",
        "\n",
        "# 책에서 되고 실제로 되는것\n",
        "# '''''', \"\"\"\"\"\"는 문자열이 여러줄일때 쓰임"
      ],
      "execution_count": 66,
      "outputs": [
        {
          "output_type": "stream",
          "text": [
            "파이썬 2에선 안되고'파이썬 3에서 됨\n",
            "파이썬 3에선 되고 파이썬 2에선 안됨\n",
            "\"파이썬 3는 가능\"파이썬 2는 불가능\n",
            "파이썬 2는 불가능 파이썬 3은 가능\n",
            "\n",
            "  efdse\n",
            "  sefds\n",
            "  efdsty\n",
            "  \n",
            "\n",
            "  grdfg\n",
            "  yjugfr\n",
            "  xfbre\n",
            "  \n"
          ],
          "name": "stdout"
        }
      ]
    },
    {
      "metadata": {
        "id": "88DvHkB90jQi",
        "colab_type": "code",
        "colab": {
          "base_uri": "https://localhost:8080/",
          "height": 35
        },
        "outputId": "35d8cee4-acc5-4559-85b8-1ef79e79a213"
      },
      "cell_type": "code",
      "source": [
        "food = \"Python's favorite food is perl\"\n",
        "food\n",
        "# sood = 'Python's favorite food is perl'\n",
        "# 영어에 줄여쓰기 위해 \n",
        "작은 따음표 사용시 문자열 오류 발생"
      ],
      "execution_count": 0,
      "outputs": [
        {
          "output_type": "execute_result",
          "data": {
            "text/plain": [
              "\"Python's favorite food is perl\""
            ]
          },
          "metadata": {
            "tags": []
          },
          "execution_count": 98
        }
      ]
    },
    {
      "metadata": {
        "id": "pqnjEfYmcVJI",
        "colab_type": "code",
        "colab": {
          "base_uri": "https://localhost:8080/",
          "height": 1025
        },
        "outputId": "b5c8934b-8204-4dd5-d608-8eb68bccbd9b"
      },
      "cell_type": "code",
      "source": [
        "# '''''', \"\"\"\"\"\" 와 문자열 갯수의 관계\n",
        "\n",
        "ui = '''\n",
        "     과연\n",
        "     몇줄\n",
        "     까지\n",
        "     가능\n",
        "     할까\n",
        "     '''\n",
        "print(ui)\n",
        "\n",
        "po = \"\"\"\n",
        "     따음표\n",
        "     갯수와\n",
        "     상관이\n",
        "     있는지\n",
        "     궁금하내\n",
        "     ㄷㄴㄷㄹ\n",
        "     ㅅ오\n",
        "     ㅇ소\n",
        "     ㅛㅑㅎ표\n",
        "     햔\n",
        "     ㅓㅕ쇼\n",
        "     ㄴㄱㅎ오횰8ㅑ7ㅓㅗㅀ웅ㄴㄳㄴ융ㅈㅎㅇ\n",
        "     ㄴ36고류ㅗㅗㅜ79ㅐ호ㅓㅡㅇㄳ458ㅅ345347ㄱㄹ혼ㄱ솔손ㄱㅇ손거ㅣㄴ닥소\n",
        "     ㄴ4ㄳㄴㅇㅎ\n",
        "     ㄴ4ㅅㅎ\n",
        "     345ㅇㄴㄹ홏ㄹ허\n",
        "     54\n",
        "     1\n",
        "     2\n",
        "     3\n",
        "     4\n",
        "     5\n",
        "     6\n",
        "     7\n",
        "     8\n",
        "     9\n",
        "     10\n",
        "     11\n",
        "     12\n",
        "     13\n",
        "     14\n",
        "     15\n",
        "     16\n",
        "     17\n",
        "     18\n",
        "     19\n",
        "     20\n",
        "     21\n",
        "     22\n",
        "     23\n",
        "     24\n",
        "     25\n",
        "     26\n",
        "     27\n",
        "     28\n",
        "     29\n",
        "     30\n",
        "     \"\"\"\n",
        "print(po)"
      ],
      "execution_count": 0,
      "outputs": [
        {
          "output_type": "stream",
          "text": [
            "\n",
            "     과연\n",
            "     몇줄\n",
            "     까지\n",
            "     가능\n",
            "     할까\n",
            "     \n",
            "\n",
            "     따음표\n",
            "     갯수와\n",
            "     상관이\n",
            "     있는지\n",
            "     궁금하내\n",
            "     ㄷㄴㄷㄹ\n",
            "     ㅅ오\n",
            "     ㅇ소\n",
            "     ㅛㅑㅎ표\n",
            "     햔\n",
            "     ㅓㅕ쇼\n",
            "     ㄴㄱㅎ오횰8ㅑ7ㅓㅗㅀ웅ㄴㄳㄴ융ㅈㅎㅇ\n",
            "     ㄴ36고류ㅗㅗㅜ79ㅐ호ㅓㅡㅇㄳ458ㅅ345347ㄱㄹ혼ㄱ솔손ㄱㅇ손거ㅣㄴ닥소\n",
            "     ㄴ4ㄳㄴㅇㅎ\n",
            "     ㄴ4ㅅㅎ\n",
            "     345ㅇㄴㄹ홏ㄹ허\n",
            "     54\n",
            "     1\n",
            "     2\n",
            "     3\n",
            "     4\n",
            "     5\n",
            "     6\n",
            "     7\n",
            "     8\n",
            "     9\n",
            "     10\n",
            "     11\n",
            "     12\n",
            "     13\n",
            "     14\n",
            "     15\n",
            "     16\n",
            "     17\n",
            "     18\n",
            "     19\n",
            "     20\n",
            "     21\n",
            "     22\n",
            "     23\n",
            "     24\n",
            "     25\n",
            "     26\n",
            "     27\n",
            "     28\n",
            "     29\n",
            "     30\n",
            "     \n"
          ],
          "name": "stdout"
        }
      ]
    },
    {
      "metadata": {
        "id": "Kda_IuVRim-z",
        "colab_type": "code",
        "colab": {
          "base_uri": "https://localhost:8080/",
          "height": 107
        },
        "outputId": "60545fbf-8b06-4d70-f49b-9be799611d96"
      },
      "cell_type": "code",
      "source": [
        "# 문자열로 사칙연산이 일부 가능\n",
        "\n",
        "a = '123'\n",
        "b = '321'\n",
        "\n",
        "# 문자열과 문자열 사칙연산\n",
        "\n",
        "print(a + b)\n",
        "# print(a * b)\n",
        "# print(a ** b)\n",
        "# print(a / b)\n",
        "# print(a % b)\n",
        "# print(a // b)\n",
        "\n",
        "# 문자열과 숫자 사칙연산\n",
        "\n",
        "# print(a + 2)\n",
        "print(a * 2)\n",
        "# print(a ** 3)\n",
        "# print(a / 2)\n",
        "# print(a % 2)\n",
        "# print(a // 2)\n",
        "\n",
        "# 두가지 경우만 가능\n",
        "# 문자열 + 문자열\n",
        "# 문자열 * 숫자\n",
        "\n",
        "# 응용\n",
        "print(\"§\" * 10)\n",
        "print(\"my program\")\n",
        "print('▣' * 15)"
      ],
      "execution_count": 0,
      "outputs": [
        {
          "output_type": "stream",
          "text": [
            "123321\n",
            "123123\n",
            "§§§§§§§§§§\n",
            "my program\n",
            "▣▣▣▣▣▣▣▣▣▣▣▣▣▣▣\n"
          ],
          "name": "stdout"
        }
      ]
    },
    {
      "metadata": {
        "id": "UTAr4edplk42",
        "colab_type": "code",
        "colab": {
          "base_uri": "https://localhost:8080/",
          "height": 35
        },
        "outputId": "26c817b5-d0e5-4a4f-a02b-22bec1c15883"
      },
      "cell_type": "code",
      "source": [
        "# 문자열 인덱싱과 슬라싱\n",
        "\n",
        "# 문자열 인덱싱은 숫자가 부여된 문자열 순서\n",
        "# 문자열 슬라이싱은 문자열에 부여된 숫자로 나누는것\n",
        "\n",
        "a = '한글이 과연 인식이 될까'\n",
        "b = 'Life is too short, you need python'\n",
        "c = '!@#~#$ #@%$ #@$@#'\n",
        "\n",
        "a[2]\n",
        "b[2]\n",
        "c[2]\n",
        "a[1], b[3], c[5], b[0], a[1], c[9]\n",
        "# 마지막 인덱싱만 실행되지만 전부 같은 인덱싱 수치 적용\n",
        "\n",
        "# print(a[2])\n",
        "# print(b[2])\n",
        "# print(c[2])\n",
        "# 출력 명령어를 같이 사용시 같은 셀의 같은 명령어만 실행이 됨"
      ],
      "execution_count": 0,
      "outputs": [
        {
          "output_type": "execute_result",
          "data": {
            "text/plain": [
              "('글', 'e', '$', 'L', '글', '%')"
            ]
          },
          "metadata": {
            "tags": []
          },
          "execution_count": 101
        }
      ]
    },
    {
      "metadata": {
        "id": "cHCV1FVjqurd",
        "colab_type": "code",
        "colab": {
          "base_uri": "https://localhost:8080/",
          "height": 71
        },
        "outputId": "bec5046b-ee5f-4e14-fccc-a590b2a3b38a"
      },
      "cell_type": "code",
      "source": [
        "print(a[2])\n",
        "print(a[1], b[2])\n",
        "print(a[5], b[0], c[2])\n",
        "# 마지막 인덱싱이 아니라 전부 보려면 print() 명령어가 필수"
      ],
      "execution_count": 0,
      "outputs": [
        {
          "output_type": "stream",
          "text": [
            "이\n",
            "글 f\n",
            "연 L #\n"
          ],
          "name": "stdout"
        }
      ]
    },
    {
      "metadata": {
        "id": "BhhP1bY9s9Jv",
        "colab_type": "code",
        "colab": {
          "base_uri": "https://localhost:8080/",
          "height": 35
        },
        "outputId": "d3ac1b9f-70d3-4939-eb0c-3c0a3a18ef51"
      },
      "cell_type": "code",
      "source": [
        "# 역순으로 인덱싱 불러올수있다\n",
        "\n",
        "a[-0], b[-1], c[-2]\n",
        "# 0번째 수치는 역순으로 진행시 기준이 가장 마지막 인덱싱 기준으로 설정이 안됨\n",
        "# -1로 하게되면 가장 마지막 인덱싱으로 설정"
      ],
      "execution_count": 0,
      "outputs": [
        {
          "output_type": "execute_result",
          "data": {
            "text/plain": [
              "('한', 'n', '@')"
            ]
          },
          "metadata": {
            "tags": []
          },
          "execution_count": 103
        }
      ]
    },
    {
      "metadata": {
        "id": "OGPhpDrdxNTo",
        "colab_type": "code",
        "colab": {
          "base_uri": "https://localhost:8080/",
          "height": 35
        },
        "outputId": "b26c5bcd-e12e-45a4-e4a2-bd1f99a1048a"
      },
      "cell_type": "code",
      "source": [
        "# 인덱싱으로 문자열 조합가능\n",
        "\n",
        "# print(c[2] + a[0] + a[0] + d[10])\n",
        "# print()기능으로 사칙연산 조합안됨\n",
        "e = b[12] + c[7] + a[8]\n",
        "e"
      ],
      "execution_count": 0,
      "outputs": [
        {
          "output_type": "execute_result",
          "data": {
            "text/plain": [
              "'s#식'"
            ]
          },
          "metadata": {
            "tags": []
          },
          "execution_count": 105
        }
      ]
    },
    {
      "metadata": {
        "id": "mlFlIxTn45H8",
        "colab_type": "code",
        "colab": {
          "base_uri": "https://localhost:8080/",
          "height": 35
        },
        "outputId": "2271188b-b3ee-4f3c-93d5-a9bdac6fb3eb"
      },
      "cell_type": "code",
      "source": [
        "print(e)"
      ],
      "execution_count": 0,
      "outputs": [
        {
          "output_type": "stream",
          "text": [
            "s#식\n"
          ],
          "name": "stdout"
        }
      ]
    },
    {
      "metadata": {
        "id": "Kd_Jh6WZ19Yp",
        "colab_type": "code",
        "colab": {
          "base_uri": "https://localhost:8080/",
          "height": 35
        },
        "outputId": "92c6a4b3-fb56-4329-f46b-8fbe14fe6d94"
      },
      "cell_type": "code",
      "source": [
        "# 문자열 슬라이싱 범위 설정 가능\n",
        "\n",
        "a[0:5], b[1:3], c[:5]\n",
        "\n",
        "# [0:5] 입력시 0번째 이상 5번째 '미만' 문자열 출력됨\n",
        "# "
      ],
      "execution_count": 0,
      "outputs": [
        {
          "output_type": "execute_result",
          "data": {
            "text/plain": [
              "('한글이 과', 'if', '!@#~#')"
            ]
          },
          "metadata": {
            "tags": []
          },
          "execution_count": 106
        }
      ]
    },
    {
      "metadata": {
        "id": "xqWkmoSu4prC",
        "colab_type": "code",
        "colab": {
          "base_uri": "https://localhost:8080/",
          "height": 53
        },
        "outputId": "a29031f4-23ff-40b0-ecf6-256419138a9b"
      },
      "cell_type": "code",
      "source": [
        "z = a[0:5], b[1:3], c[15:]\n",
        "print(z)\n",
        "print(a[0:5], b[1:3], c[15:])"
      ],
      "execution_count": 0,
      "outputs": [
        {
          "output_type": "stream",
          "text": [
            "('한글이 과', 'if', '@#')\n",
            "한글이 과 if @#\n"
          ],
          "name": "stdout"
        }
      ]
    },
    {
      "metadata": {
        "id": "Oat1drJn3bEg",
        "colab_type": "code",
        "colab": {
          "base_uri": "https://localhost:8080/",
          "height": 35
        },
        "outputId": "ebbbd1e5-2847-472e-be2a-6152c2fb0dd3"
      },
      "cell_type": "code",
      "source": [
        "a[0:-5], b[1:-3], c[:-5]\n",
        "# 마지막을 음수로 입력시 양수로 정한 숫자부터 뒤에서부터 정한 음수의 숫자만큼 출력"
      ],
      "execution_count": 0,
      "outputs": [
        {
          "output_type": "execute_result",
          "data": {
            "text/plain": [
              "('한글이 과연 인', 'ife is too short, you need pyt', '!@#~#$ #@%$ ')"
            ]
          },
          "metadata": {
            "tags": []
          },
          "execution_count": 107
        }
      ]
    },
    {
      "metadata": {
        "id": "92fxeUGd3hw6",
        "colab_type": "code",
        "colab": {
          "base_uri": "https://localhost:8080/",
          "height": 35
        },
        "outputId": "82439262-921e-4cd9-d570-a786d45a3cf4"
      },
      "cell_type": "code",
      "source": [
        "a[-2:5], b[-1:-3], a[-5:-1], b[-2:-0], b[-2:0]\n",
        "# 음수에서 양수 순으로 슬라이싱 안됨\n",
        "# 음수에서 음수로 출력할시 가장 마지막 문자 출력 불가능"
      ],
      "execution_count": 0,
      "outputs": [
        {
          "output_type": "execute_result",
          "data": {
            "text/plain": [
              "('', '', '19피곤', '', '')"
            ]
          },
          "metadata": {
            "tags": []
          },
          "execution_count": 125
        }
      ]
    },
    {
      "metadata": {
        "id": "Y26HfcI44lLg",
        "colab_type": "code",
        "colab": {
          "base_uri": "https://localhost:8080/",
          "height": 89
        },
        "outputId": "f058d0de-7552-4618-ffc4-0d88f7f8e7a3"
      },
      "cell_type": "code",
      "source": [
        "# 예제 1\n",
        "\n",
        "a = '20180919피곤함'\n",
        "\n",
        "year = a[:4]\n",
        "day = a[4:8]\n",
        "feel = a[8:]\n",
        "\n",
        "print(year)\n",
        "print(day)\n",
        "print(feel)\n",
        "\n",
        "# 예제 2\n",
        "\n",
        "b = '외 않돼나요'\n",
        "\n",
        "# b[] = '왜'\n",
        "# b[2] = '안되'\n",
        "# 에러발생 단일 객체로는 변경 안됨\n",
        "\n",
        "# b[:] = '왜'\n",
        "# b[2:4] = '안되'\n",
        "# 범위 설정으로도 안됨\n",
        "\n",
        "b = b[:0] + '왜 안되' + b[4:]\n",
        "\n",
        "print(b)\n",
        "\n",
        "# 문자열 슬라이싱 오탈자 생길시 오탈자 범위를 빼고 재 조합 가능\n",
        "# 슬라이싱 범위 기본 작동 원리는 [X1 이상 : X2 미만]\n",
        "# 슬라이싱 범위 작동원리 예외 [음수 : 0]"
      ],
      "execution_count": 0,
      "outputs": [
        {
          "output_type": "stream",
          "text": [
            "2018\n",
            "0919\n",
            "피곤함\n",
            "왜 안되나요\n"
          ],
          "name": "stdout"
        }
      ]
    },
    {
      "metadata": {
        "id": "5Krv0worDHKs",
        "colab_type": "code",
        "colab": {
          "base_uri": "https://localhost:8080/",
          "height": 125
        },
        "outputId": "bfec88f6-552f-4541-a81a-e9a9bbde41d7"
      },
      "cell_type": "code",
      "source": [
        "# 문자열 포매팅\n",
        "\n",
        "# 예제 숫자(Integer) → 어째서 'd'??\n",
        "\n",
        "\"you eat %d junk food\" % 3\n",
        "\n",
        "print(\"you eat %d junk food\" % 3)\n",
        "\n",
        "# 예제 문자(String)\n",
        "\n",
        "'Why Soo %s' % 'Serious?'\n",
        "\n",
        "print('Why Soo %s' % 'Serious?')\n",
        "\n",
        "# 예제 변수 선언\n",
        "\n",
        "sf = '요가북'\n",
        "\n",
        "\"건영은 현재 %s을 보고있다\" % sf\n",
        "print(\"건영은 현재 %s을 보고있다\" % sf)\n",
        "\n",
        "# 예제 2가지 포메팅 사용\n",
        "\n",
        "day1 = 19\n",
        "\n",
        "day2 = '십구'\n",
        "\n",
        "'%d는 %s' % (day1, day2)\n",
        "print('%d는 %s' % (day1, day2))\n",
        "# 이건 오입력 ('%s는 %d' % (day1, day2))\n",
        "# 입력 정확히!\n",
        "\n",
        "# 추가 코드 테스트\n",
        "\n",
        "# %%(퍼센트 코드)\n",
        "# 단독 사용 못함\n",
        "\n",
        "# print('건영은 %%확률로 배고파한다' % 100)\n",
        "# print('건영은 %%확률로 배고파한다' % '백')\n",
        "# print('건영은 %s%확률로 배고파한다' % '백')\n",
        "# 퍼센트 코드 없이 포멧코드에 % 집어넣으면 없는 명령어라며 오작동\n",
        "# print(\"건영은 %s'%'확률로 배고파한다\" % '백')\n",
        "# \"건영은 %s'%'확률로 배고파한다\" % '백'\n",
        "# 문자열 \"\" 안에 ''를 사용하는 방법으로도 안먹힘\n",
        "print('건영은 %d%%확률로 배고파한다' % 100)\n",
        "print('건영은 %s%%확률로 배고파한다' % '백')\n",
        "\n",
        "# %c(문자 1개, 캐릭터)\n",
        "# 캐릭터???"
      ],
      "execution_count": 0,
      "outputs": [
        {
          "output_type": "stream",
          "text": [
            "you eat 3 junk food\n",
            "Why Soo Serious?\n",
            "건영은 현재 요가북을 보고있다\n",
            "19는 십구\n",
            "건영은 100%확률로 배고파한다\n",
            "건영은 백%확률로 배고파한다\n"
          ],
          "name": "stdout"
        }
      ]
    },
    {
      "metadata": {
        "id": "3V27Zu6TD4Rz",
        "colab_type": "code",
        "colab": {
          "base_uri": "https://localhost:8080/",
          "height": 161
        },
        "outputId": "83cc9992-143c-4733-bb08-b21929e9c51e"
      },
      "cell_type": "code",
      "source": [
        "# 포멧코드와 숫자 활용하기\n",
        "\n",
        "\n",
        "#정렬과 공백\n",
        "\n",
        "a = \"%10s\" % 'hi.ㄷㄹ'\n",
        "print(a)\n",
        "\n",
        "b = '%-10s jane' % \"hi.ㅎㄹ\"\n",
        "print(b)\n",
        "\n",
        "c = 'jane %10s' % 'bye'\n",
        "print(c)\n",
        "\n",
        "#소수점 표현하기\n",
        "\n",
        "d = '%0.4f' % 3.14236424754\n",
        "print(d)\n",
        "\n",
        "e = '%10.5f' % 3.14236424754\n",
        "print(e)\n",
        "\n",
        "f = '%5.5f' % 12345678.12345678\n",
        "print(f)\n",
        "\n",
        "g = '%5.5f' % 11.1\n",
        "print(g)\n",
        "\n",
        "h = '%10.5f' % 78.1234567\n",
        "print(h)\n",
        "\n",
        "# '%10s', '%-10d'같은경우는 공백만 넣어주는 역활\n",
        "# \"%10.4f\"같은 경우는 '10'부분은 전체 문자열 개수를 정하는거고\n",
        "# 뒤의 '0.4'는 소수점을 몇번째까지 표시할지 정하는것이다\n",
        "# 그럼 'f'와 'g'는???"
      ],
      "execution_count": 0,
      "outputs": [
        {
          "output_type": "stream",
          "text": [
            "     hi.ㄷㄹ\n",
            "hi.ㅎㄹ      jane\n",
            "jane        bye\n",
            "3.1424\n",
            "   3.14236\n",
            "12345678.12346\n",
            "11.10000\n",
            "  78.12346\n"
          ],
          "name": "stdout"
        }
      ]
    },
    {
      "metadata": {
        "id": "lseSrZTeZJLa",
        "colab_type": "code",
        "colab": {
          "base_uri": "https://localhost:8080/",
          "height": 197
        },
        "outputId": "6936c12f-d346-48b2-936e-e4edc06f7014"
      },
      "cell_type": "code",
      "source": [
        "# 윗 셀의 'f', 'g'에 관해 확인\n",
        "\n",
        "# 표시할 문자열 개수와 표시할 소수점 뒷 자리수가 같아서 충돌로 둘다 표시??\n",
        "# 문자열 수가 낮을때와 문자열수가 많을때와 문자열과 소수점이 같을때 다시 확인\n",
        "\n",
        "a = \"%6.5f\" % 12345678.12345678\n",
        "print(a)\n",
        "\n",
        "# 소수점만 적용됨 숫자 차이 늘려보기\n",
        "b = '%6.4f' % 12345678.12345678\n",
        "print(b)\n",
        "\n",
        "c = \"%8.3f\" % 12345678.12345678\n",
        "print(c)\n",
        "\n",
        "d = \"%9.4f\" % 12345678.12345678\n",
        "print(d)\n",
        "\n",
        "e = '%10.5f' % 12345678.12345678\n",
        "print(e)\n",
        "\n",
        "f = '%13.6f' % 12345678.12345678\n",
        "print(f)\n",
        "\n",
        "g = '%15.2f' % 12345678.12345678\n",
        "print(g)\n",
        "\n",
        "h = '%13.2f' % 12345678.12345678\n",
        "print(h)\n",
        "\n",
        "i = \"%7.5f\" % 1.12345678\n",
        "print(i)\n",
        "\n",
        "j = \"%9.6f\" % 1.12345678\n",
        "print(j)\n",
        "\n",
        "# '%10.5f'라고 하면 총 출력될 문자 개수가 소수점표시인 '.'콤마도 포함하여\n",
        "# 10개의 숫자를 표시하고 소수점 5자리 수까지 표시한다\n",
        "# 하지만 '정수'는 몇자리 수이든 생략이 안되기 때문에 반듯이 정수 개수를 넘는\n",
        "# 수로 세팅해야된다 그리고 콤마도 포함이 됨으로 최소 정수 숫자+.보다 초과된\n",
        "# 수를 초기 세팅으로 넣어야된다\n",
        "\n",
        "# 또 다른 의문 a, b, d, e, f, i, j의 소수점 표시 마지막에서 두번째 수가 생략됨"
      ],
      "execution_count": 0,
      "outputs": [
        {
          "output_type": "stream",
          "text": [
            "12345678.12346\n",
            "12345678.1235\n",
            "12345678.123\n",
            "12345678.1235\n",
            "12345678.12346\n",
            "12345678.123457\n",
            "    12345678.12\n",
            "  12345678.12\n",
            "1.12346\n",
            " 1.123457\n"
          ],
          "name": "stdout"
        }
      ]
    },
    {
      "metadata": {
        "id": "gxj2hFYCf8WM",
        "colab_type": "code",
        "colab": {
          "base_uri": "https://localhost:8080/",
          "height": 143
        },
        "outputId": "fcf84a68-59c8-47a6-efb7-ab0fa0e6b16b"
      },
      "cell_type": "code",
      "source": [
        "a = '%0.5f' % 0.123456789\n",
        "print(a)\n",
        "\n",
        "b = '%0.5f' % 0.111111111\n",
        "print(b)\n",
        "\n",
        "c = '%0.5f' % 0.122333444\n",
        "print(c)\n",
        "\n",
        "d = '%0.5f' % 0.123335\n",
        "print(d)\n",
        "\n",
        "e = '%0.5f' % 0.12345\n",
        "print(e)\n",
        "\n",
        "f = '%2.5f' % 0.1234\n",
        "print(f)\n",
        "\n",
        "g = '%7.4f' % 0.1234\n",
        "print(g)\n",
        "\n",
        "# 입력될 소수점 자리수가 표시될 소수점 자리수보다 많으면 이상현상 발생\n",
        "# 파이썬 오류?? 또는 올림??\n",
        "# 소수점 표시 마지막수의 뒷자리수가 4이하일경우는 정상표시, 5이상일 경우는 올림 표시\n",
        "# 0.2f일경우 '0.124'면 '0.12'표시 '0.125'라면 '0.13'표시f = '%2.5f' % 0.1234"
      ],
      "execution_count": 0,
      "outputs": [
        {
          "output_type": "stream",
          "text": [
            "0.12346\n",
            "0.11111\n",
            "0.12233\n",
            "0.12334\n",
            "0.12345\n",
            "0.12340\n",
            " 0.1234\n"
          ],
          "name": "stdout"
        }
      ]
    },
    {
      "metadata": {
        "id": "2uy6o6n0kRUS",
        "colab_type": "code",
        "colab": {
          "base_uri": "https://localhost:8080/",
          "height": 107
        },
        "outputId": "279f5067-d61c-485a-fd6d-138da58f437a"
      },
      "cell_type": "code",
      "source": [
        "# 포멧 함수를 이용한 포매팅\n",
        "\n",
        "a = 'I eat {0} apples'.format(3)\n",
        "print(a)\n",
        "\n",
        "number = 3\n",
        "\n",
        "day = 'one'\n",
        "\n",
        "b = 'I eat {0} apples, you eat {1} apple'.format(number, day)\n",
        "print(b)\n",
        "\n",
        "# c = 'you eat {number} apples, i eat {day} apple'\n",
        "# print(c)\n",
        "\n",
        "d = 'you eat {number} apples, i eat {day} apple'.format(number = 5, day = 1)\n",
        "print(d)\n",
        "\n",
        "# e = 'I eat {number} apples, you eat {0} banana'.format(number = 2, 3)\n",
        "# print(e)\n",
        "# e = 'I eat {number} apples, you eat {1} banana'.format(number = 2, 1)\n",
        "# print(e)\n",
        "\n",
        "e = 'I eat {number} apples, you eat {0} banana'.format(3, number = 2)\n",
        "print(e)\n",
        "\n",
        "f = 'i eat {0} apples, you eat {number} banana'.format(3, number = 3)\n",
        "print(f)\n",
        "\n",
        "# 포멧 기능중 {0}과 {number}을 같이 사용할시 코드내의 순서랑 상관없이\n",
        "# .format({0},{number})순으로 써야 에러 안생김(문자보다 숫자 우선처리인듯)"
      ],
      "execution_count": 0,
      "outputs": [
        {
          "output_type": "stream",
          "text": [
            "I eat 3 apples\n",
            "I eat 3 apples, you eat one apple\n",
            "you eat 5 apples, i eat 1 apple\n",
            "I eat 2 apples, you eat 3 banana\n",
            "i eat 3 apples, you eat 3 banana\n"
          ],
          "name": "stdout"
        }
      ]
    },
    {
      "metadata": {
        "id": "apHFyf1t2Kj3",
        "colab_type": "code",
        "colab": {
          "base_uri": "https://localhost:8080/",
          "height": 125
        },
        "outputId": "ebe9b31c-a49b-4e43-a740-46a1fda1cd7c"
      },
      "cell_type": "code",
      "source": [
        "# 포멧을 이용한 정렬방식\n",
        "\n",
        "a = \"{0:~<10}\".format(\"hi\")\n",
        "print(a)\n",
        "\n",
        "b = \"{0:#>10}\".format('hi')\n",
        "print(b)\n",
        "\n",
        "c = '{0:^10}'.format('hi')\n",
        "print(c)\n",
        "\n",
        "# 포멧을 이용한 소수점표시\n",
        "\n",
        "y = 3.3426789679\n",
        "\n",
        "d = '{0:0.4f}'.format(y)\n",
        "print(d)\n",
        "\n",
        "e = \"{0:@>10.4f}\".format(y)\n",
        "print(e)\n",
        "\n",
        "# {}보여주는 포멧팅\n",
        "f = \"{{and}}\".format()\n",
        "print(f)"
      ],
      "execution_count": 0,
      "outputs": [
        {
          "output_type": "stream",
          "text": [
            "hi~~~~~~~~\n",
            "########hi\n",
            "    hi    \n",
            "3.3427\n",
            "@@@@3.3427\n",
            "{and}\n"
          ],
          "name": "stdout"
        }
      ]
    },
    {
      "metadata": {
        "id": "ZbyEWpAz7P1x",
        "colab_type": "code",
        "colab": {
          "base_uri": "https://localhost:8080/",
          "height": 71
        },
        "outputId": "8580ad1f-0eeb-4bc1-8b23-8a93466fd1ee"
      },
      "cell_type": "code",
      "source": [
        "# f문자열 포멧팅\n",
        "\n",
        "name = '이희성'\n",
        "\n",
        "age = 29\n",
        "\n",
        "a = f'나의 이름은 {name}입니다. 나이는 {age}입니다.'\n",
        "print(a)\n",
        "\n",
        "b = f'내년에는 나이가{age+1}살이 된다'\n",
        "print(b)\n",
        "\n",
        "z = {'name':'이희성', 'age':29}\n",
        "\n",
        "c = f\"내 이름은 {z['name']}이고 나이는 {z['age']}야\"\n",
        "print(c)"
      ],
      "execution_count": 0,
      "outputs": [
        {
          "output_type": "stream",
          "text": [
            "나의 이름은 이희성입니다. 나이는 29입니다.\n",
            "내년에는 나이가30살이 된다\n",
            "내 이름은 이희성이고 나이는 29야\n"
          ],
          "name": "stdout"
        }
      ]
    },
    {
      "metadata": {
        "id": "irO6qldMVcgB",
        "colab_type": "code",
        "colab": {
          "base_uri": "https://localhost:8080/",
          "height": 143
        },
        "outputId": "e09b6aca-b7e5-4b84-ea0a-42d5ffbb7c33"
      },
      "cell_type": "code",
      "source": [
        "# 문자열 관련 함수들\n",
        "\n",
        "# 문자 개수 세기(count)\n",
        "\n",
        "a = \"hobby\"\n",
        "print(a.count('b'))\n",
        "\n",
        "# 문자 위치 알려주기(find)\n",
        "\n",
        "b = \"python is the best choice\"\n",
        "print(b.find('b'))\n",
        "print(b.find('k'))\n",
        "print(b.find('e'))\n",
        "\n",
        "# 문자 위치 알려주기 2 (index)\n",
        "\n",
        "c = 'life is too short'\n",
        "print(c.index('t'))\n",
        "# print(c.index('k'))\n",
        "print(c.index('i'))\n",
        "# 없는 문자를 찾으면 오류 발생"
      ],
      "execution_count": 0,
      "outputs": [
        {
          "output_type": "stream",
          "text": [
            "2\n",
            "14\n",
            "-1\n",
            "12\n",
            "8\n",
            "1\n",
            "a,s,d,g,f\n"
          ],
          "name": "stdout"
        }
      ]
    },
    {
      "metadata": {
        "id": "ocmwhXbkY4tk",
        "colab_type": "code",
        "colab": {
          "base_uri": "https://localhost:8080/",
          "height": 251
        },
        "outputId": "8a318620-5885-40f4-8f4e-0840cbc78f92"
      },
      "cell_type": "code",
      "source": [
        "# 문자열 삽입(join)\n",
        "\n",
        "a = ','\n",
        "print(a.join('asdgf'))\n",
        "print(a.join(':::::'))\n",
        "\n",
        "# 소문자를 대문자로 변경(upper)\n",
        "\n",
        "b = \"bye\"\n",
        "print(b.upper())\n",
        "\n",
        "c = 'LioN'\n",
        "print(c.upper())\n",
        "\n",
        "# 대문자를 소문자로 변경(lower)\n",
        "\n",
        "d = \"JOIN\"\n",
        "print(d.lower())\n",
        "\n",
        "e = 'sign'\n",
        "print(e.lower())\n",
        "\n",
        "# 왼쪽 공백 지우기(lstrip)\n",
        "\n",
        "f = \"  dog\"\n",
        "\n",
        "print(f.lstrip())\n",
        "\n",
        "# 오른쪽 공백 지우기(rstrip)\n",
        "\n",
        "g = 'dog    '\n",
        "\n",
        "print(g.rstrip())\n",
        "\n",
        "# 양쪽 공백 지우기(strip)\n",
        "\n",
        "h = '  small dog   '\n",
        "print(h.strip())\n",
        "\n",
        "# 문자열 바꾸기(replace)\n",
        "\n",
        "ha = \"Life is too short\"\n",
        "\n",
        "print(ha.replace('Life', 'your leg'))\n",
        "\n",
        "# 문자열 나누기(split)\n",
        "\n",
        "i = 'You look so small'\n",
        "print(i.split())\n",
        "\n",
        "j = \"a, b, c, d, e, f\"\n",
        "print(j.split())\n",
        "\n",
        "k = \"a:b:c:d\"\n",
        "print(k.split(\":\"))"
      ],
      "execution_count": 68,
      "outputs": [
        {
          "output_type": "stream",
          "text": [
            "a,s,d,g,f\n",
            ":,:,:,:,:\n",
            "BYE\n",
            "LION\n",
            "join\n",
            "sign\n",
            "dog\n",
            "dog\n",
            "small dog\n",
            "your leg is too short\n",
            "['You', 'look', 'so', 'small']\n",
            "['a,', 'b,', 'c,', 'd,', 'e,', 'f']\n",
            "['a', 'b', 'c', 'd']\n"
          ],
          "name": "stdout"
        }
      ]
    },
    {
      "metadata": {
        "id": "lX7K8gkIYFNG",
        "colab_type": "code",
        "colab": {
          "base_uri": "https://localhost:8080/",
          "height": 251
        },
        "outputId": "ef5bce35-cb6c-479b-b328-c9eecbf0e484"
      },
      "cell_type": "code",
      "source": [
        "# 문자열 예제\n",
        "\n",
        "# 1. 문자열 출력 1\n",
        "\n",
        "# print(\"\"점프 투 파이썬\" 문제를 풀어보자\")\n",
        "# a = (\"점프 투 파이썬\" 문제를 풀어보자)\n",
        "a = '\"점프 투 파이썬\" 문제를 풀어보자'\n",
        "print(a)\n",
        "\n",
        "# 2. 문자열 출력 2\n",
        "\n",
        "# print(\"\"Life is too short/ You need pytion\"\")\n",
        "print(\"\"\"Life is too short\n",
        "You need Pytion\"\"\")\n",
        "\n",
        "# 3. 공백 추가\n",
        "\n",
        "# print(\"%dPYTHON\".%d\"          \")\n",
        "b = \"%24s\" % 'PYTHON'\n",
        "print(b)\n",
        "\n",
        "# 4. 문자열 나누기\n",
        "\n",
        "pin = \"881120-1068234\"\n",
        "\n",
        "print(pin[:6])\n",
        "print(pin[7:])\n",
        "\n",
        "# 5. 문자열 인덱싱\n",
        "\n",
        "pin = '881120-1068234'\n",
        "\n",
        "# print(pin.index(7))\n",
        "# print(pin.index(7:8))\n",
        "# print(pin.index())\n",
        "print(pin[7])\n",
        "\n",
        "# 6. 문자열 변경\n",
        "\n",
        "ex = \"1980M1120\"\n",
        "\n",
        "print(ex[4]+ex[:4]+ex[5:])\n",
        "\n",
        "# 7. 문자열 포멧\n",
        "\n",
        "c = 'PYTHON'\n",
        "\n",
        "print(\"%24s\"%\"c\")\n",
        "\n",
        "# 8. 문자열 찾기\n",
        "\n",
        "d = \"Life is too short, you need python\"\n",
        "\n",
        "print(c.find(\"short\"))\n",
        "\n",
        "# print(d.index[\"short\"])\n",
        "\n",
        "# 9. 문자열 바꾸기 1\n",
        "\n",
        "ex1 = \"a:b:c:d\"\n",
        "\n",
        "print(ex1.replace(\":\", \"#\"))\n",
        "\n",
        "# print(ex1.replace[])\n",
        "\n",
        "# 10. 문자열 바꾸기2\n",
        "\n",
        "ex2 = \"a:b:c:d\"\n",
        "\n",
        "ex3 = ex2.split(\":\")\n",
        "\n",
        "print(ex3)\n",
        "# ex3 = ex2.split(\":\"), ex2.join(\"#\")\n",
        "# ex3 = ex2.split('a','b','c','d')\n",
        "# ex3 = ex2.split('abcd')\n",
        "\n",
        "# ex4 = ex3.join(\"#\")\n",
        "# ex3.join(\"#\")\n",
        "\n",
        "a1 = \"#\"\n",
        "\n",
        "print(a1.join(ex3))"
      ],
      "execution_count": 88,
      "outputs": [
        {
          "output_type": "stream",
          "text": [
            "\"점프 투 파이썬\" 문제를 풀어보자\n",
            "Life is too short\n",
            "You need Pytion\n",
            "                  PYTHON\n",
            "881120\n",
            "1068234\n",
            "1\n",
            "M19801120\n",
            "                       c\n",
            "-1\n",
            "a#b#c#d\n",
            "['a', 'b', 'c', 'd']\n",
            "a#b#c#d\n"
          ],
          "name": "stdout"
        }
      ]
    },
    {
      "metadata": {
        "id": "Tg-D3hHVbZ-t",
        "colab_type": "text"
      },
      "cell_type": "markdown",
      "source": [
        "##02-3 리스트 자료형"
      ]
    },
    {
      "metadata": {
        "id": "gIu25eDp9MOk",
        "colab_type": "code",
        "colab": {
          "base_uri": "https://localhost:8080/",
          "height": 71
        },
        "outputId": "b002f580-4d19-4522-d365-d6ead35efb43"
      },
      "cell_type": "code",
      "source": [
        "# 리스트는 '[]'로 감싸고 구분은 ','로 구분한다\n",
        "\n",
        "odd = [1, 3, 5, 7, 9]\n",
        "\n",
        "# 리스트명 = [요소1, 요소2, 요소3.........]\n",
        "\n",
        "a = []\n",
        "\n",
        "print(a)\n",
        "\n",
        "b = list()\n",
        "\n",
        "print(b)\n",
        "\n",
        "c = [1, 2, ['life', 'is']]\n",
        "\n",
        "print(c)"
      ],
      "execution_count": 91,
      "outputs": [
        {
          "output_type": "stream",
          "text": [
            "[]\n",
            "[]\n",
            "[1, 2, ['life', 'is']]\n"
          ],
          "name": "stdout"
        }
      ]
    },
    {
      "metadata": {
        "id": "aF-XBCOS_rtv",
        "colab_type": "code",
        "colab": {
          "base_uri": "https://localhost:8080/",
          "height": 71
        },
        "outputId": "c40859da-027f-4a93-ed6a-dfcb641cac4a"
      },
      "cell_type": "code",
      "source": [
        "# 리스트의 인덱싱\n",
        "\n",
        "a = [1, 2, 3, 4, 5]\n",
        "\n",
        "print(a[0])\n",
        "print(a[3])\n",
        "print(a[-1])\n",
        "# a[]안의 숫자는 a 라는 리스트의 몇번째 요소인지 정하는 것"
      ],
      "execution_count": 97,
      "outputs": [
        {
          "output_type": "stream",
          "text": [
            "1\n",
            "4\n",
            "5\n"
          ],
          "name": "stdout"
        }
      ]
    },
    {
      "metadata": {
        "id": "TgIdH5g6BNf6",
        "colab_type": "code",
        "colab": {
          "base_uri": "https://localhost:8080/",
          "height": 53
        },
        "outputId": "83ec2a40-dae9-42bb-aa80-79a0d8d98c5d"
      },
      "cell_type": "code",
      "source": [
        "# 리스트 요소가 수일경우 리스트 요소끼리의 연산가능\n",
        "\n",
        "print(a[0]+a[2])\n",
        "\n",
        "print(a[-1] + a[1])"
      ],
      "execution_count": 98,
      "outputs": [
        {
          "output_type": "stream",
          "text": [
            "4\n",
            "7\n"
          ],
          "name": "stdout"
        }
      ]
    },
    {
      "metadata": {
        "id": "r719dfE4BeBX",
        "colab_type": "code",
        "colab": {
          "base_uri": "https://localhost:8080/",
          "height": 125
        },
        "outputId": "de2d35fe-433c-416a-ce63-ddcb535409d6"
      },
      "cell_type": "code",
      "source": [
        "# 리스트 안의 리스트를 만들어 확인\n",
        "\n",
        "a = [1, 2, 3, ['a', 'b', 'c']]\n",
        "\n",
        "print(a[0])\n",
        "\n",
        "print(a[-1])\n",
        "\n",
        "print(a[3])\n",
        "\n",
        "# print(a[-1[1]])\n",
        "\n",
        "print(a[-1],[2])\n",
        "\n",
        "print(a[-1][2])\n",
        "\n",
        "# print(a[6])\n",
        "\n",
        "# 리스트 안의 리스트를 불러오기위해서는\n",
        "# 리스트 안의 리스트 가있는 인덱스를 설정하고 그 인덱스 안의 리스트 위치를 입력\n",
        "# 예 리스트[리스트가 있는인덱스][인덱스안의 리스트의 인덱스 위치]\n",
        "# a[3][1]\n",
        "\n",
        "# 삼중 인덱싱\n",
        "\n",
        "b = [1, 2, ['a', 'b', ['python', 'is']]]\n",
        "\n",
        "print(b[2][2][1])"
      ],
      "execution_count": 108,
      "outputs": [
        {
          "output_type": "stream",
          "text": [
            "1\n",
            "['a', 'b', 'c']\n",
            "['a', 'b', 'c']\n",
            "['a', 'b', 'c'] [2]\n",
            "c\n",
            "is\n"
          ],
          "name": "stdout"
        }
      ]
    },
    {
      "metadata": {
        "id": "UpN6Zg3dECze",
        "colab_type": "code",
        "colab": {
          "base_uri": "https://localhost:8080/",
          "height": 53
        },
        "outputId": "6217f08e-41f1-4a9a-91ba-40b96d5c1157"
      },
      "cell_type": "code",
      "source": [
        "# 리스트 슬라이싱\n",
        "\n",
        "a = [1, 2, 3, 4, 5]\n",
        "\n",
        "print(a[0:2])\n",
        "\n",
        "# 문자열 슬라이싱 비교\n",
        "\n",
        "b = '12345'\n",
        "\n",
        "print(b[0:2])"
      ],
      "execution_count": 138,
      "outputs": [
        {
          "output_type": "stream",
          "text": [
            "[1, 2]\n",
            "12\n"
          ],
          "name": "stdout"
        }
      ]
    },
    {
      "metadata": {
        "id": "P1WQE551Egvg",
        "colab_type": "code",
        "colab": {
          "base_uri": "https://localhost:8080/",
          "height": 35
        },
        "outputId": "3415eadf-1647-459c-8f59-19ca5c15b9a4"
      },
      "cell_type": "code",
      "source": [
        "# 중첩 리스트 슬라이싱\n",
        "\n",
        "a = [1, 2 ,3 ,['a', 'b', 'c'], 4, 5]\n",
        "\n",
        "print(a[3][:2])"
      ],
      "execution_count": 139,
      "outputs": [
        {
          "output_type": "stream",
          "text": [
            "['a', 'b']\n"
          ],
          "name": "stdout"
        }
      ]
    },
    {
      "metadata": {
        "id": "Qnp63PotFsCR",
        "colab_type": "code",
        "colab": {
          "base_uri": "https://localhost:8080/",
          "height": 53
        },
        "outputId": "a936cdf2-6ff6-4227-d4f7-e130b4fa2687"
      },
      "cell_type": "code",
      "source": [
        "# 리스트 연산\n",
        "\n",
        "a = [1, 2, 3]\n",
        "\n",
        "b = [4, ['a', 'b', 'c'], 5]\n",
        "\n",
        "print(a+b)\n",
        "\n",
        "# print(a[1] + 'hi')\n",
        "# 타입 다르며 에러발상\n",
        "\n",
        "print(str(a[2]) + 'hi')"
      ],
      "execution_count": 182,
      "outputs": [
        {
          "output_type": "stream",
          "text": [
            "[1, 2, 3, 4, ['a', 'b', 'c'], 5]\n",
            "3hi\n"
          ],
          "name": "stdout"
        }
      ]
    },
    {
      "metadata": {
        "id": "3gPwNvcYF_Mc",
        "colab_type": "code",
        "colab": {
          "base_uri": "https://localhost:8080/",
          "height": 35
        },
        "outputId": "10c189ff-7aec-49af-8109-7d814b0065e5"
      },
      "cell_type": "code",
      "source": [
        "# 리스트 반복(*)\n",
        "\n",
        "a * 3"
      ],
      "execution_count": 183,
      "outputs": [
        {
          "output_type": "execute_result",
          "data": {
            "text/plain": [
              "[1, 2, 3, 1, 2, 3, 1, 2, 3]"
            ]
          },
          "metadata": {
            "tags": []
          },
          "execution_count": 183
        }
      ]
    },
    {
      "metadata": {
        "id": "6bjU4sW-GPbr",
        "colab_type": "code",
        "colab": {
          "base_uri": "https://localhost:8080/",
          "height": 53
        },
        "outputId": "b000148a-1098-4383-db72-be0bf88556b2"
      },
      "cell_type": "code",
      "source": [
        "# 리스트 내의 인덱스 변경\n",
        "\n",
        "a = [1, 2, 3, 4]\n",
        "\n",
        "# print(a[2] = [5, 4, 3, 2, 1])\n",
        "a[2] = [5, 4, 3, 2, 1]\n",
        "\n",
        "print(a)\n",
        "\n",
        "a[3] = 6\n",
        "\n",
        "print(a)\n",
        "\n",
        "# 인덱스 변경시 a[] = []로 변경시키면 리스트로 변경되어 입력됨\n",
        "# 단순 인덱스를 인덱스로 변경시키려면 a[] = 요소 로 입력"
      ],
      "execution_count": 302,
      "outputs": [
        {
          "output_type": "stream",
          "text": [
            "[1, 2, [5, 4, 3, 2, 1], 4]\n",
            "[1, 2, [5, 4, 3, 2, 1], 6]\n"
          ],
          "name": "stdout"
        }
      ]
    },
    {
      "metadata": {
        "id": "gtjTU-wfHbvU",
        "colab_type": "code",
        "colab": {
          "base_uri": "https://localhost:8080/",
          "height": 71
        },
        "outputId": "787ebe3d-8f1b-407d-9ccb-85509407741f"
      },
      "cell_type": "code",
      "source": [
        "# 리스트내의 연속된 인덱스 수정\n",
        "# # 주의점 새로운 셀에서 다시 변수선언 하지 않고 연속된 인덱스 수정시\n",
        "# 중복 실행하면 결과 값이 변함으로 반듯이 한번만!!!\n",
        "\n",
        "print(a[1:2])\n",
        "\n",
        "# print(a[1:2] = ['a', 'b', 'c'])\n",
        "a[1:2] = ['a', 'b', 'c']\n",
        "\n",
        "print(a)\n",
        "\n",
        "# a[1:2] = [][1, 2, 3, 4]\n",
        "a[1:2] = [[1, 2, 3, 4]]\n",
        "# 인덱스 안의 리스트 집어넣을땐 [][]를 이용하면 에러발생 [[]]기능 사용\n",
        "\n",
        "print(a)\n",
        "\n",
        "# 리스트 내의 인덱스 수정시 수정 수식을 print() 안에 넣고 사용하면 작동안됨\n",
        "# 수정후에 print()수식 가능"
      ],
      "execution_count": 303,
      "outputs": [
        {
          "output_type": "stream",
          "text": [
            "[2]\n",
            "[1, 'a', 'b', 'c', [5, 4, 3, 2, 1], 6]\n",
            "[1, [1, 2, 3, 4], 'b', 'c', [5, 4, 3, 2, 1], 6]\n"
          ],
          "name": "stdout"
        }
      ]
    },
    {
      "metadata": {
        "id": "bqsLNktJKedG",
        "colab_type": "code",
        "colab": {
          "base_uri": "https://localhost:8080/",
          "height": 35
        },
        "outputId": "29d0a5dc-c5d1-4e7f-fb79-b02e15df5020"
      },
      "cell_type": "code",
      "source": [
        "# 리스트내의 인덱스 삭제 방법\n",
        "\n",
        "a[1:3] = []\n",
        "\n",
        "print(a)"
      ],
      "execution_count": 304,
      "outputs": [
        {
          "output_type": "stream",
          "text": [
            "[1, 'c', [5, 4, 3, 2, 1], 6]\n"
          ],
          "name": "stdout"
        }
      ]
    },
    {
      "metadata": {
        "id": "vKZtzjRlQasF",
        "colab_type": "code",
        "colab": {
          "base_uri": "https://localhost:8080/",
          "height": 53
        },
        "outputId": "b58cd33b-4ced-46d5-d51c-766c5b4edda4"
      },
      "cell_type": "code",
      "source": [
        "# del 함수를 사용하여 인덱스 수정\n",
        "\n",
        "del a[2]\n",
        "# del.a[1]\n",
        "# dela[1]\n",
        "# a.del(1)\n",
        "# a.del[1]\n",
        "# a.del(\"1\")\n",
        "# a[1].del\n",
        "\n",
        "print(a)\n",
        "\n",
        "# del 함수 이용시 띄어쓰기로 분류 해줘야 가능\n",
        "# del 객체\n",
        "# find 함수같은 방식으로 작동 안됨\n",
        "\n",
        "del a[1:3]\n",
        "\n",
        "print(a)\n",
        "\n",
        "# 인덱스 슬라이싱(범위설정) 하여 제거 가능"
      ],
      "execution_count": 305,
      "outputs": [
        {
          "output_type": "stream",
          "text": [
            "[1, 'c', 6]\n",
            "[1]\n"
          ],
          "name": "stdout"
        }
      ]
    },
    {
      "metadata": {
        "id": "PnlqgLaVS4sZ",
        "colab_type": "code",
        "colab": {
          "base_uri": "https://localhost:8080/",
          "height": 53
        },
        "outputId": "07e1e3ee-5f37-40a3-a4af-1e324418692e"
      },
      "cell_type": "code",
      "source": [
        "# 리스트에 요소 추가(append)\n",
        "\n",
        "a = [1, 2, 3, 4, 5]\n",
        "\n",
        "# print(a.append(4))\n",
        "a.append(4)\n",
        "\n",
        "print(a)\n",
        "\n",
        "# print(a.index(4))\n",
        "\n",
        "a.append([3, 2, 1])\n",
        "\n",
        "print(a)"
      ],
      "execution_count": 306,
      "outputs": [
        {
          "output_type": "stream",
          "text": [
            "[1, 2, 3, 4, 5, 4]\n",
            "[1, 2, 3, 4, 5, 4, [3, 2, 1]]\n"
          ],
          "name": "stdout"
        }
      ]
    },
    {
      "metadata": {
        "id": "Ya3tPeClYMSc",
        "colab_type": "code",
        "colab": {
          "base_uri": "https://localhost:8080/",
          "height": 35
        },
        "outputId": "1526ce59-5519-453c-8f38-3dd89699eb2e"
      },
      "cell_type": "code",
      "source": [
        "# 리스트 정령(sort)\n",
        "\n",
        "a = [1, 5, 3, 2, 4]\n",
        "\n",
        "a.sort()\n",
        "\n",
        "a"
      ],
      "execution_count": 307,
      "outputs": [
        {
          "output_type": "execute_result",
          "data": {
            "text/plain": [
              "[1, 2, 3, 4, 5]"
            ]
          },
          "metadata": {
            "tags": []
          },
          "execution_count": 307
        }
      ]
    },
    {
      "metadata": {
        "id": "fcm-BmyiYn2q",
        "colab_type": "code",
        "colab": {
          "base_uri": "https://localhost:8080/",
          "height": 35
        },
        "outputId": "3b167749-6fa0-4b40-d0ad-e991d9ffe9e9"
      },
      "cell_type": "code",
      "source": [
        "# 리스트 뒤집기(reverse)\n",
        "\n",
        "a = ['a', 'c', 'e']\n",
        "\n",
        "a.reverse()\n",
        "\n",
        "a"
      ],
      "execution_count": 228,
      "outputs": [
        {
          "output_type": "execute_result",
          "data": {
            "text/plain": [
              "['e', 'c', 'a']"
            ]
          },
          "metadata": {
            "tags": []
          },
          "execution_count": 228
        }
      ]
    },
    {
      "metadata": {
        "id": "M-gvLV_uZk4d",
        "colab_type": "code",
        "colab": {
          "base_uri": "https://localhost:8080/",
          "height": 53
        },
        "outputId": "bec6cb9b-cc80-460a-bff6-0dcd34efd106"
      },
      "cell_type": "code",
      "source": [
        "# 위치 반환(index)\n",
        "# 요소의 인덱스 확인\n",
        "\n",
        "a = [1, 2, 3, 4, 2]\n",
        "\n",
        "# a.index(2, [1, 4])\n",
        "# print(a.index(2, [1, [4]]))\n",
        "print(a.index(2))\n",
        "\n",
        "# print(a.index(5))\n",
        "# 없는 요소의 인덱스는 확인 안됨\n",
        "\n",
        "b = [4, 1, 6, 2, 3, 5]\n",
        "\n",
        "print(b.index(3))"
      ],
      "execution_count": 245,
      "outputs": [
        {
          "output_type": "stream",
          "text": [
            "1\n",
            "4\n"
          ],
          "name": "stdout"
        }
      ]
    },
    {
      "metadata": {
        "id": "s-0796raoqKJ",
        "colab_type": "code",
        "colab": {
          "base_uri": "https://localhost:8080/",
          "height": 71
        },
        "outputId": "ad165593-fd31-40d5-fb44-653569e74438"
      },
      "cell_type": "code",
      "source": [
        "# 리스트에 요소 삽입(insert)\n",
        "\n",
        "a = [1, 2 ,3]\n",
        "\n",
        "a.insert(0, 4)\n",
        "\n",
        "print(a)\n",
        "\n",
        "a.insert(1, 3)\n",
        "\n",
        "print(a)\n",
        "\n",
        "a.insert(2, [2])\n",
        "\n",
        "print(a)"
      ],
      "execution_count": 293,
      "outputs": [
        {
          "output_type": "stream",
          "text": [
            "[4, 1, 2, 3]\n",
            "[4, 3, 1, 2, 3]\n",
            "[4, 3, [2], 1, 2, 3]\n"
          ],
          "name": "stdout"
        }
      ]
    },
    {
      "metadata": {
        "id": "p9ZK-tY_pa_v",
        "colab_type": "code",
        "colab": {
          "base_uri": "https://localhost:8080/",
          "height": 53
        },
        "outputId": "5d4303f4-746c-442b-92db-8445b1c843bf"
      },
      "cell_type": "code",
      "source": [
        "# 리스트 요소 제거(remove)\n",
        "\n",
        "a = [1, 2, 3, [4], 5, 6]\n",
        "\n",
        "a.remove(2)\n",
        "\n",
        "print(a)\n",
        "\n",
        "# a.remove(4)\n",
        "a.remove([4])\n",
        "# 리스트 안의 리스트는 []넣어주어 선택해줘야 제거가 됨\n",
        "\n",
        "print(a)"
      ],
      "execution_count": 297,
      "outputs": [
        {
          "output_type": "stream",
          "text": [
            "[1, 3, [4], 5, 6]\n",
            "[1, 3, 5, 6]\n"
          ],
          "name": "stdout"
        }
      ]
    },
    {
      "metadata": {
        "id": "Ydsg0h0fc-qZ",
        "colab_type": "code",
        "colab": {
          "base_uri": "https://localhost:8080/",
          "height": 35
        },
        "outputId": "2a78c5f2-5d56-4008-ab31-e1c08f87864f"
      },
      "cell_type": "code",
      "source": [
        "# 리스트 요소 끄집어내기(pop)\n",
        "\n",
        "a = [1, 2, 3, 4, 5, 4, 3, 2, 1]\n",
        "\n",
        "a.pop()\n",
        "\n",
        "a\n",
        "\n",
        "# 아무 인덱스도 집어 넣지 않을시 마지막 인덱스만 제거한다"
      ],
      "execution_count": 246,
      "outputs": [
        {
          "output_type": "execute_result",
          "data": {
            "text/plain": [
              "[1, 2, 3, 4, 5, 4, 3, 2]"
            ]
          },
          "metadata": {
            "tags": []
          },
          "execution_count": 246
        }
      ]
    },
    {
      "metadata": {
        "id": "nyu7eelueVVA",
        "colab_type": "code",
        "colab": {
          "base_uri": "https://localhost:8080/",
          "height": 35
        },
        "outputId": "20fbcb54-a290-409a-8b3c-5d1e76317383"
      },
      "cell_type": "code",
      "source": [
        "# 인덱스 집어넣을을 때\n",
        "\n",
        "a = [1, 2, 3, 4, 5, 4, 3, 2, 1]\n",
        "\n",
        "a.pop(3)\n",
        "\n",
        "a"
      ],
      "execution_count": 285,
      "outputs": [
        {
          "output_type": "execute_result",
          "data": {
            "text/plain": [
              "[1, 2, 3, 5, 4, 3, 2, 1]"
            ]
          },
          "metadata": {
            "tags": []
          },
          "execution_count": 285
        }
      ]
    },
    {
      "metadata": {
        "id": "xWuZ8NYYhMIW",
        "colab_type": "code",
        "colab": {
          "base_uri": "https://localhost:8080/",
          "height": 107
        },
        "outputId": "7ca79051-8344-44d7-ff5f-c0a820f7d03e"
      },
      "cell_type": "code",
      "source": [
        "# 인덱스 범위 집어넣을 때\n",
        "\n",
        "a = [1, 2, 3, 4, 5, 4, 3, 2, 1]\n",
        "\n",
        "# a.pop[:2]\n",
        "\n",
        "# print(a)\n",
        "\n",
        "# a.pop([1:])\n",
        "\n",
        "# print(a)\n",
        "\n",
        "a[0:5].pop(2)\n",
        "b = a[0:5].pop(2)\n",
        "# b = a[0:5].copy()\n",
        "# b = a.copy()\n",
        "\n",
        "c = a[0:5]\n",
        "\n",
        "print(a)\n",
        "print(b)\n",
        "print(c)\n",
        "a.pop(4)\n",
        "print(a)\n",
        "print(b)\n",
        "\n",
        "# pop 만을 이용한 범위 인덱스 범위 정하여 제거는 안됨"
      ],
      "execution_count": 281,
      "outputs": [
        {
          "output_type": "stream",
          "text": [
            "[1, 2, 3, 4, 5, 4, 3, 2, 1]\n",
            "3\n",
            "[1, 2, 3, 4, 5]\n",
            "[1, 2, 3, 4, 4, 3, 2, 1]\n",
            "3\n"
          ],
          "name": "stdout"
        }
      ]
    },
    {
      "metadata": {
        "id": "z-pPXD1xnymq",
        "colab_type": "code",
        "colab": {}
      },
      "cell_type": "code",
      "source": [
        "# remove 와 pop 과 del의 차이\n",
        "# remove는 요소만 삭제\n",
        "# pop은 해당 인덱스의 요소를 삭제하고 요소를 리턴받음\n",
        "# del은 해당 인덱스의 삭제"
      ],
      "execution_count": 0,
      "outputs": []
    },
    {
      "metadata": {
        "id": "OUsudGy0dq3_",
        "colab_type": "code",
        "colab": {
          "base_uri": "https://localhost:8080/",
          "height": 35
        },
        "outputId": "b53d047e-f414-4bb2-ef31-69de017f16df"
      },
      "cell_type": "code",
      "source": [
        "# 리스트에 포함된 특정 요소 개수 세기(count)\n",
        "\n",
        "a = [1, 2, 3, 4, 5, 4, 3, 2, 1]\n",
        "\n",
        "a.count(4)"
      ],
      "execution_count": 283,
      "outputs": [
        {
          "output_type": "execute_result",
          "data": {
            "text/plain": [
              "2"
            ]
          },
          "metadata": {
            "tags": []
          },
          "execution_count": 283
        }
      ]
    },
    {
      "metadata": {
        "id": "W4xEJahcnJCP",
        "colab_type": "code",
        "colab": {
          "base_uri": "https://localhost:8080/",
          "height": 53
        },
        "outputId": "12548ae2-3298-4846-8ed2-b435831801d3"
      },
      "cell_type": "code",
      "source": [
        "# 리스트 확장(extend)\n",
        "\n",
        "a = [1, 2, 3]\n",
        "\n",
        "a.extend([4, 5])\n",
        "\n",
        "print(a)\n",
        "\n",
        "a.extend([[2, 3]])\n",
        "\n",
        "print(a)"
      ],
      "execution_count": 308,
      "outputs": [
        {
          "output_type": "stream",
          "text": [
            "[1, 2, 3, 4, 5]\n",
            "[1, 2, 3, 4, 5, [2, 3]]\n"
          ],
          "name": "stdout"
        }
      ]
    },
    {
      "metadata": {
        "id": "VscrQstisJ1U",
        "colab_type": "code",
        "colab": {
          "base_uri": "https://localhost:8080/",
          "height": 89
        },
        "outputId": "fc43b8fd-a784-4399-82de-e6a78be8ac67"
      },
      "cell_type": "code",
      "source": [
        "# 연습문제\n",
        "\n",
        "# 리스트 인덱싱\n",
        "\n",
        "a = ['Life', 'is', 'too', 'short', 'you', 'need', 'pytion']\n",
        "\n",
        "print(a[4], a[2])\n",
        "\n",
        "# 리스트 조인\n",
        "\n",
        "b = ['Life', 'is', 'too', 'short']\n",
        "\n",
        "print(b[0] + b[1] + b[2] + b[3])\n",
        "print(b[0], b[1], b[2], b[3])\n",
        "\n",
        "# 리스트의 갯수\n",
        "\n",
        "c = [1, 2, 3]\n",
        "\n",
        "# c.len()\n",
        "len(c)"
      ],
      "execution_count": 319,
      "outputs": [
        {
          "output_type": "stream",
          "text": [
            "you too\n",
            "Lifeistooshort\n",
            "Life is too short\n"
          ],
          "name": "stdout"
        },
        {
          "output_type": "execute_result",
          "data": {
            "text/plain": [
              "3"
            ]
          },
          "metadata": {
            "tags": []
          },
          "execution_count": 319
        }
      ]
    },
    {
      "metadata": {
        "id": "A9Yydm_KxY2C",
        "colab_type": "code",
        "colab": {
          "base_uri": "https://localhost:8080/",
          "height": 35
        },
        "outputId": "ceb0b4eb-7182-4a2f-8ba0-68a4849dccca"
      },
      "cell_type": "code",
      "source": [
        "print(' '.join(b))"
      ],
      "execution_count": 323,
      "outputs": [
        {
          "output_type": "stream",
          "text": [
            "Life is too short\n"
          ],
          "name": "stdout"
        }
      ]
    }
  ]
}