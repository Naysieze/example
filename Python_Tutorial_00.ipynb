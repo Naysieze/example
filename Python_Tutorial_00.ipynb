{
  "nbformat": 4,
  "nbformat_minor": 0,
  "metadata": {
    "colab": {
      "name": "Python_Tutorial_00.ipynb",
      "version": "0.3.2",
      "provenance": [],
      "collapsed_sections": [],
      "include_colab_link": true
    },
    "kernelspec": {
      "name": "python3",
      "display_name": "Python 3"
    }
  },
  "cells": [
    {
      "cell_type": "markdown",
      "metadata": {
        "id": "view-in-github",
        "colab_type": "text"
      },
      "source": [
        "[View in Colaboratory](https://colab.research.google.com/github/Naysieze/example/blob/master/Python_Tutorial_00.ipynb)"
      ]
    },
    {
      "metadata": {
        "id": "XP21j7VPC2LE",
        "colab_type": "text"
      },
      "cell_type": "markdown",
      "source": [
        "# Python Tutorial 00\n",
        "\n",
        "작성자 : 이희성 <br>\n",
        "작성일 :\n",
        "\n",
        "이 연습 파일은 [점프 투 파이썬](https://wikidocs.net/)을 공부하며 작성하였습니다.\n"
      ]
    },
    {
      "metadata": {
        "id": "Hw-3qoJlHI4V",
        "colab_type": "text"
      },
      "cell_type": "markdown",
      "source": [
        "## 02 -1 숫자형"
      ]
    },
    {
      "metadata": {
        "id": "EQ-HjiKTd1J7",
        "colab_type": "text"
      },
      "cell_type": "markdown",
      "source": [
        "###실수형"
      ]
    },
    {
      "metadata": {
        "id": "BZcP30OgHh4h",
        "colab_type": "code",
        "colab": {
          "base_uri": "https://localhost:8080/",
          "height": 53
        },
        "outputId": "9940f4c4-4248-4540-d8c5-59fab93a7450"
      },
      "cell_type": "code",
      "source": [
        "# 실수형 예제\n",
        "\n",
        "a = 4.24E10\n",
        "print(a)\n",
        "\n",
        "b = 4.24e-10\n",
        "print(b)"
      ],
      "execution_count": 0,
      "outputs": [
        {
          "output_type": "stream",
          "text": [
            "42400000000.0\n",
            "4.24e-10\n"
          ],
          "name": "stdout"
        }
      ]
    },
    {
      "metadata": {
        "id": "RHxcD-MqO5VR",
        "colab_type": "text"
      },
      "cell_type": "markdown",
      "source": [
        "####의문\n",
        "b의 결과값이 수식 그대로 나옴"
      ]
    },
    {
      "metadata": {
        "id": "Js4nt1kTXbTS",
        "colab_type": "code",
        "colab": {
          "base_uri": "https://localhost:8080/",
          "height": 53
        },
        "outputId": "5bb5f434-7307-47fe-fb84-a12df3125009"
      },
      "cell_type": "code",
      "source": [
        "# 1.대소문자 차이 확인\n",
        "\n",
        "a = 4.24E-10\n",
        "print(a)\n",
        "\n",
        "b = 4.24e-10\n",
        "print(b)"
      ],
      "execution_count": 0,
      "outputs": [
        {
          "output_type": "stream",
          "text": [
            "4.24e-10\n",
            "4.24e-10\n"
          ],
          "name": "stdout"
        }
      ]
    },
    {
      "metadata": {
        "id": "5-zpstuGXsbc",
        "colab_type": "code",
        "colab": {
          "base_uri": "https://localhost:8080/",
          "height": 125
        },
        "outputId": "747eb051-c4ec-46b8-8eab-b721bc556fb1"
      },
      "cell_type": "code",
      "source": [
        "# 차이가 없음을 확인\n",
        "\n",
        "# 2.수식내의 수치 변경\n",
        "\n",
        "a = 2e-2\n",
        "print(a)\n",
        "\n",
        "b = 3.4e-5\n",
        "print(b)\n",
        "\n",
        "c = 3e-2\n",
        "print(c)\n",
        "\n",
        "d = 2.5e-5\n",
        "print(d)\n",
        "\n",
        "e = 2e-5\n",
        "print(e)\n",
        "\n",
        "f = 4.6e-2\n",
        "print(f)"
      ],
      "execution_count": 0,
      "outputs": [
        {
          "output_type": "stream",
          "text": [
            "0.02\n",
            "3.4e-05\n",
            "0.03\n",
            "2.5e-05\n",
            "2e-05\n",
            "0.046\n"
          ],
          "name": "stdout"
        }
      ]
    },
    {
      "metadata": {
        "id": "qx9piLX5X4g7",
        "colab_type": "code",
        "colab": {
          "base_uri": "https://localhost:8080/",
          "height": 377
        },
        "outputId": "cf684d1b-1f28-47c8-f1e6-894011c4e9df"
      },
      "cell_type": "code",
      "source": [
        "# 뒤에 들어가는 숫자중 2가 들어가는 경우만 정상작동 5는 수식 그대로 출력\n",
        "\n",
        "# 3.뒷에 들어가는 숫자중 작동 되는 숫자 확인\n",
        "\n",
        "a = 2.5e-1\n",
        "print(a)\n",
        "\n",
        "b = 2.5e-2\n",
        "print(b)\n",
        "\n",
        "c = 2.5e-3\n",
        "print(c)\n",
        "\n",
        "d = 2.5e-4\n",
        "print(d)\n",
        "\n",
        "e = 2.5e-5\n",
        "print(e)\n",
        "\n",
        "f = 2.5e-6\n",
        "print(f)\n",
        "\n",
        "g = 2.5e-7\n",
        "print(g)\n",
        "\n",
        "h = 2.5e-8\n",
        "print(h)\n",
        "\n",
        "i = 2.5e-9\n",
        "print(i)\n",
        "\n",
        "j = 2.5e-10\n",
        "print(j)\n",
        "\n",
        "k = 2.5e-11\n",
        "print(k)\n",
        "\n",
        "l = 2.5e-12\n",
        "print(l)\n",
        "\n",
        "m = 2.5e-13\n",
        "print(m)\n",
        "\n",
        "n = 2.5e-14\n",
        "print(n)\n",
        "\n",
        "o = 2.5e-15\n",
        "print(o)\n",
        "\n",
        "p = 2.5e-16\n",
        "print(p)\n",
        "\n",
        "q = 2.5e-17\n",
        "print(q)\n",
        "\n",
        "r = 2.5e-18\n",
        "print(r)\n",
        "\n",
        "s = 2.5e-19\n",
        "print(s)\n",
        "\n",
        "t = 2.5e-20\n",
        "print(t)"
      ],
      "execution_count": 0,
      "outputs": [
        {
          "output_type": "stream",
          "text": [
            "0.25\n",
            "0.025\n",
            "0.0025\n",
            "0.00025\n",
            "2.5e-05\n",
            "2.5e-06\n",
            "2.5e-07\n",
            "2.5e-08\n",
            "2.5e-09\n",
            "2.5e-10\n",
            "2.5e-11\n",
            "2.5e-12\n",
            "2.5e-13\n",
            "2.5e-14\n",
            "2.5e-15\n",
            "2.5e-16\n",
            "2.5e-17\n",
            "2.5e-18\n",
            "2.5e-19\n",
            "2.5e-20\n"
          ],
          "name": "stdout"
        }
      ]
    },
    {
      "metadata": {
        "id": "_GKhscLvbV1t",
        "colab_type": "code",
        "colab": {
          "base_uri": "https://localhost:8080/",
          "height": 377
        },
        "outputId": "77fa5379-8545-42ed-e94a-141fb182216d"
      },
      "cell_type": "code",
      "source": [
        "# -5 이하의 값은 계산되지 않음\n",
        "\n",
        "# 4.양수도 마찬가지인지 확인\n",
        "\n",
        "a = 2.5e1\n",
        "print(a)\n",
        "\n",
        "b = 2.5e2\n",
        "print(b)\n",
        "\n",
        "c = 2.5e3\n",
        "print(c)\n",
        "\n",
        "d = 2.5e4\n",
        "print(d)\n",
        "\n",
        "e = 2.5e5\n",
        "print(e)\n",
        "\n",
        "f = 2.5e6\n",
        "print(f)\n",
        "\n",
        "g = 2.5e7\n",
        "print(g)\n",
        "\n",
        "h = 2.5e8\n",
        "print(h)\n",
        "\n",
        "i = 2.5e9\n",
        "print(i)\n",
        "\n",
        "j = 2.5e10\n",
        "print(j)\n",
        "\n",
        "k = 2.5e11\n",
        "print(k)\n",
        "\n",
        "l = 2.5e12\n",
        "print(l)\n",
        "\n",
        "m = 2.5e13\n",
        "print(m)\n",
        "\n",
        "n = 2.5e14\n",
        "print(n)\n",
        "\n",
        "o = 2.5e15\n",
        "print(o)\n",
        "\n",
        "p = 2.5e16\n",
        "print(p)\n",
        "\n",
        "q = 2.5e17\n",
        "print(q)\n",
        "\n",
        "r = 2.5e18\n",
        "print(r)\n",
        "\n",
        "s = 2.5e19\n",
        "print(s)\n",
        "\n",
        "t = 2.5e20\n",
        "print(t)"
      ],
      "execution_count": 0,
      "outputs": [
        {
          "output_type": "stream",
          "text": [
            "25.0\n",
            "250.0\n",
            "2500.0\n",
            "25000.0\n",
            "250000.0\n",
            "2500000.0\n",
            "25000000.0\n",
            "250000000.0\n",
            "2500000000.0\n",
            "25000000000.0\n",
            "250000000000.0\n",
            "2500000000000.0\n",
            "25000000000000.0\n",
            "250000000000000.0\n",
            "2500000000000000.0\n",
            "2.5e+16\n",
            "2.5e+17\n",
            "2.5e+18\n",
            "2.5e+19\n",
            "2.5e+20\n"
          ],
          "name": "stdout"
        }
      ]
    },
    {
      "metadata": {
        "id": "7gsOiQpNbzWF",
        "colab_type": "code",
        "colab": {}
      },
      "cell_type": "code",
      "source": [
        "# 양수를 넣으면 16이상은 계산결과 값이 수치로 나오지 않음"
      ],
      "execution_count": 0,
      "outputs": []
    },
    {
      "metadata": {
        "id": "unKbABGec2-4",
        "colab_type": "text"
      },
      "cell_type": "markdown",
      "source": [
        "#####결론\n",
        "*실수형은 10의 배수를 제곱하는 것\n",
        "\n",
        "*양수를 제곱할시 10까지만 출력가능 16이상은 수식으로 출력\n",
        "\n",
        "*음수를 제곱할시 -4까지만 출력가능  -5 이하는 수식으로 출력"
      ]
    },
    {
      "metadata": {
        "id": "Xcb02rB0doo-",
        "colab_type": "text"
      },
      "cell_type": "markdown",
      "source": [
        "###8진수와 16진수"
      ]
    },
    {
      "metadata": {
        "id": "PvnfNPWaeZMv",
        "colab_type": "code",
        "colab": {
          "base_uri": "https://localhost:8080/",
          "height": 71
        },
        "outputId": "3f3309ea-245b-4d04-8444-1d22f0e0bdaa"
      },
      "cell_type": "code",
      "source": [
        "# 8진수와 16진수 예제\n",
        "\n",
        "# # 8진수 예제\n",
        "\n",
        "a = 0o177\n",
        "print(a)\n",
        "\n",
        "# # 16진수 예제\n",
        "\n",
        "b = 0x8ff\n",
        "print(b)\n",
        "\n",
        "c = 0xABC\n",
        "print(c)"
      ],
      "execution_count": 0,
      "outputs": [
        {
          "output_type": "stream",
          "text": [
            "127\n",
            "2303\n",
            "2748\n"
          ],
          "name": "stdout"
        }
      ]
    },
    {
      "metadata": {
        "id": "VfwjBLTLfTGb",
        "colab_type": "text"
      },
      "cell_type": "markdown",
      "source": [
        "#### 8진수와 16진수에 대한 정보 부족\n",
        "다양한 시도 불가"
      ]
    },
    {
      "metadata": {
        "id": "_YhprxIdfyLy",
        "colab_type": "text"
      },
      "cell_type": "markdown",
      "source": [
        "###사칙연산"
      ]
    },
    {
      "metadata": {
        "id": "9iTPOSscgEKW",
        "colab_type": "code",
        "colab": {
          "base_uri": "https://localhost:8080/",
          "height": 197
        },
        "outputId": "a3c3bffa-d3f8-49d8-adf7-c8850fa7aaee"
      },
      "cell_type": "code",
      "source": [
        "# 사칙연산 예제\n",
        "\n",
        "a = 3\n",
        "b = 4\n",
        "\n",
        "c = a + b\n",
        "print(c)\n",
        "# 결과값 7\n",
        "\n",
        "d = a * b\n",
        "print(d)\n",
        "# 결과값 12\n",
        "\n",
        "e = a / b\n",
        "print(e)\n",
        "# 결과값 0.75 '책의 설명에는 정수로 나눌시 소수점은 버림'\n",
        "\n",
        "f = a / (b*1.0)\n",
        "print(f)\n",
        "# 결과값 0.75의 결과값을 그대로 출력할시 강제로 한가지 수를 소수점화 시키면된다\n",
        "\n",
        "g = a ** b\n",
        "print(g)\n",
        "# 결과값 81\n",
        "\n",
        "h = 7 % 3\n",
        "print(h)\n",
        "\n",
        "i = 3 % 7\n",
        "print(i)\n",
        "# 결과값 h = 1, i = 3 '나눗셈을 하고 나눠지지 않은 나머지값을 남긴다'\n",
        "\n",
        "j = 7 / (4*1.0)\n",
        "print(j)\n",
        "\n",
        "k = 7 // 4\n",
        "print(k)\n",
        "\n",
        "l = -7 // 4\n",
        "print(l)\n",
        "# 결과값 j = 1.75, k = 1, l = -2 'k에 쓰인 // 명령어는 나눈값의 소수점 아래값을 반환'\n",
        "# //의 결과 값이 음수인경우는 더욱 낮은 수로 출력이 된다"
      ],
      "execution_count": 19,
      "outputs": [
        {
          "output_type": "stream",
          "text": [
            "7\n",
            "12\n",
            "0.75\n",
            "0.75\n",
            "81\n",
            "1\n",
            "3\n",
            "1.75\n",
            "1\n",
            "-2\n"
          ],
          "name": "stdout"
        }
      ]
    },
    {
      "metadata": {
        "id": "7ZcwB6wsg6zz",
        "colab_type": "text"
      },
      "cell_type": "markdown",
      "source": [
        "####의문\n",
        "1. e의 결과값에 책의 설명이 맞는가\n",
        "\n",
        "2. l의 실제 값이 -2에 근사값이여서 -2가 출력이 되는가 -1에 가까우면 -1이 출력이 되는가"
      ]
    },
    {
      "metadata": {
        "id": "DuHMYK8_hgkq",
        "colab_type": "code",
        "colab": {
          "base_uri": "https://localhost:8080/",
          "height": 89
        },
        "outputId": "e20fdf02-424f-437b-9dcc-8d58f872e65b"
      },
      "cell_type": "code",
      "source": [
        "# 나눗셈 정수 계산 테스트\n",
        "\n",
        "a = 1\n",
        "b = 2\n",
        "c = 3\n",
        "d = 4\n",
        "e = 5\n",
        "\n",
        "f = e / a\n",
        "print(f)\n",
        "\n",
        "g = e / b\n",
        "print(g)\n",
        "\n",
        "h = e / c\n",
        "print(h)\n",
        "\n",
        "i = e / d\n",
        "print(i)"
      ],
      "execution_count": 18,
      "outputs": [
        {
          "output_type": "stream",
          "text": [
            "5.0\n",
            "2.5\n",
            "1.6666666666666667\n",
            "1.25\n"
          ],
          "name": "stdout"
        }
      ]
    },
    {
      "metadata": {
        "id": "-rh2xpLHjkNp",
        "colab_type": "code",
        "colab": {
          "base_uri": "https://localhost:8080/",
          "height": 71
        },
        "outputId": "06d1458f-02e4-4660-d8b8-f15122318418"
      },
      "cell_type": "code",
      "source": [
        "# 소수점 이하는 자동생성(2.7버전만 소수점 이하 버려짐)\n",
        "\n",
        "# 소수점 나누기 테스트\n",
        "\n",
        "a = 1.1 / 2.3\n",
        "print(a)\n",
        "\n",
        "b = 3 / 4.2\n",
        "print(b)\n",
        "\n",
        "c = 6.1 / 3\n",
        "print(c)"
      ],
      "execution_count": 17,
      "outputs": [
        {
          "output_type": "stream",
          "text": [
            "0.47826086956521746\n",
            "0.7142857142857143\n",
            "2.033333333333333\n"
          ],
          "name": "stdout"
        }
      ]
    },
    {
      "metadata": {
        "id": "ueTL6QoanKne",
        "colab_type": "code",
        "colab": {
          "base_uri": "https://localhost:8080/",
          "height": 71
        },
        "outputId": "3140e71c-7b89-4bb5-eab6-7d4c51a2453c"
      },
      "cell_type": "code",
      "source": [
        "# 정수와 정수를 나눌때 나오는 값에 버려지는 소수점들은 정말 버려지는가\n",
        "\n",
        "# 정수와 정수를 소수점이 나오게 나눈값을 다른 수들과 다른계산을 하여 테스트\n",
        "\n",
        "a = 5 / 3\n",
        "\n",
        "b = a + 1.5\n",
        "print(b)\n",
        "\n",
        "c = a * 3\n",
        "print(c)\n",
        "\n",
        "e = a / 2\n",
        "print(e)"
      ],
      "execution_count": 0,
      "outputs": [
        {
          "output_type": "stream",
          "text": [
            "3.166666666666667\n",
            "5.0\n",
            "0.8333333333333334\n"
          ],
          "name": "stdout"
        }
      ]
    },
    {
      "metadata": {
        "id": "a1eepTaA2dSK",
        "colab_type": "code",
        "colab": {
          "base_uri": "https://localhost:8080/",
          "height": 125
        },
        "outputId": "f76688ff-f353-4430-a058-6c376de6fca7"
      },
      "cell_type": "code",
      "source": [
        "# // 연산의 소수점에 따른 수치변화 확인\n",
        "\n",
        "a = 7 // 4\n",
        "print(a)\n",
        "# 원래값 1.75\n",
        "\n",
        "b = 5 // 4\n",
        "print(b)\n",
        "# 원래값 1.25\n",
        "\n",
        "c = 3 // 2\n",
        "print(c)\n",
        "# 원래값 1.5\n",
        "\n",
        "d = -7 // 4\n",
        "print(d)\n",
        "# 원래값 -1.75\n",
        "\n",
        "e = -5 // 4\n",
        "print(e)\n",
        "# 원래값 -1.25\n",
        "\n",
        "f = -3 // 2\n",
        "print(f)\n",
        "# 원래값 -1.5"
      ],
      "execution_count": 20,
      "outputs": [
        {
          "output_type": "stream",
          "text": [
            "1\n",
            "1\n",
            "1\n",
            "-2\n",
            "-2\n",
            "-2\n"
          ],
          "name": "stdout"
        }
      ]
    },
    {
      "metadata": {
        "id": "w8j4bMK8lKnD",
        "colab_type": "text"
      },
      "cell_type": "markdown",
      "source": [
        "####결론\n",
        "의문 1 : 정수와 정수로 나눌때 소수점이 완전히 버려짐<br><br>\n",
        "    *소수점 결과가 필요한경우엔 필수적으로 하나의 정수라도 강제로 소수점 수로 변환 필요<br><br>\n",
        "의문 2 : 소수점의 수는 모두 올림하여 적용이 됨\n"
      ]
    },
    {
      "metadata": {
        "id": "FU__tvPolxQZ",
        "colab_type": "text"
      },
      "cell_type": "markdown",
      "source": [
        "##02-2 문자열"
      ]
    },
    {
      "metadata": {
        "id": "k7gr-JRvofRG",
        "colab_type": "code",
        "colab": {
          "base_uri": "https://localhost:8080/",
          "height": 161
        },
        "outputId": "d7a38998-10ce-4190-994d-3a60ab19d6e5"
      },
      "cell_type": "code",
      "source": [
        "# 문자열을 만들때 사용하는 '',  \"\",  '''''', \"\"\"\"\"\"의 차이를 알아보자\n",
        "\n",
        "print('ㅇ아른ㄷㅇ')\n",
        "print(\"ㅇㄹㄴㄷ\")\n",
        "print('''ㄴㄷㄺㅎ''')\n",
        "print(\"\"\"ㄴㄹㄷㄴ\"\"\")\n",
        "\n",
        "hi = 'sefds'\n",
        "print(hi)\n",
        "si = '''sefd'''\n",
        "print(si)\n",
        "ei = \"rgfd\"\n",
        "print(ei)\n",
        "io = \"\"\"ftfd\"\"\"\n",
        "print(io)\n",
        "# 책에선 분명 ''로 변수 선언 작업하면 에러 뜬다며"
      ],
      "execution_count": 79,
      "outputs": [
        {
          "output_type": "stream",
          "text": [
            "ㅇ아른ㄷㅇ\n",
            "ㅇㄹㄴㄷ\n",
            "ㄴㄷㄺㅎ\n",
            "ㄴㄹㄷㄴ\n",
            "sefds\n",
            "sefd\n",
            "rgfd\n",
            "ftfd\n"
          ],
          "name": "stdout"
        }
      ]
    },
    {
      "metadata": {
        "id": "4epW3OmOUGne",
        "colab_type": "code",
        "colab": {
          "base_uri": "https://localhost:8080/",
          "height": 269
        },
        "outputId": "0b0817da-57cd-4b4c-e475-d98b9ee7b5bd"
      },
      "cell_type": "code",
      "source": [
        "li = '책에선 된다며\\'실제론 안되내'\n",
        "print(li)\n",
        "\n",
        "lo = '책에선 안된다는대 실제론 되내'\n",
        "print(lo)\n",
        "\n",
        "kl = \"\\\"책에서 되는게\\\"해보니 안되내\"\n",
        "print(kl)\n",
        "\n",
        "ku = \"책에서 안되다며 실제로 되면 어찌합니까\"\n",
        "print(ku)\n",
        "# 파이썬 2버전에선 'lo'와 'ku'안됨\n",
        "\n",
        "mul = '''\n",
        "  efdse\n",
        "  sefds\n",
        "  efdsty\n",
        "  '''\n",
        "print(mul)\n",
        "\n",
        "dul = \"\"\"\n",
        "  grdfg\n",
        "  yjugfr\n",
        "  xfbre\n",
        "  \"\"\"\n",
        "print(dul)\n",
        "\n",
        "# er = '\n",
        "#   대체\n",
        "#   왜\n",
        "#   이런짓을\n",
        "#   '\n",
        "# print(er)\n",
        "# 위 명령어로 실행시 에러발생\n",
        "\n",
        "# ''는 문자열 출력\n",
        "# \"\"는 변수선언(a = \"\")\n",
        "\n",
        "# 책에서 되고 실제로 되는것\n",
        "# '''''', \"\"\"\"\"\"는 문자열이 여러줄일때 쓰임"
      ],
      "execution_count": 80,
      "outputs": [
        {
          "output_type": "stream",
          "text": [
            "책에선 된다며'실제론 안되내\n",
            "책에선 안된다는대 실제론 되내\n",
            "\"책에서 되는게\"해보니 안되내\n",
            "책에서 안되다며 실제로 되면 어찌합니까\n",
            "\n",
            "  efdse\n",
            "  sefds\n",
            "  efdsty\n",
            "  \n",
            "\n",
            "  grdfg\n",
            "  yjugfr\n",
            "  xfbre\n",
            "  \n"
          ],
          "name": "stdout"
        }
      ]
    },
    {
      "metadata": {
        "id": "88DvHkB90jQi",
        "colab_type": "code",
        "colab": {
          "base_uri": "https://localhost:8080/",
          "height": 35
        },
        "outputId": "35d8cee4-acc5-4559-85b8-1ef79e79a213"
      },
      "cell_type": "code",
      "source": [
        "food = \"Python's favorite food is perl\"\n",
        "food\n",
        "# sood = 'Python's favorite food is perl'\n",
        "# 영어에 줄여쓰기 위해 작은 따음표 사용시 문자열 오류 발생"
      ],
      "execution_count": 98,
      "outputs": [
        {
          "output_type": "execute_result",
          "data": {
            "text/plain": [
              "\"Python's favorite food is perl\""
            ]
          },
          "metadata": {
            "tags": []
          },
          "execution_count": 98
        }
      ]
    },
    {
      "metadata": {
        "id": "pqnjEfYmcVJI",
        "colab_type": "code",
        "colab": {
          "base_uri": "https://localhost:8080/",
          "height": 1025
        },
        "outputId": "b5c8934b-8204-4dd5-d608-8eb68bccbd9b"
      },
      "cell_type": "code",
      "source": [
        "# '''''', \"\"\"\"\"\" 와 문자열 갯수의 관계\n",
        "\n",
        "ui = '''\n",
        "     과연\n",
        "     몇줄\n",
        "     까지\n",
        "     가능\n",
        "     할까\n",
        "     '''\n",
        "print(ui)\n",
        "\n",
        "po = \"\"\"\n",
        "     따음표\n",
        "     갯수와\n",
        "     상관이\n",
        "     있는지\n",
        "     궁금하내\n",
        "     ㄷㄴㄷㄹ\n",
        "     ㅅ오\n",
        "     ㅇ소\n",
        "     ㅛㅑㅎ표\n",
        "     햔\n",
        "     ㅓㅕ쇼\n",
        "     ㄴㄱㅎ오횰8ㅑ7ㅓㅗㅀ웅ㄴㄳㄴ융ㅈㅎㅇ\n",
        "     ㄴ36고류ㅗㅗㅜ79ㅐ호ㅓㅡㅇㄳ458ㅅ345347ㄱㄹ혼ㄱ솔손ㄱㅇ손거ㅣㄴ닥소\n",
        "     ㄴ4ㄳㄴㅇㅎ\n",
        "     ㄴ4ㅅㅎ\n",
        "     345ㅇㄴㄹ홏ㄹ허\n",
        "     54\n",
        "     1\n",
        "     2\n",
        "     3\n",
        "     4\n",
        "     5\n",
        "     6\n",
        "     7\n",
        "     8\n",
        "     9\n",
        "     10\n",
        "     11\n",
        "     12\n",
        "     13\n",
        "     14\n",
        "     15\n",
        "     16\n",
        "     17\n",
        "     18\n",
        "     19\n",
        "     20\n",
        "     21\n",
        "     22\n",
        "     23\n",
        "     24\n",
        "     25\n",
        "     26\n",
        "     27\n",
        "     28\n",
        "     29\n",
        "     30\n",
        "     \"\"\"\n",
        "print(po)"
      ],
      "execution_count": 31,
      "outputs": [
        {
          "output_type": "stream",
          "text": [
            "\n",
            "     과연\n",
            "     몇줄\n",
            "     까지\n",
            "     가능\n",
            "     할까\n",
            "     \n",
            "\n",
            "     따음표\n",
            "     갯수와\n",
            "     상관이\n",
            "     있는지\n",
            "     궁금하내\n",
            "     ㄷㄴㄷㄹ\n",
            "     ㅅ오\n",
            "     ㅇ소\n",
            "     ㅛㅑㅎ표\n",
            "     햔\n",
            "     ㅓㅕ쇼\n",
            "     ㄴㄱㅎ오횰8ㅑ7ㅓㅗㅀ웅ㄴㄳㄴ융ㅈㅎㅇ\n",
            "     ㄴ36고류ㅗㅗㅜ79ㅐ호ㅓㅡㅇㄳ458ㅅ345347ㄱㄹ혼ㄱ솔손ㄱㅇ손거ㅣㄴ닥소\n",
            "     ㄴ4ㄳㄴㅇㅎ\n",
            "     ㄴ4ㅅㅎ\n",
            "     345ㅇㄴㄹ홏ㄹ허\n",
            "     54\n",
            "     1\n",
            "     2\n",
            "     3\n",
            "     4\n",
            "     5\n",
            "     6\n",
            "     7\n",
            "     8\n",
            "     9\n",
            "     10\n",
            "     11\n",
            "     12\n",
            "     13\n",
            "     14\n",
            "     15\n",
            "     16\n",
            "     17\n",
            "     18\n",
            "     19\n",
            "     20\n",
            "     21\n",
            "     22\n",
            "     23\n",
            "     24\n",
            "     25\n",
            "     26\n",
            "     27\n",
            "     28\n",
            "     29\n",
            "     30\n",
            "     \n"
          ],
          "name": "stdout"
        }
      ]
    },
    {
      "metadata": {
        "id": "Kda_IuVRim-z",
        "colab_type": "code",
        "colab": {
          "base_uri": "https://localhost:8080/",
          "height": 107
        },
        "outputId": "60545fbf-8b06-4d70-f49b-9be799611d96"
      },
      "cell_type": "code",
      "source": [
        "# 문자열로 사칙연산이 일부 가능\n",
        "\n",
        "a = '123'\n",
        "b = '321'\n",
        "\n",
        "# 문자열과 문자열 사칙연산\n",
        "\n",
        "print(a + b)\n",
        "# print(a * b)\n",
        "# print(a ** b)\n",
        "# print(a / b)\n",
        "# print(a % b)\n",
        "# print(a // b)\n",
        "\n",
        "# 문자열과 숫자 사칙연산\n",
        "\n",
        "# print(a + 2)\n",
        "print(a * 2)\n",
        "# print(a ** 3)\n",
        "# print(a / 2)\n",
        "# print(a % 2)\n",
        "# print(a // 2)\n",
        "\n",
        "# 두가지 경우만 가능\n",
        "# 문자열 + 문자열\n",
        "# 문자열 * 숫자\n",
        "\n",
        "# 응용\n",
        "print(\"§\" * 10)\n",
        "print(\"my program\")\n",
        "print('▣' * 15)"
      ],
      "execution_count": 68,
      "outputs": [
        {
          "output_type": "stream",
          "text": [
            "123321\n",
            "123123\n",
            "§§§§§§§§§§\n",
            "my program\n",
            "▣▣▣▣▣▣▣▣▣▣▣▣▣▣▣\n"
          ],
          "name": "stdout"
        }
      ]
    },
    {
      "metadata": {
        "id": "UTAr4edplk42",
        "colab_type": "code",
        "colab": {
          "base_uri": "https://localhost:8080/",
          "height": 35
        },
        "outputId": "26c817b5-d0e5-4a4f-a02b-22bec1c15883"
      },
      "cell_type": "code",
      "source": [
        "# 문자열 인덱싱과 슬라싱\n",
        "\n",
        "# 문자열 인덱싱은 숫자가 부여된 문자열 순서\n",
        "# 문자열 슬라이싱은 문자열에 부여된 숫자로 나누는것\n",
        "\n",
        "a = '한글이 과연 인식이 될까'\n",
        "b = 'Life is too short, you need python'\n",
        "c = '!@#~#$ #@%$ #@$@#'\n",
        "\n",
        "a[2]\n",
        "b[2]\n",
        "c[2]\n",
        "a[1], b[3], c[5], b[0], a[1], c[9]\n",
        "# 마지막 인덱싱만 실행되지만 전부 같은 인덱싱 수치 적용\n",
        "\n",
        "# print(a[2])\n",
        "# print(b[2])\n",
        "# print(c[2])\n",
        "# 출력 명령어를 같이 사용시 같은 셀의 같은 명령어만 실행이 됨"
      ],
      "execution_count": 101,
      "outputs": [
        {
          "output_type": "execute_result",
          "data": {
            "text/plain": [
              "('글', 'e', '$', 'L', '글', '%')"
            ]
          },
          "metadata": {
            "tags": []
          },
          "execution_count": 101
        }
      ]
    },
    {
      "metadata": {
        "id": "cHCV1FVjqurd",
        "colab_type": "code",
        "colab": {
          "base_uri": "https://localhost:8080/",
          "height": 71
        },
        "outputId": "bec5046b-ee5f-4e14-fccc-a590b2a3b38a"
      },
      "cell_type": "code",
      "source": [
        "print(a[2])\n",
        "print(a[1], b[2])\n",
        "print(a[5], b[0], c[2])\n",
        "# 마지막 인덱싱이 아니라 전부 보려면 print() 명령어가 필수"
      ],
      "execution_count": 102,
      "outputs": [
        {
          "output_type": "stream",
          "text": [
            "이\n",
            "글 f\n",
            "연 L #\n"
          ],
          "name": "stdout"
        }
      ]
    },
    {
      "metadata": {
        "id": "BhhP1bY9s9Jv",
        "colab_type": "code",
        "colab": {
          "base_uri": "https://localhost:8080/",
          "height": 35
        },
        "outputId": "d3ac1b9f-70d3-4939-eb0c-3c0a3a18ef51"
      },
      "cell_type": "code",
      "source": [
        "# 역순으로 인덱싱 불러올수있다\n",
        "\n",
        "a[-0], b[-1], c[-2]\n",
        "# 0번째 수치는 역순으로 진행시 기준이 가장 마지막 인덱싱 기준으로 설정이 안됨"
      ],
      "execution_count": 103,
      "outputs": [
        {
          "output_type": "execute_result",
          "data": {
            "text/plain": [
              "('한', 'n', '@')"
            ]
          },
          "metadata": {
            "tags": []
          },
          "execution_count": 103
        }
      ]
    },
    {
      "metadata": {
        "id": "OGPhpDrdxNTo",
        "colab_type": "code",
        "colab": {
          "base_uri": "https://localhost:8080/",
          "height": 35
        },
        "outputId": "b26c5bcd-e12e-45a4-e4a2-bd1f99a1048a"
      },
      "cell_type": "code",
      "source": [
        "# 인덱싱으로 문자열 조합가능\n",
        "\n",
        "# print(c[2] + a[0] + a[0] + d[10])\n",
        "# print()기능으로 사칙연산 조합안됨\n",
        "e = b[12] + c[7] + a[8]\n",
        "e"
      ],
      "execution_count": 105,
      "outputs": [
        {
          "output_type": "execute_result",
          "data": {
            "text/plain": [
              "'s#식'"
            ]
          },
          "metadata": {
            "tags": []
          },
          "execution_count": 105
        }
      ]
    },
    {
      "metadata": {
        "id": "mlFlIxTn45H8",
        "colab_type": "code",
        "colab": {
          "base_uri": "https://localhost:8080/",
          "height": 35
        },
        "outputId": "2271188b-b3ee-4f3c-93d5-a9bdac6fb3eb"
      },
      "cell_type": "code",
      "source": [
        "print(e)"
      ],
      "execution_count": 114,
      "outputs": [
        {
          "output_type": "stream",
          "text": [
            "s#식\n"
          ],
          "name": "stdout"
        }
      ]
    },
    {
      "metadata": {
        "id": "Kd_Jh6WZ19Yp",
        "colab_type": "code",
        "colab": {
          "base_uri": "https://localhost:8080/",
          "height": 35
        },
        "outputId": "92c6a4b3-fb56-4329-f46b-8fbe14fe6d94"
      },
      "cell_type": "code",
      "source": [
        "# 문자열 슬라이싱 범위 설정 가능\n",
        "\n",
        "a[0:5], b[1:3], c[:5]\n",
        "\n",
        "# [0:5] 입력시 0번째 이상 5번째 '미만' 문자열 출력됨\n",
        "# "
      ],
      "execution_count": 106,
      "outputs": [
        {
          "output_type": "execute_result",
          "data": {
            "text/plain": [
              "('한글이 과', 'if', '!@#~#')"
            ]
          },
          "metadata": {
            "tags": []
          },
          "execution_count": 106
        }
      ]
    },
    {
      "metadata": {
        "id": "xqWkmoSu4prC",
        "colab_type": "code",
        "colab": {
          "base_uri": "https://localhost:8080/",
          "height": 53
        },
        "outputId": "a29031f4-23ff-40b0-ecf6-256419138a9b"
      },
      "cell_type": "code",
      "source": [
        "z = a[0:5], b[1:3], c[15:]\n",
        "print(z)\n",
        "print(a[0:5], b[1:3], c[15:])"
      ],
      "execution_count": 117,
      "outputs": [
        {
          "output_type": "stream",
          "text": [
            "('한글이 과', 'if', '@#')\n",
            "한글이 과 if @#\n"
          ],
          "name": "stdout"
        }
      ]
    },
    {
      "metadata": {
        "id": "Oat1drJn3bEg",
        "colab_type": "code",
        "colab": {
          "base_uri": "https://localhost:8080/",
          "height": 35
        },
        "outputId": "ebbbd1e5-2847-472e-be2a-6152c2fb0dd3"
      },
      "cell_type": "code",
      "source": [
        "a[0:-5], b[1:-3], c[:-5]\n",
        "# 마지막을 음수로 입력시 양수로 정한 숫자부터 뒤에서부터 정한 음수의 숫자만큼 출력"
      ],
      "execution_count": 107,
      "outputs": [
        {
          "output_type": "execute_result",
          "data": {
            "text/plain": [
              "('한글이 과연 인', 'ife is too short, you need pyt', '!@#~#$ #@%$ ')"
            ]
          },
          "metadata": {
            "tags": []
          },
          "execution_count": 107
        }
      ]
    },
    {
      "metadata": {
        "id": "92fxeUGd3hw6",
        "colab_type": "code",
        "colab": {
          "base_uri": "https://localhost:8080/",
          "height": 35
        },
        "outputId": "82439262-921e-4cd9-d570-a786d45a3cf4"
      },
      "cell_type": "code",
      "source": [
        "a[-2:5], b[-1:-3], a[-5:-1], b[-2:-0], b[-2:0]\n",
        "# 음수에서 양수 순으로 슬라이싱 안됨\n",
        "# 음수에서 음수로 출력할시 가장 마지막 문자 출력 불가능"
      ],
      "execution_count": 125,
      "outputs": [
        {
          "output_type": "execute_result",
          "data": {
            "text/plain": [
              "('', '', '19피곤', '', '')"
            ]
          },
          "metadata": {
            "tags": []
          },
          "execution_count": 125
        }
      ]
    },
    {
      "metadata": {
        "id": "Y26HfcI44lLg",
        "colab_type": "code",
        "colab": {
          "base_uri": "https://localhost:8080/",
          "height": 89
        },
        "outputId": "f058d0de-7552-4618-ffc4-0d88f7f8e7a3"
      },
      "cell_type": "code",
      "source": [
        "# 예제 1\n",
        "\n",
        "a = '20180919피곤함'\n",
        "\n",
        "year = a[:4]\n",
        "day = a[4:8]\n",
        "feel = a[8:]\n",
        "\n",
        "print(year)\n",
        "print(day)\n",
        "print(feel)\n",
        "\n",
        "# 예제 2\n",
        "\n",
        "b = '외 않돼나요'\n",
        "\n",
        "# b[] = '왜'\n",
        "# b[2] = '안되'\n",
        "# 에러발생 단일 객체로는 변경 안됨\n",
        "\n",
        "# b[:] = '왜'\n",
        "# b[2:4] = '안되'\n",
        "# 범위 설정으로도 안됨\n",
        "\n",
        "b = b[:0] + '왜 안되' + b[4:]\n",
        "\n",
        "print(b)\n",
        "\n",
        "# 문자열 슬라이싱 오탈자 생길시 오탈자 범위를 빼고 재 조합 가능\n",
        "# 슬라이싱 범위 기본 작동 원리는 [X1 이상 : X2 미만]\n",
        "# 슬라이싱 범위 작동원리 예외 [음수 : 0]"
      ],
      "execution_count": 124,
      "outputs": [
        {
          "output_type": "stream",
          "text": [
            "2018\n",
            "0919\n",
            "피곤함\n",
            "왜 안되나요\n"
          ],
          "name": "stdout"
        }
      ]
    },
    {
      "metadata": {
        "id": "5Krv0worDHKs",
        "colab_type": "code",
        "colab": {
          "base_uri": "https://localhost:8080/",
          "height": 125
        },
        "outputId": "bfec88f6-552f-4541-a81a-e9a9bbde41d7"
      },
      "cell_type": "code",
      "source": [
        "# 문자열 포매팅\n",
        "\n",
        "# 예제 숫자(Integer) → 어째서 'd'??\n",
        "\n",
        "\"you eat %d junk food\" % 3\n",
        "\n",
        "print(\"you eat %d junk food\" % 3)\n",
        "\n",
        "# 예제 문자(String)\n",
        "\n",
        "'Why Soo %s' % 'Serious?'\n",
        "\n",
        "print('Why Soo %s' % 'Serious?')\n",
        "\n",
        "# 예제 변수 선언\n",
        "\n",
        "sf = '요가북'\n",
        "\n",
        "\"건영은 현재 %s을 보고있다\" % sf\n",
        "print(\"건영은 현재 %s을 보고있다\" % sf)\n",
        "\n",
        "# 예제 2가지 포메팅 사용\n",
        "\n",
        "day1 = 19\n",
        "\n",
        "day2 = '십구'\n",
        "\n",
        "'%d는 %s' % (day1, day2)\n",
        "print('%d는 %s' % (day1, day2))\n",
        "# 이건 오입력 ('%s는 %d' % (day1, day2))\n",
        "# 입력 정확히!\n",
        "\n",
        "# 추가 코드 테스트\n",
        "\n",
        "# %%(퍼센트 코드)\n",
        "# 단독 사용 못함\n",
        "\n",
        "# print('건영은 %%확률로 배고파한다' % 100)\n",
        "# print('건영은 %%확률로 배고파한다' % '백')\n",
        "# print('건영은 %s%확률로 배고파한다' % '백')\n",
        "# 퍼센트 코드 없이 포멧코드에 % 집어넣으면 없는 명령어라며 오작동\n",
        "# print(\"건영은 %s'%'확률로 배고파한다\" % '백')\n",
        "# \"건영은 %s'%'확률로 배고파한다\" % '백'\n",
        "# 문자열 \"\" 안에 ''를 사용하는 방법으로도 안먹힘\n",
        "print('건영은 %d%%확률로 배고파한다' % 100)\n",
        "print('건영은 %s%%확률로 배고파한다' % '백')\n",
        "\n",
        "# %c(문자 1개, 캐릭터)\n",
        "# 캐릭터???"
      ],
      "execution_count": 150,
      "outputs": [
        {
          "output_type": "stream",
          "text": [
            "you eat 3 junk food\n",
            "Why Soo Serious?\n",
            "건영은 현재 요가북을 보고있다\n",
            "19는 십구\n",
            "건영은 100%확률로 배고파한다\n",
            "건영은 백%확률로 배고파한다\n"
          ],
          "name": "stdout"
        }
      ]
    },
    {
      "metadata": {
        "id": "3V27Zu6TD4Rz",
        "colab_type": "code",
        "colab": {}
      },
      "cell_type": "code",
      "source": [
        ""
      ],
      "execution_count": 0,
      "outputs": []
    }
  ]
}