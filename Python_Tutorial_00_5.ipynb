{
  "nbformat": 4,
  "nbformat_minor": 0,
  "metadata": {
    "colab": {
      "name": "Python_Tutorial_00_4.ipynb의 사본의 사본",
      "version": "0.3.2",
      "provenance": [],
      "collapsed_sections": [
        "Hw-3qoJlHI4V",
        "EQ-HjiKTd1J7",
        "Xcb02rB0doo-",
        "_YhprxIdfyLy",
        "FU__tvPolxQZ",
        "A9Yydm_KxY2C",
        "rXaNKPdHTXkE"
      ],
      "include_colab_link": true
    },
    "kernelspec": {
      "name": "python3",
      "display_name": "Python 3"
    }
  },
  "cells": [
    {
      "cell_type": "markdown",
      "metadata": {
        "id": "view-in-github",
        "colab_type": "text"
      },
      "source": [
        "<a href=\"https://colab.research.google.com/github/Naysieze/example/blob/master/Python_Tutorial_00_5.ipynb\" target=\"_parent\"><img src=\"https://colab.research.google.com/assets/colab-badge.svg\" alt=\"Open In Colab\"/></a>"
      ]
    },
    {
      "metadata": {
        "id": "XP21j7VPC2LE",
        "colab_type": "text"
      },
      "cell_type": "markdown",
      "source": [
        "# Python Tutorial 00\n",
        "\n",
        "작성자 : 이희성 <br>\n",
        "작성일 :\n",
        "\n",
        "이 연습 파일은 [점프 투 파이썬](https://wikidocs.net/)을 공부하며 작성하였습니다.\n"
      ]
    },
    {
      "metadata": {
        "id": "592urKjVTJL6",
        "colab_type": "text"
      },
      "cell_type": "markdown",
      "source": [
        "##02 파이썬 프로그래밍의 기초, 자료형"
      ]
    },
    {
      "metadata": {
        "id": "Hw-3qoJlHI4V",
        "colab_type": "text"
      },
      "cell_type": "markdown",
      "source": [
        "### 02 -1 숫자형"
      ]
    },
    {
      "metadata": {
        "id": "EQ-HjiKTd1J7",
        "colab_type": "text"
      },
      "cell_type": "markdown",
      "source": [
        "####실수형"
      ]
    },
    {
      "metadata": {
        "id": "BZcP30OgHh4h",
        "colab_type": "code",
        "colab": {}
      },
      "cell_type": "code",
      "source": [
        "# 실수형 예제\n",
        "\n",
        "a = 4.24E10\n",
        "print(a)\n",
        "\n",
        "b = 4.24e-10\n",
        "print(b)"
      ],
      "execution_count": 0,
      "outputs": []
    },
    {
      "metadata": {
        "id": "RHxcD-MqO5VR",
        "colab_type": "text"
      },
      "cell_type": "markdown",
      "source": [
        "####의문\n",
        "b의 결과값이 수식 그대로 나옴"
      ]
    },
    {
      "metadata": {
        "id": "Js4nt1kTXbTS",
        "colab_type": "code",
        "colab": {}
      },
      "cell_type": "code",
      "source": [
        "# 1.대소문자 차이 확인\n",
        "\n",
        "a = 4.24E-10\n",
        "print(a)\n",
        "\n",
        "b = 4.24e-10\n",
        "print(b)"
      ],
      "execution_count": 0,
      "outputs": []
    },
    {
      "metadata": {
        "id": "5-zpstuGXsbc",
        "colab_type": "code",
        "colab": {}
      },
      "cell_type": "code",
      "source": [
        "# 차이가 없음을 확인\n",
        "\n",
        "# 2.수식내의 수치 변경\n",
        "\n",
        "a = 2e-2\n",
        "print(a)\n",
        "\n",
        "b = 3.4e-5\n",
        "print(b)\n",
        "\n",
        "c = 3e-2\n",
        "print(c)\n",
        "\n",
        "d = 2.5e-5\n",
        "print(d)\n",
        "\n",
        "e = 2e-5\n",
        "print(e)\n",
        "\n",
        "f = 4.6e-2\n",
        "print(f)"
      ],
      "execution_count": 0,
      "outputs": []
    },
    {
      "metadata": {
        "id": "qx9piLX5X4g7",
        "colab_type": "code",
        "colab": {}
      },
      "cell_type": "code",
      "source": [
        "# 뒤에 들어가는 숫자중 2가 들어가는 경우만 정상작동 5는 수식 그대로 출력\n",
        "\n",
        "# 3.뒷에 들어가는 숫자중 작동 되는 숫자 확인\n",
        "\n",
        "a = 2.5e-1\n",
        "print(a)\n",
        "\n",
        "b = 2.5e-2\n",
        "print(b)\n",
        "\n",
        "c = 2.5e-3\n",
        "print(c)\n",
        "\n",
        "d = 2.5e-4\n",
        "print(d)\n",
        "\n",
        "e = 2.5e-5\n",
        "print(e)\n",
        "\n",
        "f = 2.5e-6\n",
        "print(f)\n",
        "\n",
        "g = 2.5e-7\n",
        "print(g)\n",
        "\n",
        "h = 2.5e-8\n",
        "print(h)\n",
        "\n",
        "i = 2.5e-9\n",
        "print(i)\n",
        "\n",
        "j = 2.5e-10\n",
        "print(j)\n",
        "\n",
        "k = 2.5e-11\n",
        "print(k)\n",
        "\n",
        "l = 2.5e-12\n",
        "print(l)\n",
        "\n",
        "m = 2.5e-13\n",
        "print(m)\n",
        "\n",
        "n = 2.5e-14\n",
        "print(n)\n",
        "\n",
        "o = 2.5e-15\n",
        "print(o)\n",
        "\n",
        "p = 2.5e-16\n",
        "print(p)\n",
        "\n",
        "q = 2.5e-17\n",
        "print(q)\n",
        "\n",
        "r = 2.5e-18\n",
        "print(r)\n",
        "\n",
        "s = 2.5e-19\n",
        "print(s)\n",
        "\n",
        "t = 2.5e-20\n",
        "print(t)"
      ],
      "execution_count": 0,
      "outputs": []
    },
    {
      "metadata": {
        "id": "_GKhscLvbV1t",
        "colab_type": "code",
        "colab": {}
      },
      "cell_type": "code",
      "source": [
        "# -5 이하의 값은 계산되지 않음\n",
        "\n",
        "# 4.양수도 마찬가지인지 확인\n",
        "\n",
        "a = 2.5e1\n",
        "print(a)\n",
        "\n",
        "b = 2.5e2\n",
        "print(b)\n",
        "\n",
        "c = 2.5e3\n",
        "print(c)\n",
        "\n",
        "d = 2.5e4\n",
        "print(d)\n",
        "\n",
        "e = 2.5e5\n",
        "print(e)\n",
        "\n",
        "f = 2.5e6\n",
        "print(f)\n",
        "\n",
        "g = 2.5e7\n",
        "print(g)\n",
        "\n",
        "h = 2.5e8\n",
        "print(h)\n",
        "\n",
        "i = 2.5e9\n",
        "print(i)\n",
        "\n",
        "j = 2.5e10\n",
        "print(j)\n",
        "\n",
        "k = 2.5e11\n",
        "print(k)\n",
        "\n",
        "l = 2.5e12\n",
        "print(l)\n",
        "\n",
        "m = 2.5e13\n",
        "print(m)\n",
        "\n",
        "n = 2.5e14\n",
        "print(n)\n",
        "\n",
        "o = 2.5e15\n",
        "print(o)\n",
        "\n",
        "p = 2.5e16\n",
        "print(p)\n",
        "\n",
        "q = 2.5e17\n",
        "print(q)\n",
        "\n",
        "r = 2.5e18\n",
        "print(r)\n",
        "\n",
        "s = 2.5e19\n",
        "print(s)\n",
        "\n",
        "t = 2.5e20\n",
        "print(t)"
      ],
      "execution_count": 0,
      "outputs": []
    },
    {
      "metadata": {
        "id": "7gsOiQpNbzWF",
        "colab_type": "code",
        "colab": {}
      },
      "cell_type": "code",
      "source": [
        "# 양수를 넣으면 16이상은 계산결과 값이 수치로 나오지 않음"
      ],
      "execution_count": 0,
      "outputs": []
    },
    {
      "metadata": {
        "id": "unKbABGec2-4",
        "colab_type": "text"
      },
      "cell_type": "markdown",
      "source": [
        "#####결론\n",
        "*실수형은 10의 배수를 제곱하는 것\n",
        "\n",
        "*양수를 제곱할시 10까지만 출력가능 16이상은 수식으로 출력\n",
        "\n",
        "*음수를 제곱할시 -4까지만 출력가능  -5 이하는 수식으로 출력"
      ]
    },
    {
      "metadata": {
        "id": "Xcb02rB0doo-",
        "colab_type": "text"
      },
      "cell_type": "markdown",
      "source": [
        "####8진수와 16진수"
      ]
    },
    {
      "metadata": {
        "id": "PvnfNPWaeZMv",
        "colab_type": "code",
        "colab": {}
      },
      "cell_type": "code",
      "source": [
        "# 8진수와 16진수 예제\n",
        "\n",
        "# # 8진수 예제\n",
        "\n",
        "a = 0o177\n",
        "print(a)\n",
        "\n",
        "# # 16진수 예제\n",
        "\n",
        "b = 0x8ff\n",
        "print(b)\n",
        "\n",
        "c = 0xABC\n",
        "print(c)"
      ],
      "execution_count": 0,
      "outputs": []
    },
    {
      "metadata": {
        "id": "VfwjBLTLfTGb",
        "colab_type": "text"
      },
      "cell_type": "markdown",
      "source": [
        "#### 8진수와 16진수에 대한 정보 부족\n",
        "다양한 시도 불가"
      ]
    },
    {
      "metadata": {
        "id": "_YhprxIdfyLy",
        "colab_type": "text"
      },
      "cell_type": "markdown",
      "source": [
        "####사칙연산"
      ]
    },
    {
      "metadata": {
        "id": "9iTPOSscgEKW",
        "colab_type": "code",
        "colab": {}
      },
      "cell_type": "code",
      "source": [
        "# 사칙연산 예제\n",
        "\n",
        "a = 3\n",
        "b = 4\n",
        "\n",
        "c = a + b\n",
        "print(c)\n",
        "# 결과값 7\n",
        "\n",
        "d = a * b\n",
        "print(d)\n",
        "# 결과값 12\n",
        "\n",
        "e = a / b\n",
        "print(e)\n",
        "# 결과값 0.75 '책의 설명에는 정수로 나눌시 소수점은 버림'\n",
        "\n",
        "f = a / (b*1.0)\n",
        "print(f)\n",
        "# 결과값 0.75의 결과값을 그대로 출력할시 강제로 한가지 수를 소수점화 시키면된다\n",
        "\n",
        "g = a ** b\n",
        "print(g)\n",
        "# 결과값 81\n",
        "\n",
        "h = 7 % 3\n",
        "print(h)\n",
        "\n",
        "i = 3 % 7\n",
        "print(i)\n",
        "# 결과값 h = 1, i = 3 '나눗셈을 하고 나눠지지 않은 나머지값을 남긴다'\n",
        "\n",
        "j = 7 / (4*1.0)\n",
        "print(j)\n",
        "\n",
        "k = 7 // 4\n",
        "print(k)\n",
        "\n",
        "l = -7 // 4\n",
        "print(l)\n",
        "# 결과값 j = 1.75, k = 1, l = -2 'k에 쓰인 // 명령어는 나눈값의 소수점 아래값을 반환'\n",
        "# //의 결과 값이 음수인경우는 더욱 낮은 수로 출력이 된다"
      ],
      "execution_count": 0,
      "outputs": []
    },
    {
      "metadata": {
        "id": "7ZcwB6wsg6zz",
        "colab_type": "text"
      },
      "cell_type": "markdown",
      "source": [
        "####의문\n",
        "1. e의 결과값에 책의 설명이 맞는가\n",
        "\n",
        "2. l의 실제 값이 -2에 근사값이여서 -2가 출력이 되는가 -1에 가까우면 -1이 출력이 되는가"
      ]
    },
    {
      "metadata": {
        "id": "DuHMYK8_hgkq",
        "colab_type": "code",
        "colab": {}
      },
      "cell_type": "code",
      "source": [
        "# 나눗셈 정수 계산 테스트\n",
        "\n",
        "a = 1\n",
        "b = 2\n",
        "c = 3\n",
        "d = 4\n",
        "e = 5\n",
        "\n",
        "f = e / a\n",
        "print(f)\n",
        "\n",
        "g = e / b\n",
        "print(g)\n",
        "\n",
        "h = e / c\n",
        "print(h)\n",
        "\n",
        "i = e / d\n",
        "print(i)"
      ],
      "execution_count": 0,
      "outputs": []
    },
    {
      "metadata": {
        "id": "-rh2xpLHjkNp",
        "colab_type": "code",
        "colab": {}
      },
      "cell_type": "code",
      "source": [
        "# 소수점 이하는 자동생성(2.7버전만 소수점 이하 버려짐)\n",
        "\n",
        "# 소수점 나누기 테스트\n",
        "\n",
        "a = 1.1 / 2.3\n",
        "print(a)\n",
        "\n",
        "b = 3 / 4.2\n",
        "print(b)\n",
        "\n",
        "c = 6.1 / 3\n",
        "print(c)"
      ],
      "execution_count": 0,
      "outputs": []
    },
    {
      "metadata": {
        "id": "ueTL6QoanKne",
        "colab_type": "code",
        "colab": {}
      },
      "cell_type": "code",
      "source": [
        "# 정수와 정수를 나눌때 나오는 값에 버려지는 소수점들은 정말 버려지는가\n",
        "\n",
        "# 정수와 정수를 소수점이 나오게 나눈값을 다른 수들과 다른계산을 하여 테스트\n",
        "\n",
        "a = 5 / 3\n",
        "\n",
        "b = a + 1.5\n",
        "print(b)\n",
        "\n",
        "c = a * 3\n",
        "print(c)\n",
        "\n",
        "e = a / 2\n",
        "print(e)"
      ],
      "execution_count": 0,
      "outputs": []
    },
    {
      "metadata": {
        "id": "a1eepTaA2dSK",
        "colab_type": "code",
        "colab": {}
      },
      "cell_type": "code",
      "source": [
        "# // 연산의 소수점에 따른 수치변화 확인\n",
        "\n",
        "a = 7 // 4\n",
        "print(a)\n",
        "# 원래값 1.75\n",
        "\n",
        "b = 5 // 4\n",
        "print(b)\n",
        "# 원래값 1.25\n",
        "\n",
        "c = 3 // 2\n",
        "print(c)\n",
        "# 원래값 1.5\n",
        "\n",
        "d = -7 // 4\n",
        "print(d)\n",
        "# 원래값 -1.75\n",
        "\n",
        "e = -5 // 4\n",
        "print(e)\n",
        "# 원래값 -1.25\n",
        "\n",
        "f = -3 // 2\n",
        "print(f)\n",
        "# 원래값 -1.5"
      ],
      "execution_count": 0,
      "outputs": []
    },
    {
      "metadata": {
        "id": "w8j4bMK8lKnD",
        "colab_type": "text"
      },
      "cell_type": "markdown",
      "source": [
        "####결론\n",
        "의문 1 : 정수와 정수로 나눌때 소수점이 완전히 버려짐<br><br>\n",
        "    *소수점 결과가 필요한경우엔 필수적으로 하나의 정수라도 강제로 소수점 수로 변환 필요<br><br>\n",
        "의문 2 : 소수점의 수는 모두 올림하여 적용이 됨\n"
      ]
    },
    {
      "metadata": {
        "id": "FU__tvPolxQZ",
        "colab_type": "text"
      },
      "cell_type": "markdown",
      "source": [
        "###02-2 문자열"
      ]
    },
    {
      "metadata": {
        "id": "k7gr-JRvofRG",
        "colab_type": "code",
        "colab": {}
      },
      "cell_type": "code",
      "source": [
        "# 문자열을 만들때 사용하는 '',  \"\",  '''''', \"\"\"\"\"\"의 차이를 알아보자\n",
        "\n",
        "print('ㅇ아른ㄷㅇ')\n",
        "print(\"ㅇㄹㄴㄷ\")\n",
        "print('''ㄴㄷㄺㅎ''')\n",
        "print(\"\"\"ㄴㄹㄷㄴ\"\"\")\n",
        "\n",
        "hi = 'sefds'\n",
        "print(hi)\n",
        "si = '''sefd'''\n",
        "print(si)\n",
        "ei = \"rgfd\"\n",
        "print(ei)\n",
        "io = \"\"\"ftfd\"\"\"\n",
        "print(io)\n",
        "# 책에선 분명 ''로 변수 선언 작업하면 에러 뜬다며"
      ],
      "execution_count": 0,
      "outputs": []
    },
    {
      "metadata": {
        "id": "0fyF9p5CiZu_",
        "colab_type": "text"
      },
      "cell_type": "markdown",
      "source": [
        "```\n",
        "a1 = 'What a beautiful world'\n",
        "a2 = 'what a 'beautiful world'\n",
        "a3 = 'what a \\'beautiful world'\n",
        "\n",
        "a4 = 'she said \"What does fox say\"'\n",
        "a5 = 'she said 'what does fox say''\n",
        "a6 = 'she said \\'what does fox say\\''\n",
        "```\n",
        "\n",
        "하나 하나 다 프린트 해볼 것"
      ]
    },
    {
      "metadata": {
        "id": "krzfMJXwjB2f",
        "colab_type": "code",
        "colab": {}
      },
      "cell_type": "code",
      "source": [
        "a1 = 'What a beautiful world'\n",
        "a1"
      ],
      "execution_count": 0,
      "outputs": []
    },
    {
      "metadata": {
        "id": "yq30spEgjZ_X",
        "colab_type": "code",
        "colab": {}
      },
      "cell_type": "code",
      "source": [
        "a2 = 'what a 'beauriful world'\n",
        "a2"
      ],
      "execution_count": 0,
      "outputs": []
    },
    {
      "metadata": {
        "id": "VABPEpfMjgzi",
        "colab_type": "code",
        "colab": {}
      },
      "cell_type": "code",
      "source": [
        "a3 = 'what a \\'beautiful world'\n",
        "a3"
      ],
      "execution_count": 0,
      "outputs": []
    },
    {
      "metadata": {
        "id": "vNaVp-yojxPR",
        "colab_type": "code",
        "colab": {}
      },
      "cell_type": "code",
      "source": [
        "a31 = 'what a ''beautiful world'\n",
        "a31"
      ],
      "execution_count": 0,
      "outputs": []
    },
    {
      "metadata": {
        "id": "lm3oH4gmkPdK",
        "colab_type": "code",
        "colab": {}
      },
      "cell_type": "code",
      "source": [
        "a32 = 'what a \\beauriful world'\n",
        "print(a32)\n",
        "\n",
        "a33 = 'what a \\ beauriful world'\n",
        "print(a33)"
      ],
      "execution_count": 0,
      "outputs": []
    },
    {
      "metadata": {
        "id": "8y6OjJ8skEvb",
        "colab_type": "code",
        "colab": {}
      },
      "cell_type": "code",
      "source": [
        "a4 = 'she said \"What does fox say\"'\n",
        "a4"
      ],
      "execution_count": 0,
      "outputs": []
    },
    {
      "metadata": {
        "id": "UuFGwY1FkKXz",
        "colab_type": "code",
        "colab": {}
      },
      "cell_type": "code",
      "source": [
        "a5 = 'she said 'what does fox say''\n",
        "a5"
      ],
      "execution_count": 0,
      "outputs": []
    },
    {
      "metadata": {
        "id": "dbAVdH9EkrBk",
        "colab_type": "code",
        "colab": {}
      },
      "cell_type": "code",
      "source": [
        "a6 = 'she said \\'what does fox say\\''\n",
        "a6"
      ],
      "execution_count": 0,
      "outputs": []
    },
    {
      "metadata": {
        "id": "4epW3OmOUGne",
        "colab_type": "code",
        "colab": {}
      },
      "cell_type": "code",
      "source": [
        "li = '파이썬 2에선 안되고\\'파이썬 3에서 됨'\n",
        "print(li)\n",
        "\n",
        "lo = '파이썬 3에선 되고 파이썬 2에선 안됨'\n",
        "print(lo)\n",
        "\n",
        "kl = \"\\\"파이썬 3는 가능\\\"파이썬 2는 불가능\"\n",
        "print(kl)\n",
        "\n",
        "ku = \"파이썬 2는 불가능 파이썬 3은 가능\"\n",
        "print(ku)\n",
        "# 파이썬 2버전에선 'lo'와 'ku'안됨\n",
        "\n",
        "mul = '''\n",
        "  efdse\n",
        "  sefds\n",
        "  efdsty\n",
        "  '''\n",
        "print(mul)\n",
        "\n",
        "dul = \"\"\"\n",
        "  grdfg\n",
        "  yjugfr\n",
        "  xfbre\n",
        "  \"\"\"\n",
        "print(dul)\n",
        "\n",
        "# er = '\n",
        "#   대체\n",
        "#   왜\n",
        "#   이런것을\n",
        "#   '\n",
        "# print(er)\n",
        "# 위 명령어로 실행시 에러발생\n",
        "\n",
        "# ''는 문자열 출력\n",
        "# \"\"는 변수선언(a = \"\")\n",
        "\n",
        "# 책에서 되고 실제로 되는것\n",
        "# '''''', \"\"\"\"\"\"는 문자열이 여러줄일때 쓰임"
      ],
      "execution_count": 0,
      "outputs": []
    },
    {
      "metadata": {
        "id": "88DvHkB90jQi",
        "colab_type": "code",
        "colab": {}
      },
      "cell_type": "code",
      "source": [
        "food = \"Python's favorite food is perl\"\n",
        "food\n",
        "# sood = 'Python's favorite food is perl'\n",
        "# 영어에 줄여쓰기 위해 \n",
        "작은 따음표 사용시 문자열 오류 발생"
      ],
      "execution_count": 0,
      "outputs": []
    },
    {
      "metadata": {
        "id": "pqnjEfYmcVJI",
        "colab_type": "code",
        "colab": {}
      },
      "cell_type": "code",
      "source": [
        "# '''''', \"\"\"\"\"\" 와 문자열 갯수의 관계\n",
        "\n",
        "ui = '''\n",
        "     과연\n",
        "     몇줄\n",
        "     까지\n",
        "     가능\n",
        "     할까\n",
        "     '''\n",
        "print(ui)\n",
        "\n",
        "po = \"\"\"\n",
        "     따음표\n",
        "     갯수와\n",
        "     상관이\n",
        "     있는지\n",
        "     궁금하내\n",
        "     ㄷㄴㄷㄹ\n",
        "     ㅅ오\n",
        "     ㅇ소\n",
        "     ㅛㅑㅎ표\n",
        "     햔\n",
        "     ㅓㅕ쇼\n",
        "     ㄴㄱㅎ오횰8ㅑ7ㅓㅗㅀ웅ㄴㄳㄴ융ㅈㅎㅇ\n",
        "     ㄴ36고류ㅗㅗㅜ79ㅐ호ㅓㅡㅇㄳ458ㅅ345347ㄱㄹ혼ㄱ솔손ㄱㅇ손거ㅣㄴ닥소\n",
        "     ㄴ4ㄳㄴㅇㅎ\n",
        "     ㄴ4ㅅㅎ\n",
        "     345ㅇㄴㄹ홏ㄹ허\n",
        "     54\n",
        "     1\n",
        "     2\n",
        "     3\n",
        "     4\n",
        "     5\n",
        "     6\n",
        "     7\n",
        "     8\n",
        "     9\n",
        "     10\n",
        "     11\n",
        "     12\n",
        "     13\n",
        "     14\n",
        "     15\n",
        "     16\n",
        "     17\n",
        "     18\n",
        "     19\n",
        "     20\n",
        "     21\n",
        "     22\n",
        "     23\n",
        "     24\n",
        "     25\n",
        "     26\n",
        "     27\n",
        "     28\n",
        "     29\n",
        "     30\n",
        "     \"\"\"\n",
        "print(po)"
      ],
      "execution_count": 0,
      "outputs": []
    },
    {
      "metadata": {
        "id": "Kda_IuVRim-z",
        "colab_type": "code",
        "colab": {}
      },
      "cell_type": "code",
      "source": [
        "# 문자열로 사칙연산이 일부 가능\n",
        "\n",
        "a = '123'\n",
        "b = '321'\n",
        "\n",
        "# 문자열과 문자열 사칙연산\n",
        "\n",
        "print(a + b)\n",
        "# print(a * b)\n",
        "# print(a ** b)\n",
        "# print(a / b)\n",
        "# print(a % b)\n",
        "# print(a // b)\n",
        "\n",
        "# 문자열과 숫자 사칙연산\n",
        "\n",
        "# print(a + 2)\n",
        "print(a * 2)\n",
        "# print(a ** 3)\n",
        "# print(a / 2)\n",
        "# print(a % 2)\n",
        "# print(a // 2)\n",
        "\n",
        "# 두가지 경우만 가능\n",
        "# 문자열 + 문자열\n",
        "# 문자열 * 숫자\n",
        "\n",
        "# 응용\n",
        "print(\"§\" * 10)\n",
        "print(\"my program\")\n",
        "print('▣' * 15)"
      ],
      "execution_count": 0,
      "outputs": []
    },
    {
      "metadata": {
        "id": "UTAr4edplk42",
        "colab_type": "code",
        "colab": {}
      },
      "cell_type": "code",
      "source": [
        "# 문자열 인덱싱과 슬라싱\n",
        "\n",
        "# 문자열 인덱싱은 숫자가 부여된 문자열 순서\n",
        "# 문자열 슬라이싱은 문자열에 부여된 숫자로 나누는것\n",
        "\n",
        "a = '한글이 과연 인식이 될까'\n",
        "b = 'Life is too short, you need python'\n",
        "c = '!@#~#$ #@%$ #@$@#'\n",
        "\n",
        "a[2]\n",
        "b[2]\n",
        "c[2]\n",
        "a[1], b[3], c[5], b[0], a[1], c[9]\n",
        "# 마지막 인덱싱만 실행되지만 전부 같은 인덱싱 수치 적용\n",
        "\n",
        "# print(a[2])\n",
        "# print(b[2])\n",
        "# print(c[2])\n",
        "# 출력 명령어를 같이 사용시 같은 셀의 같은 명령어만 실행이 됨"
      ],
      "execution_count": 0,
      "outputs": []
    },
    {
      "metadata": {
        "id": "cHCV1FVjqurd",
        "colab_type": "code",
        "colab": {}
      },
      "cell_type": "code",
      "source": [
        "print(a[2])\n",
        "print(a[1], b[2])\n",
        "print(a[5], b[0], c[2])\n",
        "# 마지막 인덱싱이 아니라 전부 보려면 print() 명령어가 필수"
      ],
      "execution_count": 0,
      "outputs": []
    },
    {
      "metadata": {
        "id": "BhhP1bY9s9Jv",
        "colab_type": "code",
        "colab": {}
      },
      "cell_type": "code",
      "source": [
        "# 역순으로 인덱싱 불러올수있다\n",
        "\n",
        "a[-0], b[-1], c[-2]\n",
        "# 0번째 수치는 역순으로 진행시 기준이 가장 마지막 인덱싱 기준으로 설정이 안됨\n",
        "# -1로 하게되면 가장 마지막 인덱싱으로 설정"
      ],
      "execution_count": 0,
      "outputs": []
    },
    {
      "metadata": {
        "id": "OGPhpDrdxNTo",
        "colab_type": "code",
        "colab": {}
      },
      "cell_type": "code",
      "source": [
        "# 인덱싱으로 문자열 조합가능\n",
        "\n",
        "# print(c[2] + a[0] + a[0] + d[10])\n",
        "# print()기능으로 사칙연산 조합안됨\n",
        "e = b[12] + c[7] + a[8]\n",
        "e"
      ],
      "execution_count": 0,
      "outputs": []
    },
    {
      "metadata": {
        "id": "mlFlIxTn45H8",
        "colab_type": "code",
        "colab": {}
      },
      "cell_type": "code",
      "source": [
        "print(e)"
      ],
      "execution_count": 0,
      "outputs": []
    },
    {
      "metadata": {
        "id": "Kd_Jh6WZ19Yp",
        "colab_type": "code",
        "colab": {}
      },
      "cell_type": "code",
      "source": [
        "# 문자열 슬라이싱 범위 설정 가능\n",
        "\n",
        "a[0:5], b[1:3], c[:5]\n",
        "\n",
        "# [0:5] 입력시 0번째 이상 5번째 '미만' 문자열 출력됨\n",
        "# "
      ],
      "execution_count": 0,
      "outputs": []
    },
    {
      "metadata": {
        "id": "xqWkmoSu4prC",
        "colab_type": "code",
        "colab": {}
      },
      "cell_type": "code",
      "source": [
        "z = a[0:5], b[1:3], c[15:]\n",
        "print(z)\n",
        "print(a[0:5], b[1:3], c[15:])"
      ],
      "execution_count": 0,
      "outputs": []
    },
    {
      "metadata": {
        "id": "Oat1drJn3bEg",
        "colab_type": "code",
        "colab": {}
      },
      "cell_type": "code",
      "source": [
        "a[0:-5], b[1:-3], c[:-5]\n",
        "# 마지막을 음수로 입력시 양수로 정한 숫자부터 뒤에서부터 정한 음수의 숫자만큼 출력"
      ],
      "execution_count": 0,
      "outputs": []
    },
    {
      "metadata": {
        "id": "92fxeUGd3hw6",
        "colab_type": "code",
        "colab": {}
      },
      "cell_type": "code",
      "source": [
        "a[-2:5], b[-1:-3], a[-5:-1], b[-2:-0], b[-2:0]\n",
        "# 음수에서 양수 순으로 슬라이싱 안됨\n",
        "# 음수에서 음수로 출력할시 가장 마지막 문자 출력 불가능"
      ],
      "execution_count": 0,
      "outputs": []
    },
    {
      "metadata": {
        "id": "Y26HfcI44lLg",
        "colab_type": "code",
        "colab": {}
      },
      "cell_type": "code",
      "source": [
        "# 예제 1\n",
        "\n",
        "a = '20180919피곤함'\n",
        "\n",
        "year = a[:4]\n",
        "day = a[4:8]\n",
        "feel = a[8:]\n",
        "\n",
        "print(year)\n",
        "print(day)\n",
        "print(feel)\n",
        "\n",
        "# 예제 2\n",
        "\n",
        "b = '외 않돼나요'\n",
        "\n",
        "# b[] = '왜'\n",
        "# b[2] = '안되'\n",
        "# 에러발생 단일 객체로는 변경 안됨\n",
        "\n",
        "# b[:] = '왜'\n",
        "# b[2:4] = '안되'\n",
        "# 범위 설정으로도 안됨\n",
        "\n",
        "b = b[:0] + '왜 안되' + b[4:]\n",
        "\n",
        "print(b)\n",
        "\n",
        "# 문자열 슬라이싱 오탈자 생길시 오탈자 범위를 빼고 재 조합 가능\n",
        "# 슬라이싱 범위 기본 작동 원리는 [X1 이상 : X2 미만]\n",
        "# 슬라이싱 범위 작동원리 예외 [음수 : 0]"
      ],
      "execution_count": 0,
      "outputs": []
    },
    {
      "metadata": {
        "id": "5Krv0worDHKs",
        "colab_type": "code",
        "colab": {}
      },
      "cell_type": "code",
      "source": [
        "# 문자열 포매팅\n",
        "\n",
        "# 예제 숫자(Integer) → 어째서 'd'??\n",
        "\n",
        "\"you eat %d junk food\" % 3\n",
        "\n",
        "print(\"you eat %d junk food\" % 3)\n",
        "\n",
        "# 예제 문자(String)\n",
        "\n",
        "'Why Soo %s' % 'Serious?'\n",
        "\n",
        "print('Why Soo %s' % 'Serious?')\n",
        "\n",
        "# 예제 변수 선언\n",
        "\n",
        "sf = '요가북'\n",
        "\n",
        "\"건영은 현재 %s을 보고있다\" % sf\n",
        "print(\"건영은 현재 %s을 보고있다\" % sf)\n",
        "\n",
        "# 예제 2가지 포메팅 사용\n",
        "\n",
        "day1 = 19\n",
        "\n",
        "day2 = '십구'\n",
        "\n",
        "'%d는 %s' % (day1, day2)\n",
        "print('%d는 %s' % (day1, day2))\n",
        "# 이건 오입력 ('%s는 %d' % (day1, day2))\n",
        "# 입력 정확히!\n",
        "\n",
        "# 추가 코드 테스트\n",
        "\n",
        "# %%(퍼센트 코드)\n",
        "# 단독 사용 못함\n",
        "\n",
        "# print('건영은 %%확률로 배고파한다' % 100)\n",
        "# print('건영은 %%확률로 배고파한다' % '백')\n",
        "# print('건영은 %s%확률로 배고파한다' % '백')\n",
        "# 퍼센트 코드 없이 포멧코드에 % 집어넣으면 없는 명령어라며 오작동\n",
        "# print(\"건영은 %s'%'확률로 배고파한다\" % '백')\n",
        "# \"건영은 %s'%'확률로 배고파한다\" % '백'\n",
        "# 문자열 \"\" 안에 ''를 사용하는 방법으로도 안먹힘\n",
        "print('건영은 %d%%확률로 배고파한다' % 100)\n",
        "print('건영은 %s%%확률로 배고파한다' % '백')\n",
        "\n",
        "# %c(문자 1개, 캐릭터)\n",
        "# 캐릭터???"
      ],
      "execution_count": 0,
      "outputs": []
    },
    {
      "metadata": {
        "id": "3V27Zu6TD4Rz",
        "colab_type": "code",
        "colab": {}
      },
      "cell_type": "code",
      "source": [
        "# 포멧코드와 숫자 활용하기\n",
        "\n",
        "\n",
        "#정렬과 공백\n",
        "\n",
        "a = \"%10s\" % 'hi.ㄷㄹ'\n",
        "print(a)\n",
        "\n",
        "b = '%-10s jane' % \"hi.ㅎㄹ\"\n",
        "print(b)\n",
        "\n",
        "c = 'jane %10s' % 'bye'\n",
        "print(c)\n",
        "\n",
        "#소수점 표현하기\n",
        "\n",
        "d = '%0.4f' % 3.14236424754\n",
        "print(d)\n",
        "\n",
        "e = '%10.5f' % 3.14236424754\n",
        "print(e)\n",
        "\n",
        "f = '%5.5f' % 12345678.12345678\n",
        "print(f)\n",
        "\n",
        "g = '%5.5f' % 11.1\n",
        "print(g)\n",
        "\n",
        "h = '%10.5f' % 78.1234567\n",
        "print(h)\n",
        "\n",
        "# '%10s', '%-10d'같은경우는 공백만 넣어주는 역활\n",
        "# \"%10.4f\"같은 경우는 '10'부분은 전체 문자열 개수를 정하는거고\n",
        "# 뒤의 '0.4'는 소수점을 몇번째까지 표시할지 정하는것이다\n",
        "# 그럼 'f'와 'g'는???"
      ],
      "execution_count": 0,
      "outputs": []
    },
    {
      "metadata": {
        "id": "lseSrZTeZJLa",
        "colab_type": "code",
        "colab": {}
      },
      "cell_type": "code",
      "source": [
        "# 윗 셀의 'f', 'g'에 관해 확인\n",
        "\n",
        "# 표시할 문자열 개수와 표시할 소수점 뒷 자리수가 같아서 충돌로 둘다 표시??\n",
        "# 문자열 수가 낮을때와 문자열수가 많을때와 문자열과 소수점이 같을때 다시 확인\n",
        "\n",
        "a = \"%6.5f\" % 12345678.12345678\n",
        "print(a)\n",
        "\n",
        "# 소수점만 적용됨 숫자 차이 늘려보기\n",
        "b = '%6.4f' % 12345678.12345678\n",
        "print(b)\n",
        "\n",
        "c = \"%8.3f\" % 12345678.12345678\n",
        "print(c)\n",
        "\n",
        "d = \"%9.4f\" % 12345678.12345678\n",
        "print(d)\n",
        "\n",
        "e = '%10.5f' % 12345678.12345678\n",
        "print(e)\n",
        "\n",
        "f = '%13.6f' % 12345678.12345678\n",
        "print(f)\n",
        "\n",
        "g = '%15.2f' % 12345678.12345678\n",
        "print(g)\n",
        "\n",
        "h = '%13.2f' % 12345678.12345678\n",
        "print(h)\n",
        "\n",
        "i = \"%7.5f\" % 1.12345678\n",
        "print(i)\n",
        "\n",
        "j = \"%9.6f\" % 1.12345678\n",
        "print(j)\n",
        "\n",
        "# '%10.5f'라고 하면 총 출력될 문자 개수가 소수점표시인 '.'콤마도 포함하여\n",
        "# 10개의 숫자를 표시하고 소수점 5자리 수까지 표시한다\n",
        "# 하지만 '정수'는 몇자리 수이든 생략이 안되기 때문에 반듯이 정수 개수를 넘는\n",
        "# 수로 세팅해야된다 그리고 콤마도 포함이 됨으로 최소 정수 숫자+.보다 초과된\n",
        "# 수를 초기 세팅으로 넣어야된다\n",
        "\n",
        "# 또 다른 의문 a, b, d, e, f, i, j의 소수점 표시 마지막에서 두번째 수가 생략됨"
      ],
      "execution_count": 0,
      "outputs": []
    },
    {
      "metadata": {
        "id": "gxj2hFYCf8WM",
        "colab_type": "code",
        "colab": {}
      },
      "cell_type": "code",
      "source": [
        "a = '%0.5f' % 0.123456789\n",
        "print(a)\n",
        "\n",
        "b = '%0.5f' % 0.111111111\n",
        "print(b)\n",
        "\n",
        "c = '%0.5f' % 0.122333444\n",
        "print(c)\n",
        "\n",
        "d = '%0.5f' % 0.123335\n",
        "print(d)\n",
        "\n",
        "e = '%0.5f' % 0.12345\n",
        "print(e)\n",
        "\n",
        "f = '%2.5f' % 0.1234\n",
        "print(f)\n",
        "\n",
        "g = '%7.4f' % 0.1234\n",
        "print(g)\n",
        "\n",
        "# 입력될 소수점 자리수가 표시될 소수점 자리수보다 많으면 이상현상 발생\n",
        "# 파이썬 오류?? 또는 올림??\n",
        "# 소수점 표시 마지막수의 뒷자리수가 4이하일경우는 정상표시, 5이상일 경우는 올림 표시\n",
        "# 0.2f일경우 '0.124'면 '0.12'표시 '0.125'라면 '0.13'표시f = '%2.5f' % 0.1234"
      ],
      "execution_count": 0,
      "outputs": []
    },
    {
      "metadata": {
        "id": "2uy6o6n0kRUS",
        "colab_type": "code",
        "colab": {}
      },
      "cell_type": "code",
      "source": [
        "# 포멧 함수를 이용한 포매팅\n",
        "\n",
        "a = 'I eat {0} apples'.format(3)\n",
        "print(a)\n",
        "\n",
        "number = 3\n",
        "\n",
        "day = 'one'\n",
        "\n",
        "b = 'I eat {0} apples, you eat {1} apple'.format(number, day)\n",
        "print(b)\n",
        "\n",
        "# c = 'you eat {number} apples, i eat {day} apple'\n",
        "# print(c)\n",
        "\n",
        "d = 'you eat {number} apples, i eat {day} apple'.format(number = 5, day = 1)\n",
        "print(d)\n",
        "\n",
        "# e = 'I eat {number} apples, you eat {0} banana'.format(number = 2, 3)\n",
        "# print(e)\n",
        "# e = 'I eat {number} apples, you eat {1} banana'.format(number = 2, 1)\n",
        "# print(e)\n",
        "\n",
        "e = 'I eat {number} apples, you eat {0} banana'.format(3, number = 2)\n",
        "print(e)\n",
        "\n",
        "f = 'i eat {0} apples, you eat {number} banana'.format(3, number = 3)\n",
        "print(f)\n",
        "\n",
        "# 포멧 기능중 {0}과 {number}을 같이 사용할시 코드내의 순서랑 상관없이\n",
        "# .format({0},{number})순으로 써야 에러 안생김(문자보다 숫자 우선처리인듯)"
      ],
      "execution_count": 0,
      "outputs": []
    },
    {
      "metadata": {
        "id": "apHFyf1t2Kj3",
        "colab_type": "code",
        "colab": {}
      },
      "cell_type": "code",
      "source": [
        "# 포멧을 이용한 정렬방식\n",
        "\n",
        "a = \"{0:~<10}\".format(\"hi\")\n",
        "print(a)\n",
        "\n",
        "b = \"{0:#>10}\".format('hi')\n",
        "print(b)\n",
        "\n",
        "c = '{0:^10}'.format('hi')\n",
        "print(c)\n",
        "\n",
        "# 포멧을 이용한 소수점표시\n",
        "\n",
        "y = 3.3426789679\n",
        "\n",
        "d = '{0:0.4f}'.format(y)\n",
        "print(d)\n",
        "\n",
        "e = \"{0:@>10.4f}\".format(y)\n",
        "print(e)\n",
        "\n",
        "# {}보여주는 포멧팅\n",
        "f = \"{{and}}\".format()\n",
        "print(f)"
      ],
      "execution_count": 0,
      "outputs": []
    },
    {
      "metadata": {
        "id": "ZbyEWpAz7P1x",
        "colab_type": "code",
        "colab": {}
      },
      "cell_type": "code",
      "source": [
        "# f문자열 포멧팅\n",
        "\n",
        "name = '이희성'\n",
        "\n",
        "age = 29\n",
        "\n",
        "a = f'나의 이름은 {name}입니다. 나이는 {age}입니다.'\n",
        "print(a)\n",
        "\n",
        "b = f'내년에는 나이가{age+1}살이 된다'\n",
        "print(b)\n",
        "\n",
        "z = {'name':'이희성', 'age':29}\n",
        "\n",
        "c = f\"내 이름은 {z['name']}이고 나이는 {z['age']}야\"\n",
        "print(c)"
      ],
      "execution_count": 0,
      "outputs": []
    },
    {
      "metadata": {
        "id": "irO6qldMVcgB",
        "colab_type": "code",
        "colab": {}
      },
      "cell_type": "code",
      "source": [
        "# 문자열 관련 함수들\n",
        "\n",
        "# 문자 개수 세기(count)\n",
        "\n",
        "a = \"hobby\"\n",
        "print(a.count('b'))\n",
        "\n",
        "# 문자 위치 알려주기(find)\n",
        "\n",
        "b = \"python is the best choice\"\n",
        "print(b.find('b'))\n",
        "print(b.find('k'))\n",
        "print(b.find('e'))\n",
        "\n",
        "# 문자 위치 알려주기 2 (index)\n",
        "\n",
        "c = 'life is too short'\n",
        "print(c.index('t'))\n",
        "# print(c.index('k'))\n",
        "print(c.index('i'))\n",
        "# 없는 문자를 찾으면 오류 발생"
      ],
      "execution_count": 0,
      "outputs": []
    },
    {
      "metadata": {
        "id": "ocmwhXbkY4tk",
        "colab_type": "code",
        "colab": {}
      },
      "cell_type": "code",
      "source": [
        "# 문자열 삽입(join)\n",
        "\n",
        "a = ','\n",
        "print(a.join('asdgf'))\n",
        "print(a.join(':::::'))\n",
        "\n",
        "# 소문자를 대문자로 변경(upper)\n",
        "\n",
        "b = \"bye\"\n",
        "print(b.upper())\n",
        "\n",
        "c = 'LioN'\n",
        "print(c.upper())\n",
        "\n",
        "# 대문자를 소문자로 변경(lower)\n",
        "\n",
        "d = \"JOIN\"\n",
        "print(d.lower())\n",
        "\n",
        "e = 'sign'\n",
        "print(e.lower())\n",
        "\n",
        "# 왼쪽 공백 지우기(lstrip)\n",
        "\n",
        "f = \"  dog\"\n",
        "\n",
        "print(f.lstrip())\n",
        "\n",
        "# 오른쪽 공백 지우기(rstrip)\n",
        "\n",
        "g = 'dog    '\n",
        "\n",
        "print(g.rstrip())\n",
        "\n",
        "# 양쪽 공백 지우기(strip)\n",
        "\n",
        "h = '  small dog   '\n",
        "print(h.strip())\n",
        "\n",
        "# 문자열 바꾸기(replace)\n",
        "\n",
        "ha = \"Life is too short\"\n",
        "\n",
        "print(ha.replace('Life', 'your leg'))\n",
        "\n",
        "# 문자열 나누기(split)\n",
        "\n",
        "i = 'You look so small'\n",
        "print(i.split())\n",
        "\n",
        "j = \"a, b, c, d, e, f\"\n",
        "print(j.split())\n",
        "\n",
        "k = \"a:b:c:d\"\n",
        "print(k.split(\":\"))"
      ],
      "execution_count": 0,
      "outputs": []
    },
    {
      "metadata": {
        "id": "lX7K8gkIYFNG",
        "colab_type": "code",
        "colab": {}
      },
      "cell_type": "code",
      "source": [
        "# 문자열 예제\n",
        "\n",
        "# 1. 문자열 출력 1\n",
        "\n",
        "# print(\"\"점프 투 파이썬\" 문제를 풀어보자\")\n",
        "# a = (\"점프 투 파이썬\" 문제를 풀어보자)\n",
        "a = '\"점프 투 파이썬\" 문제를 풀어보자'\n",
        "print(a)\n",
        "\n",
        "# 2. 문자열 출력 2\n",
        "\n",
        "# print(\"\"Life is too short/ You need pytion\"\")\n",
        "print(\"\"\"Life is too short\n",
        "You need Pytion\"\"\")\n",
        "\n",
        "# 3. 공백 추가\n",
        "\n",
        "# print(\"%dPYTHON\".%d\"          \")\n",
        "b = \"%24s\" % 'PYTHON'\n",
        "print(b)\n",
        "\n",
        "# 4. 문자열 나누기\n",
        "\n",
        "pin = \"881120-1068234\"\n",
        "\n",
        "print(pin[:6])\n",
        "print(pin[7:])\n",
        "\n",
        "# 5. 문자열 인덱싱\n",
        "\n",
        "pin = '881120-1068234'\n",
        "\n",
        "# print(pin.index(7))\n",
        "# print(pin.index(7:8))\n",
        "# print(pin.index())\n",
        "print(pin[7])\n",
        "\n",
        "# 6. 문자열 변경\n",
        "\n",
        "ex = \"1980M1120\"\n",
        "\n",
        "print(ex[4]+ex[:4]+ex[5:])\n",
        "\n",
        "# 7. 문자열 포멧\n",
        "\n",
        "c = 'PYTHON'\n",
        "\n",
        "print(\"%24s\"%\"c\")\n",
        "\n",
        "# 8. 문자열 찾기\n",
        "\n",
        "d = \"Life is too short, you need python\"\n",
        "\n",
        "print(c.find(\"short\"))\n",
        "\n",
        "# print(d.index[\"short\"])\n",
        "\n",
        "# 9. 문자열 바꾸기 1\n",
        "\n",
        "ex1 = \"a:b:c:d\"\n",
        "\n",
        "print(ex1.replace(\":\", \"#\"))\n",
        "\n",
        "# print(ex1.replace[])\n",
        "\n",
        "# 10. 문자열 바꾸기2\n",
        "\n",
        "ex2 = \"a:b:c:d\"\n",
        "\n",
        "ex3 = ex2.split(\":\")\n",
        "\n",
        "print(ex3)\n",
        "# ex3 = ex2.split(\":\"), ex2.join(\"#\")\n",
        "# ex3 = ex2.split('a','b','c','d')\n",
        "# ex3 = ex2.split('abcd')\n",
        "\n",
        "# ex4 = ex3.join(\"#\")\n",
        "# ex3.join(\"#\")\n",
        "\n",
        "a1 = \"#\"\n",
        "\n",
        "#print(a1.join(ex3))"
      ],
      "execution_count": 0,
      "outputs": []
    },
    {
      "metadata": {
        "id": "Tg-D3hHVbZ-t",
        "colab_type": "text"
      },
      "cell_type": "markdown",
      "source": [
        "###02-3 리스트 자료형"
      ]
    },
    {
      "metadata": {
        "id": "gIu25eDp9MOk",
        "colab_type": "code",
        "colab": {}
      },
      "cell_type": "code",
      "source": [
        "# 리스트는 '[]'로 감싸고 구분은 ','로 구분한다\n",
        "\n",
        "odd = [1, 3, 5, 7, 9]\n",
        "\n",
        "# 리스트명 = [요소1, 요소2, 요소3.........]\n",
        "\n",
        "a = []\n",
        "\n",
        "print(a)\n",
        "\n",
        "b = list()\n",
        "\n",
        "print(b)\n",
        "\n",
        "c = [1, 2, ['life', 'is']]\n",
        "\n",
        "print(c)"
      ],
      "execution_count": 0,
      "outputs": []
    },
    {
      "metadata": {
        "id": "aF-XBCOS_rtv",
        "colab_type": "code",
        "colab": {}
      },
      "cell_type": "code",
      "source": [
        "# 리스트의 인덱싱\n",
        "\n",
        "a = [1, 2, 3, 4, 5]\n",
        "\n",
        "print(a[0])\n",
        "print(a[3])\n",
        "print(a[-1])\n",
        "# a[]안의 숫자는 a 라는 리스트의 몇번째 요소인지 정하는 것"
      ],
      "execution_count": 0,
      "outputs": []
    },
    {
      "metadata": {
        "id": "TgIdH5g6BNf6",
        "colab_type": "code",
        "colab": {}
      },
      "cell_type": "code",
      "source": [
        "# 리스트 요소가 수일경우 리스트 요소끼리의 연산가능\n",
        "\n",
        "print(a[0]+a[2])\n",
        "\n",
        "print(a[-1] + a[1])"
      ],
      "execution_count": 0,
      "outputs": []
    },
    {
      "metadata": {
        "id": "r719dfE4BeBX",
        "colab_type": "code",
        "colab": {}
      },
      "cell_type": "code",
      "source": [
        "# 리스트 안의 리스트를 만들어 확인\n",
        "\n",
        "a = [1, 2, 3, ['a', 'b', 'c']]\n",
        "\n",
        "print(a[0])\n",
        "\n",
        "print(a[-1])\n",
        "\n",
        "print(a[3])\n",
        "\n",
        "# print(a[-1[1]])\n",
        "\n",
        "print(a[-1],[2])\n",
        "\n",
        "print(a[-1][2])\n",
        "\n",
        "# print(a[6])\n",
        "\n",
        "# 리스트 안의 리스트를 불러오기위해서는\n",
        "# 리스트 안의 리스트 가있는 인덱스를 설정하고 그 인덱스 안의 리스트 위치를 입력\n",
        "# 예 리스트[리스트가 있는인덱스][인덱스안의 리스트의 인덱스 위치]\n",
        "# a[3][1]\n",
        "\n",
        "# 삼중 인덱싱\n",
        "\n",
        "b = [1, 2, ['a', 'b', ['python', 'is']]]\n",
        "\n",
        "print(b[2][2][1])"
      ],
      "execution_count": 0,
      "outputs": []
    },
    {
      "metadata": {
        "id": "UpN6Zg3dECze",
        "colab_type": "code",
        "colab": {}
      },
      "cell_type": "code",
      "source": [
        "# 리스트 슬라이싱\n",
        "\n",
        "a = [1, 2, 3, 4, 5]\n",
        "\n",
        "print(a[0:2])\n",
        "\n",
        "# 문자열 슬라이싱 비교\n",
        "\n",
        "b = '12345'\n",
        "\n",
        "print(b[0:2])\n",
        "\n",
        "# 슬라이싱으로 가지고온 값은 인덱스가 아니라 리스트로 분류"
      ],
      "execution_count": 0,
      "outputs": []
    },
    {
      "metadata": {
        "id": "P1WQE551Egvg",
        "colab_type": "code",
        "colab": {}
      },
      "cell_type": "code",
      "source": [
        "# 중첩 리스트 슬라이싱\n",
        "\n",
        "a = [1, 2 ,3 ,['a', 'b', 'c'], 4, 5]\n",
        "\n",
        "print(a[3][:2])"
      ],
      "execution_count": 0,
      "outputs": []
    },
    {
      "metadata": {
        "id": "Qnp63PotFsCR",
        "colab_type": "code",
        "colab": {}
      },
      "cell_type": "code",
      "source": [
        "# 리스트 연산\n",
        "\n",
        "a = [1, 2, 3]\n",
        "\n",
        "b = [4, ['a', 'b', 'c'], 5]\n",
        "\n",
        "print(a+b)\n",
        "\n",
        "# print(a[1] + 'hi')\n",
        "# 타입 다르며 에러발상\n",
        "\n",
        "print(str(a[2]) + 'hi')"
      ],
      "execution_count": 0,
      "outputs": []
    },
    {
      "metadata": {
        "id": "3gPwNvcYF_Mc",
        "colab_type": "code",
        "colab": {}
      },
      "cell_type": "code",
      "source": [
        "# 리스트 반복(*)\n",
        "\n",
        "a * 3"
      ],
      "execution_count": 0,
      "outputs": []
    },
    {
      "metadata": {
        "id": "6bjU4sW-GPbr",
        "colab_type": "code",
        "colab": {}
      },
      "cell_type": "code",
      "source": [
        "# 리스트 내의 인덱스 변경\n",
        "\n",
        "a = [1, 2, 3, 4]\n",
        "\n",
        "# print(a[2] = [5, 4, 3, 2, 1])\n",
        "a[2] = [5, 4, 3, 2, 1]\n",
        "\n",
        "print(a)\n",
        "\n",
        "a[3] = 6\n",
        "\n",
        "print(a)\n",
        "\n",
        "# 인덱스 변경시 a[] = []로 변경시키면 리스트로 변경되어 입력됨\n",
        "# 단순 인덱스를 인덱스로 변경시키려면 a[] = 요소 로 입력"
      ],
      "execution_count": 0,
      "outputs": []
    },
    {
      "metadata": {
        "id": "gtjTU-wfHbvU",
        "colab_type": "code",
        "colab": {}
      },
      "cell_type": "code",
      "source": [
        "# 리스트내의 연속된 인덱스 수정\n",
        "# # 주의점 새로운 셀에서 다시 변수선언 하지 않고 연속된 인덱스 수정시\n",
        "# 중복 실행하면 결과 값이 변함으로 반듯이 한번만!!!\n",
        "\n",
        "print(a[1:2])\n",
        "\n",
        "# print(a[1:2] = ['a', 'b', 'c'])\n",
        "a[1:2] = ['a', 'b', 'c']\n",
        "\n",
        "print(a)\n",
        "\n",
        "# a[1:2] = [][1, 2, 3, 4]\n",
        "a[1:2] = [[1, 2, 3, 4]]\n",
        "# 인덱스 안의 리스트 집어넣을땐 [][]를 이용하면 에러발생 [[]]기능 사용\n",
        "\n",
        "print(a)\n",
        "\n",
        "# 리스트 내의 인덱스 수정시 수정 수식을 print() 안에 넣고 사용하면 작동안됨\n",
        "# 수정후에 print()수식 가능"
      ],
      "execution_count": 0,
      "outputs": []
    },
    {
      "metadata": {
        "id": "bqsLNktJKedG",
        "colab_type": "code",
        "colab": {}
      },
      "cell_type": "code",
      "source": [
        "# 리스트내의 인덱스 삭제 방법\n",
        "\n",
        "a[1:3] = []\n",
        "\n",
        "print(a)"
      ],
      "execution_count": 0,
      "outputs": []
    },
    {
      "metadata": {
        "id": "vKZtzjRlQasF",
        "colab_type": "code",
        "colab": {}
      },
      "cell_type": "code",
      "source": [
        "# del 함수를 사용하여 인덱스 수정\n",
        "\n",
        "del a[2]\n",
        "# del.a[1]\n",
        "# dela[1]\n",
        "# a.del(1)\n",
        "# a.del[1]\n",
        "# a.del(\"1\")\n",
        "# a[1].del\n",
        "\n",
        "print(a)\n",
        "\n",
        "# del 함수 이용시 띄어쓰기로 분류 해줘야 가능\n",
        "# del 객체\n",
        "# find 함수같은 방식으로 작동 안됨\n",
        "\n",
        "del a[1:3]\n",
        "\n",
        "print(a)\n",
        "\n",
        "# 인덱스 슬라이싱(범위설정) 하여 제거 가능"
      ],
      "execution_count": 0,
      "outputs": []
    },
    {
      "metadata": {
        "id": "PnlqgLaVS4sZ",
        "colab_type": "code",
        "colab": {}
      },
      "cell_type": "code",
      "source": [
        "# 리스트에 요소 추가(append)\n",
        "\n",
        "a = [1, 2, 3, 4, 5]\n",
        "\n",
        "# print(a.append(4))\n",
        "a.append(4)\n",
        "\n",
        "print(a)\n",
        "\n",
        "# print(a.index(4))\n",
        "\n",
        "a.append([3, 2, 1])\n",
        "\n",
        "print(a)"
      ],
      "execution_count": 0,
      "outputs": []
    },
    {
      "metadata": {
        "id": "Ya3tPeClYMSc",
        "colab_type": "code",
        "colab": {}
      },
      "cell_type": "code",
      "source": [
        "# 리스트 정령(sort)\n",
        "\n",
        "a = [1, 5, 3, 2, 4]\n",
        "\n",
        "a.sort()\n",
        "\n",
        "a"
      ],
      "execution_count": 0,
      "outputs": []
    },
    {
      "metadata": {
        "id": "fcm-BmyiYn2q",
        "colab_type": "code",
        "colab": {}
      },
      "cell_type": "code",
      "source": [
        "# 리스트 뒤집기(reverse)\n",
        "\n",
        "a = ['a', 'c', 'e']\n",
        "\n",
        "a.reverse()\n",
        "\n",
        "a"
      ],
      "execution_count": 0,
      "outputs": []
    },
    {
      "metadata": {
        "id": "M-gvLV_uZk4d",
        "colab_type": "code",
        "colab": {}
      },
      "cell_type": "code",
      "source": [
        "# 위치 반환(index)\n",
        "# 요소의 인덱스 확인\n",
        "\n",
        "a = [1, 2, 3, 4, 2]\n",
        "\n",
        "# a.index(2, [1, 4])\n",
        "# print(a.index(2, [1, [4]]))\n",
        "print(a.index(2))\n",
        "\n",
        "# print(a.index(5))\n",
        "# 없는 요소의 인덱스는 확인 안됨\n",
        "\n",
        "b = [4, 1, 6, 2, 3, 5]\n",
        "\n",
        "print(b.index(3))"
      ],
      "execution_count": 0,
      "outputs": []
    },
    {
      "metadata": {
        "id": "s-0796raoqKJ",
        "colab_type": "code",
        "colab": {}
      },
      "cell_type": "code",
      "source": [
        "# 리스트에 요소 삽입(insert)\n",
        "\n",
        "a = [1, 2 ,3]\n",
        "\n",
        "a.insert(0, 4)\n",
        "\n",
        "print(a)\n",
        "\n",
        "a.insert(1, 3)\n",
        "\n",
        "print(a)\n",
        "\n",
        "a.insert(2, [2])\n",
        "\n",
        "print(a)"
      ],
      "execution_count": 0,
      "outputs": []
    },
    {
      "metadata": {
        "id": "p9ZK-tY_pa_v",
        "colab_type": "code",
        "colab": {}
      },
      "cell_type": "code",
      "source": [
        "# 리스트 요소 제거(remove)\n",
        "\n",
        "a = [1, 2, 3, [4], 5, 6]\n",
        "\n",
        "a.remove(2)\n",
        "\n",
        "print(a)\n",
        "\n",
        "# a.remove(4)\n",
        "a.remove([4])\n",
        "# 리스트 안의 리스트는 []넣어주어 선택해줘야 제거가 됨\n",
        "\n",
        "print(a)"
      ],
      "execution_count": 0,
      "outputs": []
    },
    {
      "metadata": {
        "id": "Ydsg0h0fc-qZ",
        "colab_type": "code",
        "colab": {}
      },
      "cell_type": "code",
      "source": [
        "# 리스트 요소 끄집어내기(pop)\n",
        "\n",
        "a = [1, 2, 3, 4, 5, 4, 3, 2, 1]\n",
        "\n",
        "a.pop()\n",
        "\n",
        "a\n",
        "\n",
        "# 아무 인덱스도 집어 넣지 않을시 마지막 인덱스만 제거한다"
      ],
      "execution_count": 0,
      "outputs": []
    },
    {
      "metadata": {
        "id": "nyu7eelueVVA",
        "colab_type": "code",
        "colab": {}
      },
      "cell_type": "code",
      "source": [
        "# 인덱스 집어넣을을 때\n",
        "\n",
        "a = [1, 2, 3, 4, 5, 4, 3, 2, 1]\n",
        "\n",
        "a.pop(3)\n",
        "\n",
        "a"
      ],
      "execution_count": 0,
      "outputs": []
    },
    {
      "metadata": {
        "id": "xWuZ8NYYhMIW",
        "colab_type": "code",
        "colab": {}
      },
      "cell_type": "code",
      "source": [
        "# 인덱스 범위 집어넣을 때\n",
        "\n",
        "a = [1, 2, 3, 4, 5, 4, 3, 2, 1]\n",
        "\n",
        "# a.pop[:2]\n",
        "\n",
        "# print(a)\n",
        "\n",
        "# a.pop([1:])\n",
        "\n",
        "# print(a)\n",
        "\n",
        "a[0:5].pop(2)\n",
        "b = a[0:5].pop(2)\n",
        "# b = a[0:5].copy()\n",
        "# b = a.copy()\n",
        "\n",
        "c = a[0:5]\n",
        "\n",
        "print(a)\n",
        "print(b)\n",
        "print(c)\n",
        "a.pop(4)\n",
        "print(a)\n",
        "print(b)\n",
        "\n",
        "# pop 만을 이용한 범위 인덱스 범위 정하여 제거는 안됨"
      ],
      "execution_count": 0,
      "outputs": []
    },
    {
      "metadata": {
        "id": "z-pPXD1xnymq",
        "colab_type": "code",
        "colab": {}
      },
      "cell_type": "code",
      "source": [
        "# remove 와 pop 과 del의 차이\n",
        "# remove는 요소만 삭제\n",
        "# pop은 해당 인덱스의 요소를 삭제하고 요소를 리턴받음\n",
        "# del은 해당 인덱스의 삭제"
      ],
      "execution_count": 0,
      "outputs": []
    },
    {
      "metadata": {
        "id": "OUsudGy0dq3_",
        "colab_type": "code",
        "colab": {}
      },
      "cell_type": "code",
      "source": [
        "# 리스트에 포함된 특정 요소 개수 세기(count)\n",
        "\n",
        "a = [1, 2, 3, 4, 5, 4, 3, 2, 1]\n",
        "\n",
        "a.count(4)"
      ],
      "execution_count": 0,
      "outputs": []
    },
    {
      "metadata": {
        "id": "W4xEJahcnJCP",
        "colab_type": "code",
        "colab": {}
      },
      "cell_type": "code",
      "source": [
        "# 리스트 확장(extend)\n",
        "\n",
        "a = [1, 2, 3]\n",
        "\n",
        "a.extend([4, 5])\n",
        "\n",
        "print(a)\n",
        "\n",
        "a.extend([[2, 3]])\n",
        "\n",
        "print(a)"
      ],
      "execution_count": 0,
      "outputs": []
    },
    {
      "metadata": {
        "id": "VscrQstisJ1U",
        "colab_type": "code",
        "colab": {}
      },
      "cell_type": "code",
      "source": [
        "# 연습문제\n",
        "\n",
        "# 1. 리스트 인덱싱\n",
        "\n",
        "a = ['Life', 'is', 'too', 'short', 'you', 'need', 'pytion']\n",
        "\n",
        "print(a[4], a[2])\n",
        "\n",
        "# 건영방법\n",
        "\n",
        "# a1 = a[4] + ' ' + a[2]\n",
        "# print(a1)\n",
        "\n",
        "# 2. 리스트 조인\n",
        "\n",
        "b = ['Life', 'is', 'too', 'short']\n",
        "\n",
        "# print(b[0] + b[1] + b[2] + b[3])\n",
        "# print(b[0], b[1], b[2], b[3])\n",
        "# 위의 방법으로 가능은 하지만 join 함수 사용\n",
        "# join 사용법\n",
        "# '연결시킬 내용'.join(b)\n",
        "print(' '. join(b))\n",
        "# print(' ', join(b[0], b[1], b[2], b[3]))\n",
        "print(' '. join(b[1:4]))\n",
        "# print(' ', join(b[0:3], b[2:4]))\n",
        "\n",
        "# 3. 리스트의 갯수\n",
        "\n",
        "c = [1, 2, 3]\n",
        "\n",
        "# c.len()\n",
        "len(c)\n",
        "\n",
        "# 4. 리스트의 append와 extend 차이\n",
        "\n",
        "d = [1, 2, 3]\n",
        "\n",
        "d.append([4, 5])\n",
        "\n",
        "print(d)\n",
        "\n",
        "d = [1, 2, 3]\n",
        "\n",
        "d.extend([4, 5])\n",
        "\n",
        "print(d)\n",
        "\n",
        "# append는 ()안에 있는 요소를 그대로 리스트안에 집어넣고\n",
        "# extend는 ([])를 사용해야 리스트안에 추가 가능\n",
        "# extend에 []없이 리스트안에 요소 삽입하려면 아래와 같이 변수 선언후 진행\n",
        "# d1 = [1, 2, 3]\n",
        "# d2 = [4, 5, 6]\n",
        "# d1.extend(d2)\n",
        "# print('test : ', d1)\n",
        "# ----------------------------------------------------\n",
        "# print(d.append([4, 5]))\n",
        "# print(d.append([4, 5]))\n",
        "\n",
        "# d1 = d.append([4, 5])\n",
        "# print(d1)\n",
        "\n",
        "# d2 = d.extend([4, 5])\n",
        "# print(d2)\n",
        "\n",
        "# 위와 같은 방법으로 실행 하면 결과값이 none으로 나옴\n",
        "\n",
        "# 5. 리스트 정령\n",
        "\n",
        "e = [1, 3, 5, 4, 2]\n",
        "\n",
        "e.sort()\n",
        "\n",
        "e.reverse()\n",
        "\n",
        "print(e)\n",
        "\n",
        "# 6. 리스트 삭제\n",
        "\n",
        "f = [1, 2, 3, 4, 5]\n",
        "\n",
        "del f[1]\n",
        "\n",
        "f.remove(4)\n",
        "\n",
        "print(f)\n",
        "\n",
        "# del은 해당 인덱스 제거\n",
        "# remove는 해당 요소 제거"
      ],
      "execution_count": 0,
      "outputs": []
    },
    {
      "metadata": {
        "id": "14YR9Ev_ZZmN",
        "colab_type": "code",
        "colab": {}
      },
      "cell_type": "code",
      "source": [
        "d1 = ['asdf',1,2,3]\n",
        "\n",
        "d1.extend(['qwer'])\n",
        "d1.extend('qwer')\n",
        "\n",
        "print(d1)\n",
        "\n",
        "d2 = ['asdf',1,2,3]\n",
        "\n",
        "d2.extend(['1234'])\n",
        "d2.extend('1234')\n",
        "\n",
        "print(d2)\n",
        "\n",
        "d1 = ['asdf',1,2,3]\n",
        "\n",
        "d1.extend([4, 5, 6])\n",
        "# d1.extend(456)\n",
        "# d1.extend(4,5,6)\n",
        "# 수를 취급할시 하나의 수는 인식이 안되고 여러가지의 숫자를 넣고 반듯이 ([])를 써야 인식한다\n",
        "print(d1)"
      ],
      "execution_count": 0,
      "outputs": []
    },
    {
      "metadata": {
        "id": "A9Yydm_KxY2C",
        "colab_type": "text"
      },
      "cell_type": "markdown",
      "source": [
        "###02-4 튜플 자료형"
      ]
    },
    {
      "metadata": {
        "id": "gr6-aqpEH8pm",
        "colab_type": "text"
      },
      "cell_type": "markdown",
      "source": [
        "#### 리스트와 튜플의 차이점\n",
        "  * 리스트는 []를 이용해 작성이되고\n",
        "  * 튜플은 ()를 이용해 작성이된다\n",
        "  * 리스트는 수정이 용이하다\n",
        "  * 튜플은 입력한 요소를 바꾸지 못한다"
      ]
    },
    {
      "metadata": {
        "id": "0j7tx8aLNu3d",
        "colab_type": "code",
        "colab": {}
      },
      "cell_type": "code",
      "source": [
        "# 튜플 요소값 삭제시\n",
        "\n",
        "tup = (1, 2, 'a', 'b')\n",
        "\n",
        "del tup[0]"
      ],
      "execution_count": 0,
      "outputs": []
    },
    {
      "metadata": {
        "id": "Vr3HQjSaOE0Q",
        "colab_type": "code",
        "colab": {}
      },
      "cell_type": "code",
      "source": [
        "# 튜플 요소값 변경시\n",
        "\n",
        "tup = (1, 2, 'a', 'b')\n",
        "\n",
        "tup[0] = 'c'"
      ],
      "execution_count": 0,
      "outputs": []
    },
    {
      "metadata": {
        "id": "vci65ZPDOW8V",
        "colab_type": "code",
        "colab": {}
      },
      "cell_type": "code",
      "source": [
        "# 튜플은 입력한 요소변경이 불가능 하지만\n",
        "# 그외의 작업은 가능하다"
      ],
      "execution_count": 0,
      "outputs": []
    },
    {
      "metadata": {
        "id": "49xwMlnKO01f",
        "colab_type": "code",
        "colab": {}
      },
      "cell_type": "code",
      "source": [
        "# 튜플 인덱싱\n",
        "\n",
        "tup = (1, 2, 'a', 'b')\n",
        "\n",
        "print(tup[1])\n",
        "\n",
        "print(tup[3])\n",
        "\n",
        "# 튜플 슬라이싱\n",
        "\n",
        "tup = (1, 2, 'a', 'b')\n",
        "\n",
        "print(tup[1:3])\n",
        "\n",
        "# 튜플 연산\n",
        "\n",
        "tup1 = (1, 2, 'a')\n",
        "tup2 = ('b', 2, 'c')\n",
        "\n",
        "print(tup1 + tup2)\n",
        "\n",
        "print(tup2 * 3)\n",
        "\n",
        "# print(tup1 - tup2)"
      ],
      "execution_count": 0,
      "outputs": []
    },
    {
      "metadata": {
        "id": "QUitqymuPyvc",
        "colab_type": "code",
        "colab": {}
      },
      "cell_type": "code",
      "source": [
        "# 연습 문제\n",
        "\n",
        "# 1. 튜플 작성\n",
        "\n",
        "tup = (3, 3, 3, 3, 3, 3)\n",
        "\n",
        "# 2. 튜플 변경 오류 설명\n",
        "\n",
        "# tup = (1, 2, 3)\n",
        "\n",
        "# tup[1] = 4\n",
        "\n",
        "# 입력한 코딩은 tup의 1번째 인덱싱의 요소를 4로 바꾸고 입력이 되어있다\n",
        "# 리스트의 경우에는 1번째 인덱싱인 2가 4로 바뀌어 (1, 4, 3)이 되겠지만\n",
        "# 튜플은 한번 작성하면 추가 코딩으로 요소 수정이 불가능하다\n",
        "# 바꾸기 위해서는 직접 튜플 리스트를 수정을 하거나\n",
        "# 슬라이싱과 새로운 튜플 추가와 튜플끼리 합쳐서 '바뀐것 처럼 보이게는' 만들수는 있다\n",
        "\n",
        "# 3. 튜플 추가\n",
        "\n",
        "# tup1 = (1, 2, 3)\n",
        "\n",
        "# tup2 = (5)\n",
        "\n",
        "# print(tup1 + tup2)\n",
        "\n",
        "# tup1 + tup2\n",
        "\n",
        "# 위의 같은경우에는 에러 발생\n",
        "# 튜플 리스트 작성시 ()안에 1개의 인덱스만 존재할경우 리스트로 취급이 안됨\n",
        "\n",
        "tup1 = (1, 2, 3)\n",
        "\n",
        "tup2 = (4, 5)\n",
        "\n",
        "print(tup1 + tup2)\n",
        "\n",
        "tup1 + tup2\n",
        "\n",
        "# tup1.extend(tup2)\n",
        "# print(tup1)\n",
        "# extend로 불가능"
      ],
      "execution_count": 0,
      "outputs": []
    },
    {
      "metadata": {
        "id": "rXaNKPdHTXkE",
        "colab_type": "text"
      },
      "cell_type": "markdown",
      "source": [
        "###02-5 딕셔너리 자료형"
      ]
    },
    {
      "metadata": {
        "id": "ihueyrBZVInY",
        "colab_type": "code",
        "colab": {}
      },
      "cell_type": "code",
      "source": [
        "# 딕셔너리는 리스트와 튜플과 다르게 표처럼 {key1 : value1}로 이루어져서\n",
        "# key 값에 여러 요소와 리스트를 넣을수 있고 key는 index 역활이고\n",
        "# value는 요소 역활이다\n",
        "# key와 value가 하나의 리스트 역활을 수행한다\n",
        "\n",
        "dic = {'name' : 'pey', 'phone' : '0119993323', 'birth' : '1118'}\n",
        "\n",
        "a = {1 : 'hi'}\n",
        "\n",
        "b = {'a' : [1, 2, 3]}\n",
        "\n",
        "print(dic)\n",
        "\n",
        "dic"
      ],
      "execution_count": 0,
      "outputs": []
    },
    {
      "metadata": {
        "id": "ZfR-HBoCWVgh",
        "colab_type": "code",
        "colab": {}
      },
      "cell_type": "code",
      "source": [
        "# 딕셔너리 쌍 추가하기\n",
        "\n",
        "a = {1 : 'a'}\n",
        "\n",
        "a[2] = 2\n",
        "\n",
        "print(a)\n",
        "\n",
        "a[2] = 'b'\n",
        "\n",
        "print(a)\n",
        "\n",
        "a['name'] = 'pey'\n",
        "\n",
        "print(a)\n",
        "\n",
        "a[4] = [1, 2, 3]\n",
        "\n",
        "print(a)\n",
        "\n",
        "a['win?'] = 'pay to win!'\n",
        "\n",
        "print(a)\n",
        "\n",
        "a['name'] = 'mai'\n",
        "\n",
        "print(a)\n",
        "\n",
        "# a['time'] = 13 : 45\n",
        "# a['time'] = [13 : 45]\n",
        "a['time'] = '13 : 45'\n",
        "\n",
        "print(a)\n",
        "\n",
        "a[3] = 2222\n",
        "\n",
        "print(a)\n",
        "\n",
        "a[7] = 1\n",
        "\n",
        "print(a)\n",
        "\n",
        "a\n",
        "# a[0]\n",
        "# 딕셔너리가 추가될때는 key가 인덱스 역활을 하기에\n",
        "# 입력순서에 상관 없이 추가하는 순서대로 입력이 된다\n",
        "# 딕셔너리 추가시 같은 key가 입력되면 마지막 입력된 key에 할당된 value 값으로 수정"
      ],
      "execution_count": 0,
      "outputs": []
    },
    {
      "metadata": {
        "id": "_QD9EUJTblfk",
        "colab_type": "code",
        "colab": {}
      },
      "cell_type": "code",
      "source": [
        "# 딕셔너리 요소 삭제\n",
        "\n",
        "del a[4]\n",
        "\n",
        "# del a[2222]\n",
        "\n",
        "print(a)\n",
        "\n",
        "a\n",
        "\n",
        "# del a[key]를 입력하면 해당 요소가 삭제되지만\n",
        "# del a[value]를 입력하면 에러발생하여 제거가 안된다\n",
        "# value는 key 안에 있는 값! 리스트 안의 리스트 '[1, [2, 3]]' 에 '[2, 3]'' 비슷한 것"
      ],
      "execution_count": 0,
      "outputs": []
    },
    {
      "metadata": {
        "id": "gIWhZ6ITfkao",
        "colab_type": "code",
        "colab": {}
      },
      "cell_type": "code",
      "source": [
        "# 딕셔너리에서 key 사용해 value 얻기\n",
        "\n",
        "test = {'pey' : 10, 'julliet' : 99}\n",
        "\n",
        "print(test['pey'])\n",
        "\n",
        "test['julliet']"
      ],
      "execution_count": 0,
      "outputs": []
    },
    {
      "metadata": {
        "id": "FeaEzcZhdB_t",
        "colab_type": "code",
        "colab": {}
      },
      "cell_type": "code",
      "source": [
        "# 딕셔너리 작성시 주의 사항\n",
        "\n",
        "a = {1 : 'a', 1 : 'f'}\n",
        "\n",
        "print(a)\n",
        "\n",
        "# 같은 key를 여러번 입력하면 마지막 입력된 내용만 인식된다\n",
        "\n",
        "# b = {[1, 2] : 'cold'}\n",
        "b = {(1, 2) : (3, 4)}\n",
        "c = {'cold' : [1, 2]}\n",
        "\n",
        "print(b)\n",
        "print(c)\n",
        "# 딕셔너리에 리스트를 사용할수는 있지만\n",
        "# value에는 사용가능하고 key에 리스트를 사용할수는 없다\n",
        "# 하지만 튜플 형식은 Key로 사용할수 있다"
      ],
      "execution_count": 0,
      "outputs": []
    },
    {
      "metadata": {
        "id": "2KnxEKXviun2",
        "colab_type": "code",
        "colab": {}
      },
      "cell_type": "code",
      "source": [
        "# 딕셔너리 함수\n",
        "# 리스트에 쓰이는 대부분의 함수는 사용하지 못한다\n",
        "\n",
        "# 1. key 리스트 만들기(keys)\n",
        "\n",
        "a = {'name' : 'pey', 'phone' : '0119993323', 'birth' : '1118'}\n",
        "\n",
        "print(a.keys())\n",
        "\n",
        "print(list(a.keys()))\n",
        "\n",
        "# 2. value 리스트 만들기(values)\n",
        "\n",
        "print(a.values())\n",
        "\n",
        "print(list(a.values()))\n",
        "\n",
        "# 3. key, value를 튜플로 묶어 나누기(items)\n",
        "\n",
        "print(a.items())\n",
        "\n",
        "print(list(a.items()))\n",
        "\n",
        "# 4. key : value를 전부 지우기(clear)\n",
        "\n",
        "a.clear()\n",
        "\n",
        "a\n",
        "\n",
        "# 5. key로 value 얻기(get)\n",
        "\n",
        "a = {'name' : 'pey', 'phone' : '0119993323', 'birth' : '1118'}\n",
        "\n",
        "print(a.get('phone'))\n",
        "\n",
        "print(a.get('name'))\n",
        "\n",
        "print(a.get('some'))\n",
        "\n",
        "# 출력값이 None은 false(실패)이다\n",
        "\n",
        "print(a.get('foo', 'fighter'))\n",
        "\n",
        "# 6. 딕셔너리 안에 해당 key가 있는지 확인(in)\n",
        "\n",
        "test = {'name' : 'pey', 'phone' : '0119993323', 'birth' : '1118'}\n",
        "\n",
        "print('name' in test)\n",
        "\n",
        "print('email' in test)"
      ],
      "execution_count": 0,
      "outputs": []
    },
    {
      "metadata": {
        "id": "55FFV5Z7o_Rt",
        "colab_type": "code",
        "outputId": "371745b1-7d2e-4792-b273-32228e6008c9",
        "colab": {
          "base_uri": "https://localhost:8080/",
          "height": 179
        }
      },
      "cell_type": "code",
      "source": [
        "# 연습문제 만들기\n",
        "\n",
        "# 1. 딕셔너리 만들기\n",
        "\n",
        "dic = {'name' : '홍길동', 'birth' : 1128, 'age' : 30}\n",
        "\n",
        "print(dic)\n",
        "\n",
        "# 2. 딕셔너리 오류\n",
        "\n",
        "# x = dic()는 아래와 같이 딕셔너리를 생성 할수 있다\n",
        "# x = dict(name = \"John\", age = 36, country = \"Norway\")\n",
        "\n",
        "a = dict()\n",
        "\n",
        "a['name'] = 'python'\n",
        "\n",
        "a[('a', 'n')] = 'python'\n",
        "\n",
        "# a[[1]] = 'python'\n",
        "\n",
        "a[250] = 'python'\n",
        "\n",
        "print(a)\n",
        "\n",
        "# 'name' 추가는 문자열을 key 로 사용할 수 있어서 허용되고\n",
        "# ('a', 'n') 튜플 형식은 딕셔너리의 key 사용이 가능\n",
        "# [1]의 경우는 리스트이고 리스트는 언제든 함수를 이용해 수정이 가능해\n",
        "# key 값이 될경우 문제가 생길수 있기 때문에 허용이 안되어 에러 발생의로 추측된다\n",
        "# 250 추가는 수를 key로 사용할 수 있어서 허용됨\n",
        "\n",
        "# 3. 딕셔너리 값 추출 1\n",
        "\n",
        "a = {'a' : 90, 'b' : 80, 'c' : 70}\n",
        "\n",
        "print(a.get(\"b\"))\n",
        "\n",
        "del a['b']\n",
        "\n",
        "print(a)\n",
        "\n",
        "# a.clear('b')\n",
        "\n",
        "# print(a)\n",
        "\n",
        "a.clear()\n",
        "\n",
        "print(a)\n",
        "\n",
        "# 4. 딕셔너리 값 추출 2\n",
        "\n",
        "a = dict(a = 90, b = 80)\n",
        "\n",
        "print(a)\n",
        "\n",
        "print(a.get('c', 70))\n",
        "\n",
        "# 5. 딕셔너리 최소값\n",
        "\n",
        "dic = dict(a = 90, b = 80, c =75)\n",
        "\n",
        "# dicmin.min()\n",
        "\n",
        "dicmin = min(dic.values())\n",
        "\n",
        "print(dicmin)\n",
        "\n",
        "# 6. 딕셔너리 리스트 변환\n",
        "\n",
        "dicit = dict(a = 91, b = 88, c =75)\n",
        "\n",
        "# dicit.items()\n",
        "print(list(dicit.items()))"
      ],
      "execution_count": 0,
      "outputs": [
        {
          "output_type": "stream",
          "text": [
            "{'name': '홍길동', 'birth': 1128, 'age': 30}\n",
            "{'name': 'python', ('a', 'n'): 'python', 250: 'python'}\n",
            "80\n",
            "{'a': 90, 'c': 70}\n",
            "{}\n",
            "{'a': 90, 'b': 80}\n",
            "70\n",
            "75\n",
            "[('a', 91), ('b', 88), ('c', 75)]\n"
          ],
          "name": "stdout"
        }
      ]
    },
    {
      "metadata": {
        "id": "8f6YvBllrSn-",
        "colab_type": "code",
        "colab": {}
      },
      "cell_type": "code",
      "source": [
        "a = {'a' : 90, 'b' : 80, 'c' : 70}\n",
        "\n",
        "a.get('b')"
      ],
      "execution_count": 0,
      "outputs": []
    },
    {
      "metadata": {
        "id": "mFQmTK4oEykA",
        "colab_type": "text"
      },
      "cell_type": "markdown",
      "source": [
        "###02-6 집합 자료형"
      ]
    },
    {
      "metadata": {
        "id": "x-SNGofoE3O0",
        "colab_type": "code",
        "colab": {}
      },
      "cell_type": "code",
      "source": [
        "# 집합(set)관련 작업을 쉽게 하기위한 리스트 변형\n",
        "\n",
        "# s1 = set(1, 2, 3)\n",
        "s1 = set([1, 2, 3])\n",
        "\n",
        "print(s1)\n",
        "\n",
        "s2 = set('hello')\n",
        "\n",
        "print(s2)\n",
        "\n",
        "# s3 = set([1, 2, 3], [4, 5, 6])\n",
        "# s3 = set([1, 2, 3], 'bye')\n",
        "\n",
        "# print(s3)\n",
        "\n",
        "# set을 이용해 요소 요소마다 하나 하나 다 변환 하려면 [] 사용해야 변환 가능\n",
        "# 문자를 변환하면 중복되는 알파벳 사라지고 순서 섞임\n",
        "# 인덱싱 없음\n",
        "# 한번에 하나만 변경 가능"
      ],
      "execution_count": 0,
      "outputs": []
    },
    {
      "metadata": {
        "id": "GfAwBu28ISvT",
        "colab_type": "code",
        "colab": {}
      },
      "cell_type": "code",
      "source": [
        "# 인덱싱작업을 위한 집합(set)변환\n",
        "\n",
        "s1 = set([12, 23, 34])\n",
        "\n",
        "# 리스트\n",
        "\n",
        "li = list(s1)\n",
        "\n",
        "print(li)\n",
        "\n",
        "print(li[1])\n",
        "\n",
        "# 튜플\n",
        "\n",
        "tu = tuple(s1)\n",
        "\n",
        "print(tu)\n",
        "\n",
        "print(tu[0])"
      ],
      "execution_count": 0,
      "outputs": []
    },
    {
      "metadata": {
        "id": "3l3OFDDKJl3Q",
        "colab_type": "code",
        "colab": {}
      },
      "cell_type": "code",
      "source": [
        "# 집합 자료형 활용법(집합구하기)\n",
        "\n",
        "s1 = set([1, 2, 3, 4, 5, 6])\n",
        "\n",
        "s2 = set([4, 5, 6, 7, 8, 9])\n",
        "\n",
        "# 1. 교집합\n",
        "\n",
        "print(s1 & s2)\n",
        "\n",
        "print(s1.intersection(s2))\n",
        "\n",
        "# 2. 합집합\n",
        "\n",
        "print(s1 | s2)\n",
        "\n",
        "print(s1.union(s2))\n",
        "\n",
        "# 3. 차집합\n",
        "\n",
        "print(s1 - s2)\n",
        "\n",
        "print(s2 - s1)\n",
        "\n",
        "print(s1.difference(s2))\n",
        "\n",
        "print(s2.difference(s1))"
      ],
      "execution_count": 0,
      "outputs": []
    },
    {
      "metadata": {
        "id": "6yW_qWpuLfvV",
        "colab_type": "code",
        "colab": {}
      },
      "cell_type": "code",
      "source": [
        "# set(집합)에 쓰이는 함수\n",
        "\n",
        "# 1. 값 추가(add)\n",
        "\n",
        "s1 = set([1, 2, 3])\n",
        "\n",
        "s1.add(4)\n",
        "# s1.add([4])\n",
        "# 이미 set으로 나눠져있기 때문에 [4]라는 리스트를 추가 할수 없다\n",
        "\n",
        "print(s1)\n",
        "\n",
        "# 2. 여러개의 값 추가(update)\n",
        "\n",
        "s2 = set([1, 3, 5])\n",
        "\n",
        "s2.update([2, 4, 6])\n",
        "\n",
        "print(s2)\n",
        "\n",
        "# 3. set에서 값 제거(remove)\n",
        "\n",
        "s3 = set([7, 6, 5, 4, 3, 2, 1])\n",
        "\n",
        "s3.remove(6)\n",
        "\n",
        "print(s3)\n",
        "\n",
        "# s3.remove(2, 4)\n",
        "# s3.remove([2, 4])\n",
        "\n",
        "# print(s3)\n",
        "# 한번에 두가지 값 제거안됨"
      ],
      "execution_count": 0,
      "outputs": []
    },
    {
      "metadata": {
        "id": "LrcuP3vVOj57",
        "colab_type": "code",
        "colab": {}
      },
      "cell_type": "code",
      "source": [
        "# 연습문제\n",
        "\n",
        "# 1. 집합만들기\n",
        "\n",
        "# s1 = set('a', 'b', 'c')\n",
        "# s1 = set(abc)\n",
        "s1 = set('abc')\n",
        "s1 = set(['a', 'b', 'c'])\n",
        "\n",
        "print(s1)\n",
        "\n",
        "# 2. 집합 중복\n",
        "\n",
        "a = [1, 1, 1, 2, 2, 3, 3, 3, 4, 4, 5]\n",
        "\n",
        "s2 = set(a)\n",
        "\n",
        "print(s2)\n",
        "\n",
        "# 3. 차집합\n",
        "\n",
        "s1 = set(['ace', 'f', 'bed', 'e', 'want'])\n",
        "s2 = set(['c', 'd', 'e', 'f', 'g'])\n",
        "\n",
        "print(s1 - s2)\n",
        "print(s1.difference(s2))\n",
        "print(s2 - s1)\n",
        "print(s2.difference(s1))\n",
        "\n",
        "# 4. 집합 만들기 2\n",
        "\n",
        "a = {'a', 'b', 'c'}\n",
        "\n",
        "print(a)\n",
        "\n",
        "print(type(a))\n",
        "\n",
        "b = {}\n",
        "\n",
        "print(type(b))\n",
        "\n",
        "c = set()\n",
        "\n",
        "print(type(c))\n",
        "\n",
        "# 5. 집합 추가\n",
        "\n",
        "a = {'a', 'b', 'c'}\n",
        "\n",
        "a.update('d', 'e', 'f')\n",
        "\n",
        "a"
      ],
      "execution_count": 0,
      "outputs": []
    },
    {
      "metadata": {
        "id": "YmKl6XcLWtEP",
        "colab_type": "text"
      },
      "cell_type": "markdown",
      "source": [
        "###02-7 불(bool) 자료"
      ]
    },
    {
      "metadata": {
        "id": "8eYBQda6WyEE",
        "colab_type": "code",
        "colab": {}
      },
      "cell_type": "code",
      "source": [
        "# True(참)과 False(거짓)을 나타내는 자료형이라 True, False 이 두가지 값만 가진다\n",
        "# 주의 할점은 대소문자르 구별해야된다 true, false로 사용하게 되면 작동이 잘 안됨\n",
        "# if 함수를 쓸때 조건문으로 들어가는 경유가 있다\n",
        "\n",
        "# a = True\n",
        "\n",
        "# b = False\n",
        "\n",
        "1 == 1\n",
        "\n",
        "2 > 1\n",
        "\n",
        "2 < 1\n",
        "\n",
        "# 자료형의 참과 거짓의 구분은 (\" \", [ ], ( ), { })안에 내용물이 없다면 거짓 있다면 참\n",
        "# 숫자의 참과 거짓은 0일 때 거짓\n",
        "\n",
        "# 예제 1\n",
        "\n",
        "a = [1, 2, 3, 4]\n",
        "\n",
        "while a : print(a.pop())\n",
        "  \n",
        "# a의 값이 참일 경우 거짓이 나올때 까지 마지막 요소를 꺼낸다는 코딩\n",
        "\n",
        "# 예제 2 \n",
        "\n",
        "if []: print(\"참\")\n",
        "\n",
        "else: print(\"거짓\")\n",
        "  \n",
        "# 예제 3\n",
        "\n",
        "if [1, 2, 3]: print(\"참\")\n",
        "\n",
        "else: print(\"거짓\")"
      ],
      "execution_count": 0,
      "outputs": []
    },
    {
      "metadata": {
        "id": "Ib9wK8zHi373",
        "colab_type": "code",
        "colab": {}
      },
      "cell_type": "code",
      "source": [
        "# 불 연산\n",
        "\n",
        "print(bool('python'))\n",
        "\n",
        "print(bool(''))\n",
        "\n",
        "print(bool({}))\n",
        "\n",
        "print(bool(0))\n",
        "\n",
        "print(bool(1))\n",
        "\n",
        "print(bool((1)))"
      ],
      "execution_count": 0,
      "outputs": []
    },
    {
      "metadata": {
        "id": "h2pr1EdxlfKD",
        "colab_type": "code",
        "colab": {}
      },
      "cell_type": "code",
      "source": [
        "# 연습 문제\n",
        "\n",
        "# 1. 불 자료형과 조건문\n",
        "\n",
        "print(1 != 1)\n",
        "# !=는 같지 않다\n",
        "\n",
        "print(3 > 1)\n",
        "# True\n",
        "\n",
        "print('a' in 'abc')\n",
        "# True\n",
        "\n",
        "print('a' not in [1, 2, 3])\n",
        "# True\n",
        "\n",
        "# 2. bool 연산자\n",
        "\n",
        "a = \"python\"\n",
        "# True\n",
        "\n",
        "print(bool(a))\n",
        "\n",
        "b = \"\"\n",
        "# False\n",
        "\n",
        "print(bool(b))\n",
        "\n",
        "\n",
        "c = (1,2,3)\n",
        "# True\n",
        "\n",
        "print(bool(c))\n",
        "\n",
        "d = 0\n",
        "# False\n",
        "\n",
        "print(bool(d))"
      ],
      "execution_count": 0,
      "outputs": []
    },
    {
      "metadata": {
        "id": "rZXQoRENo06e",
        "colab_type": "text"
      },
      "cell_type": "markdown",
      "source": [
        "###02-8 자료형의 값을 저장하는 공간, 변수"
      ]
    },
    {
      "metadata": {
        "id": "vhdv06UEo74-",
        "colab_type": "code",
        "colab": {}
      },
      "cell_type": "code",
      "source": [
        "# 변수 선언시 =(assignment)로 사용\n",
        "# 변수명 = 변수에 저장할 값\n",
        "\n",
        "a = [1, 2, 3]\n",
        "\n",
        "print(id(a))\n",
        "# 변수는 메모리에 저장되고 그 저장 리스트 주소를알아낼수 있다\n",
        "\n",
        "b = a\n",
        "\n",
        "print(id(a))\n",
        "print(id(b))\n",
        "\n",
        "# 이미 변수 선언이 된 값을 다른 변수로 복사하면 새로이 저장 되는것이 아니라\n",
        "# 저장 되있던 리스트 주소에 있는 값을 변수에 부여하는 것이다\n",
        "\n",
        "print(a is b)\n",
        "\n",
        "a[1] = 7\n",
        "\n",
        "print(a)\n",
        "\n",
        "print(b)\n",
        "\n",
        "print(id(a))\n",
        "\n",
        "print(id(b))\n",
        "\n",
        "# 변수값을 수정하면 다시 저장하는 것이 아닌 기존에 저장된 리스트 주소에 저장되고\n",
        "# 복사한 변수도 같이 적용된다\n",
        "\n",
        "# 복사된 변수를 바꾼다면 새롭게 저장되 다른 변수로 취급되는지 확인\n",
        "\n",
        "b[1] = 9\n",
        "\n",
        "print(a)\n",
        "\n",
        "print(b)\n",
        "\n",
        "print(id(a))\n",
        "\n",
        "print(id(b))\n",
        "\n",
        "# 복사된 변수의 값을 변경하더라도 하나의 변수값을 같이 쓰고있기 때문에\n",
        "# 원래의 변수도 변경이 된다\n",
        "\n",
        "print(b is a)"
      ],
      "execution_count": 0,
      "outputs": []
    },
    {
      "metadata": {
        "id": "SYXA1pGwuW9i",
        "colab_type": "code",
        "colab": {}
      },
      "cell_type": "code",
      "source": [
        "# 복사된 변수를 따로 취급하기 위한 방법\n",
        "\n",
        "# 1. ':' 이용\n",
        "\n",
        "a = [1, 2, 3]\n",
        "\n",
        "b = a[:]\n",
        "\n",
        "print(a)\n",
        "\n",
        "print(b)\n",
        "\n",
        "print(id(a))\n",
        "\n",
        "print(id(b))\n",
        "\n",
        "# 서로 다른 리스트 주소로 저장 되는것을 확인\n",
        "\n",
        "a[1] = 5\n",
        "\n",
        "print(a)\n",
        "\n",
        "print(b)\n",
        "\n",
        "print(b is a)\n",
        "\n",
        "# 이미 서로 다른 주소로 저장이 되어서 변수 복사한 뒤에 원래 값 수정이 아닌\n",
        "# 명령어로 수정이 진행 된다면 한쪽만 수정이 됨\n",
        "\n",
        "# 2. 카피 모듈 이용\n",
        "\n",
        "a = [1, 2, 3]\n",
        "\n",
        "from copy import copy\n",
        "\n",
        "b = copy(a)\n",
        "\n",
        "print(id(a))\n",
        "\n",
        "print(id(b))\n",
        "\n",
        "# b = a[:]와 from copy import copy b = copy(a)랑 같은 방법\n",
        "# 새로 변수선언을 진행하면 같은 변수명을 사용한다 하더라도 다른 주소에 저장됨"
      ],
      "execution_count": 0,
      "outputs": []
    },
    {
      "metadata": {
        "id": "eBvJLeorw6M1",
        "colab_type": "code",
        "colab": {}
      },
      "cell_type": "code",
      "source": [
        "# 변수 만드는 다른 방법\n",
        "\n",
        "a, b = ('python', 'life')\n",
        "\n",
        "print(a)\n",
        "\n",
        "print(b)\n",
        "\n",
        "(a, b) = 'python', 'knife'\n",
        "\n",
        "print(a)\n",
        "\n",
        "print(b)\n",
        "\n",
        "a, b = 1, 2\n",
        "\n",
        "print(a)\n",
        "\n",
        "print(b)\n",
        "\n",
        "[a, b] = ['python', 'tool']\n",
        "\n",
        "print(a)\n",
        "\n",
        "print(b)\n",
        "\n",
        "a = b = 'python'\n",
        "\n",
        "print(a)\n",
        "\n",
        "print(b)\n",
        "\n",
        "# 각 각 다른 변수명에 할당된 변수값을 서로 바꿀수 있다\n",
        "\n",
        "a = 3\n",
        "\n",
        "b = 6\n",
        "\n",
        "c = 9\n",
        "\n",
        "print(id(a))\n",
        "print(id(b))\n",
        "print(id(c))\n",
        "\n",
        "a, b, c = c, a, b\n",
        "\n",
        "print(id(a))\n",
        "print(id(b))\n",
        "print(id(c))\n",
        "\n",
        "print(a)\n",
        "\n",
        "print(b)\n",
        "\n",
        "print(c)\n",
        "\n",
        "# 변수명과 변수값의 연결만 바꾼것 뿐이라 변수값의 주소는 그대로이다"
      ],
      "execution_count": 0,
      "outputs": []
    },
    {
      "metadata": {
        "id": "eAdRZzahzOJb",
        "colab_type": "code",
        "colab": {}
      },
      "cell_type": "code",
      "source": [
        "# 연습문제\n",
        "\n",
        "# 1. 변수와 객체 1\n",
        "\n",
        "a = [1, 2, 3]\n",
        "\n",
        "b = [1, 2, 3]\n",
        "\n",
        "print(a is b)\n",
        "\n",
        "print(id(a))\n",
        "\n",
        "print(id(b))\n",
        "\n",
        "# 같은 값을 변수 선언한 것이라도 명령어를 사용하지 않고 직접 따로 만든 리스트여서\n",
        "# 다른 리스트 장소에 저장되기 때문에 같은 것이 아니라 False 가 뜬다\n",
        "\n",
        "# 2. 변수와 객체 2\n",
        "\n",
        "a = [1, 2, 3]\n",
        "\n",
        "b = a\n",
        "\n",
        "print(a is b)\n",
        "\n",
        "print(id(a))\n",
        "\n",
        "print(id(b))\n",
        "\n",
        "# 이미 변수 선언된 값을 복사 명령어를 이용해 새로운 변수명에 연결 시킨 것\n",
        "# 이라서 서로 같은 값이라고 True가 뜬다\n",
        "\n",
        "# 3. 객체의 변경\n",
        "\n",
        "a = b = [1, 2, 3]\n",
        "\n",
        "a[1] = 5\n",
        "\n",
        "print(b)\n",
        "\n",
        "# 복사 명령어를 이용하여 'a' 변수명과 'b' 변수명의 변수값을 같은 것으로 묶었기에\n",
        "# 어느 한쪽을 수정 하더라도 다른쪽의 값도 같이 변한다\n",
        "\n",
        "# 4. 리스트 복사 1\n",
        "\n",
        "a = [1, 2, 3]\n",
        "\n",
        "b = a[:]\n",
        "\n",
        "print(a is b)\n",
        "\n",
        "# a의 값을 복사하여 새로운 주소에 저장시키고 그 값에 b 라는 변수명을 선언 하였기에\n",
        "# a 와 b 의 값이 달라 False가 뜬다\n",
        "\n",
        "# 5. 리스트 복사 2\n",
        "\n",
        "a = [1, 2, 3]\n",
        "\n",
        "b = a[:]\n",
        "\n",
        "a[1] = 4\n",
        "\n",
        "print(a)\n",
        "\n",
        "print(b)\n",
        "\n",
        "# a 의 변수값과 같은 값을 b 에 새로이 만들어 넣어 같은 내용물이지만 서로 다르게\n",
        "# 취급한뒤 a 의 값만 바꾸었기 때문에 a 의 값만 바뀌고 b 의 값은 기존 그대로이다\n",
        "\n",
        "# 6. 리스트의 더하기와 extend\n",
        "\n",
        "a = [1, 2, 3]\n",
        "\n",
        "b = a\n",
        "\n",
        "c = a[:]\n",
        "\n",
        "print(id(a))\n",
        "\n",
        "print(id(b))\n",
        "\n",
        "print(id(c))\n",
        "\n",
        "a = a + [4, 5]\n",
        "\n",
        "print(a)\n",
        "\n",
        "print(b)\n",
        "\n",
        "print(c)\n",
        "\n",
        "print(id(a))\n",
        "\n",
        "print(id(b))\n",
        "\n",
        "print(id(c))\n",
        "\n",
        "print(a + [4, 5])\n",
        "\n",
        "a = [1, 2, 3]\n",
        "\n",
        "b = a\n",
        "\n",
        "c = a[:]\n",
        "\n",
        "a.extend([6, 7])\n",
        "\n",
        "print(a)\n",
        "\n",
        "print(b)\n",
        "\n",
        "print(c)\n",
        "\n",
        "print(id(a))\n",
        "\n",
        "print(id(b))\n",
        "\n",
        "print(id(c))\n",
        "\n",
        "# + 수식으로 이용해 리스트 내용을 추가하고 하면 새로운 변수값으로 취급을 하여\n",
        "# 새로 변수 선언한것으로 취급하여 새로 정하여 개별적으로 취급하게 된다\n",
        "# extend 로 리스트 내용을 추가하면 기존 저장되있는 변수값을 수정하는것이 되어\n",
        "# 복사된 변수에 그대로 적용된다\n",
        "\n",
        "# 리스트 복사 3\n",
        "\n",
        "a = [1, [2, 3], 4]\n",
        "\n",
        "b = a[:]\n",
        "\n",
        "print(a == b)\n",
        "print(a is b)\n",
        "\n",
        "a[1][0] = 7\n",
        "\n",
        "print(a)\n",
        "\n",
        "print(b)\n",
        "\n",
        "print(id(a))\n",
        "\n",
        "print(id(b))\n",
        "\n",
        "a[0] = 6\n",
        "\n",
        "print(a)\n",
        "\n",
        "print(b)\n",
        "\n",
        "print(id(a))\n",
        "\n",
        "print(id(b))\n",
        "\n",
        "print(id(a[1]))\n",
        "\n",
        "print(id(b[1]))\n",
        "\n",
        "a[1] = 3\n",
        "\n",
        "print(a)\n",
        "\n",
        "print(b)\n",
        "\n",
        "# 변수 선언시 모든 리스트 값에 id 가 할당되어 리스트 안의 리스트까지 id 가정해지고\n",
        "# 복사 명령어 인 a[:]와 from copy import copy를 사용하면 복사해서 새로운 id를\n",
        "# 할당하는것은 첫 리스트이고 나머지 리스트 안의 리스트는 복사해 새로운 id를\n",
        "# 할당하지 않고 기존 id 를 이용한기 때문에 일어나는 현상"
      ],
      "execution_count": 0,
      "outputs": []
    },
    {
      "metadata": {
        "id": "BdZ_n6qOesH-",
        "colab_type": "code",
        "colab": {}
      },
      "cell_type": "code",
      "source": [
        "a = [1, [2, 3], 4]\n",
        "\n",
        "from copy import copy\n",
        "\n",
        "b = copy(a)\n",
        "\n",
        "a[1][0] = 7\n",
        "\n",
        "print(a)\n",
        "\n",
        "print(b)\n",
        "\n",
        "print(id(a))\n",
        "\n",
        "print(id(b))\n",
        "\n",
        "a[0] = 6\n",
        "\n",
        "print(a)\n",
        "\n",
        "print(b)\n",
        "\n",
        "print(id(a))\n",
        "\n",
        "print(id(b))\n",
        "\n",
        "print(id(a[1]))\n",
        "\n",
        "print(id(b[1]))\n",
        "\n",
        "a[1] = 3\n",
        "\n",
        "print(a)\n",
        "\n",
        "print(b)"
      ],
      "execution_count": 0,
      "outputs": []
    },
    {
      "metadata": {
        "id": "4cmGD3Ptc0PF",
        "colab_type": "code",
        "colab": {}
      },
      "cell_type": "code",
      "source": [
        "a = [1, 2, [3, 4], 5]\n",
        "\n",
        "b = a\n",
        "\n",
        "print(id(a))\n",
        "\n",
        "print(id(b))\n",
        "\n",
        "print(id(a[2]))\n",
        "\n",
        "print(id(b[2]))\n",
        "\n",
        "a[2][0] = 6\n",
        "\n",
        "print(id(a))\n",
        "\n",
        "print(id(b))\n",
        "\n",
        "print(id(a[2]))\n",
        "\n",
        "print(id(b[2]))\n",
        "\n",
        "a[2] = 3\n",
        "\n",
        "print(id(a))\n",
        "\n",
        "print(id(b))\n",
        "\n",
        "print(id(a[2]))\n",
        "\n",
        "print(id(b[2]))"
      ],
      "execution_count": 0,
      "outputs": []
    },
    {
      "metadata": {
        "id": "0SSH03URH35Y",
        "colab_type": "code",
        "colab": {}
      },
      "cell_type": "code",
      "source": [
        "a.__repr__\n",
        "# a[1][0].__repr__"
      ],
      "execution_count": 0,
      "outputs": []
    },
    {
      "metadata": {
        "id": "bLA64LJDUGdg",
        "colab_type": "text"
      },
      "cell_type": "markdown",
      "source": [
        "##03 프로그램의 구조를 쌓는다! 제어문"
      ]
    },
    {
      "metadata": {
        "id": "2sntW1aiUPnr",
        "colab_type": "text"
      },
      "cell_type": "markdown",
      "source": [
        "###03-1 if문"
      ]
    },
    {
      "metadata": {
        "id": "xA6OhxGMUUkK",
        "colab_type": "code",
        "colab": {}
      },
      "cell_type": "code",
      "source": [
        "# if문은 조건에 맞는 처리를 위해 사용한다\n",
        "# '조건1' 이 '조건 2' 에 True면 작동\n",
        "# else는 '조건1' 이 '조건 2\" 에 Flase이면 작동\n",
        "\n",
        "money = 1\n",
        "\n",
        "if money :\n",
        "  \n",
        "    print(\"택시를 타고 가라\")\n",
        "    \n",
        "else : \n",
        "  \n",
        "    print('걸어 가라')\n",
        "\n",
        "# money가 True이면 택시를 타고 가라 False이면 걸어가라 라는 명령어\n",
        "# 들여쓰기(indentation)을 구분 해줘야 에러 발생하지 않음\n",
        "\n",
        "# 에러발생경우 1\n",
        "\n",
        "# if 조건문 :\n",
        "#     수행 문장 1\n",
        "# 수행문장 2\n",
        "#           수행문장 3\n",
        "\n",
        "# 에러 발생경우 2\n",
        "\n",
        "# if 조건문 :  \n",
        "#       수행문장 1\n",
        "    \n",
        "#     else : 조건문 :        \n",
        "#         수행문장"
      ],
      "execution_count": 0,
      "outputs": []
    },
    {
      "metadata": {
        "id": "yvepuAkTW7aN",
        "colab_type": "code",
        "colab": {}
      },
      "cell_type": "code",
      "source": [
        "# 비교 연산자\n",
        "# <, >, ==, !=, >=, <=\n",
        "\n",
        "money = 100000\n",
        "\n",
        "if money <= 99999 :\n",
        "      print(\"돈을 아껴야되요!\")\n",
        "    \n",
        "else :\n",
        "      print(\"오늘은 치느님!\")"
      ],
      "execution_count": 0,
      "outputs": []
    },
    {
      "metadata": {
        "id": "mGDhU1gLXxxn",
        "colab_type": "code",
        "colab": {}
      },
      "cell_type": "code",
      "source": [
        "# and, or, not 연산자\n",
        "\n",
        "money = 3000\n",
        "\n",
        "card = 1\n",
        "\n",
        "if money >= 30000 or card :\n",
        "      print(\"오늘 쯤이야!\")\n",
        "    \n",
        "if money <= 30000 and card :\n",
        "      print(\"어떻게 할까...?\")\n",
        "    \n",
        "if not card : \n",
        "      print('고민좀')\n",
        "    \n",
        "else :\n",
        "      print(\".....\")"
      ],
      "execution_count": 0,
      "outputs": []
    },
    {
      "metadata": {
        "id": "IfXr4SQOaBEB",
        "colab_type": "code",
        "colab": {}
      },
      "cell_type": "code",
      "source": [
        "# x in s, x not in s\n",
        "# s는 리스트[], 튜플(), 문자열이 가능하다\n",
        "\n",
        "print(1 in [1, 2, 3])\n",
        "\n",
        "print(1 not in [1, 2, 3])\n",
        "\n",
        "pocket = ['paper', 'cellphone', 'money']\n",
        "\n",
        "if 'money' in pocket : \n",
        "      print('밥 먹는다')\n",
        "    \n",
        "if 'cellphone' in pocket :\n",
        "      print('전화 한다')\n",
        "\n",
        "else :\n",
        "      print(\"쉰다\")\n",
        "    \n",
        "pocket = ['paper', 'ellphone', 'oney']\n",
        "\n",
        "if 'money' in pocket : \n",
        "      print('밥 먹는다')\n",
        "    \n",
        "else :\n",
        "      if 'cellphone' in pocket :\n",
        "            print('전화 한다')\n",
        "      else :\n",
        "            print(\"쉰다\")"
      ],
      "execution_count": 0,
      "outputs": []
    },
    {
      "metadata": {
        "id": "rtXGwSAXbdC_",
        "colab_type": "code",
        "colab": {}
      },
      "cell_type": "code",
      "source": [
        "# 조건문 사용시 해당되는 조건이 있어도 작동을 하지 않게 할때는 pass 를 사용한면된다\n",
        "\n",
        "pocket = ['paper', 'cellphone', 'money']\n",
        "\n",
        "if 'money' in pocket : \n",
        "      pass\n",
        "\n",
        "else :\n",
        "      print(\"쉰다\")\n",
        "\n",
        "# money 조건이 있지만 pass를 해서 출력이 안되고 else에도 해당되지 않기에\n",
        "# 아무것도 출력이 안된다"
      ],
      "execution_count": 0,
      "outputs": []
    },
    {
      "metadata": {
        "id": "gEedNcT9cT99",
        "colab_type": "code",
        "colab": {}
      },
      "cell_type": "code",
      "source": [
        "# 다양한 조건을 판단해 한가지를 출력할때 사용하는 elif\n",
        "# if와 else 만을 이용해 출력할경우 들여쓰기 때문에 코딩이 난잡해질수 있다\n",
        "# else는 들여쓰기(indentation) 되지 않은 곳엔 한번만 사용가능\n",
        "# elif는 들여쓰기(indentation) 되지 않은 곳에 여러번 사용가능\n",
        "\n",
        "pocket = ['paper', 'cellphone']\n",
        "\n",
        "card = 0\n",
        "\n",
        "if 'money' in pocket :\n",
        "      print('오 돈이다!')\n",
        "    \n",
        "elif card :\n",
        "      print(\"카드 너무 많이 쓴거 같아...\")\n",
        "    \n",
        "else :\n",
        "      print('돈 부족하내')"
      ],
      "execution_count": 0,
      "outputs": []
    },
    {
      "metadata": {
        "id": "J1fhJKV0h_HF",
        "colab_type": "code",
        "colab": {}
      },
      "cell_type": "code",
      "source": [
        "# if 문을 간략하게 작성할수도 있다\n",
        "\n",
        "pocket = ['paper', 'cellphone']\n",
        "\n",
        "if 'money' in pocket :\n",
        "      pass\n",
        "  \n",
        "else :\n",
        "  print('카드를 꺼내라')\n",
        "  \n",
        "# 위의 코딩을 아래와 같이 해도 정상 작동된다\n",
        "\n",
        "if 'money' in pocket : pass\n",
        "else : print('꺼내라 카드를')\n",
        "  \n",
        "# 간단한 조건부 표현식 경우 한줄로 바꿀 수도 있다\n",
        "\n",
        "score = 57\n",
        "\n",
        "if score >= 60 :\n",
        "      message = 'success'\n",
        "    \n",
        "else :\n",
        "      message = 'failure'\n",
        "    \n",
        "print(message)\n",
        "    \n",
        "message = 'success' if score >= 60 else 'failure'\n",
        "\n",
        "print(message)"
      ],
      "execution_count": 0,
      "outputs": []
    },
    {
      "metadata": {
        "id": "pAe6oDJRl-7-",
        "colab_type": "code",
        "colab": {}
      },
      "cell_type": "code",
      "source": [
        "# 연습 문제\n",
        "\n",
        "# 1. 조건문 1\n",
        "\n",
        "money = 5000\n",
        "card = False\n",
        "\n",
        "if money >= 4000 or card : \n",
        "      print('택시 타기')\n",
        "\n",
        "else :\n",
        "      print('걸어가기')\n",
        "    \n",
        "# 2. 조건문 2\n",
        "\n",
        "lucky_list = [1, 9, 23, 46]\n",
        "\n",
        "if 23 in lucky_list :\n",
        "      print(\"야호\")\n",
        "# if lucky_list in 23 :\n",
        "\n",
        "else :\n",
        "      print('아깝다!')\n",
        "    \n",
        "# 3. 홀수 짝수 판별\n",
        "\n",
        "num = 2\n",
        "\n",
        "if num % 2 >= 1 :\n",
        "      print(\"홀수\")\n",
        "    \n",
        "else :\n",
        "      print('짝수')\n",
        "    \n",
        "# 4. 문자열 분석\n",
        "\n",
        "age = 29\n",
        "\n",
        "tall = 180\n",
        "\n",
        "if age < 30 and tall >= 175 :\n",
        "      print('yes')\n",
        "    \n",
        "else :\n",
        "      print('no')\n",
        "    \n",
        "# 5. 조건문 3\n",
        "\n",
        "a = 'Life is too short, you need python'\n",
        "\n",
        "if 'wife' in a :\n",
        "      print('wife')\n",
        "    \n",
        "elif 'python' in a and 'you' not in a :\n",
        "      print('python')\n",
        "\n",
        "elif 'shirt' not in a :\n",
        "      print('python')\n",
        "    \n",
        "elif 'need' in a :\n",
        "      print('need')\n",
        "    \n",
        "else :\n",
        "      print('none')\n",
        "    \n",
        "# wife 라는 단어가 a 에 없기 때문에 다음명령어로 넘어가고\n",
        "# python 이 있지만 you 가 없어야 python 이 출력 되는대 you 가 있어 다음으로 넘어간다\n",
        "# shirt 가 없으면 python이 출력 된다고 되있고 a 에 shirt 가 없으니 python 이 출력 \n",
        "# 만약 shirt 가 있으면 다음으로 넘어가고 need 가 있으니 need 가 출력 될것이다\n",
        "# 아무런 조건도 만족시키지 못하였으면 none이 출력 될것이다"
      ],
      "execution_count": 0,
      "outputs": []
    },
    {
      "metadata": {
        "id": "RChKRCzJtHgv",
        "colab_type": "text"
      },
      "cell_type": "markdown",
      "source": [
        "###03 -2 while문"
      ]
    },
    {
      "metadata": {
        "id": "SH58eUlWttax",
        "colab_type": "code",
        "colab": {}
      },
      "cell_type": "code",
      "source": [
        "# while문의 기본 구조\n",
        "\n",
        "# while 조건문 :\n",
        "#       수행문 1\n",
        "#       수행문 2\n",
        "\n",
        "# 정해진만큼 반복수행하는 문장이다\n",
        "\n",
        "treehit = 0\n",
        "\n",
        "while treehit < 10 :\n",
        "      treehit = treehit + 1\n",
        "      print('나무를 %d번 찍었습니다.' % treehit)\n",
        "      if treehit == 10 :\n",
        "            print('나무가 넘어간다.')\n",
        "          \n",
        "# treehit은 0이다 \n",
        "# treehit이 10 작은 숫자일 동안 반복실행해라\n",
        "# treehit에 +1 이 될것이다\n",
        "# 나무를 treehit의 값 만큼 찍었습니다를 출력해라\n",
        "# threehit이 10이 되면 나무가 넘어간다를 출력해라"
      ],
      "execution_count": 0,
      "outputs": []
    },
    {
      "metadata": {
        "id": "2_S6oyJywTam",
        "colab_type": "code",
        "colab": {}
      },
      "cell_type": "code",
      "source": [
        "# while문 직접 만들기\n",
        "\n",
        "prompt = \"\"\"\n",
        "1. Add\n",
        "2. Del\n",
        "3. List\n",
        "4. Quit\n",
        "\n",
        "Enter number : \"\"\"\n",
        "\n",
        "number = \"하하\"\n",
        "\n",
        "while number != 4 :\n",
        "# while number != 4 or != 'Quit' or != 'quit' :\n",
        "# 작동 안됨\n",
        "# while number != 4 or number != 'Quit' or number != 'quit' :\n",
        "# 작동은 되지만 밑의 number = int(input())에 수만 입력됨\n",
        "# int(input())안에 입력된것은 입력란에 이름을 정해주는것\n",
        "      print(prompt)\n",
        "      number = int(input())\n",
        "      \n",
        "# 숫자가 4가 아니면 반복실행해라\n",
        "# prompt를 출력하는 것을\n",
        "# 변수 number은 입력가능한 것\n",
        "# 직접 입력하게 하는 변수는 뭐가 들어가든 변수만 선언 되면 된다"
      ],
      "execution_count": 0,
      "outputs": []
    },
    {
      "metadata": {
        "id": "uZs9KFtpxSQl",
        "colab_type": "code",
        "colab": {}
      },
      "cell_type": "code",
      "source": [
        "# while문 강제로 빠져나가기(break)\n",
        "\n",
        "coffee = 10\n",
        "\n",
        "money = 300\n",
        "\n",
        "while money :\n",
        "      print('돈 들어왔으니 커피를 줍니다')\n",
        "      coffee = coffee -1\n",
        "      print('남은 커피 양은 %d개 입니다' % coffee)\n",
        "      if not coffee :\n",
        "            print('커피가 다 떨어졌으니, 관리자에게 이야기 하십시요')\n",
        "            break"
      ],
      "execution_count": 0,
      "outputs": []
    },
    {
      "metadata": {
        "id": "KAqZ0E82zDol",
        "colab_type": "code",
        "colab": {}
      },
      "cell_type": "code",
      "source": [
        "# 자판기 작동 과정\n",
        "\n",
        "# coffee = 10\n",
        "\n",
        "# while True :\n",
        "#     money = int(input('insert coin'))\n",
        "#     if money == 300 :\n",
        "#           print('커피가 나옵니다')\n",
        "#           coffee = coffee -1\n",
        "#     elif money > 300 :\n",
        "#           print(\"거스름돈 %d를 주고 커피를 줍니다.\" % (money - 300))\n",
        "#           coffee = coffee -1\n",
        "#     else :\n",
        "#           print('돈이 모자니 돈을 돌려주고 커피를 주지 않습니다')\n",
        "#           print('남은 커피양은 %d개 입니다' % coffee)\n",
        "#     if not coffee :\n",
        "#           print('커피가 다 떨어졌습니다. 다음에 다시 오십시오')\n",
        "#           break\n",
        "\n",
        "coffee = 10\n",
        "\n",
        "while True :\n",
        "    money = int(input('insert coin'))\n",
        "    if money == 300 :\n",
        "          print('커피가 나옵니다')\n",
        "          coffee = coffee -1\n",
        "    elif money > 300 :\n",
        "          print(\"거스름돈 %d를 주고 커피를 줍니다.\" % (money - 300))\n",
        "          coffee = coffee -1\n",
        "    else :\n",
        "          print('돈이 모자랍니다 %d원만큼 더 넣어 주십시오' % (300 - money))\n",
        "          print('남은 커피양은 %d개 입니다' % coffee)\n",
        "    if not coffee :\n",
        "          print('커피가 다 떨어졌습니다. 다음에 다시 오십시오')\n",
        "          break\n",
        "          \n",
        "# 돈이 모자라면 돈먹는 커피 머신이 완성 되었다"
      ],
      "execution_count": 0,
      "outputs": []
    },
    {
      "metadata": {
        "id": "t8dmbtCR9p2W",
        "colab_type": "code",
        "colab": {}
      },
      "cell_type": "code",
      "source": [
        "# C:\\doit>python coffee.py\n",
        "# File \"coffee.py\", line 9\n",
        "# SyntaxError: (unicode error) 'utf-8' codec can't decode byte 0xb9 in position 0:\n",
        "# invalid start byte\n",
        "# 위와 같은 에러는 파이썬3 인코딩 타입 에러 utf-8로 사용하면 대부분 발생하지 않는다"
      ],
      "execution_count": 0,
      "outputs": []
    },
    {
      "metadata": {
        "id": "sWvzyi9U__gD",
        "colab_type": "code",
        "colab": {}
      },
      "cell_type": "code",
      "source": [
        ""
      ],
      "execution_count": 0,
      "outputs": []
    },
    {
      "metadata": {
        "id": "79oJAg9q9BfX",
        "colab_type": "code",
        "colab": {}
      },
      "cell_type": "code",
      "source": [
        "# while문의 맨 처음으로 돌아가기(countinue)\n",
        "\n",
        "a = 0\n",
        "\n",
        "while a < 10:\n",
        "      a = a+1\n",
        "      if a % 2 == 0 :\n",
        "        continue\n",
        "      print(a)\n",
        "      \n",
        "# continue는 해당 값이 True일경우 처음부터 재실행하고\n",
        "# 해당 값이 False일 경우 다음으로 넘어간다\n"
      ],
      "execution_count": 0,
      "outputs": []
    },
    {
      "metadata": {
        "id": "qe7dguYXAAN0",
        "colab_type": "code",
        "colab": {}
      },
      "cell_type": "code",
      "source": [
        "\n",
        "a = 0\n",
        "\n",
        "while a < 10:\n",
        "      a = a+1\n",
        "      if a % 2 == 0:\n",
        "          print(a)"
      ],
      "execution_count": 0,
      "outputs": []
    },
    {
      "metadata": {
        "id": "KHXwhdbB__n4",
        "colab_type": "code",
        "colab": {}
      },
      "cell_type": "code",
      "source": [
        "# while 무한 루프\n",
        "\n",
        "while True :\n",
        "      print('메시지 폭탄!, 멈추려면  ctrl + m i, 일반적인경우는 ctrl = c')"
      ],
      "execution_count": 0,
      "outputs": []
    },
    {
      "metadata": {
        "id": "ozyrKOxD-qzF",
        "colab_type": "code",
        "colab": {}
      },
      "cell_type": "code",
      "source": [
        "# 연습문제\n",
        "\n",
        "# 1. 1부터 100까지 더하기\n",
        "\n",
        "a = 0\n",
        "b = 0\n",
        "\n",
        "while a < 100 :\n",
        "      a = a + 1\n",
        "      b = b + a\n",
        "      if a == 100 :\n",
        "           print(b)\n",
        "          \n",
        "# 2. 1부터 1000까지의 자연수중 3의 배수의 합을 구하라\n",
        "          \n",
        "# c = 1\n",
        "# d = 0\n",
        "\n",
        "# while c < 1000 :\n",
        "#       c = c * 3\n",
        "#       d = d + c\n",
        "#       if c == 999 :\n",
        "#           print(d)\n",
        "# 새로운 셀에서 작업해도 작동 안됨\n",
        "\n",
        "c = 1\n",
        "d = 0\n",
        "      \n",
        "while c :\n",
        "      c = c * 3\n",
        "      d = d + c\n",
        "      if not c < 1000 :\n",
        "          print(d)\n",
        "          break\n",
        "          \n",
        "# 3. 50점 이상의 총합\n",
        "\n",
        "e = [20, 55, 67, 82, 45, 33, 90, 87, 100, 25]\n",
        "\n",
        "f = 0\n",
        "\n",
        "g = []\n",
        "\n",
        "while f < len(e) :\n",
        "      if e[f] < 50 :\n",
        "            f = f + 1\n",
        "      elif e[f] >= 50 :\n",
        "            f1 = e[f]\n",
        "            g.append(f1)\n",
        "            f = f + 1\n",
        "            print(g)\n",
        "#       elif f >= len(e) :\n",
        "#             h = sum(g)\n",
        "#             print(h)\n",
        "# while e :\n",
        "#     g = e.pop()\n",
        "#     if g >= 50 :\n",
        "#         f += g\n",
        "\n",
        "# print(f)\n",
        "\n",
        "h = sum(g)\n",
        "print(h)\n",
        "\n",
        "# 4. 별 표시하기 1\n",
        "\n",
        "star = 0\n",
        "\n",
        "star1 = '*'\n",
        "\n",
        "star2 = '*'\n",
        "\n",
        "while star < 4 :\n",
        "    star = star + 1\n",
        "    print(star2)\n",
        "    star2 = star2 + star1\n",
        "    \n",
        "# 5. 별 표시하기 2\n",
        "\n",
        "star = 0\n",
        "\n",
        "star1 = \"*******\"\n",
        "\n",
        "# star2 = '**'\n",
        "\n",
        "# star1.strip(\"*\")\n",
        "\n",
        "# print(star1)\n",
        "\n",
        "# star1.find('*')\n",
        "# len(star1)\n",
        "\n",
        "# while star > 4 :\n",
        "#     star = star + 1\n",
        "#     star1[0]\n",
        "\n",
        "star = 7\n",
        "\n",
        "star1 = 0\n",
        "\n",
        "while star > 0 :\n",
        "    print(\" \" * star1 + \"*\" * star)\n",
        "    star -= 2\n",
        "    star1 += 1\n"
      ],
      "execution_count": 0,
      "outputs": []
    },
    {
      "metadata": {
        "id": "Tb-q8sNnRyM6",
        "colab_type": "code",
        "colab": {}
      },
      "cell_type": "code",
      "source": [
        "empty = \" \"\n",
        "star = \"*\"\n",
        "num = 1\n",
        "\n",
        "while num < 8 :\n",
        "    print(star * num)\n",
        "    num = num + 2\n",
        "while num > 0 :\n",
        "    print(star * num)\n",
        "    num = num - 2"
      ],
      "execution_count": 0,
      "outputs": []
    },
    {
      "metadata": {
        "id": "5WKuGSsjXYXo",
        "colab_type": "code",
        "colab": {}
      },
      "cell_type": "code",
      "source": [
        "empty = \" \"\n",
        "star = \"*\"\n",
        "num = 1\n",
        "num2 = 7\n",
        "\n",
        "while num < 9 :\n",
        "    print(empty * num2 + star * num)\n",
        "    num = num + 2\n",
        "    num2 = num2 - 1\n",
        "while num > 0 :\n",
        "    print(empty * num2 + star * num)\n",
        "    num = num - 2\n",
        "    num2 = num2 + 1"
      ],
      "execution_count": 0,
      "outputs": []
    },
    {
      "metadata": {
        "id": "dHAvLrPTZHZz",
        "colab_type": "code",
        "colab": {}
      },
      "cell_type": "code",
      "source": [
        "empty = \" \"\n",
        "star = \"*\"\n",
        "num = 1\n",
        "\n",
        "while num < 5 :\n",
        "    print(empty * (10 - num) + star * num)\n",
        "    num = num + 2\n",
        "while num > 0 :\n",
        "    print(empty * (10 - num) + star * num)\n",
        "    num = num - 2"
      ],
      "execution_count": 0,
      "outputs": []
    },
    {
      "metadata": {
        "id": "89zrZEt_a20a",
        "colab_type": "code",
        "colab": {}
      },
      "cell_type": "code",
      "source": [
        "print()"
      ],
      "execution_count": 0,
      "outputs": []
    },
    {
      "metadata": {
        "id": "EfaovMCMHBWV",
        "colab_type": "code",
        "colab": {}
      },
      "cell_type": "code",
      "source": [
        "empty = \" \"\n",
        "star = \"*\"\n",
        "num = 1\n",
        "\n",
        "while num < 8 :\n",
        "    print(star)\n",
        "    num = num + 2\n",
        "\n",
        "num = 0\n",
        "emp = 7\n",
        "sta = 1\n",
        "\n",
        "while num < 4 :\n",
        "    num = num + 1\n",
        "    print(empty * emp + star * sta)\n",
        "    emp = emp - 1\n",
        "    sta = sta + 2\n",
        "while num < 9 :\n",
        "    num = num + 1\n",
        "    print(empty * emp + star * sta)\n",
        "    emp = emp + 1\n",
        "    sta = sta - 2\n",
        "\n",
        "# print(empty*7 + star*1)\n",
        "# print(empty*6 + star*3)\n",
        "# print(empty*5 + star*5)\n",
        "# print(empty*4 + star*7)\n",
        "# print(empty*5 + star*5)\n",
        "# print(empty*6 + star*3)\n",
        "# print(empty*7 + star*1)\n",
        "\n",
        "# num = 0\n",
        "# emp = 7\n",
        "# sta = 1\n",
        "\n",
        "# while num < 8 :\n",
        "#     num = num + 1\n",
        "#     if num < 5 :\n",
        "#         print(empty * emp + star * sta)\n",
        "#         emp = emp - 1\n",
        "#         sta = sta + 2\n",
        "#     else :\n",
        "#         emp = emp + 1\n",
        "#         sta = sta - 2\n",
        "#         print(empty * emp + star * sta)"
      ],
      "execution_count": 0,
      "outputs": []
    },
    {
      "metadata": {
        "id": "5cm9CRLYG6ph",
        "colab_type": "code",
        "colab": {}
      },
      "cell_type": "code",
      "source": [
        "# \n",
        "\n",
        "star = 0\n",
        "\n",
        "star1 = \"*******\"\n",
        "\n",
        "# star2 = '**'\n",
        "\n",
        "# star1.strip(\"*\")\n",
        "\n",
        "# print(star1)\n",
        "\n",
        "# star1.find('*')\n",
        "# len(star1)\n",
        "\n",
        "# while star > 4 :\n",
        "#     star = star + 1\n",
        "#     star1[0]\n",
        "\n",
        "star = 7\n",
        "\n",
        "star1 = 0\n",
        "\n",
        "while star > 0 :\n",
        "    print(\" \" * star1 + \"*\" * star)\n",
        "    star -= 2\n",
        "    star1 += 1\n"
      ],
      "execution_count": 0,
      "outputs": []
    },
    {
      "metadata": {
        "id": "5Z3ay9fSSo0f",
        "colab_type": "text"
      },
      "cell_type": "markdown",
      "source": [
        "###03-3 for문"
      ]
    },
    {
      "metadata": {
        "id": "wKEOnwGFWXOc",
        "colab_type": "code",
        "colab": {}
      },
      "cell_type": "code",
      "source": [
        "# for 변수 in 리스트(듀플, 문자열) :\n",
        "#     수행문1\n",
        "#     수행문2\n",
        "\n",
        "test_list = ['one', 'two', 'three']\n",
        "\n",
        "for i in test_list :\n",
        "    print(i)\n",
        "    \n",
        "a = [(1, 2), (3, 4), (5, 6)]\n",
        "\n",
        "for (first, last) in a :\n",
        "    print(first + last)\n",
        "#     print(first)\n",
        "#     print(last)"
      ],
      "execution_count": 0,
      "outputs": []
    },
    {
      "metadata": {
        "id": "bGVRyFQ3achW",
        "colab_type": "code",
        "colab": {}
      },
      "cell_type": "code",
      "source": [
        "# for 응용문\n",
        "\n",
        "marks = [90, 25, 67, 45, 80]\n",
        "\n",
        "number = 0\n",
        "\n",
        "for mark in marks :\n",
        "    number = number + 1\n",
        "    if mark >= 60 :\n",
        "        print('%d번 학생은 합격입니다.' % number)\n",
        "    else :\n",
        "        print('%d번 학생은 불합격입니다.' % number)"
      ],
      "execution_count": 0,
      "outputs": []
    },
    {
      "metadata": {
        "id": "TBuxkLCwWlZ3",
        "colab_type": "code",
        "colab": {}
      },
      "cell_type": "code",
      "source": [
        "# for과 함께 자주 쓰는 range 함수\n",
        "\n",
        "a = range(10)\n",
        "\n",
        "print(a)\n",
        "\n",
        "b = range(1, 11)\n",
        "\n",
        "print(b)\n",
        "# 마지막 숫자는 print()로 출력이 되지만 미만으로 설정되어 포함되지 않는다\n",
        "\n",
        "sum = 0\n",
        "\n",
        "for i in range(1, 11) :\n",
        "    sum = sum + i\n",
        "    \n",
        "print(sum)"
      ],
      "execution_count": 0,
      "outputs": []
    },
    {
      "metadata": {
        "id": "lSn-N3PIh-On",
        "colab_type": "code",
        "colab": {}
      },
      "cell_type": "code",
      "source": [
        "marks = [90, 25, 67, 45, 80]\n",
        "\n",
        "# number = 0\n",
        "\n",
        "for number in range(len(marks)) :\n",
        "# for number in len(marks) :\n",
        "# range 지우면 작동이 안됨\n",
        "    if marks[number] < 60 :\n",
        "#         continue\n",
        "        print(\"%d번 학생 축하합니다. 합격입니다.\" % (number + 1))\n",
        "    else :\n",
        "        print(\"%d번 학생 아쉽게 불합격입니다.\" % (number + 1))"
      ],
      "execution_count": 0,
      "outputs": []
    },
    {
      "metadata": {
        "id": "Qe7GggqwgxFw",
        "colab_type": "code",
        "colab": {}
      },
      "cell_type": "code",
      "source": [
        "score = [90, 25, 67, 45, 80]\n",
        "\n",
        "number = 0\n",
        "\n",
        "for scores in score :\n",
        "    number = number + 1\n",
        "    if scores < 60 :\n",
        "        continue\n",
        "        print(\"%d번 학생 축하합니다. 합격입니다.\" % number)"
      ],
      "execution_count": 0,
      "outputs": []
    },
    {
      "metadata": {
        "id": "6bWFjpI8UFbT",
        "colab_type": "code",
        "colab": {}
      },
      "cell_type": "code",
      "source": [
        "marks = [90, 25, 67, 45, 80]\n",
        "\n",
        "number = 0 \n",
        "for mark in marks: \n",
        "    number = number +1 \n",
        "    if mark < 60: continue \n",
        "    print(\"%d번 학생 축하합니다. 합격입니다. \" % number)"
      ],
      "execution_count": 0,
      "outputs": []
    },
    {
      "metadata": {
        "id": "fdZfbWqHVtzp",
        "colab_type": "code",
        "colab": {}
      },
      "cell_type": "code",
      "source": [
        "# for과 range로 구구단\n",
        "\n",
        "for i in range(2, 10) :\n",
        "    for j in range(1, 10) :\n",
        "        print(i * j, end = \", \")\n",
        "    print('')"
      ],
      "execution_count": 0,
      "outputs": []
    },
    {
      "metadata": {
        "id": "hEOBnbvnYdcN",
        "colab_type": "code",
        "colab": {}
      },
      "cell_type": "code",
      "source": [
        "# list 안에 for 집어넣기\n",
        "\n",
        "a = [1, 2, 3, 4]\n",
        "\n",
        "result = []\n",
        "\n",
        "for num in a :\n",
        "    result.append(num * 3)\n",
        "print(result)\n",
        "\n",
        "# 위 내용을 간단하게 줄일수있다\n",
        "\n",
        "result1 = [num1 * 3 for num1 in a]\n",
        "print(result1)\n",
        "\n",
        "# 간단한 조건문도 추가 가능하다\n",
        "\n",
        "result2 = [num2 * 3 for num2 in a if num % 2 == 0]\n",
        "print(result2)\n",
        "\n",
        "# 2가지 이상의 조건문을 넣을수 있다 ':' 는 사용하지 않는다\n",
        "\n",
        "result3 = [a * b for a in range(2, 10)\n",
        "                 for b in range(1, 10)]\n",
        "print(result3)"
      ],
      "execution_count": 0,
      "outputs": []
    },
    {
      "metadata": {
        "id": "AmDd2EhzaxZ2",
        "colab_type": "code",
        "colab": {}
      },
      "cell_type": "code",
      "source": [
        "# 예제 1\n",
        "\n",
        "# 1부터 100까지 for문 이용해 출력\n",
        "\n",
        "test1 = range(1, 101)\n",
        "\n",
        "a = 0\n",
        "\n",
        "for num in test1 :\n",
        "    if num < 101 :\n",
        "        a = a + 1\n",
        "    print(a, end = \", \")"
      ],
      "execution_count": 0,
      "outputs": []
    },
    {
      "metadata": {
        "id": "xdeia_Hmcyzi",
        "colab_type": "code",
        "colab": {}
      },
      "cell_type": "code",
      "source": [
        "# 예제 2\n",
        "\n",
        "# 1~ 1000까지의 5의 배수의 총합\n",
        "\n",
        "test2 = range(1, 1001)\n",
        "\n",
        "b = 0\n",
        "\n",
        "for num in test2 :\n",
        "    if num % 5 == 0 :\n",
        "        b = b + num\n",
        "print(b)\n",
        "\n",
        "# test2_1 = [sum(x) for x in range(1, 1001) if x % 5 == 0]\n",
        "\n",
        "# print(test2_1)\n",
        "\n",
        "test2_1 = [x for x in range(1, 1001) if x % 5 == 0]\n",
        "\n",
        "print(sum(test2_1))"
      ],
      "execution_count": 0,
      "outputs": []
    },
    {
      "metadata": {
        "id": "2RdoYiI7DF3L",
        "colab_type": "code",
        "colab": {}
      },
      "cell_type": "code",
      "source": [
        "b =[]\n",
        "b=8\n",
        "print(b)"
      ],
      "execution_count": 0,
      "outputs": []
    },
    {
      "metadata": {
        "id": "adIv-aEzip-e",
        "colab_type": "code",
        "colab": {}
      },
      "cell_type": "code",
      "source": [
        "# 예제 3\n",
        "\n",
        "# for문을 이용한 평균 점수\n",
        "\n",
        "A = [70, 60, 55, 75, 95, 90, 80, 80, 85, 100]\n",
        "\n",
        "B = 0\n",
        "\n",
        "l = 0\n",
        "\n",
        "print(sum(A) / len(A))\n",
        "\n",
        "for c in A :\n",
        "    B = B + c\n",
        "    l = l + 1\n",
        "#     B.append(A)\n",
        "\n",
        "print(B/l)"
      ],
      "execution_count": 0,
      "outputs": []
    },
    {
      "metadata": {
        "id": "-g3On-3Eo-ln",
        "colab_type": "code",
        "colab": {}
      },
      "cell_type": "code",
      "source": [
        "# 예제 4\n",
        "\n",
        "# for문을 이용한 혈핵형별 인원 정리\n",
        "\n",
        "test4 = ['A', 'B', 'A', 'O', 'AB', 'AB', 'O', 'A', 'B', 'O', 'B', 'AB']\n",
        "\n",
        "A = []\n",
        "\n",
        "B = []\n",
        "\n",
        "AB = []\n",
        "\n",
        "O = []\n",
        "\n",
        "# for blood in test4 :\n",
        "#     if blood == ['A'] :\n",
        "#         A.append(blood)\n",
        "#     elif blood == ['b'] :\n",
        "#         B.append(blood)\n",
        "#     elif blood == ['AB'] :\n",
        "#         AB.append(blood)\n",
        "#     else :\n",
        "#         O.append(blood)\n",
        "        \n",
        "# print(A)\n",
        "# print(\"A형은 %d명입니다\" % len(A))\n",
        "\n",
        "for blood in test4 :\n",
        "    if blood == 'A' :\n",
        "        A.append(blood)\n",
        "    elif blood == 'B' :\n",
        "        B.append(blood)\n",
        "    elif blood == 'AB' :\n",
        "        AB.append(blood)\n",
        "    else :\n",
        "        O.append(blood)\n",
        "\n",
        "# for blood in range(len(test4)) :\n",
        "#     if test4[blood] == 'A' :\n",
        "#         A.append(blood)\n",
        "#     elif test4[blood] == 'B' :\n",
        "#         B.append(blood)\n",
        "#     elif test4[blood] == 'AB' :\n",
        "#         AB.append(blood)\n",
        "#     else :\n",
        "#         O.append(blood)\n",
        "\n",
        "# for blood in range(len(test4)) :\n",
        "#     if test4[blood] == 'A' :\n",
        "#         A.extend(blood)\n",
        "#     elif test4[blood] == 'B' :\n",
        "#         B.extend(blood)\n",
        "#     elif test4[blood] == 'AB' :\n",
        "#         AB.extend(blood)\n",
        "#     else :\n",
        "#         O.extend(blood)\n",
        "\n",
        "\n",
        "print(A)\n",
        "print(\"A형은 %d명입니다\" % len(A))\n",
        "print(B)\n",
        "print(\"B형은 %d명입니다\" % len(B))\n",
        "print(AB)\n",
        "print(\"AB형은 %d명입니다\" % len(AB))\n",
        "print(O)\n",
        "print(\"O형은 %d명입니다\" % len(O))\n"
      ],
      "execution_count": 0,
      "outputs": []
    },
    {
      "metadata": {
        "id": "DEaTwjGZzed8",
        "colab_type": "code",
        "colab": {}
      },
      "cell_type": "code",
      "source": [
        "# 예제 5\n",
        "\n",
        "# 짜여진 코드를 list comprehension(리스트 내포)을 활용해 표현하시오\n",
        "\n",
        "numbers = [1, 2, 3, 4, 5]\n",
        "\n",
        "result = []\n",
        "\n",
        "for n in numbers :\n",
        "    if n % 2 == 1 :\n",
        "        result.append (n*2)\n",
        "print(result)\n",
        "        \n",
        "test5 = [x * 2 for x in numbers if x % 2 == 1]\n",
        "\n",
        "print (test5)"
      ],
      "execution_count": 0,
      "outputs": []
    },
    {
      "metadata": {
        "id": "5P0CgkvA1Cbw",
        "colab_type": "code",
        "colab": {}
      },
      "cell_type": "code",
      "source": [
        "# 예제 6\n",
        "\n",
        "# 다음 문장에서 list comprehension을 활용해 모음('aeiou')를 제거 하시오\n",
        "\n",
        "# test6 = set('Life is too short, you need python')\n",
        "\n",
        "test6 = 'Life is too short, you need python'\n",
        "\n",
        "ltest = list(test6)\n",
        "\n",
        "print(ltest)\n",
        "\n",
        "d = []\n",
        "\n",
        "for word in ltest :\n",
        "    if word == \"a\" :\n",
        "        continue\n",
        "    elif word == 'e' :\n",
        "        continue\n",
        "    elif word == \"i\" :\n",
        "        continue\n",
        "    elif word == 'o' :\n",
        "        continue\n",
        "    elif word == 'u' :\n",
        "        continue\n",
        "    else :\n",
        "        d.append(word)\n",
        "print(''.join(d))\n",
        "        \n",
        "# word = list(test6)\n",
        "\n",
        "# print(word)\n",
        "\n",
        "# a = [sum(b) for b in word if ]\n",
        "\n",
        "# for text in range(len(test6)) :\n",
        "#     if test6[text] = 'a' :\n",
        "#         continue\n",
        "#     elif test6[text] = 'e' :\n",
        "#         continue\n",
        "#     elif test6[text] = 'i' :\n",
        "#         continue\n",
        "#     elif test6[text] = 'o' :\n",
        "#         continue\n",
        "#     elif test6[text] = 'u' :\n",
        "#         continue\n",
        "#     else :\n",
        "        "
      ],
      "execution_count": 0,
      "outputs": []
    },
    {
      "metadata": {
        "id": "6rFnQLoUxYG8",
        "colab_type": "text"
      },
      "cell_type": "markdown",
      "source": [
        "##04 프로그램의 입력과 출력은 어떻게 해야 할까?"
      ]
    },
    {
      "metadata": {
        "id": "2GGIEIJ2xdC0",
        "colab_type": "text"
      },
      "cell_type": "markdown",
      "source": [
        "###04-1 함수"
      ]
    },
    {
      "metadata": {
        "id": "kVK-eqqRxjpr",
        "colab_type": "code",
        "colab": {}
      },
      "cell_type": "code",
      "source": [
        "# 파이썬의 함수 구조\n",
        "\n",
        "# def 함수명(매개변수):\n",
        "#     <수행문 1>\n",
        "#     <수행문 2>\n",
        "\n",
        "def sum1(a, b) :\n",
        "    return a + b\n",
        "# 함수를 사용할것이고 사용함수는 sum 이고 사용되는 매개변수는 a, b 다.\n",
        "\n",
        "a = 3\n",
        "b = 4\n",
        "c = sum1(a, b)\n",
        "print(c)\n",
        "print(a + b)\n",
        "print(sum1(a, b))\n",
        "\n",
        "# def 함수를 비화성화 해도 같은 결과가 나오는대 무슨 차이일까?"
      ],
      "execution_count": 0,
      "outputs": []
    },
    {
      "metadata": {
        "id": "SWyptDhv0xa0",
        "colab_type": "code",
        "colab": {}
      },
      "cell_type": "code",
      "source": [
        "# 입력값과 결과값에 따른 함수의 형태\n",
        "\n",
        "# 입력값 ----> 함수 ----> 리턴값"
      ],
      "execution_count": 0,
      "outputs": []
    },
    {
      "metadata": {
        "id": "YLC_lxij1VdL",
        "colab_type": "code",
        "colab": {}
      },
      "cell_type": "code",
      "source": [
        "# 일반적 함수\n",
        "\n",
        "# def 함수이름(매개변수) :\n",
        "#     <수행문>\n",
        "#     return 결과값\n",
        "\n",
        "def sum1(a, b) :\n",
        "    result = a + b\n",
        "    return result\n",
        "\n",
        "a = sum1(3, 4)\n",
        "b = 5\n",
        "\n",
        "print(a)\n",
        "# print(sum())\n",
        "# print(result)\n",
        "# 에러발생\n",
        "# sum을 단독으로 사용하는 것과 차이점이 안보임\n",
        "\n",
        "# 결과값을 받을 변수 = 함수명수 1, 입력 인수 2"
      ],
      "execution_count": 0,
      "outputs": []
    },
    {
      "metadata": {
        "id": "B4-L_BXv2XPC",
        "colab_type": "code",
        "colab": {}
      },
      "cell_type": "code",
      "source": [
        "# 입력값이 없는 함수\n",
        "\n",
        "def say1() :\n",
        "    return 'Hi'\n",
        "\n",
        "a = say1()\n",
        "\n",
        "print(a)\n",
        "\n",
        "# 결과값을 받을 변수 = 함수명()\n",
        "\n",
        "def say1(b, c) :\n",
        "    d = b + c\n",
        "    return \"sleep\"\n",
        "    return d\n",
        "# 수행문에 무엇을 넣든 return 값을 엉뚱한것을 넣으면 엉뚱한 값이 출력\n",
        "# return을 여러개 넣는다 하여도 첫번째 return만 인식\n",
        "\n",
        "b = 3\n",
        "# c = \"5\"\n",
        "c = 5\n",
        "e = say1(b, c)\n",
        "\n",
        "print(d)\n",
        "print(e)\n",
        "# 변수를 미리 선언하는 것이랑 비슷함??\n",
        "# 타입이 다를경우 에러발생\n",
        "\n",
        "print(b)\n",
        "print(c)"
      ],
      "execution_count": 0,
      "outputs": []
    },
    {
      "metadata": {
        "id": "8w7BcoP66Gjt",
        "colab_type": "code",
        "outputId": "501aee50-b37c-46e3-cf1f-b99edb2f838f",
        "colab": {
          "base_uri": "https://localhost:8080/",
          "height": 71
        }
      },
      "cell_type": "code",
      "source": [
        "# 결과값이 없는 함수\n",
        "\n",
        "def sum1(a, b) :\n",
        "    print('%d, %d의 합은 %d입니다.' % (a, b, a + b))\n",
        "    \n",
        "sum1(5, 6)\n",
        "\n",
        "# 함수명(입력 인수1, 입력인수2, ...)\n",
        "\n",
        "# # return값이 없으면 결과값이 없다 print는 수행문 취급\n",
        "\n",
        "c = sum1(4, 5)\n",
        "\n",
        "print(c)\n",
        "# return을 사용하지 않았기에 최종값이 없어서 None이 나온다 \n",
        "# def 함수(매개변수)는 일반적인 변수선언보다 상위 변수선언으로 보임"
      ],
      "execution_count": 0,
      "outputs": [
        {
          "output_type": "stream",
          "text": [
            "5, 6의 합은 11입니다.\n",
            "4, 5의 합은 9입니다.\n",
            "None\n"
          ],
          "name": "stdout"
        }
      ]
    },
    {
      "metadata": {
        "id": "PldTHgbe-HpY",
        "colab_type": "code",
        "outputId": "197ad673-6901-49f7-a209-ec3b99a96455",
        "colab": {
          "base_uri": "https://localhost:8080/",
          "height": 35
        }
      },
      "cell_type": "code",
      "source": [
        "# 입력값과 결과값 두가지가 다 없는 경우\n",
        "\n",
        "def sayzz() :\n",
        "    print('Bye')\n",
        "    \n",
        "sayzz()"
      ],
      "execution_count": 0,
      "outputs": [
        {
          "output_type": "stream",
          "text": [
            "Bye\n"
          ],
          "name": "stdout"
        }
      ]
    },
    {
      "metadata": {
        "id": "bQF2rTdH-9Le",
        "colab_type": "code",
        "colab": {}
      },
      "cell_type": "code",
      "source": [
        "# 매개변수 지정하여 호출하기\n",
        "\n",
        "def sum1(a, b) :\n",
        "    return a + b\n",
        "\n",
        "print(sum1(a = 3, b = 10)) # a에 인수 3, b에 인수 7을 전달\n",
        "print(sum1(b = 5, a = 4))\n",
        "\n",
        "# 매개변수 순서는 바뀌어도 작동에 문제는 없다\n",
        "\n",
        "print(sum1(9, 8))\n",
        "# 위와 같은 경우는 순서가 바뀌면 매개변수 값이 달라지긴 하지만\n",
        "# 매개변수를 지정하는 이유는..?\n",
        "\n",
        "def sum1(a, b, c, d) :\n",
        "    return(a + b + c + d)\n",
        "\n",
        "print(sum1(1, 2, 3, 4))\n",
        "# print(sum1(3, 4, 2))\n",
        "# print(sum1(1, 2, 3, 4, 5))\n",
        "# print(sum1(d = 3, 2, 1))\n",
        "# print(sum1(d = 3, 2, 1, 4))\n",
        "# print(sum1(a = 3, 2, 1, 4))\n",
        "\n",
        "# 특정 매개변수만 지정하여 호출은 안됨 하려면 모든 매개변수를 지정"
      ],
      "execution_count": 0,
      "outputs": []
    },
    {
      "metadata": {
        "id": "IH2OgU7cBWYh",
        "colab_type": "code",
        "colab": {}
      },
      "cell_type": "code",
      "source": [
        "# print(sum1(3, 4, 2))\n",
        "# print(sum1(1, 2, 3, 4, 5))\n",
        "\n",
        "# 이미 def를 이용해 함수를 사용한다 선언 하면 뒤에 정해진 틀 안에서\n",
        "# 사용하지 않으면 무조건 에러발생 다른셀에서 사용해도 마찬가지"
      ],
      "execution_count": 0,
      "outputs": []
    },
    {
      "metadata": {
        "id": "83cAbsDjCDD6",
        "colab_type": "code",
        "colab": {}
      },
      "cell_type": "code",
      "source": [
        "# 입력값이 몇 개가 될지 모를 때에 사용법\n",
        "\n",
        "# def 함수이름(*매개변수) :\n",
        "#     <수행문>\n",
        "# * 를 사용해 매개변수를 지정하면 \"튜플\"로 취급\n",
        "\n",
        "def sum_many(*args) :\n",
        "    sum = 0\n",
        "    for i in args :\n",
        "        sum = sum + i\n",
        "    return sum\n",
        "# args = arguments(인수)의 약자이고 원하는 매개변수를 넣으면 된다\n",
        "\n",
        "result = sum_many(1, 2, 3)\n",
        "print(result)\n",
        "\n",
        "result = sum_many(1, 2, 3, 4, 5, 6, 7, 8, 9, 10)\n",
        "print(result)"
      ],
      "execution_count": 0,
      "outputs": []
    },
    {
      "metadata": {
        "id": "2V4LIEYYFVoG",
        "colab_type": "code",
        "colab": {}
      },
      "cell_type": "code",
      "source": [
        "# sum_many(*args) 처럼 함수의 인수로 *args(매개변수)만 사용할수 있는건 아니다\n",
        "\n",
        "def sum_mul(choice, *args) :\n",
        "    if choice == 'sum' :\n",
        "        result = 0\n",
        "        for i in args :\n",
        "            result = result + i\n",
        "    elif choice == 'mul' :\n",
        "        result = 1\n",
        "        for i in args :\n",
        "            result = result * i\n",
        "    return result\n",
        "# 함수의 인수로 *args만 사용할수 있는게 아니라면서 사용이 된 예시\n",
        "\n",
        "result = sum_mul('sum', 1, 2, 3, 4, 5)\n",
        "print(result)\n",
        "\n",
        "result = sum_mul('mul', 1, 2, 3, 4, 5)\n",
        "print(result)\n",
        "# 함수의 인수로 *매개변수를 사용안한다는 예시인대 사용되었고\n",
        "# 보기에는 특정 동작을 위해 동작 조건에 문자를 넣은 응용 예시로 보인다"
      ],
      "execution_count": 0,
      "outputs": []
    },
    {
      "metadata": {
        "id": "7xYZzkANJm26",
        "colab_type": "code",
        "colab": {}
      },
      "cell_type": "code",
      "source": [
        "# 키워드 파라미터 kwargs\n",
        "\n",
        "# *와 달리 **를 사용한것은 keyword arguments이다\n",
        "\n",
        "def func(**kwargs) :\n",
        "    print(kwargs)\n",
        "    \n",
        "func(a = 1)\n",
        "\n",
        "func(name = 'foo', age = 3)\n",
        "\n",
        "# ** 는 딕셔너리로 생성이 된다\n",
        "\n",
        "# func(1, 2, 3, name = 'foo', age = 3)\n",
        "# ** 만 들어간 경우는 딕셔너리만 입력이 된다\n",
        "\n",
        "def func(*args, **kwargs) :\n",
        "    print(args)\n",
        "    print(kwargs)\n",
        "    \n",
        "func(1, 2, 3, 4, name = 'good', age = 2)\n",
        "\n",
        "# 입력값이 정해지지 않은 튜플과 딕셔너리 둘다 사용이 가능하다\n",
        "\n",
        "# func (name = 'soo', 1, 2, 3, age = \"old\")\n",
        "# 순서가 맞지 않으면 에러 발생"
      ],
      "execution_count": 0,
      "outputs": []
    },
    {
      "metadata": {
        "id": "lJquLVcAMjYJ",
        "colab_type": "code",
        "colab": {}
      },
      "cell_type": "code",
      "source": [
        "# 함수의 결과값은 언제나 하나\n",
        "\n",
        "def sum_and_mul(a, b) :\n",
        "    return a + b, a * b\n",
        "\n",
        "result = sum_and_mul(3, 4)\n",
        "\n",
        "print(result)\n",
        "\n",
        "# 결과값을 2개 이상의 결과값 처럼 보이려면\n",
        "\n",
        "m1, m2 = sum_and_mul(3, 4)\n",
        "\n",
        "print(m1)\n",
        "print(m2)"
      ],
      "execution_count": 0,
      "outputs": []
    },
    {
      "metadata": {
        "id": "aMhTheDPN1Sy",
        "colab_type": "code",
        "colab": {}
      },
      "cell_type": "code",
      "source": [
        "# return의 다른 사용법\n",
        "\n",
        "# 함수에서 빠져나기가 위해 사용할수 있다\n",
        "\n",
        "def say_nick(nick) :\n",
        "    if nick == '야호' :\n",
        "        return\n",
        "    print('너는 %s니?' % nick)\n",
        "    \n",
        "say_nick('야호')\n",
        "say_nick('바보')\n",
        "\n",
        "# 함수에서 빠져나간다는 것은 return값을 받는경우에만 동작하지 않는 다는 것\n",
        "# 아예 함수를 멈춘다는 뜻은 아니다"
      ],
      "execution_count": 0,
      "outputs": []
    },
    {
      "metadata": {
        "id": "yiIf5uhUPgxy",
        "colab_type": "code",
        "colab": {}
      },
      "cell_type": "code",
      "source": [
        "# 두개의 return 값이 다른 위치에 있는 경우\n",
        "\n",
        "def say_what(nick) :\n",
        "    if nick == '야호' :\n",
        "        return\n",
        "    return print('너는 %s니?' % nick)\n",
        "\n",
        "say_what('야호')\n",
        "say_what('바보')\n",
        "\n",
        "z = say_what('어디있')\n",
        "\n",
        "print(z)\n",
        "\n",
        "# return은 어느 위치에 있던 몇번 들어가던 같은 함수안에 첫번째 사용된것만 값으로 인식"
      ],
      "execution_count": 0,
      "outputs": []
    },
    {
      "metadata": {
        "id": "wmQEjZJ3QwtB",
        "colab_type": "code",
        "colab": {}
      },
      "cell_type": "code",
      "source": [
        "# 매개변수에 초기값 미리 설정하기\n",
        "\n",
        "def say_my(name, old, man = True) :\n",
        "    print('나의 이름은 %s 입니다' % name)\n",
        "    print('나의 나이는 %d살입니다' % old)\n",
        "    if man :\n",
        "        print('백수입니다.')\n",
        "    else :\n",
        "        print('직장인입니다.')\n",
        "        \n",
        "say_my('이희성', 29)\n",
        "# 초기값이 True이기 때문에 백수라고 출력이 된다\n",
        "\n",
        "say_my('이희성', 29, False)\n",
        "\n",
        "say_my('이희성', True) # old에 해당되는 값을 자동으로 1로 넣어 출력\n",
        "\n",
        "say_my(29, False)\n",
        "# 포매팅내용이 문자만 출력되게 해놓았는대 인수를 문자로 취급 old는 0으로 할당\n",
        "\n",
        "say_my(29, 29, False)\n",
        "# 문자열 포매팅 이용시 인수를 자동으로 문자로 변환 반대상황의 경우 에러발생\n",
        "\n",
        "# say_my(123, \"하하\")\n",
        "\n",
        "# say_my(100)\n",
        "\n",
        "# say_my('이희성')\n",
        "\n",
        "# 매개변수를 부족하게 넣어도 원하는대로는 아니지만 작동이 된다\n",
        "# 단 1개의 변수만 넣으면 에러발생"
      ],
      "execution_count": 0,
      "outputs": []
    },
    {
      "metadata": {
        "id": "9PMujoowU2t0",
        "colab_type": "code",
        "colab": {}
      },
      "cell_type": "code",
      "source": [
        "# 함수 매개변수 초기값 설정시 주의점\n",
        "\n",
        "def say_my(name, man = True, old) :\n",
        "    print('나의 이름은 %s 입니다' % name)\n",
        "    print('나의 나이는 %d살입니다' % old)\n",
        "    if man :\n",
        "        print('백수입니다.')\n",
        "    else :\n",
        "        print('직장인입니다.')\n",
        "        \n",
        "say_my('이희성', 29)\n",
        "\n",
        "say_my('이희성', True, 29)\n",
        "\n",
        "# 매개변수 초기값 설정하지 않은 매개변수는 초기 설정한 매개변수 앞이나 중간엔\n",
        "# 사용하지 못하고 가장 마지막에만 사용가능하다"
      ],
      "execution_count": 0,
      "outputs": []
    },
    {
      "metadata": {
        "id": "vKy-PEXlbvvd",
        "colab_type": "code",
        "outputId": "93607bbf-e4e2-45ed-9530-2032e18df784",
        "colab": {
          "base_uri": "https://localhost:8080/",
          "height": 89
        }
      },
      "cell_type": "code",
      "source": [
        "# 함수 안에서 선언된 변수의 적용 범위\n",
        "\n",
        "a = 1\n",
        "\n",
        "def vartest(a) :\n",
        "    a = a + 1\n",
        "    return a\n",
        "    \n",
        "vartest(a)\n",
        "\n",
        "print(a)\n",
        "\n",
        "a = 2\n",
        "\n",
        "print(a)\n",
        "\n",
        "vartest(3)\n",
        "\n",
        "print(a)\n",
        "\n",
        "print(vartest(a))\n",
        "\n",
        "# 함수에서 선언된변수와 함수 밖에서 선언된 변수는 다른 취급\n",
        "# 함수안에서 선언된 변수를 사용하려면 함수명과 매개변수를 꼭 같이 사용해야된다"
      ],
      "execution_count": 0,
      "outputs": [
        {
          "output_type": "stream",
          "text": [
            "1\n",
            "2\n",
            "2\n",
            "3\n"
          ],
          "name": "stdout"
        }
      ]
    },
    {
      "metadata": {
        "id": "N3lv2zvAe3rS",
        "colab_type": "code",
        "outputId": "ae26f86a-812c-49f7-f63f-91a8422af375",
        "colab": {
          "base_uri": "https://localhost:8080/",
          "height": 244
        }
      },
      "cell_type": "code",
      "source": [
        "# 에러 나는 경우\n",
        "\n",
        "def vartest(aplok):\n",
        "    aplok = aplok + 1\n",
        "\n",
        "vartest(3)\n",
        "print(aplok)\n",
        "\n",
        "# 함수안의 매개변수 apolk와 다르게 print의 apolk는 변수 선언이 안되있어 에러 발생"
      ],
      "execution_count": 0,
      "outputs": [
        {
          "output_type": "error",
          "ename": "NameError",
          "evalue": "ignored",
          "traceback": [
            "\u001b[0;31m---------------------------------------------------------------------------\u001b[0m",
            "\u001b[0;31mNameError\u001b[0m                                 Traceback (most recent call last)",
            "\u001b[0;32m<ipython-input-8-498143c5e56b>\u001b[0m in \u001b[0;36m<module>\u001b[0;34m()\u001b[0m\n\u001b[1;32m      4\u001b[0m \u001b[0;34m\u001b[0m\u001b[0m\n\u001b[1;32m      5\u001b[0m \u001b[0mvartest\u001b[0m\u001b[0;34m(\u001b[0m\u001b[0;36m3\u001b[0m\u001b[0;34m)\u001b[0m\u001b[0;34m\u001b[0m\u001b[0m\n\u001b[0;32m----> 6\u001b[0;31m \u001b[0mprint\u001b[0m\u001b[0;34m(\u001b[0m\u001b[0maplok\u001b[0m\u001b[0;34m)\u001b[0m\u001b[0;34m\u001b[0m\u001b[0m\n\u001b[0m\u001b[1;32m      7\u001b[0m \u001b[0;34m\u001b[0m\u001b[0m\n\u001b[1;32m      8\u001b[0m \u001b[0;31m# 변수 선언이\u001b[0m\u001b[0;34m\u001b[0m\u001b[0;34m\u001b[0m\u001b[0m\n",
            "\u001b[0;31mNameError\u001b[0m: name 'aplok' is not defined"
          ]
        }
      ]
    },
    {
      "metadata": {
        "id": "T8-Ayp1uivHu",
        "colab_type": "code",
        "outputId": "38fa4179-2344-4881-d006-5aa71ae1e976",
        "colab": {
          "base_uri": "https://localhost:8080/",
          "height": 53
        }
      },
      "cell_type": "code",
      "source": [
        "# 함수 안에서 함수 밖의 변수 변경하는 방법\n",
        "\n",
        "# 01. return 이용하기\n",
        "\n",
        "a = 1\n",
        "\n",
        "def vartest(a) :\n",
        "    a = a + 1\n",
        "    return a\n",
        "\n",
        "a = vartest(a)\n",
        "\n",
        "print(a)\n",
        "\n",
        "# 02. global 이용하기\n",
        "\n",
        "zzzzz = 1\n",
        "\n",
        "def vartest() :\n",
        "    global zzzzz\n",
        "    zzzzz = zzzzz + 1\n",
        "    \n",
        "vartest()\n",
        "\n",
        "print(zzzzz)"
      ],
      "execution_count": 0,
      "outputs": [
        {
          "output_type": "stream",
          "text": [
            "2\n",
            "2\n"
          ],
          "name": "stdout"
        }
      ]
    },
    {
      "metadata": {
        "id": "hfEq4GmHcXeT",
        "colab_type": "code",
        "outputId": "5fc54f8d-bc1c-4e05-ac8c-60d59d75fd4f",
        "colab": {
          "base_uri": "https://localhost:8080/",
          "height": 107
        }
      },
      "cell_type": "code",
      "source": [
        "# 다른 함수 lambda\n",
        "\n",
        "# lambda 매개변수 1, 매개변수 2, .... : 매개변수를 이용한 표현식\n",
        "\n",
        "sum = lambda a, b : a + b\n",
        "\n",
        "print(sum(3, 4))\n",
        "\n",
        "# def sum(a, b) :\n",
        "#     return a + b\n",
        "# 위의 def 함수와 동일하다\n",
        "# lambda는 def를 간결하게 사용하기 위해 쓰인다\n",
        "\n",
        "myList = [lambda a, b : a + b, lambda a, b : a * b]\n",
        "\n",
        "print(myList)\n",
        "\n",
        "print(myList[0])\n",
        "\n",
        "print(myList[0](3, 4))\n",
        "\n",
        "print(myList[1](3, 4))\n",
        "\n",
        "# def는 튜플과 딕셔너리를 사용할수 있고 lambda는 리스트를 사용할수있다"
      ],
      "execution_count": 0,
      "outputs": [
        {
          "output_type": "stream",
          "text": [
            "7\n",
            "[<function <lambda> at 0x7f3abbcb1ae8>, <function <lambda> at 0x7f3abbcb1c80>]\n",
            "<function <lambda> at 0x7f3abbcb1ae8>\n",
            "7\n",
            "12\n"
          ],
          "name": "stdout"
        }
      ]
    },
    {
      "metadata": {
        "id": "g_t-w51fpYF_",
        "colab_type": "code",
        "outputId": "bdfb0d9e-9f49-4f55-ded4-9fbb782cf85a",
        "colab": {
          "base_uri": "https://localhost:8080/",
          "height": 35
        }
      },
      "cell_type": "code",
      "source": [
        "# 예제 1\n",
        "\n",
        "# 주어진 수가 홀수인지 짝수인지 판별하기 (is_odd 함수로 작성)\n",
        "\n",
        "def is_odd(a) :\n",
        "    if a % 2 == 0 :\n",
        "        print('짝수')\n",
        "    if a % 2 == 1 :\n",
        "        print('홀수')\n",
        "        \n",
        "is_odd(14)"
      ],
      "execution_count": 0,
      "outputs": [
        {
          "output_type": "stream",
          "text": [
            "짝수\n"
          ],
          "name": "stdout"
        }
      ]
    },
    {
      "metadata": {
        "id": "6AsHnUxw057C",
        "colab_type": "code",
        "outputId": "9d2ea615-27a9-4912-f282-548921ae690a",
        "colab": {
          "base_uri": "https://localhost:8080/",
          "height": 89
        }
      },
      "cell_type": "code",
      "source": [
        "# 예제 2\n",
        "\n",
        "# 구구단 출력 n(2 ~ 9)의 자연수 받는 n에 해당하는 함수 작성\n",
        "\n",
        "def googoodan(a, b) :\n",
        "    print(a * b)\n",
        "    \n",
        "googoodan(3, 5)\n",
        "\n",
        "def googoodan(a) :\n",
        "    b0 = a * 2\n",
        "    b1 = a * 3\n",
        "    b2 = a * 4\n",
        "    b3 = a * 5\n",
        "    b4 = a * 6\n",
        "    b5 = a * 7\n",
        "    b6 = a * 8\n",
        "    b7 = a * 9\n",
        "    return print(b0, b1, b2, b3, b4, b5, b6, b7)\n",
        "\n",
        "googoodan(5)\n",
        "\n",
        "b = [2, 3, 4, 5, 6, 7, 8, 9]\n",
        "b1 = []\n",
        "\n",
        "def googoodan(a) :\n",
        "    for c in b :\n",
        "        d = a * c\n",
        "        b1.append(d)\n",
        "#     print(' '.join(b1))\n",
        "#     ' '.join(b1)\n",
        "#     return b2\n",
        "    print(b1)\n",
        "#     return \" \".join(b1)\n",
        "    \n",
        "    \n",
        "googoodan(4)\n",
        "\n",
        "def googoodan(a) :\n",
        "    b = [2, 3, 4, 5, 6, 7, 8, 9]\n",
        "    b1 = []\n",
        "    for c in b :\n",
        "        d = a * c\n",
        "        b1.append(d)\n",
        "    print(b1)\n",
        "    \n",
        "googoodan(2)"
      ],
      "execution_count": 0,
      "outputs": [
        {
          "output_type": "stream",
          "text": [
            "15\n",
            "10 15 20 25 30 35 40 45\n",
            "[8, 12, 16, 20, 24, 28, 32, 36]\n",
            "[4, 6, 8, 10, 12, 14, 16, 18]\n"
          ],
          "name": "stdout"
        }
      ]
    },
    {
      "metadata": {
        "id": "9-N4buDNNYlB",
        "colab_type": "code",
        "outputId": "162105fd-ab2a-4fee-b702-1e1bd0464bcb",
        "colab": {
          "base_uri": "https://localhost:8080/",
          "height": 55
        }
      },
      "cell_type": "code",
      "source": [
        "b = [0, 1]\n",
        "num = 0\n",
        "while num < 50 :\n",
        "    num = num + 1\n",
        "    b.append(b[-2] + b[-1])\n",
        "print(b)"
      ],
      "execution_count": 0,
      "outputs": [
        {
          "output_type": "stream",
          "text": [
            "[0, 1, 1, 2, 3, 5, 8, 13, 21, 34, 55, 89, 144, 233, 377, 610, 987, 1597, 2584, 4181, 6765, 10946, 17711, 28657, 46368, 75025, 121393, 196418, 317811, 514229, 832040, 1346269, 2178309, 3524578, 5702887, 9227465, 14930352, 24157817, 39088169, 63245986, 102334155, 165580141, 267914296, 433494437, 701408733, 1134903170, 1836311903, 2971215073, 4807526976, 7778742049, 12586269025, 20365011074]\n"
          ],
          "name": "stdout"
        }
      ]
    },
    {
      "metadata": {
        "id": "FGdWa3oM_6Bj",
        "colab_type": "code",
        "outputId": "fc14fdc9-9daf-4f97-8ca7-4c96400698b4",
        "colab": {
          "base_uri": "https://localhost:8080/",
          "height": 71
        }
      },
      "cell_type": "code",
      "source": [
        "# 예제 4\n",
        "\n",
        "# 피보나치 정수 n을 받을때 n 이하의 피보나치 수열을 출력하는 함수 작성\n",
        "# 1. fib(0) > 0 리턴\n",
        "# 2. fib(1) > 1 리턴\n",
        "# 3. fib(2) > fib(0) + fib(1) > 0 + 1 > 1 리턴\n",
        "# 4. fib(3) > fib(1) + fib(2) > 1 + 1 > 2 리턴\n",
        "# 5. fib(4) > fib(2) + fib(3) > 1 + 2 > 3 리턴\n",
        "\n",
        "def fib(a) :\n",
        "    b = [0, 1]\n",
        "    num = 0\n",
        "    li = 0\n",
        "    while num < 50 :\n",
        "        num = num + 1\n",
        "        b.append(b[-2] + b[-1])\n",
        "#     for s in b :\n",
        "    while li < len(b) :\n",
        "        if b[li] < a :\n",
        "            li = li + 1\n",
        "        else :\n",
        "            break\n",
        "    print(b[:li])\n",
        "        \n",
        "fib(1000)\n",
        "\n",
        "def fib(a) :\n",
        "    b = [0, 1]\n",
        "    while b[-1] < a :\n",
        "        b.append(b[-2] + b[-1])\n",
        "    print(b[:-1])\n",
        "    \n",
        "fib(70)\n",
        "\n",
        "# def fib(n) :\n",
        "#     if n == 0 : return 0\n",
        "#     if n == 1 : return 1\n",
        "#     return fib(n - 2) + fib(n - 1)\n",
        "# for i in range(10) :\n",
        "#     print(fib(i), end = \" \")"
      ],
      "execution_count": 0,
      "outputs": [
        {
          "output_type": "stream",
          "text": [
            "[0, 1, 1, 2, 3, 5, 8, 13, 21, 34, 55, 89, 144, 233, 377, 610, 987]\n",
            "[0, 1, 1, 2, 3, 5, 8, 13, 21, 34, 55]\n",
            "0 1 1 2 3 5 8 13 21 34 "
          ],
          "name": "stdout"
        }
      ]
    },
    {
      "metadata": {
        "id": "V7RmxOSZWIzS",
        "colab_type": "code",
        "outputId": "638c5f11-55eb-41c4-b41c-0928b82139d3",
        "colab": {
          "base_uri": "https://localhost:8080/",
          "height": 35
        }
      },
      "cell_type": "code",
      "source": [
        "# 예제 5\n",
        "\n",
        "# lambda 함수로 변경\n",
        "\n",
        "# def myfunc(numbers) :\n",
        "#     result = []\n",
        "#     for number in numbers :\n",
        "#         if number > 5 :\n",
        "#             result.append(number)\n",
        "#     return result\n",
        "        \n",
        "# myfunc([2, 3, 4, 5, 6, 7, 8])\n",
        "\n",
        "# myfunc = lambda number :\n",
        "#                 result = []\n",
        "#                 for number in numbers :\n",
        "#                     if number > 5 :\n",
        "#                         result.append(nuber)\n",
        "#                 return result\n",
        "            \n",
        "# myfunc([2, 3, 4, 5, 6, 7, 8])\n",
        "\n",
        "myfunc = lambda numbers : [number for number in numbers if number > 5]\n",
        "\n",
        "myfunc([2, 3, 4, 5, 6, 7, 8])"
      ],
      "execution_count": 0,
      "outputs": [
        {
          "output_type": "execute_result",
          "data": {
            "text/plain": [
              "[6, 7, 8]"
            ]
          },
          "metadata": {
            "tags": []
          },
          "execution_count": 76
        }
      ]
    },
    {
      "metadata": {
        "id": "eJluDUdAVVVl",
        "colab_type": "code",
        "outputId": "d546b655-7d17-4cff-a59f-7feb55807f0d",
        "colab": {
          "base_uri": "https://localhost:8080/",
          "height": 35
        }
      },
      "cell_type": "code",
      "source": [
        "def fib(a) :\n",
        "    n = [0, 1]\n",
        "    while n[-1] < a :\n",
        "        n.append(n[-2] + n[-1])\n",
        "    print(n[:-1])\n",
        "    \n",
        "fib(20)"
      ],
      "execution_count": 0,
      "outputs": [
        {
          "output_type": "stream",
          "text": [
            "[0, 1, 1, 2, 3, 5, 8, 13]\n"
          ],
          "name": "stdout"
        }
      ]
    },
    {
      "metadata": {
        "id": "HQumJUbSYvLb",
        "colab_type": "text"
      },
      "cell_type": "markdown",
      "source": [
        "###04-2 사용자 입력과 출력"
      ]
    },
    {
      "metadata": {
        "id": "02D6WXhrZCza",
        "colab_type": "code",
        "colab": {}
      },
      "cell_type": "code",
      "source": [
        "# 사용자 입력 > 처리(프로그램, 함수) > 출력으로 이루어진다"
      ],
      "execution_count": 0,
      "outputs": []
    },
    {
      "metadata": {
        "id": "NQEeeF0zaIRL",
        "colab_type": "code",
        "outputId": "9222149b-2760-4758-b3fb-4c6eb18781b0",
        "colab": {
          "base_uri": "https://localhost:8080/",
          "height": 71
        }
      },
      "cell_type": "code",
      "source": [
        "# 사용자 입력 방법\n",
        "\n",
        "# input\n",
        "\n",
        "a = input()\n",
        "\n",
        "# 프롬프트를 띄워 사용자 입력 받기\n",
        "\n",
        "# input('질문 내용')\n",
        "\n",
        "number = input('숫자를 입력하세요 : ')\n",
        "\n",
        "print(number)"
      ],
      "execution_count": 0,
      "outputs": [
        {
          "output_type": "stream",
          "text": [
            "s\\\n",
            "숫자를 입력하세요 : fse\n",
            "fse\n"
          ],
          "name": "stdout"
        }
      ]
    },
    {
      "metadata": {
        "id": "6PxzYodDbMuX",
        "colab_type": "code",
        "outputId": "d72a57b4-0936-40af-acb1-d74a3b415778",
        "colab": {
          "base_uri": "https://localhost:8080/",
          "height": 89
        }
      },
      "cell_type": "code",
      "source": [
        "# print 자세히 알기\n",
        "\n",
        "# \" \"를 둘러싼 문자열은 + 연산과 같다\n",
        "\n",
        "print('life' 'is' 'min? max?')\n",
        "print('life'+'is'+'min? max?')\n",
        "\n",
        "# 문자열 띄어쓰기는 콤마로 실행한다\n",
        "\n",
        "print('life', 'is', 'min? max?')\n",
        "\n",
        "# 한줄에 결과 값 출력하기\n",
        "\n",
        "for i in range(10) :\n",
        "    print(i, end = ' ')"
      ],
      "execution_count": 0,
      "outputs": [
        {
          "output_type": "stream",
          "text": [
            "lifeismin? max?\n",
            "lifeismin? max?\n",
            "life is min? max?\n",
            "0 1 2 3 4 5 6 7 8 9 "
          ],
          "name": "stdout"
        }
      ]
    },
    {
      "metadata": {
        "id": "Y4qqcChZcKsd",
        "colab_type": "text"
      },
      "cell_type": "markdown",
      "source": [
        "#### 연습문제"
      ]
    },
    {
      "metadata": {
        "id": "I9_kpv7LcRxY",
        "colab_type": "code",
        "outputId": "dae1ddbb-148b-4483-8c5e-65e08e83a406",
        "colab": {
          "base_uri": "https://localhost:8080/",
          "height": 107
        }
      },
      "cell_type": "code",
      "source": [
        "# 예제 1\n",
        "\n",
        "# 두 숫자를 입력 받아 더하여 리턴하는 프로그램 실행 시키고 오류 수정\n",
        "\n",
        "# input1 = input('첫번째 숫자를 입력하시오 : ')\n",
        "# input2 = input('두번째 숫자를 입력하시오 : ')\n",
        "\n",
        "# total = input1 + input2\n",
        "\n",
        "# print('두수의 합은 %s입니다' % total)\n",
        "\n",
        "input1 = input('첫번째 숫자를 입력하시오 : ')\n",
        "input2 = input('두번째 숫자를 입력하시오 : ')\n",
        "print(type(input1))\n",
        "total = int(input1) + int(input2)\n",
        "\n",
        "print('두수의 합은 %s입니다' % total)"
      ],
      "execution_count": 0,
      "outputs": [
        {
          "output_type": "stream",
          "text": [
            "첫번째 숫자를 입력하시오 : 3\n",
            "두번째 숫자를 입력하시오 : 2\n",
            "<class 'str'>\n",
            "두수의 합은 5입니다\n",
            "22ee\n"
          ],
          "name": "stdout"
        }
      ]
    },
    {
      "metadata": {
        "id": "lnB8GxN8gJFX",
        "colab_type": "code",
        "outputId": "94a45282-653a-472e-cf01-4e4b66af8d8a",
        "colab": {
          "base_uri": "https://localhost:8080/",
          "height": 136
        }
      },
      "cell_type": "code",
      "source": [
        "a = 2\n",
        "\n",
        "b = 'ee'\n",
        "\n",
        "print(str(a) * 2, b)\n",
        "print(a * 2 + b)"
      ],
      "execution_count": 0,
      "outputs": [
        {
          "output_type": "error",
          "ename": "SyntaxError",
          "evalue": "ignored",
          "traceback": [
            "\u001b[0;36m  File \u001b[0;32m\"<ipython-input-51-e6c8c262be95>\"\u001b[0;36m, line \u001b[0;32m5\u001b[0m\n\u001b[0;31m    print(str(a) * 2, end = '\\n', b)\u001b[0m\n\u001b[0m                                 ^\u001b[0m\n\u001b[0;31mSyntaxError\u001b[0m\u001b[0;31m:\u001b[0m positional argument follows keyword argument\n"
          ]
        }
      ]
    },
    {
      "metadata": {
        "id": "aQ7ApnnvgU0M",
        "colab_type": "code",
        "outputId": "c08db259-fde6-48ed-e57c-40ab1dfd926d",
        "colab": {
          "base_uri": "https://localhost:8080/",
          "height": 89
        }
      },
      "cell_type": "code",
      "source": [
        "# 예제 2\n",
        "\n",
        "# \"65, 45, 2, 3, 45, 8\" 입력 받아 총합을 구하는 프로그램 작성\n",
        "\n",
        "# ex2 = input()\n",
        "# su = []\n",
        "# for to in ex2 :\n",
        "#     if to == ',' :\n",
        "#         continue\n",
        "#     elif to == ' ' :\n",
        "#         continue\n",
        "#     else :\n",
        "#         su.append(int(to))\n",
        "# print(ex2)\n",
        "# print(su)\n",
        "# print(sum(su))\n",
        "# print(ex2)\n",
        "# su = int(ex2)\n",
        "\n",
        "# print(su)\n",
        "# print(type(ex2))\n",
        "# print(type(su))\n",
        "# print(sum(int(ex2)))\n",
        "\n",
        "ex2 = input()\n",
        "ex2 = ex2.replace(\" \",\"\")\n",
        "ex2 = ex2.split(\",\")\n",
        "\n",
        "print(ex2)\n",
        "\n",
        "su = []\n",
        "\n",
        "for to in ex2 :\n",
        "    to = int(to)\n",
        "    su.append(to)\n",
        "\n",
        "print(su)\n",
        "    \n",
        "su = sum(su)\n",
        "\n",
        "print(su)"
      ],
      "execution_count": 0,
      "outputs": [
        {
          "output_type": "stream",
          "text": [
            "65, 45, 2, 3, 45, 8\n",
            "65, 45, 2, 3, 45, 8\n",
            "[6, 5, 4, 5, 2, 3, 4, 5, 8]\n",
            "42\n"
          ],
          "name": "stdout"
        }
      ]
    },
    {
      "metadata": {
        "id": "fIKj2T7J50-7",
        "colab_type": "code",
        "outputId": "821f5ef3-b781-4090-d071-6f12db865968",
        "colab": {
          "base_uri": "https://localhost:8080/",
          "height": 35
        }
      },
      "cell_type": "code",
      "source": [
        "# 예제 3\n",
        "\n",
        "# 출력 결과 다른것 고르기\n",
        "\n",
        "1. print(\"you\" \"need\" \"python\")\n",
        "2. print(\"you\"+\"need\"+\"python\")\n",
        "3. print(\"you\", \"need\", \"python\")\n",
        "4. print(\"\".join([\"you\", \"need\", \"python\"]))\n",
        "\n",
        "# 나머지는 띄어쓰기 없이 붙어서 실행되고 3번만 \",\"만을 사용해 띄어쓰기가 됨"
      ],
      "execution_count": 0,
      "outputs": [
        {
          "output_type": "stream",
          "text": [
            "youneedpython\n"
          ],
          "name": "stdout"
        }
      ]
    },
    {
      "metadata": {
        "id": "DKDxhseL6Mxs",
        "colab_type": "code",
        "outputId": "c71c2b5e-97a7-4aed-96d2-79eae396acda",
        "colab": {
          "base_uri": "https://localhost:8080/",
          "height": 53
        }
      },
      "cell_type": "code",
      "source": [
        "# 예제 4\n",
        "\n",
        "# 한줄 구구단 2 ~ 9 까지 입력받은 수를 이용해 만들기\n",
        "\n",
        "ex4 = input(\"구구단을 출력할 숫자를 입력하시요(2 ~ 9) : \")\n",
        "ex4 = int(ex4)\n",
        "num = 0\n",
        "\n",
        "while num < 9 :\n",
        "    num = num + 1\n",
        "    to = ex4 * num\n",
        "    print(to, end = \" \")"
      ],
      "execution_count": 0,
      "outputs": [
        {
          "output_type": "stream",
          "text": [
            "구구단을 출력할 숫자를 입력하시요(2 ~ 9) : 9\n",
            "9 18 27 36 45 54 63 72 81 "
          ],
          "name": "stdout"
        }
      ]
    },
    {
      "metadata": {
        "id": "Yh7X4H7p9ttJ",
        "colab_type": "text"
      },
      "cell_type": "markdown",
      "source": [
        "###04 -3 파일 읽고 쓰기"
      ]
    },
    {
      "metadata": {
        "id": "dBiiawi390fI",
        "colab_type": "code",
        "outputId": "37ee04db-874b-4b0f-f095-9ef901dea6d7",
        "colab": {
          "base_uri": "https://localhost:8080/",
          "height": 136
        }
      },
      "cell_type": "code",
      "source": [
        "# 파일 생성하기\n",
        "\n",
        "f = open(\"new fies.txt\", 'w')\n",
        "\n",
        "f.close()\n",
        "\n",
        "# 파일 객체 = open(파일 이름, 파일 열기 모드)\n",
        "\n",
        "# 파일 열기 모드 종류\n",
        "\n",
        "# r = 읽기전용(파일 읽기만)\n",
        "# w = 쓰기전용(파일에 내용 쓸 때)\n",
        "# a = 추가모드(파일 마지막에 새로운 내용 추가)\n",
        "\n",
        "# 경로 지정해서 생성 가능\n",
        "# f = open(\"C:/doit/새파일.txt\", \"w\")\n",
        "# f.close()\n",
        "\n",
        "# f.close()는 생략해도 되지만 가능하면 close()를 사용해 닫는게 좋다\n",
        "# 쓰기모드로 열었던 파일을 닫지 않고 다시 열면 오류 발생한다\n",
        "\n",
        "import os\n",
        "print os.path.adspath(\"new fies.txt\")"
      ],
      "execution_count": 0,
      "outputs": [
        {
          "output_type": "error",
          "ename": "SyntaxError",
          "evalue": "ignored",
          "traceback": [
            "\u001b[0;36m  File \u001b[0;32m\"<ipython-input-5-db70a457827a>\"\u001b[0;36m, line \u001b[0;32m22\u001b[0m\n\u001b[0;31m    print os.path.adspath(\"new fies.txt\")\u001b[0m\n\u001b[0m           ^\u001b[0m\n\u001b[0;31mSyntaxError\u001b[0m\u001b[0;31m:\u001b[0m invalid syntax\n"
          ]
        }
      ]
    },
    {
      "metadata": {
        "id": "ZKubkDn4_GQE",
        "colab_type": "code",
        "outputId": "1cc1ded6-1b94-4cbd-fb33-277cb9b1a4b3",
        "colab": {
          "base_uri": "https://localhost:8080/",
          "height": 244
        }
      },
      "cell_type": "code",
      "source": [
        "# 파일을 쓰기 모드로 열어 출력값 적기\n",
        "\n",
        "f = open(\"C:/doit/새파일.txt\", 'w')\n",
        "\n",
        "for i in range(1, 11) :\n",
        "    data = \"%d번째 줄입니다. \\n\" % i\n",
        "    f.write(data)\n",
        "f.close()"
      ],
      "execution_count": 0,
      "outputs": [
        {
          "output_type": "error",
          "ename": "FileNotFoundError",
          "evalue": "ignored",
          "traceback": [
            "\u001b[0;31m---------------------------------------------------------------------------\u001b[0m",
            "\u001b[0;31mFileNotFoundError\u001b[0m                         Traceback (most recent call last)",
            "\u001b[0;32m<ipython-input-2-f7c8d373e3bd>\u001b[0m in \u001b[0;36m<module>\u001b[0;34m()\u001b[0m\n\u001b[1;32m      1\u001b[0m \u001b[0;34m\u001b[0m\u001b[0m\n\u001b[0;32m----> 2\u001b[0;31m \u001b[0mf\u001b[0m \u001b[0;34m=\u001b[0m \u001b[0mopen\u001b[0m\u001b[0;34m(\u001b[0m\u001b[0;34m\"C:/doit/새파일.txt\"\u001b[0m\u001b[0;34m,\u001b[0m \u001b[0;34m'w'\u001b[0m\u001b[0;34m)\u001b[0m\u001b[0;34m\u001b[0m\u001b[0m\n\u001b[0m\u001b[1;32m      3\u001b[0m \u001b[0;34m\u001b[0m\u001b[0m\n\u001b[1;32m      4\u001b[0m \u001b[0;32mfor\u001b[0m \u001b[0mi\u001b[0m \u001b[0;32min\u001b[0m \u001b[0mrange\u001b[0m\u001b[0;34m(\u001b[0m\u001b[0;36m1\u001b[0m\u001b[0;34m,\u001b[0m \u001b[0;36m11\u001b[0m\u001b[0;34m)\u001b[0m \u001b[0;34m:\u001b[0m\u001b[0;34m\u001b[0m\u001b[0m\n\u001b[1;32m      5\u001b[0m     \u001b[0mdata\u001b[0m \u001b[0;34m=\u001b[0m \u001b[0;34m\"%d번째 줄입니다. \\n\"\u001b[0m \u001b[0;34m%\u001b[0m \u001b[0mi\u001b[0m\u001b[0;34m\u001b[0m\u001b[0m\n",
            "\u001b[0;31mFileNotFoundError\u001b[0m: [Errno 2] No such file or directory: 'C:/doit/새파일.txt'"
          ]
        }
      ]
    },
    {
      "metadata": {
        "id": "_jbHF5fyGLzj",
        "colab_type": "code",
        "colab": {}
      },
      "cell_type": "code",
      "source": [
        "# 위 프로그램과 비교하기\n",
        "\n",
        "for i in range(1, 11) :\n",
        "    data = \"%d번째 줄입니다. \\n\" % i\n",
        "    print(data)"
      ],
      "execution_count": 0,
      "outputs": []
    },
    {
      "metadata": {
        "id": "yEXGv2pqHHoC",
        "colab_type": "code",
        "colab": {}
      },
      "cell_type": "code",
      "source": [
        "# 프로그램의 외부에 저장된 파일 읽는 여러 방법\n",
        "\n",
        "# colab이용한 방법\n",
        "\n",
        "import os"
      ],
      "execution_count": 0,
      "outputs": []
    },
    {
      "metadata": {
        "id": "SyjsDUimRLOw",
        "colab_type": "code",
        "outputId": "836dc575-b3dd-4c29-d5e0-d6e2b50afeba",
        "colab": {
          "base_uri": "https://localhost:8080/",
          "height": 35
        }
      },
      "cell_type": "code",
      "source": [
        "os.getcwd()"
      ],
      "execution_count": 0,
      "outputs": [
        {
          "output_type": "execute_result",
          "data": {
            "text/plain": [
              "'/content'"
            ]
          },
          "metadata": {
            "tags": []
          },
          "execution_count": 6
        }
      ]
    },
    {
      "metadata": {
        "id": "AAidS1gCSbmT",
        "colab_type": "code",
        "colab": {}
      },
      "cell_type": "code",
      "source": [
        "f = open(os.getcwd()+'/newfile.txt', 'w')\n",
        "\n",
        "for i in range(1, 11) :\n",
        "    data = \"%d번째 줄입니다. \\n\" % i\n",
        "    f.write(data)\n",
        "\n",
        "f.close()"
      ],
      "execution_count": 0,
      "outputs": []
    },
    {
      "metadata": {
        "id": "Hqj-o-c4S41R",
        "colab_type": "code",
        "outputId": "471e1b14-1942-4f0c-f750-5abb33a310a4",
        "colab": {
          "base_uri": "https://localhost:8080/",
          "height": 71
        }
      },
      "cell_type": "code",
      "source": [
        "# 프로그램 외부에 저장된 파일 읽는 방법 'readline()'\n",
        "\n",
        "# f = open(\"C:/doit/새파일txt\", 'r')\n",
        "f = open(os.getcwd() + '/newfile.txt', 'r')\n",
        "\n",
        "line = f.readline()\n",
        "\n",
        "print(line)\n",
        "\n",
        "f.close"
      ],
      "execution_count": 0,
      "outputs": [
        {
          "output_type": "stream",
          "text": [
            "1번째 줄입니다. \n",
            "\n"
          ],
          "name": "stdout"
        },
        {
          "output_type": "execute_result",
          "data": {
            "text/plain": [
              "<function TextIOWrapper.close>"
            ]
          },
          "metadata": {
            "tags": []
          },
          "execution_count": 10
        }
      ]
    },
    {
      "metadata": {
        "id": "D4xqkukxEbMi",
        "colab_type": "code",
        "outputId": "0283f37f-03b7-4832-d096-3698dc58a58a",
        "colab": {
          "base_uri": "https://localhost:8080/",
          "height": 395
        }
      },
      "cell_type": "code",
      "source": [
        "# 모두 출력하려면 아래와 같이\n",
        "\n",
        "f = open(os.getcwd() + \"/newfile.txt\", 'r')\n",
        "\n",
        "while True :\n",
        "    line = f.readline()\n",
        "    if not line :\n",
        "        break\n",
        "    print(line)\n",
        "\n",
        "f.close"
      ],
      "execution_count": 0,
      "outputs": [
        {
          "output_type": "stream",
          "text": [
            "1번째 줄입니다. \n",
            "\n",
            "2번째 줄입니다. \n",
            "\n",
            "3번째 줄입니다. \n",
            "\n",
            "4번째 줄입니다. \n",
            "\n",
            "5번째 줄입니다. \n",
            "\n",
            "6번째 줄입니다. \n",
            "\n",
            "7번째 줄입니다. \n",
            "\n",
            "8번째 줄입니다. \n",
            "\n",
            "9번째 줄입니다. \n",
            "\n",
            "10번째 줄입니다. \n",
            "\n"
          ],
          "name": "stdout"
        },
        {
          "output_type": "execute_result",
          "data": {
            "text/plain": [
              "<function TextIOWrapper.close>"
            ]
          },
          "metadata": {
            "tags": []
          },
          "execution_count": 11
        }
      ]
    },
    {
      "metadata": {
        "id": "-Mzb3VBiFI5f",
        "colab_type": "code",
        "colab": {}
      },
      "cell_type": "code",
      "source": [
        "# 위와 다른점은 위는 파일을 다루고 이 셀은 사용자가 직접 입력\n",
        "\n",
        "while 1 :\n",
        "    data = input()\n",
        "    if not data :\n",
        "        break\n",
        "    print(data)"
      ],
      "execution_count": 0,
      "outputs": []
    },
    {
      "metadata": {
        "id": "ETLqKg5-GAVf",
        "colab_type": "code",
        "outputId": "ed3beb4e-abe0-4899-baaf-de42f88ab462",
        "colab": {
          "base_uri": "https://localhost:8080/",
          "height": 377
        }
      },
      "cell_type": "code",
      "source": [
        "# readlines() 함수 이용하기(readline()아님 잘구분)\n",
        "\n",
        "f = open(os.getcwd() + '/newfile.txt', 'r')\n",
        "\n",
        "lines = f.readlines()\n",
        "\n",
        "for line in lines :\n",
        "    print(line)\n",
        "    \n",
        "f.close()"
      ],
      "execution_count": 0,
      "outputs": [
        {
          "output_type": "stream",
          "text": [
            "1번째 줄입니다. \n",
            "\n",
            "2번째 줄입니다. \n",
            "\n",
            "3번째 줄입니다. \n",
            "\n",
            "4번째 줄입니다. \n",
            "\n",
            "5번째 줄입니다. \n",
            "\n",
            "6번째 줄입니다. \n",
            "\n",
            "7번째 줄입니다. \n",
            "\n",
            "8번째 줄입니다. \n",
            "\n",
            "9번째 줄입니다. \n",
            "\n",
            "10번째 줄입니다. \n",
            "\n"
          ],
          "name": "stdout"
        }
      ]
    },
    {
      "metadata": {
        "id": "KgTY_wBjG3Mi",
        "colab_type": "code",
        "colab": {}
      },
      "cell_type": "code",
      "source": [
        "# readlines()와 readline()의 차이점\n",
        "\n",
        "# readlines()는 한줄한줄 출력하지만 전체다 리스트 취급\n",
        "\n",
        "# readline()은 보이는것은 비슷하게 보이지만 출력만하고 리스트 아님"
      ],
      "execution_count": 0,
      "outputs": []
    },
    {
      "metadata": {
        "id": "R2u1A3pLHPSm",
        "colab_type": "code",
        "outputId": "7de06b1a-ef27-4a70-e989-5f5e2d29f504",
        "colab": {
          "base_uri": "https://localhost:8080/",
          "height": 215
        }
      },
      "cell_type": "code",
      "source": [
        "# read() 함수 이용하기\n",
        "\n",
        "f = open(os.getcwd() + '/newfile.txt', 'r')\n",
        "\n",
        "data = f.read()\n",
        "\n",
        "print(data)\n",
        "\n",
        "f.close()"
      ],
      "execution_count": 0,
      "outputs": [
        {
          "output_type": "stream",
          "text": [
            "1번째 줄입니다. \n",
            "2번째 줄입니다. \n",
            "3번째 줄입니다. \n",
            "4번째 줄입니다. \n",
            "5번째 줄입니다. \n",
            "6번째 줄입니다. \n",
            "7번째 줄입니다. \n",
            "8번째 줄입니다. \n",
            "9번째 줄입니다. \n",
            "10번째 줄입니다. \n",
            "\n"
          ],
          "name": "stdout"
        }
      ]
    },
    {
      "metadata": {
        "id": "7fXP9ce0H3hD",
        "colab_type": "code",
        "colab": {}
      },
      "cell_type": "code",
      "source": [
        "# 파일에 새로운 내용 추가하기\n",
        "\n",
        "f = open(os.getcwd() + '/newfile.txt', 'a')\n",
        "\n",
        "for i in range(11, 20) :\n",
        "    data = '%d번째 줄입니다.\\n' % i\n",
        "    f.write(data)\n",
        "    \n",
        "f.close()"
      ],
      "execution_count": 0,
      "outputs": []
    },
    {
      "metadata": {
        "id": "ZQuIt4h-LH7W",
        "colab_type": "code",
        "outputId": "263c3c73-9d21-4b79-e7a5-39f9fd2deb47",
        "colab": {
          "base_uri": "https://localhost:8080/",
          "height": 557
        }
      },
      "cell_type": "code",
      "source": [
        "f = open(os.getcwd() + '/newfile.txt', 'r')\n",
        "\n",
        "data = f.read()\n",
        "\n",
        "print(data)\n",
        "\n",
        "f.close"
      ],
      "execution_count": 0,
      "outputs": [
        {
          "output_type": "stream",
          "text": [
            "1번째 줄입니다. \n",
            "2번째 줄입니다. \n",
            "3번째 줄입니다. \n",
            "4번째 줄입니다. \n",
            "5번째 줄입니다. \n",
            "6번째 줄입니다. \n",
            "7번째 줄입니다. \n",
            "8번째 줄입니다. \n",
            "9번째 줄입니다. \n",
            "10번째 줄입니다. \n",
            "11번째 줄입니다.\n",
            "12번째 줄입니다.\n",
            "13번째 줄입니다.\n",
            "14번째 줄입니다.\n",
            "15번째 줄입니다.\n",
            "16번째 줄입니다.\n",
            "17번째 줄입니다.\n",
            "18번째 줄입니다.\n",
            "19번째 줄입니다.\n",
            "11번째 줄입니다.\n",
            "12번째 줄입니다.\n",
            "13번째 줄입니다.\n",
            "14번째 줄입니다.\n",
            "15번째 줄입니다.\n",
            "16번째 줄입니다.\n",
            "17번째 줄입니다.\n",
            "18번째 줄입니다.\n",
            "19번째 줄입니다.\n",
            "\n"
          ],
          "name": "stdout"
        },
        {
          "output_type": "execute_result",
          "data": {
            "text/plain": [
              "<function TextIOWrapper.close>"
            ]
          },
          "metadata": {
            "tags": []
          },
          "execution_count": 17
        }
      ]
    },
    {
      "metadata": {
        "id": "D-Tr63UpLdLW",
        "colab_type": "code",
        "colab": {}
      },
      "cell_type": "code",
      "source": [
        "# with문과 함께 사용하기\n",
        "\n",
        "# f = open('foo.txt', 'w')\n",
        "# f.write('Life is too long')\n",
        "# f.close()\n",
        "# 이같이 작성하는게 기존\n",
        "\n",
        "with open(os.getcwd() + '/foo.txt', 'w') as f :\n",
        "    f.write('Life is too short')\n",
        "    \n",
        "# with문을 벗어나면 자동으로 객체 f가 close된다"
      ],
      "execution_count": 0,
      "outputs": []
    },
    {
      "metadata": {
        "id": "73IJd2EyNNaJ",
        "colab_type": "code",
        "outputId": "6aee97fb-7b4f-4101-8342-8f71958c3dcf",
        "colab": {
          "base_uri": "https://localhost:8080/",
          "height": 35
        }
      },
      "cell_type": "code",
      "source": [
        "# 연습문제\n",
        "\n",
        "# import os\n",
        "\n",
        "# 예제 1\n",
        "\n",
        "# 파일 읽고 출력하기 'Life is too short'가 출력되게 아래 코딩 수정하기\n",
        "\n",
        "f1 = open(os.getcwd() + '/test.txt', 'w')\n",
        "f1.write(\"Life is too short\")\n",
        "\n",
        "f2 = open(os.getcwd() + '/test.txt', 'r')\n",
        "print(f2.read())\n",
        "\n",
        "# import 사용하면 자동해결\n",
        "\n",
        "# f1 = open('test.txt', 'w')\n",
        "# f1.write('Life is too short')\n",
        "\n",
        "# f2 = open('test.txt', 'r')\n",
        "# print(f2.read())\n",
        "\n",
        "# 수정본\n",
        "\n",
        "# f1 = open('test.txt', 'w')\n",
        "\n",
        "# f1.write('Life is too short')\n",
        "\n",
        "# f1.close()\n",
        "\n",
        "# f2 = open('test.txt', 'r')\n",
        "\n",
        "# ex1 = f2.read()\n",
        "\n",
        "# print(ex1)\n",
        "\n",
        "# f2.close()"
      ],
      "execution_count": 2,
      "outputs": [
        {
          "output_type": "stream",
          "text": [
            "\n"
          ],
          "name": "stdout"
        }
      ]
    },
    {
      "metadata": {
        "id": "N5NXxyYyROh0",
        "colab_type": "code",
        "outputId": "6d411c98-3aae-4300-96df-294df07117b4",
        "colab": {
          "base_uri": "https://localhost:8080/",
          "height": 35
        }
      },
      "cell_type": "code",
      "source": [
        "# 예제 2\n",
        "\n",
        "# 실행할 때 마다 \"저장할 내용을 입력하세요 :\"가 추가되게 해라\n",
        "\n",
        "f1 = open(os.getcwd() + '/test.txt', 'a')\n",
        "f1.write(\"\\n\")\n",
        "f1.write(\"저장할 내용을 입력하세요 :\")\n",
        "\n",
        "f2 = open(os.getcwd() + '/test.txt', 'r')\n",
        "f_data = f2.read()\n",
        "print(f_data)"
      ],
      "execution_count": 3,
      "outputs": [
        {
          "output_type": "stream",
          "text": [
            "Life is too short\n"
          ],
          "name": "stdout"
        }
      ]
    },
    {
      "metadata": {
        "id": "3mIWehiTTE68",
        "colab_type": "code",
        "outputId": "9caf0785-5ea1-4603-b9cd-ac16745af47b",
        "colab": {
          "base_uri": "https://localhost:8080/",
          "height": 215
        }
      },
      "cell_type": "code",
      "source": [
        "# 역순 저장\n",
        "\n",
        "abc = open(os.getcwd() + 'abc.txt', 'w')\n",
        "abc.write(\"AAA\\nBBB\\nCCC\\nDDD\\nEEE\")\n",
        "abc.close()\n",
        "abc1 = open(os.getcwd() + 'abc.txt', 'r')\n",
        "print(abc1.read())\n",
        "abc1.close()\n",
        "\n",
        "# abc2 = open(os.getcwd() + 'abc.txt', 'w')\n",
        "# abc2.write(abc2.reverse())\n",
        "# abc2.close\n",
        "\n",
        "# abc3 = open(os.getcwd() + 'abc.txt', 'r')\n",
        "# print(abc3.read())\n",
        "# abc3.close()\n",
        "\n",
        "# ex2 = open(os.getcwd() + 'abc.txt', 'r')\n",
        "# t1 = ex2.readlines()\n",
        "# t2 = t1.reverse()\n",
        "\n",
        "# abc2 = open(os.getcwd() + 'abc.txt', 'w')\n",
        "# abc2.write(t2)\n",
        "# abc2.close\n",
        "\n",
        "# abc3 = open(os.getcwd() + 'abc.txt', 'r')\n",
        "# print(abc3.read())\n",
        "# abc3.close()\n",
        "\n",
        "f = open(os.getcwd() + 'abc.txt', 'r')\n",
        "lines = f.readlines()\n",
        "f.close\n",
        "\n",
        "rlines = reversed(lines)\n",
        "\n",
        "f = open(os.getcwd() + 'abc.txt', 'w')\n",
        "for line in rlines :\n",
        "        line = line.strip()\n",
        "        f.write(line)\n",
        "        f.write('\\n')\n",
        "f.close()\n",
        "\n",
        "abc2 = open(os.getcwd() + 'abc.txt', 'r')\n",
        "print(abc2.read())\n",
        "abc1.close()"
      ],
      "execution_count": 4,
      "outputs": [
        {
          "output_type": "stream",
          "text": [
            "AAA\n",
            "BBB\n",
            "CCC\n",
            "DDD\n",
            "EEE\n",
            "EEE\n",
            "DDD\n",
            "CCC\n",
            "BBB\n",
            "AAA\n",
            "\n"
          ],
          "name": "stdout"
        }
      ]
    },
    {
      "metadata": {
        "id": "qgtlfaDgXKUP",
        "colab_type": "code",
        "outputId": "b843fc3b-e487-4753-8416-150f9f57f16f",
        "colab": {
          "base_uri": "https://localhost:8080/",
          "height": 89
        }
      },
      "cell_type": "code",
      "source": [
        "# 문제 4\n",
        "\n",
        "# 텍스트 파일의 java를 python으로 바꾸어 저장하기\n",
        "\n",
        "ex4 = open(os.getcwd() + 'test4.txt', 'w')\n",
        "ex4.write('Life is too short\\nyou need java')\n",
        "ex4.close()\n",
        "\n",
        "ex4 = open(os.getcwd() + 'test4.txt', 'r')\n",
        "print(ex4.read())\n",
        "ex4.close()\n",
        "\n",
        "ex4 = open(os.getcwd() + 'test4.txt', 'r')\n",
        "swit = ex4.read()\n",
        "ex4.close()\n",
        "\n",
        "swit = swit.replace('java', 'python')\n",
        "\n",
        "ex4 = open(os.getcwd() + 'test4.txt', 'w')\n",
        "ex4.write(swit)\n",
        "ex4.close()\n",
        "\n",
        "# ex4 = open(os.getcwd() + 'test4.txt', 'r')\n",
        "# while True :\n",
        "#     swit = ex4.readline()\n",
        "#     swit.replace('java', 'python')\n",
        "#     if not swit :\n",
        "#         break\n",
        "#     print(swit)\n",
        "\n",
        "ex4 = open(os.getcwd() + 'test4.txt', 'r')\n",
        "print(ex4.read())\n",
        "ex4.close()"
      ],
      "execution_count": 17,
      "outputs": [
        {
          "output_type": "stream",
          "text": [
            "Life is too short\n",
            "you need java\n",
            "Life is too short\n",
            "you need python\n"
          ],
          "name": "stdout"
        }
      ]
    },
    {
      "metadata": {
        "id": "opnyea8eyY2s",
        "colab_type": "code",
        "colab": {
          "base_uri": "https://localhost:8080/",
          "height": 233
        },
        "outputId": "31090a4e-2ad1-40cf-a909-7330a29664b1"
      },
      "cell_type": "code",
      "source": [
        "# 문제 5\n",
        "\n",
        "# 정해진 수의 평균값 구하기\n",
        "\n",
        "ex5 = open(os.getcwd() + 'test5.txt', 'w')\n",
        "ex5.write('70\\n60\\n55\\n75\\n95\\n90\\n80\\n80\\n85\\n100')\n",
        "ex5.close()\n",
        "\n",
        "ex5 = open(os.getcwd() + 'test5.txt', 'r')\n",
        "print(ex5.read())\n",
        "ex5.close\n",
        "\n",
        "ex5 = open(os.getcwd() + 'test5.txt', 'r')\n",
        "te5 = ex5.readlines()\n",
        "ex5.close\n",
        "\n",
        "num = 0\n",
        "su = 0\n",
        "for ex in te5 :\n",
        "    num = num + 1\n",
        "    so = int(ex)\n",
        "    su = su + so\n",
        "mea = su/num\n",
        "\n",
        "ex5_1 = open(os.getcwd() + 'test5_1.txt', 'w')\n",
        "ex5_1.write(str(mea))\n",
        "ex5_1.close()\n",
        "\n",
        "ex5_1 = open(os.getcwd() + 'test5_1.txt', 'r')\n",
        "print(ex5_1.read())\n",
        "ex5_1.close"
      ],
      "execution_count": 10,
      "outputs": [
        {
          "output_type": "stream",
          "text": [
            "70\n",
            "60\n",
            "55\n",
            "75\n",
            "95\n",
            "90\n",
            "80\n",
            "80\n",
            "85\n",
            "100\n",
            "79.0\n"
          ],
          "name": "stdout"
        },
        {
          "output_type": "execute_result",
          "data": {
            "text/plain": [
              "<function TextIOWrapper.close>"
            ]
          },
          "metadata": {
            "tags": []
          },
          "execution_count": 10
        }
      ]
    },
    {
      "metadata": {
        "id": "uMFv12rcS_8R",
        "colab_type": "text"
      },
      "cell_type": "markdown",
      "source": [
        "## 05장 파이썬 날개 달기"
      ]
    },
    {
      "metadata": {
        "id": "Ce2VFd0ITH3_",
        "colab_type": "text"
      },
      "cell_type": "markdown",
      "source": [
        "###05-1 클래스"
      ]
    },
    {
      "metadata": {
        "id": "ItsV3OOyTRF-",
        "colab_type": "code",
        "colab": {}
      },
      "cell_type": "code",
      "source": [
        "# 클래스의 필요성\n",
        "\n",
        "# 클래스 없이도 프로그래밍은 가능하지만 클래스없이 함수를 이용하게 된다면\n",
        "# 두가지 이상의 값을 구하기 위해선 두가지 이상의 함수를 만들어야되는 번거로움이 있다"
      ],
      "execution_count": 0,
      "outputs": []
    },
    {
      "metadata": {
        "id": "OF0RdM5Siziw",
        "colab_type": "code",
        "colab": {}
      },
      "cell_type": "code",
      "source": [
        "# 클래스와 객체(object)\n",
        "\n",
        "# 클래스는 똑같은 것을 만들어 낼수 있는 틀이고\n",
        "# 객체(object)는 클래스에 의해 만들어진 결과물이다\n",
        "\n",
        "class Cookie :\n",
        "    pass\n",
        "\n",
        "a = Cookie()\n",
        "b = Cookie()\n",
        "\n",
        "# 클래스로 만들은 객체(object)를 인스턴트로 부르는 경우가 있다\n",
        "# 예를 들어 'a는 객체', 'a는 Cookie의 인스턴스'로 부른다"
      ],
      "execution_count": 0,
      "outputs": []
    },
    {
      "metadata": {
        "id": "rBsQRMmgkNEP",
        "colab_type": "code",
        "colab": {}
      },
      "cell_type": "code",
      "source": [
        "# 클래스를 어떻게 만들지 구상하기\n",
        "# 사칙연산 가능하게 하는 FourCal 구상 순서(작동 원리)\n",
        "\n",
        "# a객체 만들기\n",
        "a = FourCal()\n",
        "\n",
        "# 4, 2 입력해 객체 a에 지정하기\n",
        "a.setdata(4, 2)\n",
        "\n",
        "# 더하면 더한값 돌려주기\n",
        "print(a.sum())\n",
        "\n",
        "# 곱하면 곱한값 돌려주기\n",
        "print(a.mul())\n",
        "\n",
        "# 빼면 뺀값 돌려주기\n",
        "print(a.sub())\n",
        "\n",
        "# 나누면 나눈값 돌려주기\n",
        "print(a.div())"
      ],
      "execution_count": 0,
      "outputs": []
    },
    {
      "metadata": {
        "id": "Z0PXp_1Zm5my",
        "colab_type": "code",
        "colab": {
          "base_uri": "https://localhost:8080/",
          "height": 35
        },
        "outputId": "4536524e-7893-4600-8ed8-5b933c67c133"
      },
      "cell_type": "code",
      "source": [
        "# 클래스 구조 만들기\n",
        "\n",
        "class FourCal :\n",
        "    pass\n",
        "# pass는 아무것도 수행하지 않는 문법으로 임시 코드 작성시 주로 사용\n",
        "\n",
        "a = FourCal()\n",
        "type(a)"
      ],
      "execution_count": 5,
      "outputs": [
        {
          "output_type": "execute_result",
          "data": {
            "text/plain": [
              "__main__.FourCal"
            ]
          },
          "metadata": {
            "tags": []
          },
          "execution_count": 5
        }
      ]
    },
    {
      "metadata": {
        "id": "ATZeJrA3n1yA",
        "colab_type": "code",
        "colab": {}
      },
      "cell_type": "code",
      "source": [
        "# 객체에 숫자 지정할 수 있게 만들기\n",
        "\n",
        "# 사칙연산을 하기 위해선 a에 숫자를 할당해주어야 한다\n",
        "# a.setdata(4, 2)\n",
        "# 위 코드를 수행하려면 다음과 같이 소스 코드를 작성해야 한다\n",
        "\n",
        "class FourCal :\n",
        "    def sdat(self, first, second) :\n",
        "        self.first = first\n",
        "        self.second = second\n",
        "\n",
        "# 매쏘드가 클래스에 포함되어 있는것 제외하면 일반함수랑 다를 것이 없다"
      ],
      "execution_count": 0,
      "outputs": []
    },
    {
      "metadata": {
        "id": "ubrnKXd7smS5",
        "colab_type": "code",
        "colab": {}
      },
      "cell_type": "code",
      "source": [
        "# 1 sdat의 매개변수\n",
        "# 입력 받아야할 값은 4, 2 두 수인대 매개변수는 3가지가 있다\n",
        "# self, first, second중 self는 틍별한 의미가 있다\n",
        "\n",
        "# a.setdata(4, 2)\n",
        "# 위 함수에 object 'a'는 self이고 숫자 4는 first, 숫자 2는 second이다\n",
        "\n",
        "# 매쏘드의 또다른 호출법\n",
        "a = FourCal()\n",
        "FourCal.setdat(a, 4, 2)\n",
        "# 클래스명, 매쏘드 형태로 호출할때는 object a를 꼭 넣어 줘야 된다\n",
        "\n",
        "a = FourCal()\n",
        "a.setdata(4, 2)"
      ],
      "execution_count": 0,
      "outputs": []
    },
    {
      "metadata": {
        "id": "fwU8dtxys5Mh",
        "colab_type": "code",
        "colab": {}
      },
      "cell_type": "code",
      "source": [
        "# 2 sdat 매쏘드 수행문\n",
        "\n",
        "self.first = first\n",
        "self.second = second\n",
        "\n",
        "# 위의 수행문을 풀어쓰면\n",
        "# 객체.객체변수 = 값이 된다\n",
        "\n",
        "self.first = 4\n",
        "self.second = 2\n",
        "\n",
        "a.fisrt = 4\n",
        "a.second = 2"
      ],
      "execution_count": 0,
      "outputs": []
    },
    {
      "metadata": {
        "id": "e0PqP7Qut4x6",
        "colab_type": "code",
        "colab": {
          "base_uri": "https://localhost:8080/",
          "height": 89
        },
        "outputId": "7c033f18-f8da-4543-ff8c-52523ba617b0"
      },
      "cell_type": "code",
      "source": [
        "# 실제로 객체변수가 생성 되었는지 확인 해보자\n",
        "\n",
        "a = FourCal()\n",
        "a.sdat(4, 2)\n",
        "print(a.first)\n",
        "print(a.second)\n",
        "\n",
        "# 새로운 객체를 하나 더 만들어 보자\n",
        "\n",
        "b = FourCal()\n",
        "b.sdat(3, 8)\n",
        "print(b.first)\n",
        "print(b.second)"
      ],
      "execution_count": 12,
      "outputs": [
        {
          "output_type": "stream",
          "text": [
            "4\n",
            "2\n",
            "3\n",
            "8\n"
          ],
          "name": "stdout"
        }
      ]
    },
    {
      "metadata": {
        "id": "Yair-jqoutXp",
        "colab_type": "code",
        "colab": {}
      },
      "cell_type": "code",
      "source": [
        "# 더하기 기능 만들기\n",
        "\n",
        "# a = FourCal()\n",
        "# a.sdat(4, 2)\n",
        "# print(a.sum())\n",
        "\n",
        "# 위 함수를 가능하게 하기위해 클래스 만들기\n",
        "class FourCal :\n",
        "    def sdat(self, first, second) :\n",
        "        self.first = first\n",
        "        self.second = second\n",
        "    def sums(self) :\n",
        "        result = self.first + self.second\n",
        "        return result"
      ],
      "execution_count": 0,
      "outputs": []
    },
    {
      "metadata": {
        "id": "eteaiGabwbrR",
        "colab_type": "code",
        "colab": {}
      },
      "cell_type": "code",
      "source": [
        "# 곱하기, 빼기, 나누기 기능 만들기\n",
        "\n",
        "class FourCal :\n",
        "    def sdat(self, first, second) :\n",
        "        self.first = first\n",
        "        self.second = second\n",
        "    def sums(self) :\n",
        "        result = self.first + self.second\n",
        "        return print(result)\n",
        "    def muls(self) :\n",
        "        result = self.first * self.second\n",
        "        return print(result)\n",
        "    def subs(self) :\n",
        "        result = self.first - self.second\n",
        "        return print(result)\n",
        "    def divs(self) :\n",
        "        result = self.first / self.second\n",
        "        return print(result)"
      ],
      "execution_count": 0,
      "outputs": []
    },
    {
      "metadata": {
        "id": "JF1w4xA7xt2X",
        "colab_type": "code",
        "colab": {
          "base_uri": "https://localhost:8080/",
          "height": 161
        },
        "outputId": "9777ca92-d7d0-469b-96c3-57a4db9bb436"
      },
      "cell_type": "code",
      "source": [
        "# 작동 되는지 확인하기\n",
        "\n",
        "a = FourCal()\n",
        "b = FourCal()\n",
        "\n",
        "a.sdat(4, 2)\n",
        "b.sdat(3, 7)\n",
        "\n",
        "a.sums()\n",
        "a.muls()\n",
        "a.subs()\n",
        "a.divs()\n",
        "\n",
        "b.sums()\n",
        "b.muls()\n",
        "b.subs()\n",
        "b.divs()"
      ],
      "execution_count": 24,
      "outputs": [
        {
          "output_type": "stream",
          "text": [
            "6\n",
            "8\n",
            "2\n",
            "2.0\n",
            "10\n",
            "21\n",
            "-4\n",
            "0.42857142857142855\n"
          ],
          "name": "stdout"
        }
      ]
    },
    {
      "metadata": {
        "id": "vmySTu5ny99y",
        "colab_type": "code",
        "colab": {}
      },
      "cell_type": "code",
      "source": [
        "# 생성자(Constructor)\n",
        "\n",
        "# FourCal 클래스를 다음과 같이 사용해보자\n",
        "\n",
        "# a = FourCal()\n",
        "# a.sums()\n",
        "\n",
        "# 위와 같이 setdata(sdat) 즉 값을 설정하지 않고 실행하면 오류가 발생한다\n",
        "\n",
        "# 생성자(contructor)는 객체가 생성 될때 자동으로 후출하는 매쏘드이다\n",
        "# __init__ 이다\n",
        "\n",
        "class FourCal :\n",
        "    def __init__(self, first, second) :\n",
        "        self.first = first\n",
        "        self.second = second\n",
        "    def sdat(self, first, second) :\n",
        "        self.first = first\n",
        "        self.second = second\n",
        "    def sums(self) :\n",
        "        result = self.first + self.second\n",
        "        return print(result)\n",
        "    def muls(self) :\n",
        "        result = self.first * self.second\n",
        "        return print(result)\n",
        "    def subs(self) :\n",
        "        result = self.first - self.second\n",
        "        return print(result)\n",
        "    def divs(self) :\n",
        "        result = self.first / self.second\n",
        "        return print(result)"
      ],
      "execution_count": 0,
      "outputs": []
    },
    {
      "metadata": {
        "id": "fvu2K6-Z02t7",
        "colab_type": "code",
        "colab": {
          "base_uri": "https://localhost:8080/",
          "height": 89
        },
        "outputId": "c6c0b51d-be75-4619-b484-2da409a2b5dc"
      },
      "cell_type": "code",
      "source": [
        "# 아래 같은 경우는 매개변수 값이 없기 때문에 에러가 발생한다\n",
        "\n",
        "# a = FourCal()\n",
        "\n",
        "# 아래와 같이 매개변수를 집어넣으면 에러가 사라진다\n",
        "\n",
        "a = FourCal(4, 2)\n",
        "print(a.first)\n",
        "print(a.second)\n",
        "\n",
        "# 재대로 작동하는지 확인해보자\n",
        "\n",
        "a = FourCal(4, 2)\n",
        "a.sums()\n",
        "a.divs()"
      ],
      "execution_count": 3,
      "outputs": [
        {
          "output_type": "stream",
          "text": [
            "4\n",
            "2\n",
            "6\n",
            "2.0\n"
          ],
          "name": "stdout"
        }
      ]
    },
    {
      "metadata": {
        "id": "G0M0Hau0d_2d",
        "colab_type": "code",
        "colab": {
          "base_uri": "https://localhost:8080/",
          "height": 89
        },
        "outputId": "535ec517-8aaf-43d1-d5a2-6bbf659dd093"
      },
      "cell_type": "code",
      "source": [
        "# 클래스의 상속(inheritance)\n",
        "\n",
        "# 클래스의 상속이란사전에 만들어놓은 클래스를 다른 클래스 안에 넣어서\n",
        "# 작동시키는 것이다\n",
        "\n",
        "class MoreFourCal(FourCal) :\n",
        "    pass\n",
        "\n",
        "# class 클래스명(상속할 클래스명)\n",
        "\n",
        "# 잘 작동하는지 확인하기\n",
        "\n",
        "a = MoreFourCal(4, 2)\n",
        "\n",
        "a.sums()\n",
        "a.muls()\n",
        "a.subs()\n",
        "a.divs()"
      ],
      "execution_count": 4,
      "outputs": [
        {
          "output_type": "stream",
          "text": [
            "6\n",
            "8\n",
            "2\n",
            "2.0\n"
          ],
          "name": "stdout"
        }
      ]
    },
    {
      "metadata": {
        "id": "UzpKRUBnhTXI",
        "colab_type": "code",
        "colab": {
          "base_uri": "https://localhost:8080/",
          "height": 35
        },
        "outputId": "195f268d-5763-4236-9bd2-c5ecd4bee3ea"
      },
      "cell_type": "code",
      "source": [
        "# a의 b승(a 제곱 b)를 만들어보자\n",
        "\n",
        "class MoreFourCal(FourCal) :\n",
        "    def pows(self) :\n",
        "        result = self.first ** self.second\n",
        "        return result\n",
        "    \n",
        "a = MoreFourCal(4, 2)\n",
        "a.pows()"
      ],
      "execution_count": 7,
      "outputs": [
        {
          "output_type": "execute_result",
          "data": {
            "text/plain": [
              "16"
            ]
          },
          "metadata": {
            "tags": []
          },
          "execution_count": 7
        }
      ]
    },
    {
      "metadata": {
        "id": "oCoR9B0niCwm",
        "colab_type": "code",
        "colab": {
          "base_uri": "https://localhost:8080/",
          "height": 35
        },
        "outputId": "ccc3f77f-3be3-4311-ded7-b94aca59cac1"
      },
      "cell_type": "code",
      "source": [
        "# 메쏘드 오버라이딩\n",
        "\n",
        "a = FourCal(4, 0)\n",
        "\n",
        "a.divs\n",
        "\n",
        "# 지금까지의 코딩은 숫자 0을 리턴해주지 못한다\n",
        "# 0을 리턴하게 해보자\n",
        "\n",
        "class SafeFourCal(FourCal) :\n",
        "    def divs(self) :\n",
        "        if self.second == 0 :\n",
        "            return 0\n",
        "        else :\n",
        "            return self.first / self.second\n",
        "        \n"
      ],
      "execution_count": 8,
      "outputs": [
        {
          "output_type": "execute_result",
          "data": {
            "text/plain": [
              "<bound method FourCal.divs of <__main__.FourCal object at 0x7f6aabd9f2b0>>"
            ]
          },
          "metadata": {
            "tags": []
          },
          "execution_count": 8
        }
      ]
    }
  ]
}