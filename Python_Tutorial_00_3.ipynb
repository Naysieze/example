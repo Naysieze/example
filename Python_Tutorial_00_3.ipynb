{
  "nbformat": 4,
  "nbformat_minor": 0,
  "metadata": {
    "colab": {
      "name": "Python_Tutorial_00.ipynb의 사본의 사본",
      "version": "0.3.2",
      "provenance": [],
      "collapsed_sections": [
        "Hw-3qoJlHI4V",
        "EQ-HjiKTd1J7",
        "Xcb02rB0doo-",
        "_YhprxIdfyLy",
        "FU__tvPolxQZ",
        "A9Yydm_KxY2C",
        "rXaNKPdHTXkE"
      ],
      "include_colab_link": true
    },
    "kernelspec": {
      "name": "python3",
      "display_name": "Python 3"
    }
  },
  "cells": [
    {
      "cell_type": "markdown",
      "metadata": {
        "id": "view-in-github",
        "colab_type": "text"
      },
      "source": [
        "[View in Colaboratory](https://colab.research.google.com/github/Naysieze/example/blob/master/Python_Tutorial_00_3.ipynb)"
      ]
    },
    {
      "metadata": {
        "id": "XP21j7VPC2LE",
        "colab_type": "text"
      },
      "cell_type": "markdown",
      "source": [
        "# Python Tutorial 00\n",
        "\n",
        "작성자 : 이희성 <br>\n",
        "작성일 :\n",
        "\n",
        "이 연습 파일은 [점프 투 파이썬](https://wikidocs.net/)을 공부하며 작성하였습니다.\n"
      ]
    },
    {
      "metadata": {
        "id": "592urKjVTJL6",
        "colab_type": "text"
      },
      "cell_type": "markdown",
      "source": [
        "##02 파이썬 프로그래밍의 기초, 자료형"
      ]
    },
    {
      "metadata": {
        "id": "Hw-3qoJlHI4V",
        "colab_type": "text"
      },
      "cell_type": "markdown",
      "source": [
        "### 02 -1 숫자형"
      ]
    },
    {
      "metadata": {
        "id": "EQ-HjiKTd1J7",
        "colab_type": "text"
      },
      "cell_type": "markdown",
      "source": [
        "####실수형"
      ]
    },
    {
      "metadata": {
        "id": "BZcP30OgHh4h",
        "colab_type": "code",
        "colab": {}
      },
      "cell_type": "code",
      "source": [
        "# 실수형 예제\n",
        "\n",
        "a = 4.24E10\n",
        "print(a)\n",
        "\n",
        "b = 4.24e-10\n",
        "print(b)"
      ],
      "execution_count": 0,
      "outputs": []
    },
    {
      "metadata": {
        "id": "RHxcD-MqO5VR",
        "colab_type": "text"
      },
      "cell_type": "markdown",
      "source": [
        "####의문\n",
        "b의 결과값이 수식 그대로 나옴"
      ]
    },
    {
      "metadata": {
        "id": "Js4nt1kTXbTS",
        "colab_type": "code",
        "colab": {}
      },
      "cell_type": "code",
      "source": [
        "# 1.대소문자 차이 확인\n",
        "\n",
        "a = 4.24E-10\n",
        "print(a)\n",
        "\n",
        "b = 4.24e-10\n",
        "print(b)"
      ],
      "execution_count": 0,
      "outputs": []
    },
    {
      "metadata": {
        "id": "5-zpstuGXsbc",
        "colab_type": "code",
        "colab": {}
      },
      "cell_type": "code",
      "source": [
        "# 차이가 없음을 확인\n",
        "\n",
        "# 2.수식내의 수치 변경\n",
        "\n",
        "a = 2e-2\n",
        "print(a)\n",
        "\n",
        "b = 3.4e-5\n",
        "print(b)\n",
        "\n",
        "c = 3e-2\n",
        "print(c)\n",
        "\n",
        "d = 2.5e-5\n",
        "print(d)\n",
        "\n",
        "e = 2e-5\n",
        "print(e)\n",
        "\n",
        "f = 4.6e-2\n",
        "print(f)"
      ],
      "execution_count": 0,
      "outputs": []
    },
    {
      "metadata": {
        "id": "qx9piLX5X4g7",
        "colab_type": "code",
        "colab": {}
      },
      "cell_type": "code",
      "source": [
        "# 뒤에 들어가는 숫자중 2가 들어가는 경우만 정상작동 5는 수식 그대로 출력\n",
        "\n",
        "# 3.뒷에 들어가는 숫자중 작동 되는 숫자 확인\n",
        "\n",
        "a = 2.5e-1\n",
        "print(a)\n",
        "\n",
        "b = 2.5e-2\n",
        "print(b)\n",
        "\n",
        "c = 2.5e-3\n",
        "print(c)\n",
        "\n",
        "d = 2.5e-4\n",
        "print(d)\n",
        "\n",
        "e = 2.5e-5\n",
        "print(e)\n",
        "\n",
        "f = 2.5e-6\n",
        "print(f)\n",
        "\n",
        "g = 2.5e-7\n",
        "print(g)\n",
        "\n",
        "h = 2.5e-8\n",
        "print(h)\n",
        "\n",
        "i = 2.5e-9\n",
        "print(i)\n",
        "\n",
        "j = 2.5e-10\n",
        "print(j)\n",
        "\n",
        "k = 2.5e-11\n",
        "print(k)\n",
        "\n",
        "l = 2.5e-12\n",
        "print(l)\n",
        "\n",
        "m = 2.5e-13\n",
        "print(m)\n",
        "\n",
        "n = 2.5e-14\n",
        "print(n)\n",
        "\n",
        "o = 2.5e-15\n",
        "print(o)\n",
        "\n",
        "p = 2.5e-16\n",
        "print(p)\n",
        "\n",
        "q = 2.5e-17\n",
        "print(q)\n",
        "\n",
        "r = 2.5e-18\n",
        "print(r)\n",
        "\n",
        "s = 2.5e-19\n",
        "print(s)\n",
        "\n",
        "t = 2.5e-20\n",
        "print(t)"
      ],
      "execution_count": 0,
      "outputs": []
    },
    {
      "metadata": {
        "id": "_GKhscLvbV1t",
        "colab_type": "code",
        "colab": {}
      },
      "cell_type": "code",
      "source": [
        "# -5 이하의 값은 계산되지 않음\n",
        "\n",
        "# 4.양수도 마찬가지인지 확인\n",
        "\n",
        "a = 2.5e1\n",
        "print(a)\n",
        "\n",
        "b = 2.5e2\n",
        "print(b)\n",
        "\n",
        "c = 2.5e3\n",
        "print(c)\n",
        "\n",
        "d = 2.5e4\n",
        "print(d)\n",
        "\n",
        "e = 2.5e5\n",
        "print(e)\n",
        "\n",
        "f = 2.5e6\n",
        "print(f)\n",
        "\n",
        "g = 2.5e7\n",
        "print(g)\n",
        "\n",
        "h = 2.5e8\n",
        "print(h)\n",
        "\n",
        "i = 2.5e9\n",
        "print(i)\n",
        "\n",
        "j = 2.5e10\n",
        "print(j)\n",
        "\n",
        "k = 2.5e11\n",
        "print(k)\n",
        "\n",
        "l = 2.5e12\n",
        "print(l)\n",
        "\n",
        "m = 2.5e13\n",
        "print(m)\n",
        "\n",
        "n = 2.5e14\n",
        "print(n)\n",
        "\n",
        "o = 2.5e15\n",
        "print(o)\n",
        "\n",
        "p = 2.5e16\n",
        "print(p)\n",
        "\n",
        "q = 2.5e17\n",
        "print(q)\n",
        "\n",
        "r = 2.5e18\n",
        "print(r)\n",
        "\n",
        "s = 2.5e19\n",
        "print(s)\n",
        "\n",
        "t = 2.5e20\n",
        "print(t)"
      ],
      "execution_count": 0,
      "outputs": []
    },
    {
      "metadata": {
        "id": "7gsOiQpNbzWF",
        "colab_type": "code",
        "colab": {}
      },
      "cell_type": "code",
      "source": [
        "# 양수를 넣으면 16이상은 계산결과 값이 수치로 나오지 않음"
      ],
      "execution_count": 0,
      "outputs": []
    },
    {
      "metadata": {
        "id": "unKbABGec2-4",
        "colab_type": "text"
      },
      "cell_type": "markdown",
      "source": [
        "#####결론\n",
        "*실수형은 10의 배수를 제곱하는 것\n",
        "\n",
        "*양수를 제곱할시 10까지만 출력가능 16이상은 수식으로 출력\n",
        "\n",
        "*음수를 제곱할시 -4까지만 출력가능  -5 이하는 수식으로 출력"
      ]
    },
    {
      "metadata": {
        "id": "Xcb02rB0doo-",
        "colab_type": "text"
      },
      "cell_type": "markdown",
      "source": [
        "####8진수와 16진수"
      ]
    },
    {
      "metadata": {
        "id": "PvnfNPWaeZMv",
        "colab_type": "code",
        "colab": {}
      },
      "cell_type": "code",
      "source": [
        "# 8진수와 16진수 예제\n",
        "\n",
        "# # 8진수 예제\n",
        "\n",
        "a = 0o177\n",
        "print(a)\n",
        "\n",
        "# # 16진수 예제\n",
        "\n",
        "b = 0x8ff\n",
        "print(b)\n",
        "\n",
        "c = 0xABC\n",
        "print(c)"
      ],
      "execution_count": 0,
      "outputs": []
    },
    {
      "metadata": {
        "id": "VfwjBLTLfTGb",
        "colab_type": "text"
      },
      "cell_type": "markdown",
      "source": [
        "#### 8진수와 16진수에 대한 정보 부족\n",
        "다양한 시도 불가"
      ]
    },
    {
      "metadata": {
        "id": "_YhprxIdfyLy",
        "colab_type": "text"
      },
      "cell_type": "markdown",
      "source": [
        "####사칙연산"
      ]
    },
    {
      "metadata": {
        "id": "9iTPOSscgEKW",
        "colab_type": "code",
        "colab": {}
      },
      "cell_type": "code",
      "source": [
        "# 사칙연산 예제\n",
        "\n",
        "a = 3\n",
        "b = 4\n",
        "\n",
        "c = a + b\n",
        "print(c)\n",
        "# 결과값 7\n",
        "\n",
        "d = a * b\n",
        "print(d)\n",
        "# 결과값 12\n",
        "\n",
        "e = a / b\n",
        "print(e)\n",
        "# 결과값 0.75 '책의 설명에는 정수로 나눌시 소수점은 버림'\n",
        "\n",
        "f = a / (b*1.0)\n",
        "print(f)\n",
        "# 결과값 0.75의 결과값을 그대로 출력할시 강제로 한가지 수를 소수점화 시키면된다\n",
        "\n",
        "g = a ** b\n",
        "print(g)\n",
        "# 결과값 81\n",
        "\n",
        "h = 7 % 3\n",
        "print(h)\n",
        "\n",
        "i = 3 % 7\n",
        "print(i)\n",
        "# 결과값 h = 1, i = 3 '나눗셈을 하고 나눠지지 않은 나머지값을 남긴다'\n",
        "\n",
        "j = 7 / (4*1.0)\n",
        "print(j)\n",
        "\n",
        "k = 7 // 4\n",
        "print(k)\n",
        "\n",
        "l = -7 // 4\n",
        "print(l)\n",
        "# 결과값 j = 1.75, k = 1, l = -2 'k에 쓰인 // 명령어는 나눈값의 소수점 아래값을 반환'\n",
        "# //의 결과 값이 음수인경우는 더욱 낮은 수로 출력이 된다"
      ],
      "execution_count": 0,
      "outputs": []
    },
    {
      "metadata": {
        "id": "7ZcwB6wsg6zz",
        "colab_type": "text"
      },
      "cell_type": "markdown",
      "source": [
        "####의문\n",
        "1. e의 결과값에 책의 설명이 맞는가\n",
        "\n",
        "2. l의 실제 값이 -2에 근사값이여서 -2가 출력이 되는가 -1에 가까우면 -1이 출력이 되는가"
      ]
    },
    {
      "metadata": {
        "id": "DuHMYK8_hgkq",
        "colab_type": "code",
        "colab": {}
      },
      "cell_type": "code",
      "source": [
        "# 나눗셈 정수 계산 테스트\n",
        "\n",
        "a = 1\n",
        "b = 2\n",
        "c = 3\n",
        "d = 4\n",
        "e = 5\n",
        "\n",
        "f = e / a\n",
        "print(f)\n",
        "\n",
        "g = e / b\n",
        "print(g)\n",
        "\n",
        "h = e / c\n",
        "print(h)\n",
        "\n",
        "i = e / d\n",
        "print(i)"
      ],
      "execution_count": 0,
      "outputs": []
    },
    {
      "metadata": {
        "id": "-rh2xpLHjkNp",
        "colab_type": "code",
        "colab": {}
      },
      "cell_type": "code",
      "source": [
        "# 소수점 이하는 자동생성(2.7버전만 소수점 이하 버려짐)\n",
        "\n",
        "# 소수점 나누기 테스트\n",
        "\n",
        "a = 1.1 / 2.3\n",
        "print(a)\n",
        "\n",
        "b = 3 / 4.2\n",
        "print(b)\n",
        "\n",
        "c = 6.1 / 3\n",
        "print(c)"
      ],
      "execution_count": 0,
      "outputs": []
    },
    {
      "metadata": {
        "id": "ueTL6QoanKne",
        "colab_type": "code",
        "colab": {}
      },
      "cell_type": "code",
      "source": [
        "# 정수와 정수를 나눌때 나오는 값에 버려지는 소수점들은 정말 버려지는가\n",
        "\n",
        "# 정수와 정수를 소수점이 나오게 나눈값을 다른 수들과 다른계산을 하여 테스트\n",
        "\n",
        "a = 5 / 3\n",
        "\n",
        "b = a + 1.5\n",
        "print(b)\n",
        "\n",
        "c = a * 3\n",
        "print(c)\n",
        "\n",
        "e = a / 2\n",
        "print(e)"
      ],
      "execution_count": 0,
      "outputs": []
    },
    {
      "metadata": {
        "id": "a1eepTaA2dSK",
        "colab_type": "code",
        "colab": {}
      },
      "cell_type": "code",
      "source": [
        "# // 연산의 소수점에 따른 수치변화 확인\n",
        "\n",
        "a = 7 // 4\n",
        "print(a)\n",
        "# 원래값 1.75\n",
        "\n",
        "b = 5 // 4\n",
        "print(b)\n",
        "# 원래값 1.25\n",
        "\n",
        "c = 3 // 2\n",
        "print(c)\n",
        "# 원래값 1.5\n",
        "\n",
        "d = -7 // 4\n",
        "print(d)\n",
        "# 원래값 -1.75\n",
        "\n",
        "e = -5 // 4\n",
        "print(e)\n",
        "# 원래값 -1.25\n",
        "\n",
        "f = -3 // 2\n",
        "print(f)\n",
        "# 원래값 -1.5"
      ],
      "execution_count": 0,
      "outputs": []
    },
    {
      "metadata": {
        "id": "w8j4bMK8lKnD",
        "colab_type": "text"
      },
      "cell_type": "markdown",
      "source": [
        "####결론\n",
        "의문 1 : 정수와 정수로 나눌때 소수점이 완전히 버려짐<br><br>\n",
        "    *소수점 결과가 필요한경우엔 필수적으로 하나의 정수라도 강제로 소수점 수로 변환 필요<br><br>\n",
        "의문 2 : 소수점의 수는 모두 올림하여 적용이 됨\n"
      ]
    },
    {
      "metadata": {
        "id": "FU__tvPolxQZ",
        "colab_type": "text"
      },
      "cell_type": "markdown",
      "source": [
        "###02-2 문자열"
      ]
    },
    {
      "metadata": {
        "id": "k7gr-JRvofRG",
        "colab_type": "code",
        "colab": {}
      },
      "cell_type": "code",
      "source": [
        "# 문자열을 만들때 사용하는 '',  \"\",  '''''', \"\"\"\"\"\"의 차이를 알아보자\n",
        "\n",
        "print('ㅇ아른ㄷㅇ')\n",
        "print(\"ㅇㄹㄴㄷ\")\n",
        "print('''ㄴㄷㄺㅎ''')\n",
        "print(\"\"\"ㄴㄹㄷㄴ\"\"\")\n",
        "\n",
        "hi = 'sefds'\n",
        "print(hi)\n",
        "si = '''sefd'''\n",
        "print(si)\n",
        "ei = \"rgfd\"\n",
        "print(ei)\n",
        "io = \"\"\"ftfd\"\"\"\n",
        "print(io)\n",
        "# 책에선 분명 ''로 변수 선언 작업하면 에러 뜬다며"
      ],
      "execution_count": 0,
      "outputs": []
    },
    {
      "metadata": {
        "id": "0fyF9p5CiZu_",
        "colab_type": "text"
      },
      "cell_type": "markdown",
      "source": [
        "```\n",
        "a1 = 'What a beautiful world'\n",
        "a2 = 'what a 'beautiful world'\n",
        "a3 = 'what a \\'beautiful world'\n",
        "\n",
        "a4 = 'she said \"What does fox say\"'\n",
        "a5 = 'she said 'what does fox say''\n",
        "a6 = 'she said \\'what does fox say\\''\n",
        "```\n",
        "\n",
        "하나 하나 다 프린트 해볼 것"
      ]
    },
    {
      "metadata": {
        "id": "krzfMJXwjB2f",
        "colab_type": "code",
        "colab": {}
      },
      "cell_type": "code",
      "source": [
        "a1 = 'What a beautiful world'\n",
        "a1"
      ],
      "execution_count": 0,
      "outputs": []
    },
    {
      "metadata": {
        "id": "yq30spEgjZ_X",
        "colab_type": "code",
        "colab": {}
      },
      "cell_type": "code",
      "source": [
        "a2 = 'what a 'beauriful world'\n",
        "a2"
      ],
      "execution_count": 0,
      "outputs": []
    },
    {
      "metadata": {
        "id": "VABPEpfMjgzi",
        "colab_type": "code",
        "colab": {}
      },
      "cell_type": "code",
      "source": [
        "a3 = 'what a \\'beautiful world'\n",
        "a3"
      ],
      "execution_count": 0,
      "outputs": []
    },
    {
      "metadata": {
        "id": "vNaVp-yojxPR",
        "colab_type": "code",
        "colab": {}
      },
      "cell_type": "code",
      "source": [
        "a31 = 'what a ''beautiful world'\n",
        "a31"
      ],
      "execution_count": 0,
      "outputs": []
    },
    {
      "metadata": {
        "id": "lm3oH4gmkPdK",
        "colab_type": "code",
        "colab": {}
      },
      "cell_type": "code",
      "source": [
        "a32 = 'what a \\beauriful world'\n",
        "print(a32)\n",
        "\n",
        "a33 = 'what a \\ beauriful world'\n",
        "print(a33)"
      ],
      "execution_count": 0,
      "outputs": []
    },
    {
      "metadata": {
        "id": "8y6OjJ8skEvb",
        "colab_type": "code",
        "colab": {}
      },
      "cell_type": "code",
      "source": [
        "a4 = 'she said \"What does fox say\"'\n",
        "a4"
      ],
      "execution_count": 0,
      "outputs": []
    },
    {
      "metadata": {
        "id": "UuFGwY1FkKXz",
        "colab_type": "code",
        "colab": {}
      },
      "cell_type": "code",
      "source": [
        "a5 = 'she said 'what does fox say''\n",
        "a5"
      ],
      "execution_count": 0,
      "outputs": []
    },
    {
      "metadata": {
        "id": "dbAVdH9EkrBk",
        "colab_type": "code",
        "colab": {}
      },
      "cell_type": "code",
      "source": [
        "a6 = 'she said \\'what does fox say\\''\n",
        "a6"
      ],
      "execution_count": 0,
      "outputs": []
    },
    {
      "metadata": {
        "id": "4epW3OmOUGne",
        "colab_type": "code",
        "colab": {}
      },
      "cell_type": "code",
      "source": [
        "li = '파이썬 2에선 안되고\\'파이썬 3에서 됨'\n",
        "print(li)\n",
        "\n",
        "lo = '파이썬 3에선 되고 파이썬 2에선 안됨'\n",
        "print(lo)\n",
        "\n",
        "kl = \"\\\"파이썬 3는 가능\\\"파이썬 2는 불가능\"\n",
        "print(kl)\n",
        "\n",
        "ku = \"파이썬 2는 불가능 파이썬 3은 가능\"\n",
        "print(ku)\n",
        "# 파이썬 2버전에선 'lo'와 'ku'안됨\n",
        "\n",
        "mul = '''\n",
        "  efdse\n",
        "  sefds\n",
        "  efdsty\n",
        "  '''\n",
        "print(mul)\n",
        "\n",
        "dul = \"\"\"\n",
        "  grdfg\n",
        "  yjugfr\n",
        "  xfbre\n",
        "  \"\"\"\n",
        "print(dul)\n",
        "\n",
        "# er = '\n",
        "#   대체\n",
        "#   왜\n",
        "#   이런것을\n",
        "#   '\n",
        "# print(er)\n",
        "# 위 명령어로 실행시 에러발생\n",
        "\n",
        "# ''는 문자열 출력\n",
        "# \"\"는 변수선언(a = \"\")\n",
        "\n",
        "# 책에서 되고 실제로 되는것\n",
        "# '''''', \"\"\"\"\"\"는 문자열이 여러줄일때 쓰임"
      ],
      "execution_count": 0,
      "outputs": []
    },
    {
      "metadata": {
        "id": "88DvHkB90jQi",
        "colab_type": "code",
        "colab": {}
      },
      "cell_type": "code",
      "source": [
        "food = \"Python's favorite food is perl\"\n",
        "food\n",
        "# sood = 'Python's favorite food is perl'\n",
        "# 영어에 줄여쓰기 위해 \n",
        "작은 따음표 사용시 문자열 오류 발생"
      ],
      "execution_count": 0,
      "outputs": []
    },
    {
      "metadata": {
        "id": "pqnjEfYmcVJI",
        "colab_type": "code",
        "colab": {}
      },
      "cell_type": "code",
      "source": [
        "# '''''', \"\"\"\"\"\" 와 문자열 갯수의 관계\n",
        "\n",
        "ui = '''\n",
        "     과연\n",
        "     몇줄\n",
        "     까지\n",
        "     가능\n",
        "     할까\n",
        "     '''\n",
        "print(ui)\n",
        "\n",
        "po = \"\"\"\n",
        "     따음표\n",
        "     갯수와\n",
        "     상관이\n",
        "     있는지\n",
        "     궁금하내\n",
        "     ㄷㄴㄷㄹ\n",
        "     ㅅ오\n",
        "     ㅇ소\n",
        "     ㅛㅑㅎ표\n",
        "     햔\n",
        "     ㅓㅕ쇼\n",
        "     ㄴㄱㅎ오횰8ㅑ7ㅓㅗㅀ웅ㄴㄳㄴ융ㅈㅎㅇ\n",
        "     ㄴ36고류ㅗㅗㅜ79ㅐ호ㅓㅡㅇㄳ458ㅅ345347ㄱㄹ혼ㄱ솔손ㄱㅇ손거ㅣㄴ닥소\n",
        "     ㄴ4ㄳㄴㅇㅎ\n",
        "     ㄴ4ㅅㅎ\n",
        "     345ㅇㄴㄹ홏ㄹ허\n",
        "     54\n",
        "     1\n",
        "     2\n",
        "     3\n",
        "     4\n",
        "     5\n",
        "     6\n",
        "     7\n",
        "     8\n",
        "     9\n",
        "     10\n",
        "     11\n",
        "     12\n",
        "     13\n",
        "     14\n",
        "     15\n",
        "     16\n",
        "     17\n",
        "     18\n",
        "     19\n",
        "     20\n",
        "     21\n",
        "     22\n",
        "     23\n",
        "     24\n",
        "     25\n",
        "     26\n",
        "     27\n",
        "     28\n",
        "     29\n",
        "     30\n",
        "     \"\"\"\n",
        "print(po)"
      ],
      "execution_count": 0,
      "outputs": []
    },
    {
      "metadata": {
        "id": "Kda_IuVRim-z",
        "colab_type": "code",
        "colab": {}
      },
      "cell_type": "code",
      "source": [
        "# 문자열로 사칙연산이 일부 가능\n",
        "\n",
        "a = '123'\n",
        "b = '321'\n",
        "\n",
        "# 문자열과 문자열 사칙연산\n",
        "\n",
        "print(a + b)\n",
        "# print(a * b)\n",
        "# print(a ** b)\n",
        "# print(a / b)\n",
        "# print(a % b)\n",
        "# print(a // b)\n",
        "\n",
        "# 문자열과 숫자 사칙연산\n",
        "\n",
        "# print(a + 2)\n",
        "print(a * 2)\n",
        "# print(a ** 3)\n",
        "# print(a / 2)\n",
        "# print(a % 2)\n",
        "# print(a // 2)\n",
        "\n",
        "# 두가지 경우만 가능\n",
        "# 문자열 + 문자열\n",
        "# 문자열 * 숫자\n",
        "\n",
        "# 응용\n",
        "print(\"§\" * 10)\n",
        "print(\"my program\")\n",
        "print('▣' * 15)"
      ],
      "execution_count": 0,
      "outputs": []
    },
    {
      "metadata": {
        "id": "UTAr4edplk42",
        "colab_type": "code",
        "colab": {}
      },
      "cell_type": "code",
      "source": [
        "# 문자열 인덱싱과 슬라싱\n",
        "\n",
        "# 문자열 인덱싱은 숫자가 부여된 문자열 순서\n",
        "# 문자열 슬라이싱은 문자열에 부여된 숫자로 나누는것\n",
        "\n",
        "a = '한글이 과연 인식이 될까'\n",
        "b = 'Life is too short, you need python'\n",
        "c = '!@#~#$ #@%$ #@$@#'\n",
        "\n",
        "a[2]\n",
        "b[2]\n",
        "c[2]\n",
        "a[1], b[3], c[5], b[0], a[1], c[9]\n",
        "# 마지막 인덱싱만 실행되지만 전부 같은 인덱싱 수치 적용\n",
        "\n",
        "# print(a[2])\n",
        "# print(b[2])\n",
        "# print(c[2])\n",
        "# 출력 명령어를 같이 사용시 같은 셀의 같은 명령어만 실행이 됨"
      ],
      "execution_count": 0,
      "outputs": []
    },
    {
      "metadata": {
        "id": "cHCV1FVjqurd",
        "colab_type": "code",
        "colab": {}
      },
      "cell_type": "code",
      "source": [
        "print(a[2])\n",
        "print(a[1], b[2])\n",
        "print(a[5], b[0], c[2])\n",
        "# 마지막 인덱싱이 아니라 전부 보려면 print() 명령어가 필수"
      ],
      "execution_count": 0,
      "outputs": []
    },
    {
      "metadata": {
        "id": "BhhP1bY9s9Jv",
        "colab_type": "code",
        "colab": {}
      },
      "cell_type": "code",
      "source": [
        "# 역순으로 인덱싱 불러올수있다\n",
        "\n",
        "a[-0], b[-1], c[-2]\n",
        "# 0번째 수치는 역순으로 진행시 기준이 가장 마지막 인덱싱 기준으로 설정이 안됨\n",
        "# -1로 하게되면 가장 마지막 인덱싱으로 설정"
      ],
      "execution_count": 0,
      "outputs": []
    },
    {
      "metadata": {
        "id": "OGPhpDrdxNTo",
        "colab_type": "code",
        "colab": {}
      },
      "cell_type": "code",
      "source": [
        "# 인덱싱으로 문자열 조합가능\n",
        "\n",
        "# print(c[2] + a[0] + a[0] + d[10])\n",
        "# print()기능으로 사칙연산 조합안됨\n",
        "e = b[12] + c[7] + a[8]\n",
        "e"
      ],
      "execution_count": 0,
      "outputs": []
    },
    {
      "metadata": {
        "id": "mlFlIxTn45H8",
        "colab_type": "code",
        "colab": {}
      },
      "cell_type": "code",
      "source": [
        "print(e)"
      ],
      "execution_count": 0,
      "outputs": []
    },
    {
      "metadata": {
        "id": "Kd_Jh6WZ19Yp",
        "colab_type": "code",
        "colab": {}
      },
      "cell_type": "code",
      "source": [
        "# 문자열 슬라이싱 범위 설정 가능\n",
        "\n",
        "a[0:5], b[1:3], c[:5]\n",
        "\n",
        "# [0:5] 입력시 0번째 이상 5번째 '미만' 문자열 출력됨\n",
        "# "
      ],
      "execution_count": 0,
      "outputs": []
    },
    {
      "metadata": {
        "id": "xqWkmoSu4prC",
        "colab_type": "code",
        "colab": {}
      },
      "cell_type": "code",
      "source": [
        "z = a[0:5], b[1:3], c[15:]\n",
        "print(z)\n",
        "print(a[0:5], b[1:3], c[15:])"
      ],
      "execution_count": 0,
      "outputs": []
    },
    {
      "metadata": {
        "id": "Oat1drJn3bEg",
        "colab_type": "code",
        "colab": {}
      },
      "cell_type": "code",
      "source": [
        "a[0:-5], b[1:-3], c[:-5]\n",
        "# 마지막을 음수로 입력시 양수로 정한 숫자부터 뒤에서부터 정한 음수의 숫자만큼 출력"
      ],
      "execution_count": 0,
      "outputs": []
    },
    {
      "metadata": {
        "id": "92fxeUGd3hw6",
        "colab_type": "code",
        "colab": {}
      },
      "cell_type": "code",
      "source": [
        "a[-2:5], b[-1:-3], a[-5:-1], b[-2:-0], b[-2:0]\n",
        "# 음수에서 양수 순으로 슬라이싱 안됨\n",
        "# 음수에서 음수로 출력할시 가장 마지막 문자 출력 불가능"
      ],
      "execution_count": 0,
      "outputs": []
    },
    {
      "metadata": {
        "id": "Y26HfcI44lLg",
        "colab_type": "code",
        "colab": {}
      },
      "cell_type": "code",
      "source": [
        "# 예제 1\n",
        "\n",
        "a = '20180919피곤함'\n",
        "\n",
        "year = a[:4]\n",
        "day = a[4:8]\n",
        "feel = a[8:]\n",
        "\n",
        "print(year)\n",
        "print(day)\n",
        "print(feel)\n",
        "\n",
        "# 예제 2\n",
        "\n",
        "b = '외 않돼나요'\n",
        "\n",
        "# b[] = '왜'\n",
        "# b[2] = '안되'\n",
        "# 에러발생 단일 객체로는 변경 안됨\n",
        "\n",
        "# b[:] = '왜'\n",
        "# b[2:4] = '안되'\n",
        "# 범위 설정으로도 안됨\n",
        "\n",
        "b = b[:0] + '왜 안되' + b[4:]\n",
        "\n",
        "print(b)\n",
        "\n",
        "# 문자열 슬라이싱 오탈자 생길시 오탈자 범위를 빼고 재 조합 가능\n",
        "# 슬라이싱 범위 기본 작동 원리는 [X1 이상 : X2 미만]\n",
        "# 슬라이싱 범위 작동원리 예외 [음수 : 0]"
      ],
      "execution_count": 0,
      "outputs": []
    },
    {
      "metadata": {
        "id": "5Krv0worDHKs",
        "colab_type": "code",
        "colab": {}
      },
      "cell_type": "code",
      "source": [
        "# 문자열 포매팅\n",
        "\n",
        "# 예제 숫자(Integer) → 어째서 'd'??\n",
        "\n",
        "\"you eat %d junk food\" % 3\n",
        "\n",
        "print(\"you eat %d junk food\" % 3)\n",
        "\n",
        "# 예제 문자(String)\n",
        "\n",
        "'Why Soo %s' % 'Serious?'\n",
        "\n",
        "print('Why Soo %s' % 'Serious?')\n",
        "\n",
        "# 예제 변수 선언\n",
        "\n",
        "sf = '요가북'\n",
        "\n",
        "\"건영은 현재 %s을 보고있다\" % sf\n",
        "print(\"건영은 현재 %s을 보고있다\" % sf)\n",
        "\n",
        "# 예제 2가지 포메팅 사용\n",
        "\n",
        "day1 = 19\n",
        "\n",
        "day2 = '십구'\n",
        "\n",
        "'%d는 %s' % (day1, day2)\n",
        "print('%d는 %s' % (day1, day2))\n",
        "# 이건 오입력 ('%s는 %d' % (day1, day2))\n",
        "# 입력 정확히!\n",
        "\n",
        "# 추가 코드 테스트\n",
        "\n",
        "# %%(퍼센트 코드)\n",
        "# 단독 사용 못함\n",
        "\n",
        "# print('건영은 %%확률로 배고파한다' % 100)\n",
        "# print('건영은 %%확률로 배고파한다' % '백')\n",
        "# print('건영은 %s%확률로 배고파한다' % '백')\n",
        "# 퍼센트 코드 없이 포멧코드에 % 집어넣으면 없는 명령어라며 오작동\n",
        "# print(\"건영은 %s'%'확률로 배고파한다\" % '백')\n",
        "# \"건영은 %s'%'확률로 배고파한다\" % '백'\n",
        "# 문자열 \"\" 안에 ''를 사용하는 방법으로도 안먹힘\n",
        "print('건영은 %d%%확률로 배고파한다' % 100)\n",
        "print('건영은 %s%%확률로 배고파한다' % '백')\n",
        "\n",
        "# %c(문자 1개, 캐릭터)\n",
        "# 캐릭터???"
      ],
      "execution_count": 0,
      "outputs": []
    },
    {
      "metadata": {
        "id": "3V27Zu6TD4Rz",
        "colab_type": "code",
        "colab": {}
      },
      "cell_type": "code",
      "source": [
        "# 포멧코드와 숫자 활용하기\n",
        "\n",
        "\n",
        "#정렬과 공백\n",
        "\n",
        "a = \"%10s\" % 'hi.ㄷㄹ'\n",
        "print(a)\n",
        "\n",
        "b = '%-10s jane' % \"hi.ㅎㄹ\"\n",
        "print(b)\n",
        "\n",
        "c = 'jane %10s' % 'bye'\n",
        "print(c)\n",
        "\n",
        "#소수점 표현하기\n",
        "\n",
        "d = '%0.4f' % 3.14236424754\n",
        "print(d)\n",
        "\n",
        "e = '%10.5f' % 3.14236424754\n",
        "print(e)\n",
        "\n",
        "f = '%5.5f' % 12345678.12345678\n",
        "print(f)\n",
        "\n",
        "g = '%5.5f' % 11.1\n",
        "print(g)\n",
        "\n",
        "h = '%10.5f' % 78.1234567\n",
        "print(h)\n",
        "\n",
        "# '%10s', '%-10d'같은경우는 공백만 넣어주는 역활\n",
        "# \"%10.4f\"같은 경우는 '10'부분은 전체 문자열 개수를 정하는거고\n",
        "# 뒤의 '0.4'는 소수점을 몇번째까지 표시할지 정하는것이다\n",
        "# 그럼 'f'와 'g'는???"
      ],
      "execution_count": 0,
      "outputs": []
    },
    {
      "metadata": {
        "id": "lseSrZTeZJLa",
        "colab_type": "code",
        "colab": {}
      },
      "cell_type": "code",
      "source": [
        "# 윗 셀의 'f', 'g'에 관해 확인\n",
        "\n",
        "# 표시할 문자열 개수와 표시할 소수점 뒷 자리수가 같아서 충돌로 둘다 표시??\n",
        "# 문자열 수가 낮을때와 문자열수가 많을때와 문자열과 소수점이 같을때 다시 확인\n",
        "\n",
        "a = \"%6.5f\" % 12345678.12345678\n",
        "print(a)\n",
        "\n",
        "# 소수점만 적용됨 숫자 차이 늘려보기\n",
        "b = '%6.4f' % 12345678.12345678\n",
        "print(b)\n",
        "\n",
        "c = \"%8.3f\" % 12345678.12345678\n",
        "print(c)\n",
        "\n",
        "d = \"%9.4f\" % 12345678.12345678\n",
        "print(d)\n",
        "\n",
        "e = '%10.5f' % 12345678.12345678\n",
        "print(e)\n",
        "\n",
        "f = '%13.6f' % 12345678.12345678\n",
        "print(f)\n",
        "\n",
        "g = '%15.2f' % 12345678.12345678\n",
        "print(g)\n",
        "\n",
        "h = '%13.2f' % 12345678.12345678\n",
        "print(h)\n",
        "\n",
        "i = \"%7.5f\" % 1.12345678\n",
        "print(i)\n",
        "\n",
        "j = \"%9.6f\" % 1.12345678\n",
        "print(j)\n",
        "\n",
        "# '%10.5f'라고 하면 총 출력될 문자 개수가 소수점표시인 '.'콤마도 포함하여\n",
        "# 10개의 숫자를 표시하고 소수점 5자리 수까지 표시한다\n",
        "# 하지만 '정수'는 몇자리 수이든 생략이 안되기 때문에 반듯이 정수 개수를 넘는\n",
        "# 수로 세팅해야된다 그리고 콤마도 포함이 됨으로 최소 정수 숫자+.보다 초과된\n",
        "# 수를 초기 세팅으로 넣어야된다\n",
        "\n",
        "# 또 다른 의문 a, b, d, e, f, i, j의 소수점 표시 마지막에서 두번째 수가 생략됨"
      ],
      "execution_count": 0,
      "outputs": []
    },
    {
      "metadata": {
        "id": "gxj2hFYCf8WM",
        "colab_type": "code",
        "colab": {}
      },
      "cell_type": "code",
      "source": [
        "a = '%0.5f' % 0.123456789\n",
        "print(a)\n",
        "\n",
        "b = '%0.5f' % 0.111111111\n",
        "print(b)\n",
        "\n",
        "c = '%0.5f' % 0.122333444\n",
        "print(c)\n",
        "\n",
        "d = '%0.5f' % 0.123335\n",
        "print(d)\n",
        "\n",
        "e = '%0.5f' % 0.12345\n",
        "print(e)\n",
        "\n",
        "f = '%2.5f' % 0.1234\n",
        "print(f)\n",
        "\n",
        "g = '%7.4f' % 0.1234\n",
        "print(g)\n",
        "\n",
        "# 입력될 소수점 자리수가 표시될 소수점 자리수보다 많으면 이상현상 발생\n",
        "# 파이썬 오류?? 또는 올림??\n",
        "# 소수점 표시 마지막수의 뒷자리수가 4이하일경우는 정상표시, 5이상일 경우는 올림 표시\n",
        "# 0.2f일경우 '0.124'면 '0.12'표시 '0.125'라면 '0.13'표시f = '%2.5f' % 0.1234"
      ],
      "execution_count": 0,
      "outputs": []
    },
    {
      "metadata": {
        "id": "2uy6o6n0kRUS",
        "colab_type": "code",
        "colab": {}
      },
      "cell_type": "code",
      "source": [
        "# 포멧 함수를 이용한 포매팅\n",
        "\n",
        "a = 'I eat {0} apples'.format(3)\n",
        "print(a)\n",
        "\n",
        "number = 3\n",
        "\n",
        "day = 'one'\n",
        "\n",
        "b = 'I eat {0} apples, you eat {1} apple'.format(number, day)\n",
        "print(b)\n",
        "\n",
        "# c = 'you eat {number} apples, i eat {day} apple'\n",
        "# print(c)\n",
        "\n",
        "d = 'you eat {number} apples, i eat {day} apple'.format(number = 5, day = 1)\n",
        "print(d)\n",
        "\n",
        "# e = 'I eat {number} apples, you eat {0} banana'.format(number = 2, 3)\n",
        "# print(e)\n",
        "# e = 'I eat {number} apples, you eat {1} banana'.format(number = 2, 1)\n",
        "# print(e)\n",
        "\n",
        "e = 'I eat {number} apples, you eat {0} banana'.format(3, number = 2)\n",
        "print(e)\n",
        "\n",
        "f = 'i eat {0} apples, you eat {number} banana'.format(3, number = 3)\n",
        "print(f)\n",
        "\n",
        "# 포멧 기능중 {0}과 {number}을 같이 사용할시 코드내의 순서랑 상관없이\n",
        "# .format({0},{number})순으로 써야 에러 안생김(문자보다 숫자 우선처리인듯)"
      ],
      "execution_count": 0,
      "outputs": []
    },
    {
      "metadata": {
        "id": "apHFyf1t2Kj3",
        "colab_type": "code",
        "colab": {}
      },
      "cell_type": "code",
      "source": [
        "# 포멧을 이용한 정렬방식\n",
        "\n",
        "a = \"{0:~<10}\".format(\"hi\")\n",
        "print(a)\n",
        "\n",
        "b = \"{0:#>10}\".format('hi')\n",
        "print(b)\n",
        "\n",
        "c = '{0:^10}'.format('hi')\n",
        "print(c)\n",
        "\n",
        "# 포멧을 이용한 소수점표시\n",
        "\n",
        "y = 3.3426789679\n",
        "\n",
        "d = '{0:0.4f}'.format(y)\n",
        "print(d)\n",
        "\n",
        "e = \"{0:@>10.4f}\".format(y)\n",
        "print(e)\n",
        "\n",
        "# {}보여주는 포멧팅\n",
        "f = \"{{and}}\".format()\n",
        "print(f)"
      ],
      "execution_count": 0,
      "outputs": []
    },
    {
      "metadata": {
        "id": "ZbyEWpAz7P1x",
        "colab_type": "code",
        "colab": {}
      },
      "cell_type": "code",
      "source": [
        "# f문자열 포멧팅\n",
        "\n",
        "name = '이희성'\n",
        "\n",
        "age = 29\n",
        "\n",
        "a = f'나의 이름은 {name}입니다. 나이는 {age}입니다.'\n",
        "print(a)\n",
        "\n",
        "b = f'내년에는 나이가{age+1}살이 된다'\n",
        "print(b)\n",
        "\n",
        "z = {'name':'이희성', 'age':29}\n",
        "\n",
        "c = f\"내 이름은 {z['name']}이고 나이는 {z['age']}야\"\n",
        "print(c)"
      ],
      "execution_count": 0,
      "outputs": []
    },
    {
      "metadata": {
        "id": "irO6qldMVcgB",
        "colab_type": "code",
        "colab": {}
      },
      "cell_type": "code",
      "source": [
        "# 문자열 관련 함수들\n",
        "\n",
        "# 문자 개수 세기(count)\n",
        "\n",
        "a = \"hobby\"\n",
        "print(a.count('b'))\n",
        "\n",
        "# 문자 위치 알려주기(find)\n",
        "\n",
        "b = \"python is the best choice\"\n",
        "print(b.find('b'))\n",
        "print(b.find('k'))\n",
        "print(b.find('e'))\n",
        "\n",
        "# 문자 위치 알려주기 2 (index)\n",
        "\n",
        "c = 'life is too short'\n",
        "print(c.index('t'))\n",
        "# print(c.index('k'))\n",
        "print(c.index('i'))\n",
        "# 없는 문자를 찾으면 오류 발생"
      ],
      "execution_count": 0,
      "outputs": []
    },
    {
      "metadata": {
        "id": "ocmwhXbkY4tk",
        "colab_type": "code",
        "colab": {}
      },
      "cell_type": "code",
      "source": [
        "# 문자열 삽입(join)\n",
        "\n",
        "a = ','\n",
        "print(a.join('asdgf'))\n",
        "print(a.join(':::::'))\n",
        "\n",
        "# 소문자를 대문자로 변경(upper)\n",
        "\n",
        "b = \"bye\"\n",
        "print(b.upper())\n",
        "\n",
        "c = 'LioN'\n",
        "print(c.upper())\n",
        "\n",
        "# 대문자를 소문자로 변경(lower)\n",
        "\n",
        "d = \"JOIN\"\n",
        "print(d.lower())\n",
        "\n",
        "e = 'sign'\n",
        "print(e.lower())\n",
        "\n",
        "# 왼쪽 공백 지우기(lstrip)\n",
        "\n",
        "f = \"  dog\"\n",
        "\n",
        "print(f.lstrip())\n",
        "\n",
        "# 오른쪽 공백 지우기(rstrip)\n",
        "\n",
        "g = 'dog    '\n",
        "\n",
        "print(g.rstrip())\n",
        "\n",
        "# 양쪽 공백 지우기(strip)\n",
        "\n",
        "h = '  small dog   '\n",
        "print(h.strip())\n",
        "\n",
        "# 문자열 바꾸기(replace)\n",
        "\n",
        "ha = \"Life is too short\"\n",
        "\n",
        "print(ha.replace('Life', 'your leg'))\n",
        "\n",
        "# 문자열 나누기(split)\n",
        "\n",
        "i = 'You look so small'\n",
        "print(i.split())\n",
        "\n",
        "j = \"a, b, c, d, e, f\"\n",
        "print(j.split())\n",
        "\n",
        "k = \"a:b:c:d\"\n",
        "print(k.split(\":\"))"
      ],
      "execution_count": 0,
      "outputs": []
    },
    {
      "metadata": {
        "id": "lX7K8gkIYFNG",
        "colab_type": "code",
        "colab": {}
      },
      "cell_type": "code",
      "source": [
        "# 문자열 예제\n",
        "\n",
        "# 1. 문자열 출력 1\n",
        "\n",
        "# print(\"\"점프 투 파이썬\" 문제를 풀어보자\")\n",
        "# a = (\"점프 투 파이썬\" 문제를 풀어보자)\n",
        "a = '\"점프 투 파이썬\" 문제를 풀어보자'\n",
        "print(a)\n",
        "\n",
        "# 2. 문자열 출력 2\n",
        "\n",
        "# print(\"\"Life is too short/ You need pytion\"\")\n",
        "print(\"\"\"Life is too short\n",
        "You need Pytion\"\"\")\n",
        "\n",
        "# 3. 공백 추가\n",
        "\n",
        "# print(\"%dPYTHON\".%d\"          \")\n",
        "b = \"%24s\" % 'PYTHON'\n",
        "print(b)\n",
        "\n",
        "# 4. 문자열 나누기\n",
        "\n",
        "pin = \"881120-1068234\"\n",
        "\n",
        "print(pin[:6])\n",
        "print(pin[7:])\n",
        "\n",
        "# 5. 문자열 인덱싱\n",
        "\n",
        "pin = '881120-1068234'\n",
        "\n",
        "# print(pin.index(7))\n",
        "# print(pin.index(7:8))\n",
        "# print(pin.index())\n",
        "print(pin[7])\n",
        "\n",
        "# 6. 문자열 변경\n",
        "\n",
        "ex = \"1980M1120\"\n",
        "\n",
        "print(ex[4]+ex[:4]+ex[5:])\n",
        "\n",
        "# 7. 문자열 포멧\n",
        "\n",
        "c = 'PYTHON'\n",
        "\n",
        "print(\"%24s\"%\"c\")\n",
        "\n",
        "# 8. 문자열 찾기\n",
        "\n",
        "d = \"Life is too short, you need python\"\n",
        "\n",
        "print(c.find(\"short\"))\n",
        "\n",
        "# print(d.index[\"short\"])\n",
        "\n",
        "# 9. 문자열 바꾸기 1\n",
        "\n",
        "ex1 = \"a:b:c:d\"\n",
        "\n",
        "print(ex1.replace(\":\", \"#\"))\n",
        "\n",
        "# print(ex1.replace[])\n",
        "\n",
        "# 10. 문자열 바꾸기2\n",
        "\n",
        "ex2 = \"a:b:c:d\"\n",
        "\n",
        "ex3 = ex2.split(\":\")\n",
        "\n",
        "print(ex3)\n",
        "# ex3 = ex2.split(\":\"), ex2.join(\"#\")\n",
        "# ex3 = ex2.split('a','b','c','d')\n",
        "# ex3 = ex2.split('abcd')\n",
        "\n",
        "# ex4 = ex3.join(\"#\")\n",
        "# ex3.join(\"#\")\n",
        "\n",
        "a1 = \"#\"\n",
        "\n",
        "#print(a1.join(ex3))"
      ],
      "execution_count": 0,
      "outputs": []
    },
    {
      "metadata": {
        "id": "Tg-D3hHVbZ-t",
        "colab_type": "text"
      },
      "cell_type": "markdown",
      "source": [
        "###02-3 리스트 자료형"
      ]
    },
    {
      "metadata": {
        "id": "gIu25eDp9MOk",
        "colab_type": "code",
        "colab": {}
      },
      "cell_type": "code",
      "source": [
        "# 리스트는 '[]'로 감싸고 구분은 ','로 구분한다\n",
        "\n",
        "odd = [1, 3, 5, 7, 9]\n",
        "\n",
        "# 리스트명 = [요소1, 요소2, 요소3.........]\n",
        "\n",
        "a = []\n",
        "\n",
        "print(a)\n",
        "\n",
        "b = list()\n",
        "\n",
        "print(b)\n",
        "\n",
        "c = [1, 2, ['life', 'is']]\n",
        "\n",
        "print(c)"
      ],
      "execution_count": 0,
      "outputs": []
    },
    {
      "metadata": {
        "id": "aF-XBCOS_rtv",
        "colab_type": "code",
        "colab": {}
      },
      "cell_type": "code",
      "source": [
        "# 리스트의 인덱싱\n",
        "\n",
        "a = [1, 2, 3, 4, 5]\n",
        "\n",
        "print(a[0])\n",
        "print(a[3])\n",
        "print(a[-1])\n",
        "# a[]안의 숫자는 a 라는 리스트의 몇번째 요소인지 정하는 것"
      ],
      "execution_count": 0,
      "outputs": []
    },
    {
      "metadata": {
        "id": "TgIdH5g6BNf6",
        "colab_type": "code",
        "colab": {}
      },
      "cell_type": "code",
      "source": [
        "# 리스트 요소가 수일경우 리스트 요소끼리의 연산가능\n",
        "\n",
        "print(a[0]+a[2])\n",
        "\n",
        "print(a[-1] + a[1])"
      ],
      "execution_count": 0,
      "outputs": []
    },
    {
      "metadata": {
        "id": "r719dfE4BeBX",
        "colab_type": "code",
        "colab": {}
      },
      "cell_type": "code",
      "source": [
        "# 리스트 안의 리스트를 만들어 확인\n",
        "\n",
        "a = [1, 2, 3, ['a', 'b', 'c']]\n",
        "\n",
        "print(a[0])\n",
        "\n",
        "print(a[-1])\n",
        "\n",
        "print(a[3])\n",
        "\n",
        "# print(a[-1[1]])\n",
        "\n",
        "print(a[-1],[2])\n",
        "\n",
        "print(a[-1][2])\n",
        "\n",
        "# print(a[6])\n",
        "\n",
        "# 리스트 안의 리스트를 불러오기위해서는\n",
        "# 리스트 안의 리스트 가있는 인덱스를 설정하고 그 인덱스 안의 리스트 위치를 입력\n",
        "# 예 리스트[리스트가 있는인덱스][인덱스안의 리스트의 인덱스 위치]\n",
        "# a[3][1]\n",
        "\n",
        "# 삼중 인덱싱\n",
        "\n",
        "b = [1, 2, ['a', 'b', ['python', 'is']]]\n",
        "\n",
        "print(b[2][2][1])"
      ],
      "execution_count": 0,
      "outputs": []
    },
    {
      "metadata": {
        "id": "UpN6Zg3dECze",
        "colab_type": "code",
        "colab": {}
      },
      "cell_type": "code",
      "source": [
        "# 리스트 슬라이싱\n",
        "\n",
        "a = [1, 2, 3, 4, 5]\n",
        "\n",
        "print(a[0:2])\n",
        "\n",
        "# 문자열 슬라이싱 비교\n",
        "\n",
        "b = '12345'\n",
        "\n",
        "print(b[0:2])\n",
        "\n",
        "# 슬라이싱으로 가지고온 값은 인덱스가 아니라 리스트로 분류"
      ],
      "execution_count": 0,
      "outputs": []
    },
    {
      "metadata": {
        "id": "P1WQE551Egvg",
        "colab_type": "code",
        "colab": {}
      },
      "cell_type": "code",
      "source": [
        "# 중첩 리스트 슬라이싱\n",
        "\n",
        "a = [1, 2 ,3 ,['a', 'b', 'c'], 4, 5]\n",
        "\n",
        "print(a[3][:2])"
      ],
      "execution_count": 0,
      "outputs": []
    },
    {
      "metadata": {
        "id": "Qnp63PotFsCR",
        "colab_type": "code",
        "colab": {}
      },
      "cell_type": "code",
      "source": [
        "# 리스트 연산\n",
        "\n",
        "a = [1, 2, 3]\n",
        "\n",
        "b = [4, ['a', 'b', 'c'], 5]\n",
        "\n",
        "print(a+b)\n",
        "\n",
        "# print(a[1] + 'hi')\n",
        "# 타입 다르며 에러발상\n",
        "\n",
        "print(str(a[2]) + 'hi')"
      ],
      "execution_count": 0,
      "outputs": []
    },
    {
      "metadata": {
        "id": "3gPwNvcYF_Mc",
        "colab_type": "code",
        "colab": {}
      },
      "cell_type": "code",
      "source": [
        "# 리스트 반복(*)\n",
        "\n",
        "a * 3"
      ],
      "execution_count": 0,
      "outputs": []
    },
    {
      "metadata": {
        "id": "6bjU4sW-GPbr",
        "colab_type": "code",
        "colab": {}
      },
      "cell_type": "code",
      "source": [
        "# 리스트 내의 인덱스 변경\n",
        "\n",
        "a = [1, 2, 3, 4]\n",
        "\n",
        "# print(a[2] = [5, 4, 3, 2, 1])\n",
        "a[2] = [5, 4, 3, 2, 1]\n",
        "\n",
        "print(a)\n",
        "\n",
        "a[3] = 6\n",
        "\n",
        "print(a)\n",
        "\n",
        "# 인덱스 변경시 a[] = []로 변경시키면 리스트로 변경되어 입력됨\n",
        "# 단순 인덱스를 인덱스로 변경시키려면 a[] = 요소 로 입력"
      ],
      "execution_count": 0,
      "outputs": []
    },
    {
      "metadata": {
        "id": "gtjTU-wfHbvU",
        "colab_type": "code",
        "colab": {}
      },
      "cell_type": "code",
      "source": [
        "# 리스트내의 연속된 인덱스 수정\n",
        "# # 주의점 새로운 셀에서 다시 변수선언 하지 않고 연속된 인덱스 수정시\n",
        "# 중복 실행하면 결과 값이 변함으로 반듯이 한번만!!!\n",
        "\n",
        "print(a[1:2])\n",
        "\n",
        "# print(a[1:2] = ['a', 'b', 'c'])\n",
        "a[1:2] = ['a', 'b', 'c']\n",
        "\n",
        "print(a)\n",
        "\n",
        "# a[1:2] = [][1, 2, 3, 4]\n",
        "a[1:2] = [[1, 2, 3, 4]]\n",
        "# 인덱스 안의 리스트 집어넣을땐 [][]를 이용하면 에러발생 [[]]기능 사용\n",
        "\n",
        "print(a)\n",
        "\n",
        "# 리스트 내의 인덱스 수정시 수정 수식을 print() 안에 넣고 사용하면 작동안됨\n",
        "# 수정후에 print()수식 가능"
      ],
      "execution_count": 0,
      "outputs": []
    },
    {
      "metadata": {
        "id": "bqsLNktJKedG",
        "colab_type": "code",
        "colab": {}
      },
      "cell_type": "code",
      "source": [
        "# 리스트내의 인덱스 삭제 방법\n",
        "\n",
        "a[1:3] = []\n",
        "\n",
        "print(a)"
      ],
      "execution_count": 0,
      "outputs": []
    },
    {
      "metadata": {
        "id": "vKZtzjRlQasF",
        "colab_type": "code",
        "colab": {}
      },
      "cell_type": "code",
      "source": [
        "# del 함수를 사용하여 인덱스 수정\n",
        "\n",
        "del a[2]\n",
        "# del.a[1]\n",
        "# dela[1]\n",
        "# a.del(1)\n",
        "# a.del[1]\n",
        "# a.del(\"1\")\n",
        "# a[1].del\n",
        "\n",
        "print(a)\n",
        "\n",
        "# del 함수 이용시 띄어쓰기로 분류 해줘야 가능\n",
        "# del 객체\n",
        "# find 함수같은 방식으로 작동 안됨\n",
        "\n",
        "del a[1:3]\n",
        "\n",
        "print(a)\n",
        "\n",
        "# 인덱스 슬라이싱(범위설정) 하여 제거 가능"
      ],
      "execution_count": 0,
      "outputs": []
    },
    {
      "metadata": {
        "id": "PnlqgLaVS4sZ",
        "colab_type": "code",
        "colab": {}
      },
      "cell_type": "code",
      "source": [
        "# 리스트에 요소 추가(append)\n",
        "\n",
        "a = [1, 2, 3, 4, 5]\n",
        "\n",
        "# print(a.append(4))\n",
        "a.append(4)\n",
        "\n",
        "print(a)\n",
        "\n",
        "# print(a.index(4))\n",
        "\n",
        "a.append([3, 2, 1])\n",
        "\n",
        "print(a)"
      ],
      "execution_count": 0,
      "outputs": []
    },
    {
      "metadata": {
        "id": "Ya3tPeClYMSc",
        "colab_type": "code",
        "colab": {}
      },
      "cell_type": "code",
      "source": [
        "# 리스트 정령(sort)\n",
        "\n",
        "a = [1, 5, 3, 2, 4]\n",
        "\n",
        "a.sort()\n",
        "\n",
        "a"
      ],
      "execution_count": 0,
      "outputs": []
    },
    {
      "metadata": {
        "id": "fcm-BmyiYn2q",
        "colab_type": "code",
        "colab": {}
      },
      "cell_type": "code",
      "source": [
        "# 리스트 뒤집기(reverse)\n",
        "\n",
        "a = ['a', 'c', 'e']\n",
        "\n",
        "a.reverse()\n",
        "\n",
        "a"
      ],
      "execution_count": 0,
      "outputs": []
    },
    {
      "metadata": {
        "id": "M-gvLV_uZk4d",
        "colab_type": "code",
        "colab": {}
      },
      "cell_type": "code",
      "source": [
        "# 위치 반환(index)\n",
        "# 요소의 인덱스 확인\n",
        "\n",
        "a = [1, 2, 3, 4, 2]\n",
        "\n",
        "# a.index(2, [1, 4])\n",
        "# print(a.index(2, [1, [4]]))\n",
        "print(a.index(2))\n",
        "\n",
        "# print(a.index(5))\n",
        "# 없는 요소의 인덱스는 확인 안됨\n",
        "\n",
        "b = [4, 1, 6, 2, 3, 5]\n",
        "\n",
        "print(b.index(3))"
      ],
      "execution_count": 0,
      "outputs": []
    },
    {
      "metadata": {
        "id": "s-0796raoqKJ",
        "colab_type": "code",
        "colab": {}
      },
      "cell_type": "code",
      "source": [
        "# 리스트에 요소 삽입(insert)\n",
        "\n",
        "a = [1, 2 ,3]\n",
        "\n",
        "a.insert(0, 4)\n",
        "\n",
        "print(a)\n",
        "\n",
        "a.insert(1, 3)\n",
        "\n",
        "print(a)\n",
        "\n",
        "a.insert(2, [2])\n",
        "\n",
        "print(a)"
      ],
      "execution_count": 0,
      "outputs": []
    },
    {
      "metadata": {
        "id": "p9ZK-tY_pa_v",
        "colab_type": "code",
        "colab": {}
      },
      "cell_type": "code",
      "source": [
        "# 리스트 요소 제거(remove)\n",
        "\n",
        "a = [1, 2, 3, [4], 5, 6]\n",
        "\n",
        "a.remove(2)\n",
        "\n",
        "print(a)\n",
        "\n",
        "# a.remove(4)\n",
        "a.remove([4])\n",
        "# 리스트 안의 리스트는 []넣어주어 선택해줘야 제거가 됨\n",
        "\n",
        "print(a)"
      ],
      "execution_count": 0,
      "outputs": []
    },
    {
      "metadata": {
        "id": "Ydsg0h0fc-qZ",
        "colab_type": "code",
        "colab": {}
      },
      "cell_type": "code",
      "source": [
        "# 리스트 요소 끄집어내기(pop)\n",
        "\n",
        "a = [1, 2, 3, 4, 5, 4, 3, 2, 1]\n",
        "\n",
        "a.pop()\n",
        "\n",
        "a\n",
        "\n",
        "# 아무 인덱스도 집어 넣지 않을시 마지막 인덱스만 제거한다"
      ],
      "execution_count": 0,
      "outputs": []
    },
    {
      "metadata": {
        "id": "nyu7eelueVVA",
        "colab_type": "code",
        "colab": {}
      },
      "cell_type": "code",
      "source": [
        "# 인덱스 집어넣을을 때\n",
        "\n",
        "a = [1, 2, 3, 4, 5, 4, 3, 2, 1]\n",
        "\n",
        "a.pop(3)\n",
        "\n",
        "a"
      ],
      "execution_count": 0,
      "outputs": []
    },
    {
      "metadata": {
        "id": "xWuZ8NYYhMIW",
        "colab_type": "code",
        "colab": {}
      },
      "cell_type": "code",
      "source": [
        "# 인덱스 범위 집어넣을 때\n",
        "\n",
        "a = [1, 2, 3, 4, 5, 4, 3, 2, 1]\n",
        "\n",
        "# a.pop[:2]\n",
        "\n",
        "# print(a)\n",
        "\n",
        "# a.pop([1:])\n",
        "\n",
        "# print(a)\n",
        "\n",
        "a[0:5].pop(2)\n",
        "b = a[0:5].pop(2)\n",
        "# b = a[0:5].copy()\n",
        "# b = a.copy()\n",
        "\n",
        "c = a[0:5]\n",
        "\n",
        "print(a)\n",
        "print(b)\n",
        "print(c)\n",
        "a.pop(4)\n",
        "print(a)\n",
        "print(b)\n",
        "\n",
        "# pop 만을 이용한 범위 인덱스 범위 정하여 제거는 안됨"
      ],
      "execution_count": 0,
      "outputs": []
    },
    {
      "metadata": {
        "id": "z-pPXD1xnymq",
        "colab_type": "code",
        "colab": {}
      },
      "cell_type": "code",
      "source": [
        "# remove 와 pop 과 del의 차이\n",
        "# remove는 요소만 삭제\n",
        "# pop은 해당 인덱스의 요소를 삭제하고 요소를 리턴받음\n",
        "# del은 해당 인덱스의 삭제"
      ],
      "execution_count": 0,
      "outputs": []
    },
    {
      "metadata": {
        "id": "OUsudGy0dq3_",
        "colab_type": "code",
        "colab": {}
      },
      "cell_type": "code",
      "source": [
        "# 리스트에 포함된 특정 요소 개수 세기(count)\n",
        "\n",
        "a = [1, 2, 3, 4, 5, 4, 3, 2, 1]\n",
        "\n",
        "a.count(4)"
      ],
      "execution_count": 0,
      "outputs": []
    },
    {
      "metadata": {
        "id": "W4xEJahcnJCP",
        "colab_type": "code",
        "colab": {}
      },
      "cell_type": "code",
      "source": [
        "# 리스트 확장(extend)\n",
        "\n",
        "a = [1, 2, 3]\n",
        "\n",
        "a.extend([4, 5])\n",
        "\n",
        "print(a)\n",
        "\n",
        "a.extend([[2, 3]])\n",
        "\n",
        "print(a)"
      ],
      "execution_count": 0,
      "outputs": []
    },
    {
      "metadata": {
        "id": "VscrQstisJ1U",
        "colab_type": "code",
        "colab": {}
      },
      "cell_type": "code",
      "source": [
        "# 연습문제\n",
        "\n",
        "# 1. 리스트 인덱싱\n",
        "\n",
        "a = ['Life', 'is', 'too', 'short', 'you', 'need', 'pytion']\n",
        "\n",
        "print(a[4], a[2])\n",
        "\n",
        "# 건영방법\n",
        "\n",
        "# a1 = a[4] + ' ' + a[2]\n",
        "# print(a1)\n",
        "\n",
        "# 2. 리스트 조인\n",
        "\n",
        "b = ['Life', 'is', 'too', 'short']\n",
        "\n",
        "# print(b[0] + b[1] + b[2] + b[3])\n",
        "# print(b[0], b[1], b[2], b[3])\n",
        "# 위의 방법으로 가능은 하지만 join 함수 사용\n",
        "# join 사용법\n",
        "# '연결시킬 내용'.join(b)\n",
        "print(' '. join(b))\n",
        "# print(' ', join(b[0], b[1], b[2], b[3]))\n",
        "print(' '. join(b[1:4]))\n",
        "# print(' ', join(b[0:3], b[2:4]))\n",
        "\n",
        "# 3. 리스트의 갯수\n",
        "\n",
        "c = [1, 2, 3]\n",
        "\n",
        "# c.len()\n",
        "len(c)\n",
        "\n",
        "# 4. 리스트의 append와 extend 차이\n",
        "\n",
        "d = [1, 2, 3]\n",
        "\n",
        "d.append([4, 5])\n",
        "\n",
        "print(d)\n",
        "\n",
        "d = [1, 2, 3]\n",
        "\n",
        "d.extend([4, 5])\n",
        "\n",
        "print(d)\n",
        "\n",
        "# append는 ()안에 있는 요소를 그대로 리스트안에 집어넣고\n",
        "# extend는 ([])를 사용해야 리스트안에 추가 가능\n",
        "# extend에 []없이 리스트안에 요소 삽입하려면 아래와 같이 변수 선언후 진행\n",
        "# d1 = [1, 2, 3]\n",
        "# d2 = [4, 5, 6]\n",
        "# d1.extend(d2)\n",
        "# print('test : ', d1)\n",
        "# ----------------------------------------------------\n",
        "# print(d.append([4, 5]))\n",
        "# print(d.append([4, 5]))\n",
        "\n",
        "# d1 = d.append([4, 5])\n",
        "# print(d1)\n",
        "\n",
        "# d2 = d.extend([4, 5])\n",
        "# print(d2)\n",
        "\n",
        "# 위와 같은 방법으로 실행 하면 결과값이 none으로 나옴\n",
        "\n",
        "# 5. 리스트 정령\n",
        "\n",
        "e = [1, 3, 5, 4, 2]\n",
        "\n",
        "e.sort()\n",
        "\n",
        "e.reverse()\n",
        "\n",
        "print(e)\n",
        "\n",
        "# 6. 리스트 삭제\n",
        "\n",
        "f = [1, 2, 3, 4, 5]\n",
        "\n",
        "del f[1]\n",
        "\n",
        "f.remove(4)\n",
        "\n",
        "print(f)\n",
        "\n",
        "# del은 해당 인덱스 제거\n",
        "# remove는 해당 요소 제거"
      ],
      "execution_count": 0,
      "outputs": []
    },
    {
      "metadata": {
        "id": "14YR9Ev_ZZmN",
        "colab_type": "code",
        "colab": {}
      },
      "cell_type": "code",
      "source": [
        "d1 = ['asdf',1,2,3]\n",
        "\n",
        "d1.extend(['qwer'])\n",
        "d1.extend('qwer')\n",
        "\n",
        "print(d1)\n",
        "\n",
        "d2 = ['asdf',1,2,3]\n",
        "\n",
        "d2.extend(['1234'])\n",
        "d2.extend('1234')\n",
        "\n",
        "print(d2)\n",
        "\n",
        "d1 = ['asdf',1,2,3]\n",
        "\n",
        "d1.extend([4, 5, 6])\n",
        "# d1.extend(456)\n",
        "# d1.extend(4,5,6)\n",
        "# 수를 취급할시 하나의 수는 인식이 안되고 여러가지의 숫자를 넣고 반듯이 ([])를 써야 인식한다\n",
        "print(d1)"
      ],
      "execution_count": 0,
      "outputs": []
    },
    {
      "metadata": {
        "id": "A9Yydm_KxY2C",
        "colab_type": "text"
      },
      "cell_type": "markdown",
      "source": [
        "###02-4 튜플 자료형"
      ]
    },
    {
      "metadata": {
        "id": "gr6-aqpEH8pm",
        "colab_type": "text"
      },
      "cell_type": "markdown",
      "source": [
        "#### 리스트와 튜플의 차이점\n",
        "  * 리스트는 []를 이용해 작성이되고\n",
        "  * 튜플은 ()를 이용해 작성이된다\n",
        "  * 리스트는 수정이 용이하다\n",
        "  * 튜플은 입력한 요소를 바꾸지 못한다"
      ]
    },
    {
      "metadata": {
        "id": "0j7tx8aLNu3d",
        "colab_type": "code",
        "colab": {}
      },
      "cell_type": "code",
      "source": [
        "# 튜플 요소값 삭제시\n",
        "\n",
        "tup = (1, 2, 'a', 'b')\n",
        "\n",
        "del tup[0]"
      ],
      "execution_count": 0,
      "outputs": []
    },
    {
      "metadata": {
        "id": "Vr3HQjSaOE0Q",
        "colab_type": "code",
        "colab": {}
      },
      "cell_type": "code",
      "source": [
        "# 튜플 요소값 변경시\n",
        "\n",
        "tup = (1, 2, 'a', 'b')\n",
        "\n",
        "tup[0] = 'c'"
      ],
      "execution_count": 0,
      "outputs": []
    },
    {
      "metadata": {
        "id": "vci65ZPDOW8V",
        "colab_type": "code",
        "colab": {}
      },
      "cell_type": "code",
      "source": [
        "# 튜플은 입력한 요소변경이 불가능 하지만\n",
        "# 그외의 작업은 가능하다"
      ],
      "execution_count": 0,
      "outputs": []
    },
    {
      "metadata": {
        "id": "49xwMlnKO01f",
        "colab_type": "code",
        "colab": {}
      },
      "cell_type": "code",
      "source": [
        "# 튜플 인덱싱\n",
        "\n",
        "tup = (1, 2, 'a', 'b')\n",
        "\n",
        "print(tup[1])\n",
        "\n",
        "print(tup[3])\n",
        "\n",
        "# 튜플 슬라이싱\n",
        "\n",
        "tup = (1, 2, 'a', 'b')\n",
        "\n",
        "print(tup[1:3])\n",
        "\n",
        "# 튜플 연산\n",
        "\n",
        "tup1 = (1, 2, 'a')\n",
        "tup2 = ('b', 2, 'c')\n",
        "\n",
        "print(tup1 + tup2)\n",
        "\n",
        "print(tup2 * 3)\n",
        "\n",
        "# print(tup1 - tup2)"
      ],
      "execution_count": 0,
      "outputs": []
    },
    {
      "metadata": {
        "id": "QUitqymuPyvc",
        "colab_type": "code",
        "colab": {}
      },
      "cell_type": "code",
      "source": [
        "# 연습 문제\n",
        "\n",
        "# 1. 튜플 작성\n",
        "\n",
        "tup = (3, 3, 3, 3, 3, 3)\n",
        "\n",
        "# 2. 튜플 변경 오류 설명\n",
        "\n",
        "# tup = (1, 2, 3)\n",
        "\n",
        "# tup[1] = 4\n",
        "\n",
        "# 입력한 코딩은 tup의 1번째 인덱싱의 요소를 4로 바꾸고 입력이 되어있다\n",
        "# 리스트의 경우에는 1번째 인덱싱인 2가 4로 바뀌어 (1, 4, 3)이 되겠지만\n",
        "# 튜플은 한번 작성하면 추가 코딩으로 요소 수정이 불가능하다\n",
        "# 바꾸기 위해서는 직접 튜플 리스트를 수정을 하거나\n",
        "# 슬라이싱과 새로운 튜플 추가와 튜플끼리 합쳐서 '바뀐것 처럼 보이게는' 만들수는 있다\n",
        "\n",
        "# 3. 튜플 추가\n",
        "\n",
        "# tup1 = (1, 2, 3)\n",
        "\n",
        "# tup2 = (5)\n",
        "\n",
        "# print(tup1 + tup2)\n",
        "\n",
        "# tup1 + tup2\n",
        "\n",
        "# 위의 같은경우에는 에러 발생\n",
        "# 튜플 리스트 작성시 ()안에 1개의 인덱스만 존재할경우 리스트로 취급이 안됨\n",
        "\n",
        "tup1 = (1, 2, 3)\n",
        "\n",
        "tup2 = (4, 5)\n",
        "\n",
        "print(tup1 + tup2)\n",
        "\n",
        "tup1 + tup2\n",
        "\n",
        "# tup1.extend(tup2)\n",
        "# print(tup1)\n",
        "# extend로 불가능"
      ],
      "execution_count": 0,
      "outputs": []
    },
    {
      "metadata": {
        "id": "rXaNKPdHTXkE",
        "colab_type": "text"
      },
      "cell_type": "markdown",
      "source": [
        "###02-5 딕셔너리 자료형"
      ]
    },
    {
      "metadata": {
        "id": "ihueyrBZVInY",
        "colab_type": "code",
        "colab": {}
      },
      "cell_type": "code",
      "source": [
        "# 딕셔너리는 리스트와 튜플과 다르게 표처럼 {key1 : value1}로 이루어져서\n",
        "# key 값에 여러 요소와 리스트를 넣을수 있고 key는 index 역활이고\n",
        "# value는 요소 역활이다\n",
        "# key와 value가 하나의 리스트 역활을 수행한다\n",
        "\n",
        "dic = {'name' : 'pey', 'phone' : '0119993323', 'birth' : '1118'}\n",
        "\n",
        "a = {1 : 'hi'}\n",
        "\n",
        "b = {'a' : [1, 2, 3]}\n",
        "\n",
        "print(dic)\n",
        "\n",
        "dic"
      ],
      "execution_count": 0,
      "outputs": []
    },
    {
      "metadata": {
        "id": "ZfR-HBoCWVgh",
        "colab_type": "code",
        "colab": {}
      },
      "cell_type": "code",
      "source": [
        "# 딕셔너리 쌍 추가하기\n",
        "\n",
        "a = {1 : 'a'}\n",
        "\n",
        "a[2] = 2\n",
        "\n",
        "print(a)\n",
        "\n",
        "a[2] = 'b'\n",
        "\n",
        "print(a)\n",
        "\n",
        "a['name'] = 'pey'\n",
        "\n",
        "print(a)\n",
        "\n",
        "a[4] = [1, 2, 3]\n",
        "\n",
        "print(a)\n",
        "\n",
        "a['win?'] = 'pay to win!'\n",
        "\n",
        "print(a)\n",
        "\n",
        "a['name'] = 'mai'\n",
        "\n",
        "print(a)\n",
        "\n",
        "# a['time'] = 13 : 45\n",
        "# a['time'] = [13 : 45]\n",
        "a['time'] = '13 : 45'\n",
        "\n",
        "print(a)\n",
        "\n",
        "a[3] = 2222\n",
        "\n",
        "print(a)\n",
        "\n",
        "a[7] = 1\n",
        "\n",
        "print(a)\n",
        "\n",
        "a\n",
        "# a[0]\n",
        "# 딕셔너리가 추가될때는 key가 인덱스 역활을 하기에\n",
        "# 입력순서에 상관 없이 추가하는 순서대로 입력이 된다\n",
        "# 딕셔너리 추가시 같은 key가 입력되면 마지막 입력된 key에 할당된 value 값으로 수정"
      ],
      "execution_count": 0,
      "outputs": []
    },
    {
      "metadata": {
        "id": "_QD9EUJTblfk",
        "colab_type": "code",
        "colab": {}
      },
      "cell_type": "code",
      "source": [
        "# 딕셔너리 요소 삭제\n",
        "\n",
        "del a[4]\n",
        "\n",
        "# del a[2222]\n",
        "\n",
        "print(a)\n",
        "\n",
        "a\n",
        "\n",
        "# del a[key]를 입력하면 해당 요소가 삭제되지만\n",
        "# del a[value]를 입력하면 에러발생하여 제거가 안된다\n",
        "# value는 key 안에 있는 값! 리스트 안의 리스트 '[1, [2, 3]]' 에 '[2, 3]'' 비슷한 것"
      ],
      "execution_count": 0,
      "outputs": []
    },
    {
      "metadata": {
        "id": "gIWhZ6ITfkao",
        "colab_type": "code",
        "colab": {}
      },
      "cell_type": "code",
      "source": [
        "# 딕셔너리에서 key 사용해 value 얻기\n",
        "\n",
        "test = {'pey' : 10, 'julliet' : 99}\n",
        "\n",
        "print(test['pey'])\n",
        "\n",
        "test['julliet']"
      ],
      "execution_count": 0,
      "outputs": []
    },
    {
      "metadata": {
        "id": "FeaEzcZhdB_t",
        "colab_type": "code",
        "colab": {}
      },
      "cell_type": "code",
      "source": [
        "# 딕셔너리 작성시 주의 사항\n",
        "\n",
        "a = {1 : 'a', 1 : 'f'}\n",
        "\n",
        "print(a)\n",
        "\n",
        "# 같은 key를 여러번 입력하면 마지막 입력된 내용만 인식된다\n",
        "\n",
        "# b = {[1, 2] : 'cold'}\n",
        "b = {(1, 2) : (3, 4)}\n",
        "c = {'cold' : [1, 2]}\n",
        "\n",
        "print(b)\n",
        "print(c)\n",
        "# 딕셔너리에 리스트를 사용할수는 있지만\n",
        "# value에는 사용가능하고 key에 리스트를 사용할수는 없다\n",
        "# 하지만 튜플 형식은 Key로 사용할수 있다"
      ],
      "execution_count": 0,
      "outputs": []
    },
    {
      "metadata": {
        "id": "2KnxEKXviun2",
        "colab_type": "code",
        "colab": {}
      },
      "cell_type": "code",
      "source": [
        "# 딕셔너리 함수\n",
        "# 리스트에 쓰이는 대부분의 함수는 사용하지 못한다\n",
        "\n",
        "# 1. key 리스트 만들기(keys)\n",
        "\n",
        "a = {'name' : 'pey', 'phone' : '0119993323', 'birth' : '1118'}\n",
        "\n",
        "print(a.keys())\n",
        "\n",
        "print(list(a.keys()))\n",
        "\n",
        "# 2. value 리스트 만들기(values)\n",
        "\n",
        "print(a.values())\n",
        "\n",
        "print(list(a.values()))\n",
        "\n",
        "# 3. key, value를 튜플로 묶어 나누기(items)\n",
        "\n",
        "print(a.items())\n",
        "\n",
        "print(list(a.items()))\n",
        "\n",
        "# 4. key : value를 전부 지우기(clear)\n",
        "\n",
        "a.clear()\n",
        "\n",
        "a\n",
        "\n",
        "# 5. key로 value 얻기(get)\n",
        "\n",
        "a = {'name' : 'pey', 'phone' : '0119993323', 'birth' : '1118'}\n",
        "\n",
        "print(a.get('phone'))\n",
        "\n",
        "print(a.get('name'))\n",
        "\n",
        "print(a.get('some'))\n",
        "\n",
        "# 출력값이 None은 false(실패)이다\n",
        "\n",
        "print(a.get('foo', 'fighter'))\n",
        "\n",
        "# 6. 딕셔너리 안에 해당 key가 있는지 확인(in)\n",
        "\n",
        "test = {'name' : 'pey', 'phone' : '0119993323', 'birth' : '1118'}\n",
        "\n",
        "print('name' in test)\n",
        "\n",
        "print('email' in test)"
      ],
      "execution_count": 0,
      "outputs": []
    },
    {
      "metadata": {
        "id": "55FFV5Z7o_Rt",
        "colab_type": "code",
        "colab": {}
      },
      "cell_type": "code",
      "source": [
        "# 연습문제 만들기\n",
        "\n",
        "# 1. 딕셔너리 만들기\n",
        "\n",
        "dic = {'name' : '홍길동', 'birth' : 1128, 'age' : 30}\n",
        "\n",
        "print(dic)\n",
        "\n",
        "# 2. 딕셔너리 오류\n",
        "\n",
        "# x = dic()는 아래와 같이 딕셔너리를 생성 할수 있다\n",
        "# x = dict(name = \"John\", age = 36, country = \"Norway\")\n",
        "\n",
        "a = dict()\n",
        "\n",
        "a['name'] = 'python'\n",
        "\n",
        "a[('a', 'n')] = 'python'\n",
        "\n",
        "# a[[1]] = 'python'\n",
        "\n",
        "a[250] = 'python'\n",
        "\n",
        "print(a)\n",
        "\n",
        "# 'name' 추가는 문자열을 key 로 사용할 수 있어서 허용되고\n",
        "# ('a', 'n') 튜플 형식은 딕셔너리의 key 사용이 가능\n",
        "# [1]의 경우는 리스트이고 리스트는 언제든 함수를 이용해 수정이 가능해\n",
        "# key 값이 될경우 문제가 생길수 있기 때문에 허용이 안되어 에러 발생의로 추측된다\n",
        "# 250 추가는 수를 key로 사용할 수 있어서 허용됨\n",
        "\n",
        "# 3. 딕셔너리 값 추출 1\n",
        "\n",
        "a = {'a' : 90, 'b' : 80, 'c' : 70}\n",
        "\n",
        "print(a.get(\"b\"))\n",
        "\n",
        "del a['b']\n",
        "\n",
        "print(a)\n",
        "\n",
        "# a.clear('b')\n",
        "\n",
        "# print(a)\n",
        "\n",
        "a.clear()\n",
        "\n",
        "print(a)\n",
        "\n",
        "# 4. 딕셔너리 값 추출 2\n",
        "\n",
        "a = dict(a = 90, b = 80)\n",
        "\n",
        "print(a)\n",
        "\n",
        "print(a.get('c', 70))\n",
        "\n",
        "# 5. 딕셔너리 최소값\n",
        "\n",
        "dic = dict(a = 90, b = 80, c =75)\n",
        "\n",
        "# dicmin.min()\n",
        "\n",
        "dicmin = min(dic.values())\n",
        "\n",
        "print(dicmin)\n",
        "\n",
        "# 6. 딕셔너리 리스트 변환\n",
        "\n",
        "dicit = dict(a = 91, b = 88, c =75)\n",
        "\n",
        "# dicit.items()\n",
        "print(list(dicit.items()))"
      ],
      "execution_count": 0,
      "outputs": []
    },
    {
      "metadata": {
        "id": "8f6YvBllrSn-",
        "colab_type": "code",
        "colab": {}
      },
      "cell_type": "code",
      "source": [
        "a = {'a' : 90, 'b' : 80, 'c' : 70}\n",
        "\n",
        "a.get('b')"
      ],
      "execution_count": 0,
      "outputs": []
    },
    {
      "metadata": {
        "id": "mFQmTK4oEykA",
        "colab_type": "text"
      },
      "cell_type": "markdown",
      "source": [
        "###02-6 집합 자료형"
      ]
    },
    {
      "metadata": {
        "id": "x-SNGofoE3O0",
        "colab_type": "code",
        "colab": {}
      },
      "cell_type": "code",
      "source": [
        "# 집합(set)관련 작업을 쉽게 하기위한 리스트 변형\n",
        "\n",
        "# s1 = set(1, 2, 3)\n",
        "s1 = set([1, 2, 3])\n",
        "\n",
        "print(s1)\n",
        "\n",
        "s2 = set('hello')\n",
        "\n",
        "print(s2)\n",
        "\n",
        "# s3 = set([1, 2, 3], [4, 5, 6])\n",
        "# s3 = set([1, 2, 3], 'bye')\n",
        "\n",
        "# print(s3)\n",
        "\n",
        "# set을 이용해 요소 요소마다 하나 하나 다 변환 하려면 [] 사용해야 변환 가능\n",
        "# 문자를 변환하면 중복되는 알파벳 사라지고 순서 섞임\n",
        "# 인덱싱 없음\n",
        "# 한번에 하나만 변경 가능"
      ],
      "execution_count": 0,
      "outputs": []
    },
    {
      "metadata": {
        "id": "GfAwBu28ISvT",
        "colab_type": "code",
        "colab": {}
      },
      "cell_type": "code",
      "source": [
        "# 인덱싱작업을 위한 집합(set)변환\n",
        "\n",
        "s1 = set([12, 23, 34])\n",
        "\n",
        "# 리스트\n",
        "\n",
        "li = list(s1)\n",
        "\n",
        "print(li)\n",
        "\n",
        "print(li[1])\n",
        "\n",
        "# 튜플\n",
        "\n",
        "tu = tuple(s1)\n",
        "\n",
        "print(tu)\n",
        "\n",
        "print(tu[0])"
      ],
      "execution_count": 0,
      "outputs": []
    },
    {
      "metadata": {
        "id": "3l3OFDDKJl3Q",
        "colab_type": "code",
        "colab": {}
      },
      "cell_type": "code",
      "source": [
        "# 집합 자료형 활용법(집합구하기)\n",
        "\n",
        "s1 = set([1, 2, 3, 4, 5, 6])\n",
        "\n",
        "s2 = set([4, 5, 6, 7, 8, 9])\n",
        "\n",
        "# 1. 교집합\n",
        "\n",
        "print(s1 & s2)\n",
        "\n",
        "print(s1.intersection(s2))\n",
        "\n",
        "# 2. 합집합\n",
        "\n",
        "print(s1 | s2)\n",
        "\n",
        "print(s1.union(s2))\n",
        "\n",
        "# 3. 차집합\n",
        "\n",
        "print(s1 - s2)\n",
        "\n",
        "print(s2 - s1)\n",
        "\n",
        "print(s1.difference(s2))\n",
        "\n",
        "print(s2.difference(s1))"
      ],
      "execution_count": 0,
      "outputs": []
    },
    {
      "metadata": {
        "id": "6yW_qWpuLfvV",
        "colab_type": "code",
        "colab": {}
      },
      "cell_type": "code",
      "source": [
        "# set(집합)에 쓰이는 함수\n",
        "\n",
        "# 1. 값 추가(add)\n",
        "\n",
        "s1 = set([1, 2, 3])\n",
        "\n",
        "s1.add(4)\n",
        "# s1.add([4])\n",
        "# 이미 set으로 나눠져있기 때문에 [4]라는 리스트를 추가 할수 없다\n",
        "\n",
        "print(s1)\n",
        "\n",
        "# 2. 여러개의 값 추가(update)\n",
        "\n",
        "s2 = set([1, 3, 5])\n",
        "\n",
        "s2.update([2, 4, 6])\n",
        "\n",
        "print(s2)\n",
        "\n",
        "# 3. set에서 값 제거(remove)\n",
        "\n",
        "s3 = set([7, 6, 5, 4, 3, 2, 1])\n",
        "\n",
        "s3.remove(6)\n",
        "\n",
        "print(s3)\n",
        "\n",
        "# s3.remove(2, 4)\n",
        "# s3.remove([2, 4])\n",
        "\n",
        "# print(s3)\n",
        "# 한번에 두가지 값 제거안됨"
      ],
      "execution_count": 0,
      "outputs": []
    },
    {
      "metadata": {
        "id": "LrcuP3vVOj57",
        "colab_type": "code",
        "colab": {}
      },
      "cell_type": "code",
      "source": [
        "# 연습문제\n",
        "\n",
        "# 1. 집합만들기\n",
        "\n",
        "# s1 = set('a', 'b', 'c')\n",
        "# s1 = set(abc)\n",
        "s1 = set('abc')\n",
        "s1 = set(['a', 'b', 'c'])\n",
        "\n",
        "print(s1)\n",
        "\n",
        "# 2. 집합 중복\n",
        "\n",
        "a = [1, 1, 1, 2, 2, 3, 3, 3, 4, 4, 5]\n",
        "\n",
        "s2 = set(a)\n",
        "\n",
        "print(s2)\n",
        "\n",
        "# 3. 차집합\n",
        "\n",
        "s1 = set(['ace', 'f', 'bed', 'e', 'want'])\n",
        "s2 = set(['c', 'd', 'e', 'f', 'g'])\n",
        "\n",
        "print(s1 - s2)\n",
        "print(s1.difference(s2))\n",
        "print(s2 - s1)\n",
        "print(s2.difference(s1))\n",
        "\n",
        "# 4. 집합 만들기 2\n",
        "\n",
        "a = {'a', 'b', 'c'}\n",
        "\n",
        "print(a)\n",
        "\n",
        "print(type(a))\n",
        "\n",
        "b = {}\n",
        "\n",
        "print(type(b))\n",
        "\n",
        "c = set()\n",
        "\n",
        "print(type(c))\n",
        "\n",
        "# 5. 집합 추가\n",
        "\n",
        "a = {'a', 'b', 'c'}\n",
        "\n",
        "a.update('d', 'e', 'f')\n",
        "\n",
        "a"
      ],
      "execution_count": 0,
      "outputs": []
    },
    {
      "metadata": {
        "id": "YmKl6XcLWtEP",
        "colab_type": "text"
      },
      "cell_type": "markdown",
      "source": [
        "###02-7 불(bool) 자료"
      ]
    },
    {
      "metadata": {
        "id": "8eYBQda6WyEE",
        "colab_type": "code",
        "colab": {}
      },
      "cell_type": "code",
      "source": [
        "# True(참)과 False(거짓)을 나타내는 자료형이라 True, False 이 두가지 값만 가진다\n",
        "# 주의 할점은 대소문자르 구별해야된다 true, false로 사용하게 되면 작동이 잘 안됨\n",
        "# if 함수를 쓸때 조건문으로 들어가는 경유가 있다\n",
        "\n",
        "# a = True\n",
        "\n",
        "# b = False\n",
        "\n",
        "1 == 1\n",
        "\n",
        "2 > 1\n",
        "\n",
        "2 < 1\n",
        "\n",
        "# 자료형의 참과 거짓의 구분은 (\" \", [ ], ( ), { })안에 내용물이 없다면 거짓 있다면 참\n",
        "# 숫자의 참과 거짓은 0일 때 거짓\n",
        "\n",
        "# 예제 1\n",
        "\n",
        "a = [1, 2, 3, 4]\n",
        "\n",
        "while a : print(a.pop())\n",
        "  \n",
        "# a의 값이 참일 경우 거짓이 나올때 까지 마지막 요소를 꺼낸다는 코딩\n",
        "\n",
        "# 예제 2 \n",
        "\n",
        "if []: print(\"참\")\n",
        "\n",
        "else: print(\"거짓\")\n",
        "  \n",
        "# 예제 3\n",
        "\n",
        "if [1, 2, 3]: print(\"참\")\n",
        "\n",
        "else: print(\"거짓\")"
      ],
      "execution_count": 0,
      "outputs": []
    },
    {
      "metadata": {
        "id": "Ib9wK8zHi373",
        "colab_type": "code",
        "colab": {}
      },
      "cell_type": "code",
      "source": [
        "# 불 연산\n",
        "\n",
        "print(bool('python'))\n",
        "\n",
        "print(bool(''))\n",
        "\n",
        "print(bool({}))\n",
        "\n",
        "print(bool(0))\n",
        "\n",
        "print(bool(1))\n",
        "\n",
        "print(bool((1)))"
      ],
      "execution_count": 0,
      "outputs": []
    },
    {
      "metadata": {
        "id": "h2pr1EdxlfKD",
        "colab_type": "code",
        "colab": {}
      },
      "cell_type": "code",
      "source": [
        "# 연습 문제\n",
        "\n",
        "# 1. 불 자료형과 조건문\n",
        "\n",
        "print(1 != 1)\n",
        "# !=는 같지 않다\n",
        "\n",
        "print(3 > 1)\n",
        "# True\n",
        "\n",
        "print('a' in 'abc')\n",
        "# True\n",
        "\n",
        "print('a' not in [1, 2, 3])\n",
        "# True\n",
        "\n",
        "# 2. bool 연산자\n",
        "\n",
        "a = \"python\"\n",
        "# True\n",
        "\n",
        "print(bool(a))\n",
        "\n",
        "b = \"\"\n",
        "# False\n",
        "\n",
        "print(bool(b))\n",
        "\n",
        "\n",
        "c = (1,2,3)\n",
        "# True\n",
        "\n",
        "print(bool(c))\n",
        "\n",
        "d = 0\n",
        "# False\n",
        "\n",
        "print(bool(d))"
      ],
      "execution_count": 0,
      "outputs": []
    },
    {
      "metadata": {
        "id": "rZXQoRENo06e",
        "colab_type": "text"
      },
      "cell_type": "markdown",
      "source": [
        "###02-8 자료형의 값을 저장하는 공간, 변수"
      ]
    },
    {
      "metadata": {
        "id": "vhdv06UEo74-",
        "colab_type": "code",
        "colab": {}
      },
      "cell_type": "code",
      "source": [
        "# 변수 선언시 =(assignment)로 사용\n",
        "# 변수명 = 변수에 저장할 값\n",
        "\n",
        "a = [1, 2, 3]\n",
        "\n",
        "print(id(a))\n",
        "# 변수는 메모리에 저장되고 그 저장 리스트 주소를알아낼수 있다\n",
        "\n",
        "b = a\n",
        "\n",
        "print(id(a))\n",
        "print(id(b))\n",
        "\n",
        "# 이미 변수 선언이 된 값을 다른 변수로 복사하면 새로이 저장 되는것이 아니라\n",
        "# 저장 되있던 리스트 주소에 있는 값을 변수에 부여하는 것이다\n",
        "\n",
        "print(a is b)\n",
        "\n",
        "a[1] = 7\n",
        "\n",
        "print(a)\n",
        "\n",
        "print(b)\n",
        "\n",
        "print(id(a))\n",
        "\n",
        "print(id(b))\n",
        "\n",
        "# 변수값을 수정하면 다시 저장하는 것이 아닌 기존에 저장된 리스트 주소에 저장되고\n",
        "# 복사한 변수도 같이 적용된다\n",
        "\n",
        "# 복사된 변수를 바꾼다면 새롭게 저장되 다른 변수로 취급되는지 확인\n",
        "\n",
        "b[1] = 9\n",
        "\n",
        "print(a)\n",
        "\n",
        "print(b)\n",
        "\n",
        "print(id(a))\n",
        "\n",
        "print(id(b))\n",
        "\n",
        "# 복사된 변수의 값을 변경하더라도 하나의 변수값을 같이 쓰고있기 때문에\n",
        "# 원래의 변수도 변경이 된다\n",
        "\n",
        "print(b is a)"
      ],
      "execution_count": 0,
      "outputs": []
    },
    {
      "metadata": {
        "id": "SYXA1pGwuW9i",
        "colab_type": "code",
        "colab": {}
      },
      "cell_type": "code",
      "source": [
        "# 복사된 변수를 따로 취급하기 위한 방법\n",
        "\n",
        "# 1. ':' 이용\n",
        "\n",
        "a = [1, 2, 3]\n",
        "\n",
        "b = a[:]\n",
        "\n",
        "print(a)\n",
        "\n",
        "print(b)\n",
        "\n",
        "print(id(a))\n",
        "\n",
        "print(id(b))\n",
        "\n",
        "# 서로 다른 리스트 주소로 저장 되는것을 확인\n",
        "\n",
        "a[1] = 5\n",
        "\n",
        "print(a)\n",
        "\n",
        "print(b)\n",
        "\n",
        "print(b is a)\n",
        "\n",
        "# 이미 서로 다른 주소로 저장이 되어서 변수 복사한 뒤에 원래 값 수정이 아닌\n",
        "# 명령어로 수정이 진행 된다면 한쪽만 수정이 됨\n",
        "\n",
        "# 2. 카피 모듈 이용\n",
        "\n",
        "a = [1, 2, 3]\n",
        "\n",
        "from copy import copy\n",
        "\n",
        "b = copy(a)\n",
        "\n",
        "print(id(a))\n",
        "\n",
        "print(id(b))\n",
        "\n",
        "# b = a[:]와 from copy import copy b = copy(a)랑 같은 방법\n",
        "# 새로 변수선언을 진행하면 같은 변수명을 사용한다 하더라도 다른 주소에 저장됨"
      ],
      "execution_count": 0,
      "outputs": []
    },
    {
      "metadata": {
        "id": "eBvJLeorw6M1",
        "colab_type": "code",
        "colab": {}
      },
      "cell_type": "code",
      "source": [
        "# 변수 만드는 다른 방법\n",
        "\n",
        "a, b = ('python', 'life')\n",
        "\n",
        "print(a)\n",
        "\n",
        "print(b)\n",
        "\n",
        "(a, b) = 'python', 'knife'\n",
        "\n",
        "print(a)\n",
        "\n",
        "print(b)\n",
        "\n",
        "a, b = 1, 2\n",
        "\n",
        "print(a)\n",
        "\n",
        "print(b)\n",
        "\n",
        "[a, b] = ['python', 'tool']\n",
        "\n",
        "print(a)\n",
        "\n",
        "print(b)\n",
        "\n",
        "a = b = 'python'\n",
        "\n",
        "print(a)\n",
        "\n",
        "print(b)\n",
        "\n",
        "# 각 각 다른 변수명에 할당된 변수값을 서로 바꿀수 있다\n",
        "\n",
        "a = 3\n",
        "\n",
        "b = 6\n",
        "\n",
        "c = 9\n",
        "\n",
        "print(id(a))\n",
        "print(id(b))\n",
        "print(id(c))\n",
        "\n",
        "a, b, c = c, a, b\n",
        "\n",
        "print(id(a))\n",
        "print(id(b))\n",
        "print(id(c))\n",
        "\n",
        "print(a)\n",
        "\n",
        "print(b)\n",
        "\n",
        "print(c)\n",
        "\n",
        "# 변수명과 변수값의 연결만 바꾼것 뿐이라 변수값의 주소는 그대로이다"
      ],
      "execution_count": 0,
      "outputs": []
    },
    {
      "metadata": {
        "id": "eAdRZzahzOJb",
        "colab_type": "code",
        "colab": {
          "base_uri": "https://localhost:8080/",
          "height": 737
        },
        "outputId": "0d05f37c-ef90-457d-c32e-d6d8fdcef6d8"
      },
      "cell_type": "code",
      "source": [
        "# 연습문제\n",
        "\n",
        "# 1. 변수와 객체 1\n",
        "\n",
        "a = [1, 2, 3]\n",
        "\n",
        "b = [1, 2, 3]\n",
        "\n",
        "print(a is b)\n",
        "\n",
        "print(id(a))\n",
        "\n",
        "print(id(b))\n",
        "\n",
        "# 같은 값을 변수 선언한 것이라도 명령어를 사용하지 않고 직접 따로 만든 리스트여서\n",
        "# 다른 리스트 장소에 저장되기 때문에 같은 것이 아니라 False 가 뜬다\n",
        "\n",
        "# 2. 변수와 객체 2\n",
        "\n",
        "a = [1, 2, 3]\n",
        "\n",
        "b = a\n",
        "\n",
        "print(a is b)\n",
        "\n",
        "print(id(a))\n",
        "\n",
        "print(id(b))\n",
        "\n",
        "# 이미 변수 선언된 값을 복사 명령어를 이용해 새로운 변수명에 연결 시킨 것\n",
        "# 이라서 서로 같은 값이라고 True가 뜬다\n",
        "\n",
        "# 3. 객체의 변경\n",
        "\n",
        "a = b = [1, 2, 3]\n",
        "\n",
        "a[1] = 5\n",
        "\n",
        "print(b)\n",
        "\n",
        "# 복사 명령어를 이용하여 'a' 변수명과 'b' 변수명의 변수값을 같은 것으로 묶었기에\n",
        "# 어느 한쪽을 수정 하더라도 다른쪽의 값도 같이 변한다\n",
        "\n",
        "# 4. 리스트 복사 1\n",
        "\n",
        "a = [1, 2, 3]\n",
        "\n",
        "b = a[:]\n",
        "\n",
        "print(a is b)\n",
        "\n",
        "# a의 값을 복사하여 새로운 주소에 저장시키고 그 값에 b 라는 변수명을 선언 하였기에\n",
        "# a 와 b 의 값이 달라 False가 뜬다\n",
        "\n",
        "# 5. 리스트 복사 2\n",
        "\n",
        "a = [1, 2, 3]\n",
        "\n",
        "b = a[:]\n",
        "\n",
        "a[1] = 4\n",
        "\n",
        "print(a)\n",
        "\n",
        "print(b)\n",
        "\n",
        "# a 의 변수값과 같은 값을 b 에 새로이 만들어 넣어 같은 내용물이지만 서로 다르게\n",
        "# 취급한뒤 a 의 값만 바꾸었기 때문에 a 의 값만 바뀌고 b 의 값은 기존 그대로이다\n",
        "\n",
        "# 6. 리스트의 더하기와 extend\n",
        "\n",
        "a = [1, 2, 3]\n",
        "\n",
        "b = a\n",
        "\n",
        "c = a[:]\n",
        "\n",
        "print(id(a))\n",
        "\n",
        "print(id(b))\n",
        "\n",
        "print(id(c))\n",
        "\n",
        "a = a + [4, 5]\n",
        "\n",
        "print(a)\n",
        "\n",
        "print(b)\n",
        "\n",
        "print(c)\n",
        "\n",
        "print(id(a))\n",
        "\n",
        "print(id(b))\n",
        "\n",
        "print(id(c))\n",
        "\n",
        "print(a + [4, 5])\n",
        "\n",
        "a = [1, 2, 3]\n",
        "\n",
        "b = a\n",
        "\n",
        "c = a[:]\n",
        "\n",
        "a.extend([6, 7])\n",
        "\n",
        "print(a)\n",
        "\n",
        "print(b)\n",
        "\n",
        "print(c)\n",
        "\n",
        "print(id(a))\n",
        "\n",
        "print(id(b))\n",
        "\n",
        "print(id(c))\n",
        "\n",
        "# + 수식으로 이용해 리스트 내용을 추가하고 하면 새로운 변수값으로 취급을 하여\n",
        "# 새로 변수 선언한것으로 취급하여 새로 정하여 개별적으로 취급하게 된다\n",
        "# extend 로 리스트 내용을 추가하면 기존 저장되있는 변수값을 수정하는것이 되어\n",
        "# 복사된 변수에 그대로 적용된다\n",
        "\n",
        "# 리스트 복사 3\n",
        "\n",
        "a = [1, [2, 3], 4]\n",
        "\n",
        "b = a[:]\n",
        "\n",
        "print(a == b)\n",
        "print(a is b)\n",
        "\n",
        "a[1][0] = 7\n",
        "\n",
        "print(a)\n",
        "\n",
        "print(b)\n",
        "\n",
        "print(id(a))\n",
        "\n",
        "print(id(b))\n",
        "\n",
        "a[0] = 6\n",
        "\n",
        "print(a)\n",
        "\n",
        "print(b)\n",
        "\n",
        "print(id(a))\n",
        "\n",
        "print(id(b))\n",
        "\n",
        "print(id(a[1]))\n",
        "\n",
        "print(id(b[1]))\n",
        "\n",
        "a[1] = 3\n",
        "\n",
        "print(a)\n",
        "\n",
        "print(b)\n",
        "\n",
        "# 변수 선언시 모든 리스트 값에 id 가 할당되어 리스트 안의 리스트까지 id 가정해지고\n",
        "# 복사 명령어 인 a[:]와 from copy import copy를 사용하면 복사해서 새로운 id를\n",
        "# 할당하는것은 첫 리스트이고 나머지 리스트 안의 리스트는 복사해 새로운 id를\n",
        "# 할당하지 않고 기존 id 를 이용한기 때문에 일어나는 현상"
      ],
      "execution_count": 0,
      "outputs": [
        {
          "output_type": "stream",
          "text": [
            "False\n",
            "139738539703816\n",
            "139738539703880\n",
            "True\n",
            "139738540014280\n",
            "139738540014280\n",
            "[1, 5, 3]\n",
            "False\n",
            "[1, 4, 3]\n",
            "[1, 2, 3]\n",
            "139738539703816\n",
            "139738539703816\n",
            "139738539949704\n",
            "[1, 2, 3, 4, 5]\n",
            "[1, 2, 3]\n",
            "[1, 2, 3]\n",
            "139738540015432\n",
            "139738539703816\n",
            "139738539949704\n",
            "[1, 2, 3, 4, 5, 4, 5]\n",
            "[1, 2, 3, 6, 7]\n",
            "[1, 2, 3, 6, 7]\n",
            "[1, 2, 3]\n",
            "139738540014280\n",
            "139738540014280\n",
            "139738540015432\n",
            "True\n",
            "False\n",
            "[1, [7, 3], 4]\n",
            "[1, [7, 3], 4]\n",
            "139738539703880\n",
            "139738539949704\n",
            "[6, [7, 3], 4]\n",
            "[1, [7, 3], 4]\n",
            "139738539703880\n",
            "139738539949704\n",
            "139738540015368\n",
            "139738540015368\n",
            "[6, 3, 4]\n",
            "[1, [7, 3], 4]\n"
          ],
          "name": "stdout"
        }
      ]
    },
    {
      "metadata": {
        "id": "BdZ_n6qOesH-",
        "colab_type": "code",
        "colab": {
          "base_uri": "https://localhost:8080/",
          "height": 233
        },
        "outputId": "fe3ea087-bd86-40f7-af28-9c5b98872fe4"
      },
      "cell_type": "code",
      "source": [
        "a = [1, [2, 3], 4]\n",
        "\n",
        "from copy import copy\n",
        "\n",
        "b = copy(a)\n",
        "\n",
        "a[1][0] = 7\n",
        "\n",
        "print(a)\n",
        "\n",
        "print(b)\n",
        "\n",
        "print(id(a))\n",
        "\n",
        "print(id(b))\n",
        "\n",
        "a[0] = 6\n",
        "\n",
        "print(a)\n",
        "\n",
        "print(b)\n",
        "\n",
        "print(id(a))\n",
        "\n",
        "print(id(b))\n",
        "\n",
        "print(id(a[1]))\n",
        "\n",
        "print(id(b[1]))\n",
        "\n",
        "a[1] = 3\n",
        "\n",
        "print(a)\n",
        "\n",
        "print(b)"
      ],
      "execution_count": 0,
      "outputs": [
        {
          "output_type": "stream",
          "text": [
            "[1, [7, 3], 4]\n",
            "[1, [7, 3], 4]\n",
            "139738540015112\n",
            "139738539700488\n",
            "[6, [7, 3], 4]\n",
            "[1, [7, 3], 4]\n",
            "139738540015112\n",
            "139738539700488\n",
            "139738540014792\n",
            "139738540014792\n",
            "[6, 3, 4]\n",
            "[1, [7, 3], 4]\n"
          ],
          "name": "stdout"
        }
      ]
    },
    {
      "metadata": {
        "id": "4cmGD3Ptc0PF",
        "colab_type": "code",
        "colab": {
          "base_uri": "https://localhost:8080/",
          "height": 233
        },
        "outputId": "a006c7a3-70c2-4440-ab05-45e9f7ab6f87"
      },
      "cell_type": "code",
      "source": [
        "a = [1, 2, [3, 4], 5]\n",
        "\n",
        "b = a\n",
        "\n",
        "print(id(a))\n",
        "\n",
        "print(id(b))\n",
        "\n",
        "print(id(a[2]))\n",
        "\n",
        "print(id(b[2]))\n",
        "\n",
        "a[2][0] = 6\n",
        "\n",
        "print(id(a))\n",
        "\n",
        "print(id(b))\n",
        "\n",
        "print(id(a[2]))\n",
        "\n",
        "print(id(b[2]))\n",
        "\n",
        "a[2] = 3\n",
        "\n",
        "print(id(a))\n",
        "\n",
        "print(id(b))\n",
        "\n",
        "print(id(a[2]))\n",
        "\n",
        "print(id(b[2]))"
      ],
      "execution_count": 0,
      "outputs": [
        {
          "output_type": "stream",
          "text": [
            "139738539702408\n",
            "139738539702408\n",
            "139738540124424\n",
            "139738540124424\n",
            "139738539702408\n",
            "139738539702408\n",
            "139738540124424\n",
            "139738540124424\n",
            "139738539702408\n",
            "139738539702408\n",
            "10964960\n",
            "10964960\n"
          ],
          "name": "stdout"
        }
      ]
    },
    {
      "metadata": {
        "id": "0SSH03URH35Y",
        "colab_type": "code",
        "colab": {}
      },
      "cell_type": "code",
      "source": [
        "a.__repr__\n",
        "# a[1][0].__repr__"
      ],
      "execution_count": 0,
      "outputs": []
    },
    {
      "metadata": {
        "id": "bLA64LJDUGdg",
        "colab_type": "text"
      },
      "cell_type": "markdown",
      "source": [
        "##03 프로그램의 구조를 쌓는다! 제어문"
      ]
    },
    {
      "metadata": {
        "id": "2sntW1aiUPnr",
        "colab_type": "text"
      },
      "cell_type": "markdown",
      "source": [
        "###03-1 if문"
      ]
    },
    {
      "metadata": {
        "id": "xA6OhxGMUUkK",
        "colab_type": "code",
        "colab": {
          "base_uri": "https://localhost:8080/",
          "height": 35
        },
        "outputId": "3a3e8973-bde2-489e-f2d0-2f26dd9fa3d1"
      },
      "cell_type": "code",
      "source": [
        "# if문은 조건에 맞는 처리를 위해 사용한다\n",
        "# '조건1' 이 '조건 2' 에 True면 작동\n",
        "# else는 '조건1' 이 '조건 2\" 에 Flase이면 작동\n",
        "\n",
        "money = 1\n",
        "\n",
        "if money :\n",
        "  \n",
        "    print(\"택시를 타고 가라\")\n",
        "    \n",
        "else : \n",
        "  \n",
        "    print('걸어 가라')\n",
        "\n",
        "# money가 True이면 택시를 타고 가라 False이면 걸어가라 라는 명령어\n",
        "# 들여쓰기(indentation)을 구분 해줘야 에러 발생하지 않음\n",
        "\n",
        "# 에러발생경우 1\n",
        "\n",
        "# if 조건문 :\n",
        "#     수행 문장 1\n",
        "# 수행문장 2\n",
        "#           수행문장 3\n",
        "\n",
        "# 에러 발생경우 2\n",
        "\n",
        "# if 조건문 :  \n",
        "#       수행문장 1\n",
        "    \n",
        "#     else : 조건문 :        \n",
        "#         수행문장"
      ],
      "execution_count": 0,
      "outputs": [
        {
          "output_type": "stream",
          "text": [
            "택시를 타고 가라\n"
          ],
          "name": "stdout"
        }
      ]
    },
    {
      "metadata": {
        "id": "yvepuAkTW7aN",
        "colab_type": "code",
        "colab": {
          "base_uri": "https://localhost:8080/",
          "height": 35
        },
        "outputId": "cded08db-6120-4e6f-d9b3-baa1e90b9099"
      },
      "cell_type": "code",
      "source": [
        "# 비교 연산자\n",
        "# <, >, ==, !=, >=, <=\n",
        "\n",
        "money = 100000\n",
        "\n",
        "if money <= 99999 :\n",
        "      print(\"돈을 아껴야되요!\")\n",
        "    \n",
        "else :\n",
        "      print(\"오늘은 치느님!\")"
      ],
      "execution_count": 0,
      "outputs": [
        {
          "output_type": "stream",
          "text": [
            "오늘은 치느님!\n"
          ],
          "name": "stdout"
        }
      ]
    },
    {
      "metadata": {
        "id": "mGDhU1gLXxxn",
        "colab_type": "code",
        "colab": {
          "base_uri": "https://localhost:8080/",
          "height": 71
        },
        "outputId": "9c5b5b16-5c09-4d7b-d37f-67b60aef5f7a"
      },
      "cell_type": "code",
      "source": [
        "# and, or, not 연산자\n",
        "\n",
        "money = 3000\n",
        "\n",
        "card = 1\n",
        "\n",
        "if money >= 30000 or card :\n",
        "      print(\"오늘 쯤이야!\")\n",
        "    \n",
        "if money <= 30000 and card :\n",
        "      print(\"어떻게 할까...?\")\n",
        "    \n",
        "if not card : \n",
        "      print('고민좀')\n",
        "    \n",
        "else :\n",
        "      print(\".....\")"
      ],
      "execution_count": 0,
      "outputs": [
        {
          "output_type": "stream",
          "text": [
            "오늘 쯤이야!\n",
            "어떻게 할까...?\n",
            ".....\n"
          ],
          "name": "stdout"
        }
      ]
    },
    {
      "metadata": {
        "id": "IfXr4SQOaBEB",
        "colab_type": "code",
        "colab": {
          "base_uri": "https://localhost:8080/",
          "height": 107
        },
        "outputId": "b6b9e51d-b5bc-4027-962f-d6d020b94074"
      },
      "cell_type": "code",
      "source": [
        "# x in s, x not in s\n",
        "# s는 리스트[], 튜플(), 문자열이 가능하다\n",
        "\n",
        "print(1 in [1, 2, 3])\n",
        "\n",
        "print(1 not in [1, 2, 3])\n",
        "\n",
        "pocket = ['paper', 'cellphone', 'money']\n",
        "\n",
        "if 'money' in pocket : \n",
        "      print('밥 먹는다')\n",
        "    \n",
        "if 'cellphone' in pocket :\n",
        "      print('전화 한다')\n",
        "\n",
        "else :\n",
        "      print(\"쉰다\")\n",
        "    \n",
        "pocket = ['paper', 'ellphone', 'oney']\n",
        "\n",
        "if 'money' in pocket : \n",
        "      print('밥 먹는다')\n",
        "    \n",
        "else :\n",
        "      if 'cellphone' in pocket :\n",
        "            print('전화 한다')\n",
        "      else :\n",
        "            print(\"쉰다\")"
      ],
      "execution_count": 0,
      "outputs": [
        {
          "output_type": "stream",
          "text": [
            "True\n",
            "False\n",
            "밥 먹는다\n",
            "전화 한다\n",
            "쉰다\n"
          ],
          "name": "stdout"
        }
      ]
    },
    {
      "metadata": {
        "id": "rtXGwSAXbdC_",
        "colab_type": "code",
        "colab": {}
      },
      "cell_type": "code",
      "source": [
        "# 조건문 사용시 해당되는 조건이 있어도 작동을 하지 않게 할때는 pass 를 사용한면된다\n",
        "\n",
        "pocket = ['paper', 'cellphone', 'money']\n",
        "\n",
        "if 'money' in pocket : \n",
        "      pass\n",
        "\n",
        "else :\n",
        "      print(\"쉰다\")\n",
        "\n",
        "# money 조건이 있지만 pass를 해서 출력이 안되고 else에도 해당되지 않기에\n",
        "# 아무것도 출력이 안된다"
      ],
      "execution_count": 0,
      "outputs": []
    },
    {
      "metadata": {
        "id": "gEedNcT9cT99",
        "colab_type": "code",
        "colab": {
          "base_uri": "https://localhost:8080/",
          "height": 35
        },
        "outputId": "de28a2e8-037a-47bf-839f-392cd0c59ea8"
      },
      "cell_type": "code",
      "source": [
        "# 다양한 조건을 판단해 한가지를 출력할때 사용하는 elif\n",
        "# if와 else 만을 이용해 출력할경우 들여쓰기 때문에 코딩이 난잡해질수 있다\n",
        "# else는 들여쓰기(indentation) 되지 않은 곳엔 한번만 사용가능\n",
        "# elif는 들여쓰기(indentation) 되지 않은 곳에 여러번 사용가능\n",
        "\n",
        "pocket = ['paper', 'cellphone']\n",
        "\n",
        "card = 0\n",
        "\n",
        "if 'money' in pocket :\n",
        "      print('오 돈이다!')\n",
        "    \n",
        "elif card :\n",
        "      print(\"카드 너무 많이 쓴거 같아...\")\n",
        "    \n",
        "else :\n",
        "      print('돈 부족하내')"
      ],
      "execution_count": 0,
      "outputs": [
        {
          "output_type": "stream",
          "text": [
            "돈 부족하내\n"
          ],
          "name": "stdout"
        }
      ]
    },
    {
      "metadata": {
        "id": "J1fhJKV0h_HF",
        "colab_type": "code",
        "colab": {
          "base_uri": "https://localhost:8080/",
          "height": 89
        },
        "outputId": "41f44da9-b373-47e0-8435-b5b84c59c61b"
      },
      "cell_type": "code",
      "source": [
        "# if 문을 간략하게 작성할수도 있다\n",
        "\n",
        "pocket = ['paper', 'cellphone']\n",
        "\n",
        "if 'money' in pocket :\n",
        "      pass\n",
        "  \n",
        "else :\n",
        "  print('카드를 꺼내라')\n",
        "  \n",
        "# 위의 코딩을 아래와 같이 해도 정상 작동된다\n",
        "\n",
        "if 'money' in pocket : pass\n",
        "else : print('꺼내라 카드를')\n",
        "  \n",
        "# 간단한 조건부 표현식 경우 한줄로 바꿀 수도 있다\n",
        "\n",
        "score = 57\n",
        "\n",
        "if score >= 60 :\n",
        "      message = 'success'\n",
        "    \n",
        "else :\n",
        "      message = 'failure'\n",
        "    \n",
        "print(message)\n",
        "    \n",
        "message = 'success' if score >= 60 else 'failure'\n",
        "\n",
        "print(message)"
      ],
      "execution_count": 0,
      "outputs": [
        {
          "output_type": "stream",
          "text": [
            "카드를 꺼내라\n",
            "꺼내라 카드를\n",
            "failure\n",
            "failure\n"
          ],
          "name": "stdout"
        }
      ]
    },
    {
      "metadata": {
        "id": "pAe6oDJRl-7-",
        "colab_type": "code",
        "colab": {
          "base_uri": "https://localhost:8080/",
          "height": 107
        },
        "outputId": "12dff8bd-52dc-45fe-bc70-f0c6f9154336"
      },
      "cell_type": "code",
      "source": [
        "# 연습 문제\n",
        "\n",
        "# 1. 조건문 1\n",
        "\n",
        "money = 5000\n",
        "card = False\n",
        "\n",
        "if money >= 4000 or card : \n",
        "      print('택시 타기')\n",
        "\n",
        "else :\n",
        "      print('걸어가기')\n",
        "    \n",
        "# 2. 조건문 2\n",
        "\n",
        "lucky_list = [1, 9, 23, 46]\n",
        "\n",
        "if 23 in lucky_list :\n",
        "      print(\"야호\")\n",
        "# if lucky_list in 23 :\n",
        "\n",
        "else :\n",
        "      print('아깝다!')\n",
        "    \n",
        "# 3. 홀수 짝수 판별\n",
        "\n",
        "num = 2\n",
        "\n",
        "if num % 2 >= 1 :\n",
        "      print(\"홀수\")\n",
        "    \n",
        "else :\n",
        "      print('짝수')\n",
        "    \n",
        "# 4. 문자열 분석\n",
        "\n",
        "age = 29\n",
        "\n",
        "tall = 180\n",
        "\n",
        "if age < 30 and tall >= 175 :\n",
        "      print('yes')\n",
        "    \n",
        "else :\n",
        "      print('no')\n",
        "    \n",
        "# 5. 조건문 3\n",
        "\n",
        "a = 'Life is too short, you need python'\n",
        "\n",
        "if 'wife' in a :\n",
        "      print('wife')\n",
        "    \n",
        "elif 'python' in a and 'you' not in a :\n",
        "      print('python')\n",
        "\n",
        "elif 'shirt' not in a :\n",
        "      print('python')\n",
        "    \n",
        "elif 'need' in a :\n",
        "      print('need')\n",
        "    \n",
        "else :\n",
        "      print('none')\n",
        "    \n",
        "# wife 라는 단어가 a 에 없기 때문에 다음명령어로 넘어가고\n",
        "# python 이 있지만 you 가 없어야 python 이 출력 되는대 you 가 있어 다음으로 넘어간다\n",
        "# shirt 가 없으면 python이 출력 된다고 되있고 a 에 shirt 가 없으니 python 이 출력 \n",
        "# 만약 shirt 가 있으면 다음으로 넘어가고 need 가 있으니 need 가 출력 될것이다\n",
        "# 아무런 조건도 만족시키지 못하였으면 none이 출력 될것이다"
      ],
      "execution_count": 0,
      "outputs": [
        {
          "output_type": "stream",
          "text": [
            "택시 타기\n",
            "야호\n",
            "짝수\n",
            "yes\n",
            "python\n"
          ],
          "name": "stdout"
        }
      ]
    },
    {
      "metadata": {
        "id": "RChKRCzJtHgv",
        "colab_type": "text"
      },
      "cell_type": "markdown",
      "source": [
        "###03 -2 while문"
      ]
    },
    {
      "metadata": {
        "id": "SH58eUlWttax",
        "colab_type": "code",
        "colab": {
          "base_uri": "https://localhost:8080/",
          "height": 215
        },
        "outputId": "bb179331-2a0e-485b-d514-963af221a4cb"
      },
      "cell_type": "code",
      "source": [
        "# while문의 기본 구조\n",
        "\n",
        "# while 조건문 :\n",
        "#       수행문 1\n",
        "#       수행문 2\n",
        "\n",
        "# 정해진만큼 반복수행하는 문장이다\n",
        "\n",
        "treehit = 0\n",
        "\n",
        "while treehit < 10 :\n",
        "      treehit = treehit + 1\n",
        "      print('나무를 %d번 찍었습니다.' % treehit)\n",
        "      if treehit == 10 :\n",
        "            print('나무가 넘어간다.')\n",
        "          \n",
        "# treehit은 0이다 \n",
        "# treehit이 10 작은 숫자일 동안 반복실행해라\n",
        "# treehit에 +1 이 될것이다\n",
        "# 나무를 treehit의 값 만큼 찍었습니다를 출력해라\n",
        "# threehit이 10이 되면 나무가 넘어간다를 출력해라"
      ],
      "execution_count": 0,
      "outputs": [
        {
          "output_type": "stream",
          "text": [
            "나무를 1번 찍었습니다.\n",
            "나무를 2번 찍었습니다.\n",
            "나무를 3번 찍었습니다.\n",
            "나무를 4번 찍었습니다.\n",
            "나무를 5번 찍었습니다.\n",
            "나무를 6번 찍었습니다.\n",
            "나무를 7번 찍었습니다.\n",
            "나무를 8번 찍었습니다.\n",
            "나무를 9번 찍었습니다.\n",
            "나무를 10번 찍었습니다.\n",
            "나무가 넘어간다.\n"
          ],
          "name": "stdout"
        }
      ]
    },
    {
      "metadata": {
        "id": "2_S6oyJywTam",
        "colab_type": "code",
        "colab": {
          "base_uri": "https://localhost:8080/",
          "height": 388
        },
        "outputId": "62b26b44-90a6-402d-cf2a-9bc5fac7b568"
      },
      "cell_type": "code",
      "source": [
        "# while문 직접 만들기\n",
        "\n",
        "prompt = \"\"\"\n",
        "1. Add\n",
        "2. Del\n",
        "3. List\n",
        "4. Quit\n",
        "\n",
        "Enter number : \"\"\"\n",
        "\n",
        "number = \"하하\"\n",
        "\n",
        "while number != 4 :\n",
        "# while number != 4 or != 'Quit' or != 'quit' :\n",
        "# 작동 안됨\n",
        "# while number != 4 or number != 'Quit' or number != 'quit' :\n",
        "# 작동은 되지만 밑의 number = int()가 숫자만 입력되게 함\n",
        "      print(prompt)\n",
        "      number = int(input())\n",
        "      \n",
        "# 숫자가 4가 아니면 반복실행해라\n",
        "# prompt를 출력하는 것을\n",
        "# 변수 number은 입력가능한 것\n",
        "# 직접 입력하게 하는 변수는 뭐가 들어가든 변수만 선언 되면 된다"
      ],
      "execution_count": 0,
      "outputs": [
        {
          "output_type": "stream",
          "text": [
            "\n",
            "1. Add\n",
            "2. Del\n",
            "3. List\n",
            "4. Quit\n",
            "\n",
            "Enter number : \n",
            "quit\n"
          ],
          "name": "stdout"
        },
        {
          "output_type": "error",
          "ename": "ValueError",
          "evalue": "ignored",
          "traceback": [
            "\u001b[0;31m---------------------------------------------------------------------------\u001b[0m",
            "\u001b[0;31mValueError\u001b[0m                                Traceback (most recent call last)",
            "\u001b[0;32m<ipython-input-156-c9eb802c2d7d>\u001b[0m in \u001b[0;36m<module>\u001b[0;34m()\u001b[0m\n\u001b[1;32m     15\u001b[0m \u001b[0;32mwhile\u001b[0m \u001b[0mnumber\u001b[0m \u001b[0;34m!=\u001b[0m \u001b[0;36m4\u001b[0m \u001b[0;32mor\u001b[0m \u001b[0mnumber\u001b[0m \u001b[0;34m!=\u001b[0m \u001b[0mQuit\u001b[0m \u001b[0;32mor\u001b[0m \u001b[0mnumber\u001b[0m \u001b[0;34m!=\u001b[0m \u001b[0mquit\u001b[0m \u001b[0;34m:\u001b[0m\u001b[0;34m\u001b[0m\u001b[0m\n\u001b[1;32m     16\u001b[0m       \u001b[0mprint\u001b[0m\u001b[0;34m(\u001b[0m\u001b[0mprompt\u001b[0m\u001b[0;34m)\u001b[0m\u001b[0;34m\u001b[0m\u001b[0m\n\u001b[0;32m---> 17\u001b[0;31m       \u001b[0mnumber\u001b[0m \u001b[0;34m=\u001b[0m \u001b[0mint\u001b[0m\u001b[0;34m(\u001b[0m\u001b[0minput\u001b[0m\u001b[0;34m(\u001b[0m\u001b[0;34m)\u001b[0m\u001b[0;34m)\u001b[0m\u001b[0;34m\u001b[0m\u001b[0m\n\u001b[0m\u001b[1;32m     18\u001b[0m \u001b[0;34m\u001b[0m\u001b[0m\n\u001b[1;32m     19\u001b[0m \u001b[0;31m# 숫자가 4가 아니면 반복실행해라\u001b[0m\u001b[0;34m\u001b[0m\u001b[0;34m\u001b[0m\u001b[0m\n",
            "\u001b[0;31mValueError\u001b[0m: invalid literal for int() with base 10: 'quit'"
          ]
        }
      ]
    }
  ]
}